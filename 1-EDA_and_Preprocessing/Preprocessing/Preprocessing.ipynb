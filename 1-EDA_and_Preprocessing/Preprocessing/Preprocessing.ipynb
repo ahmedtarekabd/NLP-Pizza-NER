{
 "cells": [
  {
   "cell_type": "markdown",
   "metadata": {},
   "source": [
    "# Setup"
   ]
  },
  {
   "cell_type": "markdown",
   "metadata": {},
   "source": [
    "## Imports"
   ]
  },
  {
   "cell_type": "code",
   "execution_count": 1,
   "metadata": {
    "execution": {
     "iopub.execute_input": "2024-12-06T21:15:23.707922Z",
     "iopub.status.busy": "2024-12-06T21:15:23.707431Z",
     "iopub.status.idle": "2024-12-06T21:15:24.499569Z",
     "shell.execute_reply": "2024-12-06T21:15:24.498371Z",
     "shell.execute_reply.started": "2024-12-06T21:15:23.707878Z"
    },
    "trusted": true
   },
   "outputs": [],
   "source": [
    "# General\n",
    "import numpy as np\n",
    "import pandas as pd\n",
    "import re\n",
    "import gc\n",
    "\n",
    "from nltk.tokenize import regexp_tokenize\n",
    "from sklearn.preprocessing import LabelEncoder\n",
    "from sklearn.model_selection import train_test_split"
   ]
  },
  {
   "cell_type": "code",
   "execution_count": 2,
   "metadata": {},
   "outputs": [
    {
     "data": {
      "text/plain": [
       "<module 'config' from 'e:\\\\College\\\\4- Senior 2\\\\Semester 1\\\\NLP\\\\Project\\\\config.py'>"
      ]
     },
     "execution_count": 2,
     "metadata": {},
     "output_type": "execute_result"
    }
   ],
   "source": [
    "import os\n",
    "import sys\n",
    "# Add the path to the utils folder\n",
    "sys.path.append(os.path.abspath('../..'))\n",
    "import importlib\n",
    "# Custom modules\n",
    "from utils import memory_usage, load_json, process_parquet_in_chunks, file_exists, save_np, load_np\n",
    "from config import run_config, token_pattern, DATASET_PATH, PROCESSED_DATA_PATH\n",
    "importlib.reload(sys.modules['utils'])\n",
    "importlib.reload(sys.modules['config'])"
   ]
  },
  {
   "cell_type": "markdown",
   "metadata": {},
   "source": [
    "## Config"
   ]
  },
  {
   "cell_type": "code",
   "execution_count": 3,
   "metadata": {
    "execution": {
     "iopub.execute_input": "2024-12-06T21:15:26.141168Z",
     "iopub.status.busy": "2024-12-06T21:15:26.140759Z",
     "iopub.status.idle": "2024-12-06T21:15:26.147194Z",
     "shell.execute_reply": "2024-12-06T21:15:26.145949Z",
     "shell.execute_reply.started": "2024-12-06T21:15:26.141125Z"
    },
    "trusted": true
   },
   "outputs": [],
   "source": [
    "run_config()"
   ]
  },
  {
   "cell_type": "markdown",
   "metadata": {},
   "source": [
    "# Load Dataset"
   ]
  },
  {
   "cell_type": "code",
   "execution_count": 4,
   "metadata": {},
   "outputs": [
    {
     "data": {
      "text/html": [
       "<div>\n",
       "<style scoped>\n",
       "    .dataframe tbody tr th:only-of-type {\n",
       "        vertical-align: middle;\n",
       "    }\n",
       "\n",
       "    .dataframe tbody tr th {\n",
       "        vertical-align: top;\n",
       "    }\n",
       "\n",
       "    .dataframe thead th {\n",
       "        text-align: right;\n",
       "    }\n",
       "</style>\n",
       "<table border=\"1\" class=\"dataframe\">\n",
       "  <thead>\n",
       "    <tr style=\"text-align: right;\">\n",
       "      <th></th>\n",
       "      <th>train.SRC</th>\n",
       "      <th>train.TOP</th>\n",
       "    </tr>\n",
       "  </thead>\n",
       "  <tbody>\n",
       "    <tr>\n",
       "      <th>0</th>\n",
       "      <td>can i have a large bbq pulled pork</td>\n",
       "      <td>(ORDER can i have (PIZZAORDER (NUMBER a ) (SIZE large ) (TOPPING bbq pulled pork ) ) )</td>\n",
       "    </tr>\n",
       "    <tr>\n",
       "      <th>1</th>\n",
       "      <td>large pie with green pepper and with extra peperonni</td>\n",
       "      <td>(ORDER (PIZZAORDER (SIZE large ) pie with (TOPPING green pepper ) and with (COMPLEX_TOPPING (QUANTITY extra ) (TOPPING peperonni ) ) ) )</td>\n",
       "    </tr>\n",
       "    <tr>\n",
       "      <th>2</th>\n",
       "      <td>i'd like a large vegetarian pizza</td>\n",
       "      <td>(ORDER i'd like (PIZZAORDER (NUMBER a ) (SIZE large ) (STYLE vegetarian ) pizza ) )</td>\n",
       "    </tr>\n",
       "    <tr>\n",
       "      <th>3</th>\n",
       "      <td>party size stuffed crust pie with american cheese and with mushroom</td>\n",
       "      <td>(ORDER (PIZZAORDER (SIZE party size ) (STYLE stuffed crust ) pie with (TOPPING american cheese ) and with (TOPPING mushroom ) ) )</td>\n",
       "    </tr>\n",
       "    <tr>\n",
       "      <th>4</th>\n",
       "      <td>can i have one personal sized artichoke</td>\n",
       "      <td>(ORDER can i have (PIZZAORDER (NUMBER one ) (SIZE personal sized ) (TOPPING artichoke ) ) )</td>\n",
       "    </tr>\n",
       "  </tbody>\n",
       "</table>\n",
       "</div>"
      ],
      "text/plain": [
       "                                                             train.SRC  \\\n",
       "0                                   can i have a large bbq pulled pork   \n",
       "1                 large pie with green pepper and with extra peperonni   \n",
       "2                                    i'd like a large vegetarian pizza   \n",
       "3  party size stuffed crust pie with american cheese and with mushroom   \n",
       "4                              can i have one personal sized artichoke   \n",
       "\n",
       "                                                                                                                                  train.TOP  \n",
       "0                                                    (ORDER can i have (PIZZAORDER (NUMBER a ) (SIZE large ) (TOPPING bbq pulled pork ) ) )  \n",
       "1  (ORDER (PIZZAORDER (SIZE large ) pie with (TOPPING green pepper ) and with (COMPLEX_TOPPING (QUANTITY extra ) (TOPPING peperonni ) ) ) )  \n",
       "2                                                       (ORDER i'd like (PIZZAORDER (NUMBER a ) (SIZE large ) (STYLE vegetarian ) pizza ) )  \n",
       "3         (ORDER (PIZZAORDER (SIZE party size ) (STYLE stuffed crust ) pie with (TOPPING american cheese ) and with (TOPPING mushroom ) ) )  \n",
       "4                                               (ORDER can i have (PIZZAORDER (NUMBER one ) (SIZE personal sized ) (TOPPING artichoke ) ) )  "
      ]
     },
     "execution_count": 4,
     "metadata": {},
     "output_type": "execute_result"
    }
   ],
   "source": [
    "train_filename = DATASET_PATH + '/PIZZA_train.json'\n",
    "df_train = load_json(train_filename, cols=['train.SRC', 'train.TOP'])\n",
    "df_train.head()"
   ]
  },
  {
   "cell_type": "code",
   "execution_count": 5,
   "metadata": {
    "execution": {
     "iopub.execute_input": "2024-12-06T21:15:26.149347Z",
     "iopub.status.busy": "2024-12-06T21:15:26.148962Z",
     "iopub.status.idle": "2024-12-06T21:15:26.180314Z",
     "shell.execute_reply": "2024-12-06T21:15:26.179098Z",
     "shell.execute_reply.started": "2024-12-06T21:15:26.149312Z"
    },
    "trusted": true
   },
   "outputs": [
    {
     "data": {
      "text/html": [
       "<div>\n",
       "<style scoped>\n",
       "    .dataframe tbody tr th:only-of-type {\n",
       "        vertical-align: middle;\n",
       "    }\n",
       "\n",
       "    .dataframe tbody tr th {\n",
       "        vertical-align: top;\n",
       "    }\n",
       "\n",
       "    .dataframe thead th {\n",
       "        text-align: right;\n",
       "    }\n",
       "</style>\n",
       "<table border=\"1\" class=\"dataframe\">\n",
       "  <thead>\n",
       "    <tr style=\"text-align: right;\">\n",
       "      <th></th>\n",
       "      <th>dev.SRC</th>\n",
       "      <th>dev.TOP</th>\n",
       "      <th>dev.PCFG_ERR</th>\n",
       "    </tr>\n",
       "  </thead>\n",
       "  <tbody>\n",
       "    <tr>\n",
       "      <th>0</th>\n",
       "      <td>i want to order two medium pizzas with sausage and black olives and two medium pizzas with pepperoni and extra cheese and three large pizzas with pepperoni and sausage</td>\n",
       "      <td>(ORDER i want to order (PIZZAORDER (NUMBER two ) (SIZE medium ) pizzas with (TOPPING sausage ) and (TOPPING black olives ) ) and (PIZZAORDER (NUMBER two ) (SIZE medium ) pizzas with (TOPPING pepperoni ) and (COMPLEX_TOPPING (QUANTITY extra ) (TOPPING cheese ) ) ) and (PIZZAORDER (NUMBER three ) (SIZE large ) pizzas with (TOPPING pepperoni ) and (TOPPING sausage ) ) )</td>\n",
       "      <td>False</td>\n",
       "    </tr>\n",
       "    <tr>\n",
       "      <th>1</th>\n",
       "      <td>five medium pizzas with tomatoes and ham</td>\n",
       "      <td>(ORDER (PIZZAORDER (NUMBER five ) (SIZE medium ) pizzas with (TOPPING tomatoes ) and (TOPPING ham ) ) )</td>\n",
       "      <td>False</td>\n",
       "    </tr>\n",
       "    <tr>\n",
       "      <th>2</th>\n",
       "      <td>i need to order one large vegetarian pizza with extra banana peppers</td>\n",
       "      <td>(ORDER i need to order (PIZZAORDER (NUMBER one ) (SIZE large ) (STYLE vegetarian ) pizza with (COMPLEX_TOPPING (QUANTITY extra ) (TOPPING banana peppers ) ) ) )</td>\n",
       "      <td>False</td>\n",
       "    </tr>\n",
       "    <tr>\n",
       "      <th>3</th>\n",
       "      <td>i'd like to order a large onion and pepper pizza</td>\n",
       "      <td>(ORDER i'd like to order (PIZZAORDER (NUMBER a ) (SIZE large ) (TOPPING onion ) and (TOPPING pepper ) pizza ) )</td>\n",
       "      <td>False</td>\n",
       "    </tr>\n",
       "    <tr>\n",
       "      <th>4</th>\n",
       "      <td>i'll have one pie along with pesto and ham but avoid olives</td>\n",
       "      <td>(ORDER i'll have (PIZZAORDER (NUMBER one ) pie along with (TOPPING pesto ) and (TOPPING ham ) but avoid (NOT (TOPPING olives ) ) ) )</td>\n",
       "      <td>False</td>\n",
       "    </tr>\n",
       "  </tbody>\n",
       "</table>\n",
       "</div>"
      ],
      "text/plain": [
       "                                                                                                                                                                   dev.SRC  \\\n",
       "0  i want to order two medium pizzas with sausage and black olives and two medium pizzas with pepperoni and extra cheese and three large pizzas with pepperoni and sausage   \n",
       "1                                                                                                                                 five medium pizzas with tomatoes and ham   \n",
       "2                                                                                                     i need to order one large vegetarian pizza with extra banana peppers   \n",
       "3                                                                                                                         i'd like to order a large onion and pepper pizza   \n",
       "4                                                                                                              i'll have one pie along with pesto and ham but avoid olives   \n",
       "\n",
       "                                                                                                                                                                                                                                                                                                                                                                             dev.TOP  \\\n",
       "0  (ORDER i want to order (PIZZAORDER (NUMBER two ) (SIZE medium ) pizzas with (TOPPING sausage ) and (TOPPING black olives ) ) and (PIZZAORDER (NUMBER two ) (SIZE medium ) pizzas with (TOPPING pepperoni ) and (COMPLEX_TOPPING (QUANTITY extra ) (TOPPING cheese ) ) ) and (PIZZAORDER (NUMBER three ) (SIZE large ) pizzas with (TOPPING pepperoni ) and (TOPPING sausage ) ) )   \n",
       "1                                                                                                                                                                                                                                                                            (ORDER (PIZZAORDER (NUMBER five ) (SIZE medium ) pizzas with (TOPPING tomatoes ) and (TOPPING ham ) ) )   \n",
       "2                                                                                                                                                                                                                   (ORDER i need to order (PIZZAORDER (NUMBER one ) (SIZE large ) (STYLE vegetarian ) pizza with (COMPLEX_TOPPING (QUANTITY extra ) (TOPPING banana peppers ) ) ) )   \n",
       "3                                                                                                                                                                                                                                                                    (ORDER i'd like to order (PIZZAORDER (NUMBER a ) (SIZE large ) (TOPPING onion ) and (TOPPING pepper ) pizza ) )   \n",
       "4                                                                                                                                                                                                                                               (ORDER i'll have (PIZZAORDER (NUMBER one ) pie along with (TOPPING pesto ) and (TOPPING ham ) but avoid (NOT (TOPPING olives ) ) ) )   \n",
       "\n",
       "  dev.PCFG_ERR  \n",
       "0        False  \n",
       "1        False  \n",
       "2        False  \n",
       "3        False  \n",
       "4        False  "
      ]
     },
     "execution_count": 5,
     "metadata": {},
     "output_type": "execute_result"
    }
   ],
   "source": [
    "df_dev = pd.read_json(DATASET_PATH + '/PIZZA_dev.json', lines=True)[['dev.SRC', 'dev.TOP', 'dev.PCFG_ERR']]\n",
    "df_dev.head()"
   ]
  },
  {
   "cell_type": "code",
   "execution_count": 6,
   "metadata": {},
   "outputs": [
    {
     "data": {
      "text/plain": [
       "1253.41796875"
      ]
     },
     "execution_count": 6,
     "metadata": {},
     "output_type": "execute_result"
    }
   ],
   "source": [
    "memory_usage()"
   ]
  },
  {
   "cell_type": "markdown",
   "metadata": {},
   "source": [
    "# Preprocessing"
   ]
  },
  {
   "cell_type": "markdown",
   "metadata": {},
   "source": [
    "## Column names"
   ]
  },
  {
   "cell_type": "markdown",
   "metadata": {},
   "source": [
    "- **SRC** \n",
    "    - The source text of the pizza order as given by the user.\n",
    "- **EXR** \n",
    "    - The expected representation of the pizza order in a structured format (likely a parse tree or similar structure).\n",
    "- **TOP** \n",
    "    - The top-level representation of the pizza order, possibly a normalized or tokenized version of the source text.\n",
    "- **PCFG_ERR** \n",
    "    - A boolean indicating whether there was an error in parsing the pizza order using a Probabilistic Context-Free Grammar (PCFG)."
   ]
  },
  {
   "cell_type": "code",
   "execution_count": 7,
   "metadata": {
    "execution": {
     "iopub.execute_input": "2024-12-06T21:15:47.598691Z",
     "iopub.status.busy": "2024-12-06T21:15:47.598305Z",
     "iopub.status.idle": "2024-12-06T21:15:47.606423Z",
     "shell.execute_reply": "2024-12-06T21:15:47.605167Z",
     "shell.execute_reply.started": "2024-12-06T21:15:47.598655Z"
    },
    "trusted": true
   },
   "outputs": [],
   "source": [
    "df_dev.rename(columns={\n",
    "    'dev.SRC': 'src', \n",
    "    'dev.EXR': 'exr',\n",
    "    'dev.TOP': 'top',\n",
    "    'dev.PCFG_ERR': 'pcfg_err',\n",
    "}, inplace=True)\n",
    "df_train.rename(columns={\n",
    "    'train.SRC': 'src', \n",
    "    'train.EXR': 'exr',\n",
    "    'train.TOP': 'top',\n",
    "    'train.TOP-DECOUPLED': 'decoupled',\n",
    "}, inplace=True)"
   ]
  },
  {
   "cell_type": "markdown",
   "metadata": {},
   "source": [
    "## Merge train and dev sets"
   ]
  },
  {
   "cell_type": "code",
   "execution_count": 8,
   "metadata": {},
   "outputs": [
    {
     "name": "stdout",
     "output_type": "stream",
     "text": [
      "(242, 2)\n"
     ]
    },
    {
     "data": {
      "text/html": [
       "<div>\n",
       "<style scoped>\n",
       "    .dataframe tbody tr th:only-of-type {\n",
       "        vertical-align: middle;\n",
       "    }\n",
       "\n",
       "    .dataframe tbody tr th {\n",
       "        vertical-align: top;\n",
       "    }\n",
       "\n",
       "    .dataframe thead th {\n",
       "        text-align: right;\n",
       "    }\n",
       "</style>\n",
       "<table border=\"1\" class=\"dataframe\">\n",
       "  <thead>\n",
       "    <tr style=\"text-align: right;\">\n",
       "      <th></th>\n",
       "      <th>src</th>\n",
       "      <th>top</th>\n",
       "    </tr>\n",
       "  </thead>\n",
       "  <tbody>\n",
       "    <tr>\n",
       "      <th>0</th>\n",
       "      <td>i want to order two medium pizzas with sausage and black olives and two medium pizzas with pepperoni and extra cheese and three large pizzas with pepperoni and sausage</td>\n",
       "      <td>(ORDER i want to order (PIZZAORDER (NUMBER two ) (SIZE medium ) pizzas with (TOPPING sausage ) and (TOPPING black olives ) ) and (PIZZAORDER (NUMBER two ) (SIZE medium ) pizzas with (TOPPING pepperoni ) and (COMPLEX_TOPPING (QUANTITY extra ) (TOPPING cheese ) ) ) and (PIZZAORDER (NUMBER three ) (SIZE large ) pizzas with (TOPPING pepperoni ) and (TOPPING sausage ) ) )</td>\n",
       "    </tr>\n",
       "  </tbody>\n",
       "</table>\n",
       "</div>"
      ],
      "text/plain": [
       "                                                                                                                                                                       src  \\\n",
       "0  i want to order two medium pizzas with sausage and black olives and two medium pizzas with pepperoni and extra cheese and three large pizzas with pepperoni and sausage   \n",
       "\n",
       "                                                                                                                                                                                                                                                                                                                                                                                 top  \n",
       "0  (ORDER i want to order (PIZZAORDER (NUMBER two ) (SIZE medium ) pizzas with (TOPPING sausage ) and (TOPPING black olives ) ) and (PIZZAORDER (NUMBER two ) (SIZE medium ) pizzas with (TOPPING pepperoni ) and (COMPLEX_TOPPING (QUANTITY extra ) (TOPPING cheese ) ) ) and (PIZZAORDER (NUMBER three ) (SIZE large ) pizzas with (TOPPING pepperoni ) and (TOPPING sausage ) ) )  "
      ]
     },
     "execution_count": 8,
     "metadata": {},
     "output_type": "execute_result"
    }
   ],
   "source": [
    "df_dev = df_dev[df_dev['pcfg_err'] == 'False'][['src', 'top']]\n",
    "print(df_dev.shape)\n",
    "df_dev.head(1)"
   ]
  },
  {
   "cell_type": "code",
   "execution_count": 9,
   "metadata": {},
   "outputs": [],
   "source": [
    "df = pd.concat([df_train, df_dev], ignore_index=True)"
   ]
  },
  {
   "cell_type": "markdown",
   "metadata": {},
   "source": [
    "## Split Data"
   ]
  },
  {
   "cell_type": "code",
   "execution_count": 10,
   "metadata": {},
   "outputs": [],
   "source": [
    "# Split the data into train, dev and test sets (Fn. shuffles the data by default)\n",
    "df_train, df_test = train_test_split(df, test_size=0.05, random_state=0)\n",
    "df_train, df_dev = train_test_split(df_train, test_size=0.1, random_state=0)"
   ]
  },
  {
   "cell_type": "code",
   "execution_count": 11,
   "metadata": {},
   "outputs": [],
   "source": [
    "# Save the data\n",
    "df_train.to_parquet(PROCESSED_DATA_PATH + '/train.parquet')\n",
    "df_dev.to_parquet(PROCESSED_DATA_PATH + '/dev.parquet')\n",
    "df_test.to_parquet(PROCESSED_DATA_PATH + '/test.parquet')"
   ]
  },
  {
   "cell_type": "code",
   "execution_count": 12,
   "metadata": {},
   "outputs": [
    {
     "data": {
      "text/plain": [
       "0"
      ]
     },
     "execution_count": 12,
     "metadata": {},
     "output_type": "execute_result"
    }
   ],
   "source": [
    "del df\n",
    "gc.collect()"
   ]
  },
  {
   "cell_type": "markdown",
   "metadata": {},
   "source": [
    "## Features"
   ]
  },
  {
   "cell_type": "markdown",
   "metadata": {},
   "source": [
    "### Tokenization"
   ]
  },
  {
   "cell_type": "code",
   "execution_count": 13,
   "metadata": {},
   "outputs": [
    {
     "name": "stdout",
     "output_type": "stream",
     "text": [
      "Loading tokenized data\n"
     ]
    }
   ],
   "source": [
    "update_tokenization = False\n",
    "if update_tokenization or not file_exists(PROCESSED_DATA_PATH + '/X_train.npy'):\n",
    "    # Tokenize the data\n",
    "    df_train[\"tokenized\"] = df_train[\"src\"].progress_apply(lambda x: regexp_tokenize(x, token_pattern))\n",
    "    df_dev[\"tokenized\"] = df_dev[\"src\"].progress_apply(lambda x: regexp_tokenize(x, token_pattern))\n",
    "    df_test[\"tokenized\"] = df_test[\"src\"].progress_apply(lambda x: regexp_tokenize(x, token_pattern))    \n",
    "\n",
    "    # Pad the sequences\n",
    "    max_len = df_train[\"tokenized\"].apply(lambda x: len(x)).max()\n",
    "    df_train[\"tokenized\"].progress_apply(lambda x: x.extend(['<PAD>'] * (max_len - len(x))))\n",
    "    df_dev[\"tokenized\"].progress_apply(lambda x: x.extend(['<PAD>'] * (max_len - len(x))))\n",
    "    df_test[\"tokenized\"].progress_apply(lambda x: x.extend(['<PAD>'] * (max_len - len(x))))\n",
    "\n",
    "    X_train = df_train['tokenized'].to_numpy()\n",
    "    X_dev = df_dev['tokenized'].to_numpy()\n",
    "    X_test = df_test['tokenized'].to_numpy()\n",
    "\n",
    "    # Save the tokenized data\n",
    "    np.save(PROCESSED_DATA_PATH + '/X_train.npy', X_train)\n",
    "    np.save(PROCESSED_DATA_PATH + '/X_dev.npy', X_dev)\n",
    "    np.save(PROCESSED_DATA_PATH + '/X_test.npy', X_test)\n",
    "else:\n",
    "    print('Loading tokenized data')\n",
    "    X_train = np.load(PROCESSED_DATA_PATH + '/X_train.npy', allow_pickle=True)\n",
    "    X_dev = np.load(PROCESSED_DATA_PATH + '/X_dev.npy', allow_pickle=True)\n",
    "    X_test = np.load(PROCESSED_DATA_PATH + '/X_test.npy', allow_pickle=True)\n",
    "    max_len = len(X_train[0])"
   ]
  },
  {
   "cell_type": "code",
   "execution_count": 15,
   "metadata": {},
   "outputs": [
    {
     "data": {
      "text/plain": [
       "['three',\n",
       " 'pizzas',\n",
       " 'no',\n",
       " 'american',\n",
       " 'cheese',\n",
       " 'and',\n",
       " 'a',\n",
       " 'water',\n",
       " 'and',\n",
       " 'one',\n",
       " 'ginger',\n",
       " 'ale',\n",
       " 'and',\n",
       " 'a',\n",
       " 'san',\n",
       " 'pellegrino',\n",
       " '<PAD>',\n",
       " '<PAD>',\n",
       " '<PAD>',\n",
       " '<PAD>',\n",
       " '<PAD>',\n",
       " '<PAD>',\n",
       " '<PAD>',\n",
       " '<PAD>',\n",
       " '<PAD>',\n",
       " '<PAD>',\n",
       " '<PAD>',\n",
       " '<PAD>',\n",
       " '<PAD>',\n",
       " '<PAD>',\n",
       " '<PAD>',\n",
       " '<PAD>']"
      ]
     },
     "execution_count": 15,
     "metadata": {},
     "output_type": "execute_result"
    }
   ],
   "source": [
    "X_train[0]"
   ]
  },
  {
   "cell_type": "code",
   "execution_count": 16,
   "metadata": {},
   "outputs": [
    {
     "data": {
      "text/plain": [
       "0"
      ]
     },
     "execution_count": 16,
     "metadata": {},
     "output_type": "execute_result"
    }
   ],
   "source": [
    "del X_train, X_dev, X_test\n",
    "gc.collect()"
   ]
  },
  {
   "cell_type": "code",
   "execution_count": 17,
   "metadata": {},
   "outputs": [
    {
     "data": {
      "text/plain": [
       "1447.9296875"
      ]
     },
     "execution_count": 17,
     "metadata": {},
     "output_type": "execute_result"
    }
   ],
   "source": [
    "memory_usage()"
   ]
  },
  {
   "cell_type": "markdown",
   "metadata": {},
   "source": [
    "## Targets"
   ]
  },
  {
   "cell_type": "markdown",
   "metadata": {},
   "source": [
    "We remove the leading *ORDER* constructor from the target output sequences since it is a **universal top-level constructor** and **there is nothing to be learned from it**."
   ]
  },
  {
   "cell_type": "code",
   "execution_count": 20,
   "metadata": {
    "execution": {
     "iopub.execute_input": "2024-12-06T21:16:24.552579Z",
     "iopub.status.busy": "2024-12-06T21:16:24.551639Z",
     "iopub.status.idle": "2024-12-06T21:16:56.426888Z",
     "shell.execute_reply": "2024-12-06T21:16:56.425617Z",
     "shell.execute_reply.started": "2024-12-06T21:16:24.552540Z"
    },
    "trusted": true
   },
   "outputs": [],
   "source": [
    "# train.SRC\ttrain.EXR\ttrain.TOP\ttrain.TOP-DECOUPLED\n",
    "def remove_order(df: pd.DataFrame, cols: list[str]) -> pd.DataFrame:\n",
    "    \"\"\"\n",
    "    Remove the string '(ORDER' from the beginning of the columns in the DataFrame.\n",
    "    And remove the string ')' from the end of the columns in the DataFrame.\n",
    "    \n",
    "    df: pd.DataFrame\n",
    "        The DataFrame to remove the string from.\n",
    "    cols: list[str]\n",
    "        The columns to remove the string from.\n",
    "    \"\"\"\n",
    "    for col in cols:\n",
    "        df[col] = df[col].str.replace(r\"^\\(ORDER\\s?\", \"\", regex=True)\n",
    "        df[col] = df[col].str.replace(r\"\\)$\", \"\", regex=True)\n",
    "    \n",
    "    return df\n",
    "\n",
    "df_train = remove_order(df_train, ['top'])\n",
    "df_dev = remove_order(df_dev, ['top'])\n",
    "df_test = remove_order(df_test, ['top'])"
   ]
  },
  {
   "cell_type": "code",
   "execution_count": 21,
   "metadata": {},
   "outputs": [],
   "source": [
    "# Update the data\n",
    "df_train.to_parquet(PROCESSED_DATA_PATH + '/train.parquet')\n",
    "df_dev.to_parquet(PROCESSED_DATA_PATH + '/dev.parquet')\n",
    "df_test.to_parquet(PROCESSED_DATA_PATH + '/test.parquet')"
   ]
  },
  {
   "cell_type": "code",
   "execution_count": 22,
   "metadata": {
    "execution": {
     "iopub.execute_input": "2024-12-06T21:16:56.434366Z",
     "iopub.status.busy": "2024-12-06T21:16:56.433963Z",
     "iopub.status.idle": "2024-12-06T21:16:56.446016Z",
     "shell.execute_reply": "2024-12-06T21:16:56.444735Z",
     "shell.execute_reply.started": "2024-12-06T21:16:56.434330Z"
    },
    "trusted": true
   },
   "outputs": [
    {
     "data": {
      "text/html": [
       "<div>\n",
       "<style scoped>\n",
       "    .dataframe tbody tr th:only-of-type {\n",
       "        vertical-align: middle;\n",
       "    }\n",
       "\n",
       "    .dataframe tbody tr th {\n",
       "        vertical-align: top;\n",
       "    }\n",
       "\n",
       "    .dataframe thead th {\n",
       "        text-align: right;\n",
       "    }\n",
       "</style>\n",
       "<table border=\"1\" class=\"dataframe\">\n",
       "  <thead>\n",
       "    <tr style=\"text-align: right;\">\n",
       "      <th></th>\n",
       "      <th>src</th>\n",
       "      <th>top</th>\n",
       "    </tr>\n",
       "  </thead>\n",
       "  <tbody>\n",
       "    <tr>\n",
       "      <th>1726538</th>\n",
       "      <td>three pizzas no american cheese and a water and one ginger ale and a san pellegrino</td>\n",
       "      <td>(PIZZAORDER (NUMBER three ) pizzas no (NOT (TOPPING american cheese ) ) ) and (DRINKORDER (NUMBER a ) (DRINKTYPE water ) ) and (DRINKORDER (NUMBER one ) (DRINKTYPE ginger ale ) ) and (DRINKORDER (NUMBER a ) (DRINKTYPE san pellegrino ) )</td>\n",
       "    </tr>\n",
       "  </tbody>\n",
       "</table>\n",
       "</div>"
      ],
      "text/plain": [
       "                                                                                         src  \\\n",
       "1726538  three pizzas no american cheese and a water and one ginger ale and a san pellegrino   \n",
       "\n",
       "                                                                                                                                                                                                                                                   top  \n",
       "1726538  (PIZZAORDER (NUMBER three ) pizzas no (NOT (TOPPING american cheese ) ) ) and (DRINKORDER (NUMBER a ) (DRINKTYPE water ) ) and (DRINKORDER (NUMBER one ) (DRINKTYPE ginger ale ) ) and (DRINKORDER (NUMBER a ) (DRINKTYPE san pellegrino ) )   "
      ]
     },
     "execution_count": 22,
     "metadata": {},
     "output_type": "execute_result"
    }
   ],
   "source": [
    "df_train.head(1)"
   ]
  },
  {
   "cell_type": "markdown",
   "metadata": {},
   "source": [
    "### Extract Labels"
   ]
  },
  {
   "cell_type": "code",
   "execution_count": 23,
   "metadata": {},
   "outputs": [
    {
     "data": {
      "text/plain": [
       "['CONTAINERTYPE',\n",
       " 'SIZE',\n",
       " 'NUMBER',\n",
       " 'STYLE',\n",
       " 'VOLUME',\n",
       " 'DRINKORDER',\n",
       " 'TOPPING',\n",
       " 'PIZZAORDER',\n",
       " 'DRINKTYPE',\n",
       " 'NOT',\n",
       " 'QUANTITY',\n",
       " 'COMPLEX_TOPPING']"
      ]
     },
     "execution_count": 23,
     "metadata": {},
     "output_type": "execute_result"
    }
   ],
   "source": [
    "if not file_exists(PROCESSED_DATA_PATH + '/entities.npy'):\n",
    "    full_text = \" \".join(df_train['top'].to_list())\n",
    "    entities = [x.group() for x in re.finditer(\"(?<=\\()[A-Z]+(_[A-Z]+)*\", full_text)]\n",
    "    entities = list(set(entities)) # Unique\n",
    "    np.save(PROCESSED_DATA_PATH + '/entities.npy', entities)\n",
    "    del full_text\n",
    "    gc.collect()\n",
    "else:\n",
    "    entities = np.load(PROCESSED_DATA_PATH + '/entities.npy', allow_pickle=True).tolist()\n",
    "entities"
   ]
  },
  {
   "cell_type": "code",
   "execution_count": 24,
   "metadata": {},
   "outputs": [
    {
     "data": {
      "text/plain": [
       "array(['B-CONTAINERTYPE', 'I-CONTAINERTYPE', 'B-SIZE', 'I-SIZE',\n",
       "       'B-NUMBER', 'I-NUMBER', 'B-STYLE', 'I-STYLE', 'B-VOLUME',\n",
       "       'I-VOLUME', 'B-DRINKORDER', 'I-DRINKORDER', 'B-TOPPING',\n",
       "       'I-TOPPING', 'B-PIZZAORDER', 'I-PIZZAORDER', 'B-DRINKTYPE',\n",
       "       'I-DRINKTYPE', 'B-QUANTITY', 'I-QUANTITY', 'B-COMPLEX_TOPPING',\n",
       "       'I-COMPLEX_TOPPING', 'B-NOT_TOPPING', 'I-NOT_TOPPING',\n",
       "       'B-NOT_STYLE', 'I-NOT_STYLE', 'O'], dtype='<U17')"
      ]
     },
     "execution_count": 24,
     "metadata": {},
     "output_type": "execute_result"
    }
   ],
   "source": [
    "# Using BIO Tagging\n",
    "if not file_exists(PROCESSED_DATA_PATH + '/bio_entities.npy') or not file_exists(PROCESSED_DATA_PATH + '/full_entities.npy'):\n",
    "    full_entities = entities.copy()\n",
    "    full_entities.remove(\"NOT\")\n",
    "    for entity in [\"TOPPING\", \"STYLE\"]: # Look at EDA\n",
    "        full_entities.append(f\"NOT_{entity}\") \n",
    "    bio_entities = [f\"{letter}-{entity}\" for entity in full_entities for letter in \"BI\"]\n",
    "    bio_entities.append('O')\n",
    "    np.save(PROCESSED_DATA_PATH + '/bio_entities.npy', bio_entities)\n",
    "    np.save(PROCESSED_DATA_PATH + '/full_entities.npy', full_entities)\n",
    "else:\n",
    "    full_entities = np.load(PROCESSED_DATA_PATH + '/full_entities.npy', allow_pickle=True)\n",
    "    bio_entities = np.load(PROCESSED_DATA_PATH + '/bio_entities.npy', allow_pickle=True)\n",
    "bio_entities"
   ]
  },
  {
   "cell_type": "code",
   "execution_count": 37,
   "metadata": {},
   "outputs": [],
   "source": [
    "update_encoder = False\n",
    "if update_encoder or not file_exists(PROCESSED_DATA_PATH + '/label_encoder.npy'):\n",
    "    label_encoder = LabelEncoder()\n",
    "    label_encoder.fit(list(bio_entities) + ['<PAD>'])\n",
    "    # label_encoder.classes_ = np.append(label_encoder.classes_, '<PAD>')\n",
    "    np.save(PROCESSED_DATA_PATH + '/label_encoder.npy', label_encoder.classes_)\n",
    "else:\n",
    "    label_encoder = LabelEncoder()\n",
    "    label_encoder.classes_ = np.load(PROCESSED_DATA_PATH + '/label_encoder.npy')"
   ]
  },
  {
   "cell_type": "code",
   "execution_count": 38,
   "metadata": {},
   "outputs": [
    {
     "data": {
      "text/plain": [
       "array([8])"
      ]
     },
     "execution_count": 38,
     "metadata": {},
     "output_type": "execute_result"
    }
   ],
   "source": [
    "label_encoder.transform(['B-PIZZAORDER'])"
   ]
  },
  {
   "cell_type": "code",
   "execution_count": 39,
   "metadata": {},
   "outputs": [],
   "source": [
    "def encode_labels(labels: list[str]):\n",
    "    return label_encoder.transform(labels)\n",
    "def decode_labels(labels: list[str]):\n",
    "    return label_encoder.inverse_transform(labels)"
   ]
  },
  {
   "cell_type": "code",
   "execution_count": 42,
   "metadata": {},
   "outputs": [],
   "source": [
    "def extract_IS_labels(row, entities):\n",
    "    top = row['top']\n",
    "    # Extract words and parenthesis\n",
    "    pattern = r\"\\b\\w+(?:'\\w+)?(?:-\\w+)*\\b|[()]\"\n",
    "    tokens = regexp_tokenize(top, pattern)\n",
    "    \n",
    "    labels: list[str] = []\n",
    "    count: int = 0\n",
    "    # print(tokens)\n",
    "    is_beginning = True\n",
    "    order_type = \"PIZZAORDER\"\n",
    "    for i, token in enumerate(tokens):\n",
    "        # print(token, count)\n",
    "        # Skip all entities except [\"PIZZAORDER\", \"DRINKORDER\"]\n",
    "        if token in entities and token not in [\"PIZZAORDER\", \"DRINKORDER\"]:\n",
    "            continue\n",
    "        elif token == \"(\":\n",
    "            count += 1\n",
    "        elif token == \")\":\n",
    "            count -= 1\n",
    "        elif token == \"PIZZAORDER\":\n",
    "            order_type = \"PIZZAORDER\"\n",
    "        elif token == \"DRINKORDER\":\n",
    "            order_type = \"DRINKORDER\"\n",
    "        \n",
    "        elif count == 0:\n",
    "            labels.append(\"O\")\n",
    "            is_beginning = True\n",
    "        else:\n",
    "            if is_beginning == True:\n",
    "                labels.append(\"B-\" + order_type)\n",
    "                is_beginning = False\n",
    "                continue\n",
    "            if is_beginning == False:\n",
    "                labels.append(\"I-\" + order_type)\n",
    "    labels = labels + [\"<PAD>\"] * (max_len - len(labels)) # Pad the sequence\n",
    "    row['IS_encoded_labels'] = encode_labels(labels)\n",
    "    return row"
   ]
  },
  {
   "cell_type": "code",
   "execution_count": 59,
   "metadata": {},
   "outputs": [],
   "source": [
    "def extract_NER_labels(row, entities):\n",
    "    top = row['top']\n",
    "    # Extract words and parenthesis\n",
    "    pattern = r\"\\b\\w+(?:'\\w+)?(?:-\\w+)*\\b|[()]\"\n",
    "    tokens = regexp_tokenize(top, pattern)\n",
    "    \n",
    "    labels: list[str] = []\n",
    "    count: int = 0\n",
    "    # print(tokens)\n",
    "    is_beginning = True\n",
    "    not_count = 0\n",
    "    label = \"\"\n",
    "    for i, token in enumerate(tokens):\n",
    "        # print(token, count)\n",
    "        if token in entities:\n",
    "            # Skip [\"PIZZAORDER\", \"DRINKORDER\"] entities\n",
    "            if token in [\"PIZZAORDER\", \"DRINKORDER\"]:\n",
    "                continue\n",
    "            elif token == \"NOT\":\n",
    "                not_count = count\n",
    "            else:\n",
    "                label = token\n",
    "        elif token == \"(\":\n",
    "            count += 1\n",
    "        elif token == \")\":\n",
    "            count -= 1\n",
    "            if count == not_count:\n",
    "                not_count = 0\n",
    "        elif count > 1:\n",
    "            if is_beginning == True:\n",
    "                add_not = \"NOT_\" if not_count else \"\"\n",
    "                labels.append(\"B-\" + add_not + label)\n",
    "                is_beginning = False\n",
    "                continue\n",
    "            if is_beginning == False:\n",
    "                add_not = \"NOT_\" if not_count else \"\"\n",
    "                labels.append(\"I-\" + add_not + label)\n",
    "        # First level of parenthesis (PIZZAORDER, DRINKORDER)\n",
    "        else:\n",
    "            labels.append(\"O\")\n",
    "            is_beginning = True\n",
    "\n",
    "    labels = labels + [\"<PAD>\"] * (max_len - len(labels)) # Pad the sequence\n",
    "    row['NER_encoded_labels'] = encode_labels(labels)\n",
    "    return row"
   ]
  },
  {
   "cell_type": "code",
   "execution_count": 65,
   "metadata": {},
   "outputs": [
    {
     "name": "stderr",
     "output_type": "stream",
     "text": [
      "100%|██████████| 500000/500000 [04:31<00:00, 1842.25it/s]\n"
     ]
    },
    {
     "name": "stdout",
     "output_type": "stream",
     "text": [
      "Chunk 0 processed and saved to ../../data/saved/data/train_preprocessing.parquet_0.parquet\n"
     ]
    },
    {
     "name": "stderr",
     "output_type": "stream",
     "text": [
      "100%|██████████| 500000/500000 [04:21<00:00, 1910.76it/s]\n"
     ]
    },
    {
     "name": "stdout",
     "output_type": "stream",
     "text": [
      "Chunk 1 processed and saved to ../../data/saved/data/train_preprocessing.parquet_1.parquet\n"
     ]
    },
    {
     "name": "stderr",
     "output_type": "stream",
     "text": [
      "100%|██████████| 500000/500000 [04:44<00:00, 1760.47it/s]\n"
     ]
    },
    {
     "name": "stdout",
     "output_type": "stream",
     "text": [
      "Chunk 2 processed and saved to ../../data/saved/data/train_preprocessing.parquet_2.parquet\n"
     ]
    },
    {
     "name": "stderr",
     "output_type": "stream",
     "text": [
      "100%|██████████| 500000/500000 [04:44<00:00, 1758.09it/s]\n"
     ]
    },
    {
     "name": "stdout",
     "output_type": "stream",
     "text": [
      "Chunk 3 processed and saved to ../../data/saved/data/train_preprocessing.parquet_3.parquet\n"
     ]
    },
    {
     "name": "stderr",
     "output_type": "stream",
     "text": [
      "100%|██████████| 100467/100467 [00:57<00:00, 1744.16it/s]\n"
     ]
    },
    {
     "name": "stdout",
     "output_type": "stream",
     "text": [
      "Chunk 4 processed and saved to ../../data/saved/data/train_preprocessing.parquet_4.parquet\n",
      "Merging processed chunks into a single Parquet file...\n",
      "Merged file saved to ../../data/saved/data/train_preprocessing.parquet\n"
     ]
    }
   ],
   "source": [
    "#* Note: chunk: 100k -> 30m 27.8s\n",
    "#* Note: chunk: 500k -> ~19m\n",
    "update_IS_labels = False\n",
    "if update_IS_labels or not file_exists(PROCESSED_DATA_PATH + '/train_preprocessing.parquet'):\n",
    "    process_parquet_in_chunks(\n",
    "        PROCESSED_DATA_PATH + '/train.parquet',\n",
    "        PROCESSED_DATA_PATH + '/train_preprocessing.parquet',\n",
    "        500000,\n",
    "        extract_IS_labels,\n",
    "        args=tuple([entities]),\n",
    "    )"
   ]
  },
  {
   "cell_type": "code",
   "execution_count": 45,
   "metadata": {},
   "outputs": [
    {
     "name": "stderr",
     "output_type": "stream",
     "text": [
      "100%|██████████| 233386/233386 [02:06<00:00, 1848.46it/s]\n",
      "100%|██████████| 122835/122835 [01:06<00:00, 1840.98it/s]\n"
     ]
    }
   ],
   "source": [
    "if update_IS_labels or not file_exists(PROCESSED_DATA_PATH + '/dev_preprocessing.parquet'):\n",
    "    df_dev = df_dev.progress_apply(extract_IS_labels, axis=1, args=tuple([entities]))\n",
    "    df_dev.to_parquet(PROCESSED_DATA_PATH + '/dev_preprocessing.parquet')\n",
    "else:\n",
    "    df_dev = pd.read_parquet(PROCESSED_DATA_PATH + '/dev.parquet')\n",
    "\n",
    "if update_IS_labels or not file_exists(PROCESSED_DATA_PATH + '/test_preprocessing.parquet'):\n",
    "    df_test = df_test.progress_apply(extract_IS_labels, axis=1, args=tuple([entities]))\n",
    "    df_test.to_parquet(PROCESSED_DATA_PATH + '/test_preprocessing.parquet')\n",
    "else:\n",
    "    df_test = pd.read_parquet(PROCESSED_DATA_PATH + '/test.parquet')"
   ]
  },
  {
   "cell_type": "code",
   "execution_count": 55,
   "metadata": {},
   "outputs": [
    {
     "data": {
      "text/plain": [
       "''"
      ]
     },
     "execution_count": 55,
     "metadata": {},
     "output_type": "execute_result"
    }
   ],
   "source": [
    "\"\"\"\n",
    "(PIZZAORDER \n",
    "    (NUMBER three ) pizzas no \n",
    "    (NOT (TOPPING american cheese ) ) ) and \n",
    "(DRINKORDER \n",
    "    (NUMBER a ) (DRINKTYPE water ) ) and \n",
    "(DRINKORDER \n",
    "    (NUMBER one ) (DRINKTYPE ginger ale ) ) and \n",
    "(DRINKORDER \n",
    "    (NUMBER a ) (DRINKTYPE san pellegrino ) )\n",
    "\n",
    "['B-NUMBER', 'O', 'O', 'B-NOT_TOPPING', 'I-NOT_TOPPING', 'O', 'B-NUMBER', 'I-DRINKTYPE', 'O', 'B-NUMBER', 'I-DRINKTYPE', 'I-DRINKTYPE', 'O', 'B-NUMBER', 'I-DRINKTYPE', 'I-DRINKTYPE']\n",
    "\n",
    "\"\"\""
   ]
  },
  {
   "cell_type": "code",
   "execution_count": 58,
   "metadata": {},
   "outputs": [
    {
     "data": {
      "text/html": [
       "<div>\n",
       "<style scoped>\n",
       "    .dataframe tbody tr th:only-of-type {\n",
       "        vertical-align: middle;\n",
       "    }\n",
       "\n",
       "    .dataframe tbody tr th {\n",
       "        vertical-align: top;\n",
       "    }\n",
       "\n",
       "    .dataframe thead th {\n",
       "        text-align: right;\n",
       "    }\n",
       "</style>\n",
       "<table border=\"1\" class=\"dataframe\">\n",
       "  <thead>\n",
       "    <tr style=\"text-align: right;\">\n",
       "      <th></th>\n",
       "      <th>src</th>\n",
       "      <th>top</th>\n",
       "      <th>IS_encoded_labels</th>\n",
       "    </tr>\n",
       "  </thead>\n",
       "  <tbody>\n",
       "    <tr>\n",
       "      <th>237730</th>\n",
       "      <td>a large pie with green pepper and with extra peperonni</td>\n",
       "      <td>(ORDER (PIZZAORDER (NUMBER a ) (SIZE large ) pie with (TOPPING green pepper ) and with (COMPLEX_TOPPING (QUANTITY extra ) (TOPPING peperonni ) ) ) )</td>\n",
       "      <td>[7, 20, 20, 20, 20, 20, 20, 20, 20, 20, 20]</td>\n",
       "    </tr>\n",
       "    <tr>\n",
       "      <th>470155</th>\n",
       "      <td>can i have one large pie with green pepper and with extra peperonni</td>\n",
       "      <td>(ORDER can i have (PIZZAORDER (NUMBER one ) (SIZE large ) pie with (TOPPING green pepper ) and with (COMPLEX_TOPPING (QUANTITY extra ) (TOPPING peperonni ) ) ) )</td>\n",
       "      <td>[7, 20, 20, 20, 20, 20, 20, 20, 20, 20, 20, 20, 20, 20]</td>\n",
       "    </tr>\n",
       "    <tr>\n",
       "      <th>920373</th>\n",
       "      <td>i'd like a large pie with green pepper and with extra peperonni</td>\n",
       "      <td>(ORDER i'd like (PIZZAORDER (NUMBER a ) (SIZE large ) pie with (TOPPING green pepper ) and with (COMPLEX_TOPPING (QUANTITY extra ) (TOPPING peperonni ) ) ) )</td>\n",
       "      <td>[7, 20, 20, 20, 20, 20, 20, 20, 20, 20, 20, 20, 20]</td>\n",
       "    </tr>\n",
       "  </tbody>\n",
       "</table>\n",
       "</div>"
      ],
      "text/plain": [
       "                                                                        src  \\\n",
       "237730               a large pie with green pepper and with extra peperonni   \n",
       "470155  can i have one large pie with green pepper and with extra peperonni   \n",
       "920373      i'd like a large pie with green pepper and with extra peperonni   \n",
       "\n",
       "                                                                                                                                                                      top  \\\n",
       "237730               (ORDER (PIZZAORDER (NUMBER a ) (SIZE large ) pie with (TOPPING green pepper ) and with (COMPLEX_TOPPING (QUANTITY extra ) (TOPPING peperonni ) ) ) )   \n",
       "470155  (ORDER can i have (PIZZAORDER (NUMBER one ) (SIZE large ) pie with (TOPPING green pepper ) and with (COMPLEX_TOPPING (QUANTITY extra ) (TOPPING peperonni ) ) ) )   \n",
       "920373      (ORDER i'd like (PIZZAORDER (NUMBER a ) (SIZE large ) pie with (TOPPING green pepper ) and with (COMPLEX_TOPPING (QUANTITY extra ) (TOPPING peperonni ) ) ) )   \n",
       "\n",
       "                                              IS_encoded_labels  \n",
       "237730              [7, 20, 20, 20, 20, 20, 20, 20, 20, 20, 20]  \n",
       "470155  [7, 20, 20, 20, 20, 20, 20, 20, 20, 20, 20, 20, 20, 20]  \n",
       "920373      [7, 20, 20, 20, 20, 20, 20, 20, 20, 20, 20, 20, 20]  "
      ]
     },
     "execution_count": 58,
     "metadata": {},
     "output_type": "execute_result"
    }
   ],
   "source": [
    "df_train[df_train['src'].str.find(\"large pie with green pepper and with extra peperonni\") > 0]"
   ]
  },
  {
   "cell_type": "code",
   "execution_count": 67,
   "metadata": {},
   "outputs": [
    {
     "name": "stderr",
     "output_type": "stream",
     "text": [
      "100%|██████████| 500000/500000 [04:33<00:00, 1826.87it/s]\n"
     ]
    },
    {
     "name": "stdout",
     "output_type": "stream",
     "text": [
      "Chunk 0 processed and saved to ../../data/saved/data/train_preprocessing.parquet_0.parquet\n"
     ]
    },
    {
     "name": "stderr",
     "output_type": "stream",
     "text": [
      "100%|██████████| 500000/500000 [04:22<00:00, 1903.58it/s]\n"
     ]
    },
    {
     "name": "stdout",
     "output_type": "stream",
     "text": [
      "Chunk 1 processed and saved to ../../data/saved/data/train_preprocessing.parquet_1.parquet\n"
     ]
    },
    {
     "name": "stderr",
     "output_type": "stream",
     "text": [
      "100%|██████████| 500000/500000 [04:23<00:00, 1894.17it/s]\n"
     ]
    },
    {
     "name": "stdout",
     "output_type": "stream",
     "text": [
      "Chunk 2 processed and saved to ../../data/saved/data/train_preprocessing.parquet_2.parquet\n"
     ]
    },
    {
     "name": "stderr",
     "output_type": "stream",
     "text": [
      "100%|██████████| 500000/500000 [04:41<00:00, 1777.95it/s]\n"
     ]
    },
    {
     "name": "stdout",
     "output_type": "stream",
     "text": [
      "Chunk 3 processed and saved to ../../data/saved/data/train_preprocessing.parquet_3.parquet\n"
     ]
    },
    {
     "name": "stderr",
     "output_type": "stream",
     "text": [
      "100%|██████████| 100467/100467 [01:00<00:00, 1660.39it/s]\n"
     ]
    },
    {
     "name": "stdout",
     "output_type": "stream",
     "text": [
      "Chunk 4 processed and saved to ../../data/saved/data/train_preprocessing.parquet_4.parquet\n",
      "Merging processed chunks into a single Parquet file...\n",
      "Merged file saved to ../../data/saved/data/train_preprocessing.parquet\n"
     ]
    }
   ],
   "source": [
    "#* Note: chunk: 100k -> 30m 27.8s\n",
    "update_NER_labels = False\n",
    "if update_NER_labels or not file_exists(PROCESSED_DATA_PATH + '/train_preprocessing.parquet'):\n",
    "    process_parquet_in_chunks(\n",
    "        PROCESSED_DATA_PATH + '/train_preprocessing.parquet',\n",
    "        PROCESSED_DATA_PATH + '/train_preprocessing.parquet',\n",
    "        500000,\n",
    "        extract_NER_labels,\n",
    "        args=tuple([entities]),\n",
    "    )"
   ]
  },
  {
   "cell_type": "code",
   "execution_count": 61,
   "metadata": {},
   "outputs": [
    {
     "name": "stderr",
     "output_type": "stream",
     "text": [
      "100%|██████████| 233386/233386 [02:07<00:00, 1832.35it/s]\n",
      "100%|██████████| 122835/122835 [01:05<00:00, 1884.71it/s]\n"
     ]
    }
   ],
   "source": [
    "if update_NER_labels or not file_exists(PROCESSED_DATA_PATH + '/dev_preprocessing.parquet'):\n",
    "    df_dev = df_dev.progress_apply(extract_NER_labels, axis=1, args=tuple([entities]))\n",
    "    df_dev.to_parquet(PROCESSED_DATA_PATH + '/dev_preprocessing.parquet')\n",
    "else:\n",
    "    df_dev = pd.read_parquet(PROCESSED_DATA_PATH + '/dev.parquet')\n",
    "\n",
    "if update_NER_labels or not file_exists(PROCESSED_DATA_PATH + '/test_preprocessing.parquet'):\n",
    "    df_test = df_test.progress_apply(extract_NER_labels, axis=1, args=tuple([entities]))\n",
    "    df_test.to_parquet(PROCESSED_DATA_PATH + '/test_preprocessing.parquet')\n",
    "else:\n",
    "    df_test = pd.read_parquet(PROCESSED_DATA_PATH + '/test.parquet')"
   ]
  },
  {
   "cell_type": "code",
   "execution_count": 68,
   "metadata": {},
   "outputs": [
    {
     "data": {
      "text/html": [
       "<div>\n",
       "<style scoped>\n",
       "    .dataframe tbody tr th:only-of-type {\n",
       "        vertical-align: middle;\n",
       "    }\n",
       "\n",
       "    .dataframe tbody tr th {\n",
       "        vertical-align: top;\n",
       "    }\n",
       "\n",
       "    .dataframe thead th {\n",
       "        text-align: right;\n",
       "    }\n",
       "</style>\n",
       "<table border=\"1\" class=\"dataframe\">\n",
       "  <thead>\n",
       "    <tr style=\"text-align: right;\">\n",
       "      <th></th>\n",
       "      <th>src</th>\n",
       "      <th>top</th>\n",
       "      <th>IS_encoded_labels</th>\n",
       "      <th>NER_encoded_labels</th>\n",
       "    </tr>\n",
       "  </thead>\n",
       "  <tbody>\n",
       "    <tr>\n",
       "      <th>0</th>\n",
       "      <td>three pizzas no american cheese and a water and one ginger ale and a san pellegrino</td>\n",
       "      <td>(PIZZAORDER (NUMBER three ) pizzas no (NOT (TOPPING american cheese ) ) ) and (DRINKORDER (NUMBER a ) (DRINKTYPE water ) ) and (DRINKORDER (NUMBER one ) (DRINKTYPE ginger ale ) ) and (DRINKORDER (NUMBER a ) (DRINKTYPE san pellegrino ) )</td>\n",
       "      <td>[8, 21, 21, 21, 21, 27, 3, 16, 27, 3, 16, 16, 27, 3, 16, 16, 0, 0, 0, 0, 0, 0, 0, 0, 0, 0, 0, 0, 0, 0, 0, 0]</td>\n",
       "      <td>[7, 27, 27, 6, 19, 27, 7, 17, 27, 7, 17, 17, 27, 7, 17, 17, 0, 0, 0, 0, 0, 0, 0, 0, 0, 0, 0, 0, 0, 0, 0, 0]</td>\n",
       "    </tr>\n",
       "    <tr>\n",
       "      <th>1</th>\n",
       "      <td>three large pizzas with balsamic glaze and three party - sized pies with just a little cherry tomato</td>\n",
       "      <td>(PIZZAORDER (NUMBER three ) (SIZE large ) pizzas with (TOPPING balsamic glaze ) ) and (PIZZAORDER (NUMBER three ) (SIZE party - sized ) pies with (COMPLEX_TOPPING (QUANTITY just a little ) (TOPPING cherry tomato ) ) )</td>\n",
       "      <td>[8, 21, 21, 21, 21, 21, 27, 8, 21, 21, 21, 21, 21, 21, 21, 21, 21, 0, 0, 0, 0, 0, 0, 0, 0, 0, 0, 0, 0, 0, 0, 0]</td>\n",
       "      <td>[7, 23, 27, 27, 12, 25, 27, 7, 23, 23, 27, 27, 9, 22, 22, 25, 25, 0, 0, 0, 0, 0, 0, 0, 0, 0, 0, 0, 0, 0, 0, 0]</td>\n",
       "    </tr>\n",
       "    <tr>\n",
       "      <th>2</th>\n",
       "      <td>i'd like a lunch sized pizza with parsley fried onions and parmesan</td>\n",
       "      <td>i'd like (PIZZAORDER (NUMBER a ) (SIZE lunch sized ) pizza with (TOPPING parsley ) (TOPPING fried onions ) and (TOPPING parmesan ) )</td>\n",
       "      <td>[27, 27, 8, 21, 21, 21, 21, 21, 21, 21, 21, 21, 0, 0, 0, 0, 0, 0, 0, 0, 0, 0, 0, 0, 0, 0, 0, 0, 0, 0, 0, 0]</td>\n",
       "      <td>[27, 27, 7, 23, 23, 27, 27, 12, 25, 25, 27, 12, 0, 0, 0, 0, 0, 0, 0, 0, 0, 0, 0, 0, 0, 0, 0, 0, 0, 0, 0, 0]</td>\n",
       "    </tr>\n",
       "    <tr>\n",
       "      <th>3</th>\n",
       "      <td>two regular pizzas without any caramelized onions</td>\n",
       "      <td>(PIZZAORDER (NUMBER two ) (SIZE regular ) pizzas without any (NOT (TOPPING caramelized onions ) ) )</td>\n",
       "      <td>[8, 21, 21, 21, 21, 21, 21, 0, 0, 0, 0, 0, 0, 0, 0, 0, 0, 0, 0, 0, 0, 0, 0, 0, 0, 0, 0, 0, 0, 0, 0, 0]</td>\n",
       "      <td>[7, 23, 27, 27, 27, 6, 19, 0, 0, 0, 0, 0, 0, 0, 0, 0, 0, 0, 0, 0, 0, 0, 0, 0, 0, 0, 0, 0, 0, 0, 0, 0]</td>\n",
       "    </tr>\n",
       "    <tr>\n",
       "      <th>4</th>\n",
       "      <td>i'd like a pizza with parmesan cheese beef and roasted tomatoes</td>\n",
       "      <td>i'd like (PIZZAORDER (NUMBER a ) pizza with (TOPPING parmesan cheese ) (TOPPING beef ) and (TOPPING roasted tomatoes ) )</td>\n",
       "      <td>[27, 27, 8, 21, 21, 21, 21, 21, 21, 21, 21, 0, 0, 0, 0, 0, 0, 0, 0, 0, 0, 0, 0, 0, 0, 0, 0, 0, 0, 0, 0, 0]</td>\n",
       "      <td>[27, 27, 7, 27, 27, 12, 25, 25, 27, 12, 25, 0, 0, 0, 0, 0, 0, 0, 0, 0, 0, 0, 0, 0, 0, 0, 0, 0, 0, 0, 0, 0]</td>\n",
       "    </tr>\n",
       "  </tbody>\n",
       "</table>\n",
       "</div>"
      ],
      "text/plain": [
       "                                                                                                    src  \\\n",
       "0                   three pizzas no american cheese and a water and one ginger ale and a san pellegrino   \n",
       "1  three large pizzas with balsamic glaze and three party - sized pies with just a little cherry tomato   \n",
       "2                                   i'd like a lunch sized pizza with parsley fried onions and parmesan   \n",
       "3                                                     two regular pizzas without any caramelized onions   \n",
       "4                                       i'd like a pizza with parmesan cheese beef and roasted tomatoes   \n",
       "\n",
       "                                                                                                                                                                                                                                             top  \\\n",
       "0  (PIZZAORDER (NUMBER three ) pizzas no (NOT (TOPPING american cheese ) ) ) and (DRINKORDER (NUMBER a ) (DRINKTYPE water ) ) and (DRINKORDER (NUMBER one ) (DRINKTYPE ginger ale ) ) and (DRINKORDER (NUMBER a ) (DRINKTYPE san pellegrino ) )    \n",
       "1                     (PIZZAORDER (NUMBER three ) (SIZE large ) pizzas with (TOPPING balsamic glaze ) ) and (PIZZAORDER (NUMBER three ) (SIZE party - sized ) pies with (COMPLEX_TOPPING (QUANTITY just a little ) (TOPPING cherry tomato ) ) )    \n",
       "2                                                                                                          i'd like (PIZZAORDER (NUMBER a ) (SIZE lunch sized ) pizza with (TOPPING parsley ) (TOPPING fried onions ) and (TOPPING parmesan ) )    \n",
       "3                                                                                                                                           (PIZZAORDER (NUMBER two ) (SIZE regular ) pizzas without any (NOT (TOPPING caramelized onions ) ) )    \n",
       "4                                                                                                                      i'd like (PIZZAORDER (NUMBER a ) pizza with (TOPPING parmesan cheese ) (TOPPING beef ) and (TOPPING roasted tomatoes ) )    \n",
       "\n",
       "                                                                                                 IS_encoded_labels  \\\n",
       "0     [8, 21, 21, 21, 21, 27, 3, 16, 27, 3, 16, 16, 27, 3, 16, 16, 0, 0, 0, 0, 0, 0, 0, 0, 0, 0, 0, 0, 0, 0, 0, 0]   \n",
       "1  [8, 21, 21, 21, 21, 21, 27, 8, 21, 21, 21, 21, 21, 21, 21, 21, 21, 0, 0, 0, 0, 0, 0, 0, 0, 0, 0, 0, 0, 0, 0, 0]   \n",
       "2      [27, 27, 8, 21, 21, 21, 21, 21, 21, 21, 21, 21, 0, 0, 0, 0, 0, 0, 0, 0, 0, 0, 0, 0, 0, 0, 0, 0, 0, 0, 0, 0]   \n",
       "3           [8, 21, 21, 21, 21, 21, 21, 0, 0, 0, 0, 0, 0, 0, 0, 0, 0, 0, 0, 0, 0, 0, 0, 0, 0, 0, 0, 0, 0, 0, 0, 0]   \n",
       "4       [27, 27, 8, 21, 21, 21, 21, 21, 21, 21, 21, 0, 0, 0, 0, 0, 0, 0, 0, 0, 0, 0, 0, 0, 0, 0, 0, 0, 0, 0, 0, 0]   \n",
       "\n",
       "                                                                                               NER_encoded_labels  \n",
       "0     [7, 27, 27, 6, 19, 27, 7, 17, 27, 7, 17, 17, 27, 7, 17, 17, 0, 0, 0, 0, 0, 0, 0, 0, 0, 0, 0, 0, 0, 0, 0, 0]  \n",
       "1  [7, 23, 27, 27, 12, 25, 27, 7, 23, 23, 27, 27, 9, 22, 22, 25, 25, 0, 0, 0, 0, 0, 0, 0, 0, 0, 0, 0, 0, 0, 0, 0]  \n",
       "2     [27, 27, 7, 23, 23, 27, 27, 12, 25, 25, 27, 12, 0, 0, 0, 0, 0, 0, 0, 0, 0, 0, 0, 0, 0, 0, 0, 0, 0, 0, 0, 0]  \n",
       "3           [7, 23, 27, 27, 27, 6, 19, 0, 0, 0, 0, 0, 0, 0, 0, 0, 0, 0, 0, 0, 0, 0, 0, 0, 0, 0, 0, 0, 0, 0, 0, 0]  \n",
       "4      [27, 27, 7, 27, 27, 12, 25, 25, 27, 12, 25, 0, 0, 0, 0, 0, 0, 0, 0, 0, 0, 0, 0, 0, 0, 0, 0, 0, 0, 0, 0, 0]  "
      ]
     },
     "execution_count": 68,
     "metadata": {},
     "output_type": "execute_result"
    }
   ],
   "source": [
    "df_train = pd.read_parquet(PROCESSED_DATA_PATH + '/train_preprocessing.parquet')\n",
    "df_train.head()"
   ]
  },
  {
   "cell_type": "code",
   "execution_count": 66,
   "metadata": {},
   "outputs": [
    {
     "data": {
      "text/plain": [
       "src                                                                                                         a large pie with green pepper and with extra peperonni\n",
       "top                   (PIZZAORDER (NUMBER a ) (SIZE large ) pie with (TOPPING green pepper ) and with (COMPLEX_TOPPING (QUANTITY extra ) (TOPPING peperonni ) ) ) \n",
       "NER_encoded_labels                                        [7, 23, 27, 27, 12, 25, 27, 27, 9, 25, 0, 0, 0, 0, 0, 0, 0, 0, 0, 0, 0, 0, 0, 0, 0, 0, 0, 0, 0, 0, 0, 0]\n",
       "Name: 237730, dtype: object"
      ]
     },
     "execution_count": 66,
     "metadata": {},
     "output_type": "execute_result"
    }
   ],
   "source": [
    "df_train.iloc[237730]"
   ]
  },
  {
   "cell_type": "markdown",
   "metadata": {},
   "source": [
    "### Save Targets"
   ]
  },
  {
   "cell_type": "code",
   "execution_count": 69,
   "metadata": {},
   "outputs": [],
   "source": [
    "y1_train, y2_train = df_train['IS_encoded_labels'].to_frame(), df_train['NER_encoded_labels'].to_frame()\n",
    "\n",
    "y1_dev, y2_dev = df_dev['IS_encoded_labels'].to_frame(), df_dev['NER_encoded_labels'].to_frame()\n",
    "\n",
    "y1_test, y2_test = df_test['IS_encoded_labels'].to_frame(), df_test['NER_encoded_labels'].to_frame()"
   ]
  },
  {
   "cell_type": "code",
   "execution_count": 71,
   "metadata": {},
   "outputs": [],
   "source": [
    "np.save(PROCESSED_DATA_PATH + '/y1_train.npy', y1_train)\n",
    "np.save(PROCESSED_DATA_PATH + '/y2_train.npy', y2_train)\n",
    "np.save(PROCESSED_DATA_PATH + '/y1_dev.npy', y1_dev)\n",
    "np.save(PROCESSED_DATA_PATH + '/y2_dev.npy', y2_dev)\n",
    "np.save(PROCESSED_DATA_PATH + '/y1_test.npy', y1_test)\n",
    "np.save(PROCESSED_DATA_PATH + '/y2_test.npy', y2_test)"
   ]
  },
  {
   "cell_type": "code",
   "execution_count": 70,
   "metadata": {},
   "outputs": [],
   "source": [
    "y1_train.to_parquet(PROCESSED_DATA_PATH + '/y1_train.parquet')\n",
    "y2_train.to_parquet(PROCESSED_DATA_PATH + '/y2_train.parquet')\n",
    "y1_dev.to_parquet(PROCESSED_DATA_PATH + '/y1_dev.parquet')\n",
    "y2_dev.to_parquet(PROCESSED_DATA_PATH + '/y2_dev.parquet')\n",
    "y1_test.to_parquet(PROCESSED_DATA_PATH + '/y1_test.parquet')\n",
    "y2_test.to_parquet(PROCESSED_DATA_PATH + '/y2_test.parquet')"
   ]
  }
 ],
 "metadata": {
  "kaggle": {
   "accelerator": "none",
   "dataSources": [
    {
     "datasetId": 6200837,
     "sourceId": 10062018,
     "sourceType": "datasetVersion"
    }
   ],
   "dockerImageVersionId": 30787,
   "isGpuEnabled": false,
   "isInternetEnabled": true,
   "language": "python",
   "sourceType": "notebook"
  },
  "kernelspec": {
   "display_name": "env",
   "language": "python",
   "name": "python3"
  },
  "language_info": {
   "codemirror_mode": {
    "name": "ipython",
    "version": 3
   },
   "file_extension": ".py",
   "mimetype": "text/x-python",
   "name": "python",
   "nbconvert_exporter": "python",
   "pygments_lexer": "ipython3",
   "version": "3.10.6"
  }
 },
 "nbformat": 4,
 "nbformat_minor": 4
}
