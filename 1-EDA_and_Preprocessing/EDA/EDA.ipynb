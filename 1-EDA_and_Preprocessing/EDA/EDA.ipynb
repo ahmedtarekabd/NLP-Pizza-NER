{
 "cells": [
  {
   "cell_type": "markdown",
   "metadata": {},
   "source": [
    "# Setup"
   ]
  },
  {
   "cell_type": "markdown",
   "metadata": {},
   "source": [
    "## Imports"
   ]
  },
  {
   "cell_type": "code",
   "execution_count": 1,
   "metadata": {
    "execution": {
     "iopub.execute_input": "2024-12-06T21:15:23.707922Z",
     "iopub.status.busy": "2024-12-06T21:15:23.707431Z",
     "iopub.status.idle": "2024-12-06T21:15:24.499569Z",
     "shell.execute_reply": "2024-12-06T21:15:24.498371Z",
     "shell.execute_reply.started": "2024-12-06T21:15:23.707878Z"
    },
    "trusted": true
   },
   "outputs": [],
   "source": [
    "# General\n",
    "import pandas as pd\n",
    "import string"
   ]
  },
  {
   "cell_type": "code",
   "execution_count": 2,
   "metadata": {},
   "outputs": [
    {
     "data": {
      "text/plain": [
       "<module 'config' from 'e:\\\\College\\\\4- Senior 2\\\\Semester 1\\\\NLP\\\\Project\\\\config.py'>"
      ]
     },
     "execution_count": 2,
     "metadata": {},
     "output_type": "execute_result"
    }
   ],
   "source": [
    "import os\n",
    "import sys\n",
    "# Add the path to the utils folder\n",
    "sys.path.append(os.path.abspath('../..'))\n",
    "import importlib\n",
    "# Custom modules\n",
    "from utils import memory_usage, load_json\n",
    "from config import run_config, DATASET_PATH\n",
    "importlib.reload(sys.modules['utils'])\n",
    "importlib.reload(sys.modules['config'])"
   ]
  },
  {
   "cell_type": "markdown",
   "metadata": {},
   "source": [
    "## Config"
   ]
  },
  {
   "cell_type": "code",
   "execution_count": 3,
   "metadata": {
    "execution": {
     "iopub.execute_input": "2024-12-06T21:15:26.141168Z",
     "iopub.status.busy": "2024-12-06T21:15:26.140759Z",
     "iopub.status.idle": "2024-12-06T21:15:26.147194Z",
     "shell.execute_reply": "2024-12-06T21:15:26.145949Z",
     "shell.execute_reply.started": "2024-12-06T21:15:26.141125Z"
    },
    "trusted": true
   },
   "outputs": [],
   "source": [
    "run_config()"
   ]
  },
  {
   "cell_type": "markdown",
   "metadata": {},
   "source": [
    "# Load Dataset"
   ]
  },
  {
   "cell_type": "code",
   "execution_count": 4,
   "metadata": {},
   "outputs": [
    {
     "data": {
      "text/html": [
       "<div>\n",
       "<style scoped>\n",
       "    .dataframe tbody tr th:only-of-type {\n",
       "        vertical-align: middle;\n",
       "    }\n",
       "\n",
       "    .dataframe tbody tr th {\n",
       "        vertical-align: top;\n",
       "    }\n",
       "\n",
       "    .dataframe thead th {\n",
       "        text-align: right;\n",
       "    }\n",
       "</style>\n",
       "<table border=\"1\" class=\"dataframe\">\n",
       "  <thead>\n",
       "    <tr style=\"text-align: right;\">\n",
       "      <th></th>\n",
       "      <th>train.SRC</th>\n",
       "      <th>train.EXR</th>\n",
       "      <th>train.TOP</th>\n",
       "      <th>train.TOP-DECOUPLED</th>\n",
       "    </tr>\n",
       "  </thead>\n",
       "  <tbody>\n",
       "    <tr>\n",
       "      <th>0</th>\n",
       "      <td>can i have a large bbq pulled pork</td>\n",
       "      <td>(ORDER (PIZZAORDER (NUMBER 1 ) (SIZE LARGE ) (TOPPING BBQ_PULLED_PORK ) ) )</td>\n",
       "      <td>(ORDER can i have (PIZZAORDER (NUMBER a ) (SIZE large ) (TOPPING bbq pulled pork ) ) )</td>\n",
       "      <td>(ORDER (PIZZAORDER (NUMBER a ) (SIZE large ) (TOPPING bbq pulled pork ) ) )</td>\n",
       "    </tr>\n",
       "    <tr>\n",
       "      <th>1</th>\n",
       "      <td>large pie with green pepper and with extra peperonni</td>\n",
       "      <td>(ORDER (PIZZAORDER (NUMBER 1 ) (SIZE LARGE ) (TOPPING GREEN_PEPPERS ) (COMPLEX_TOPPING (QUANTITY EXTRA ) (TOPPING PEPPERONI ) ) ) )</td>\n",
       "      <td>(ORDER (PIZZAORDER (SIZE large ) pie with (TOPPING green pepper ) and with (COMPLEX_TOPPING (QUANTITY extra ) (TOPPING peperonni ) ) ) )</td>\n",
       "      <td>(ORDER (PIZZAORDER (SIZE large ) (TOPPING green pepper ) (COMPLEX_TOPPING (QUANTITY extra ) (TOPPING peperonni ) ) ) )</td>\n",
       "    </tr>\n",
       "    <tr>\n",
       "      <th>2</th>\n",
       "      <td>i'd like a large vegetarian pizza</td>\n",
       "      <td>(ORDER (PIZZAORDER (NUMBER 1 ) (SIZE LARGE ) (STYLE VEGETARIAN ) ) )</td>\n",
       "      <td>(ORDER i'd like (PIZZAORDER (NUMBER a ) (SIZE large ) (STYLE vegetarian ) pizza ) )</td>\n",
       "      <td>(ORDER (PIZZAORDER (NUMBER a ) (SIZE large ) (STYLE vegetarian ) ) )</td>\n",
       "    </tr>\n",
       "    <tr>\n",
       "      <th>3</th>\n",
       "      <td>party size stuffed crust pie with american cheese and with mushroom</td>\n",
       "      <td>(ORDER (PIZZAORDER (NUMBER 1 ) (SIZE PARTY_SIZE ) (STYLE STUFFED_CRUST ) (TOPPING AMERICAN_CHEESE ) (TOPPING MUSHROOMS ) ) )</td>\n",
       "      <td>(ORDER (PIZZAORDER (SIZE party size ) (STYLE stuffed crust ) pie with (TOPPING american cheese ) and with (TOPPING mushroom ) ) )</td>\n",
       "      <td>(ORDER (PIZZAORDER (SIZE party size ) (STYLE stuffed crust ) (TOPPING american cheese ) (TOPPING mushroom ) ) )</td>\n",
       "    </tr>\n",
       "    <tr>\n",
       "      <th>4</th>\n",
       "      <td>can i have one personal sized artichoke</td>\n",
       "      <td>(ORDER (PIZZAORDER (NUMBER 1 ) (SIZE PERSONAL_SIZE ) (TOPPING ARTICHOKES ) ) )</td>\n",
       "      <td>(ORDER can i have (PIZZAORDER (NUMBER one ) (SIZE personal sized ) (TOPPING artichoke ) ) )</td>\n",
       "      <td>(ORDER (PIZZAORDER (NUMBER one ) (SIZE personal sized ) (TOPPING artichoke ) ) )</td>\n",
       "    </tr>\n",
       "  </tbody>\n",
       "</table>\n",
       "</div>"
      ],
      "text/plain": [
       "                                                             train.SRC  \\\n",
       "0                                   can i have a large bbq pulled pork   \n",
       "1                 large pie with green pepper and with extra peperonni   \n",
       "2                                    i'd like a large vegetarian pizza   \n",
       "3  party size stuffed crust pie with american cheese and with mushroom   \n",
       "4                              can i have one personal sized artichoke   \n",
       "\n",
       "                                                                                                                             train.EXR  \\\n",
       "0                                                          (ORDER (PIZZAORDER (NUMBER 1 ) (SIZE LARGE ) (TOPPING BBQ_PULLED_PORK ) ) )   \n",
       "1  (ORDER (PIZZAORDER (NUMBER 1 ) (SIZE LARGE ) (TOPPING GREEN_PEPPERS ) (COMPLEX_TOPPING (QUANTITY EXTRA ) (TOPPING PEPPERONI ) ) ) )   \n",
       "2                                                                 (ORDER (PIZZAORDER (NUMBER 1 ) (SIZE LARGE ) (STYLE VEGETARIAN ) ) )   \n",
       "3         (ORDER (PIZZAORDER (NUMBER 1 ) (SIZE PARTY_SIZE ) (STYLE STUFFED_CRUST ) (TOPPING AMERICAN_CHEESE ) (TOPPING MUSHROOMS ) ) )   \n",
       "4                                                       (ORDER (PIZZAORDER (NUMBER 1 ) (SIZE PERSONAL_SIZE ) (TOPPING ARTICHOKES ) ) )   \n",
       "\n",
       "                                                                                                                                  train.TOP  \\\n",
       "0                                                    (ORDER can i have (PIZZAORDER (NUMBER a ) (SIZE large ) (TOPPING bbq pulled pork ) ) )   \n",
       "1  (ORDER (PIZZAORDER (SIZE large ) pie with (TOPPING green pepper ) and with (COMPLEX_TOPPING (QUANTITY extra ) (TOPPING peperonni ) ) ) )   \n",
       "2                                                       (ORDER i'd like (PIZZAORDER (NUMBER a ) (SIZE large ) (STYLE vegetarian ) pizza ) )   \n",
       "3         (ORDER (PIZZAORDER (SIZE party size ) (STYLE stuffed crust ) pie with (TOPPING american cheese ) and with (TOPPING mushroom ) ) )   \n",
       "4                                               (ORDER can i have (PIZZAORDER (NUMBER one ) (SIZE personal sized ) (TOPPING artichoke ) ) )   \n",
       "\n",
       "                                                                                                      train.TOP-DECOUPLED  \n",
       "0                                             (ORDER (PIZZAORDER (NUMBER a ) (SIZE large ) (TOPPING bbq pulled pork ) ) )  \n",
       "1  (ORDER (PIZZAORDER (SIZE large ) (TOPPING green pepper ) (COMPLEX_TOPPING (QUANTITY extra ) (TOPPING peperonni ) ) ) )  \n",
       "2                                                    (ORDER (PIZZAORDER (NUMBER a ) (SIZE large ) (STYLE vegetarian ) ) )  \n",
       "3         (ORDER (PIZZAORDER (SIZE party size ) (STYLE stuffed crust ) (TOPPING american cheese ) (TOPPING mushroom ) ) )  \n",
       "4                                        (ORDER (PIZZAORDER (NUMBER one ) (SIZE personal sized ) (TOPPING artichoke ) ) )  "
      ]
     },
     "execution_count": 4,
     "metadata": {},
     "output_type": "execute_result"
    }
   ],
   "source": [
    "train_filename = DATASET_PATH + '/PIZZA_train.json'\n",
    "df_train = load_json(train_filename)\n",
    "df_train.head()"
   ]
  },
  {
   "cell_type": "code",
   "execution_count": 5,
   "metadata": {
    "execution": {
     "iopub.execute_input": "2024-12-06T21:15:26.149347Z",
     "iopub.status.busy": "2024-12-06T21:15:26.148962Z",
     "iopub.status.idle": "2024-12-06T21:15:26.180314Z",
     "shell.execute_reply": "2024-12-06T21:15:26.179098Z",
     "shell.execute_reply.started": "2024-12-06T21:15:26.149312Z"
    },
    "trusted": true
   },
   "outputs": [
    {
     "data": {
      "text/html": [
       "<div>\n",
       "<style scoped>\n",
       "    .dataframe tbody tr th:only-of-type {\n",
       "        vertical-align: middle;\n",
       "    }\n",
       "\n",
       "    .dataframe tbody tr th {\n",
       "        vertical-align: top;\n",
       "    }\n",
       "\n",
       "    .dataframe thead th {\n",
       "        text-align: right;\n",
       "    }\n",
       "</style>\n",
       "<table border=\"1\" class=\"dataframe\">\n",
       "  <thead>\n",
       "    <tr style=\"text-align: right;\">\n",
       "      <th></th>\n",
       "      <th>dev.SRC</th>\n",
       "      <th>dev.EXR</th>\n",
       "      <th>dev.TOP</th>\n",
       "      <th>dev.PCFG_ERR</th>\n",
       "    </tr>\n",
       "  </thead>\n",
       "  <tbody>\n",
       "    <tr>\n",
       "      <th>0</th>\n",
       "      <td>i want to order two medium pizzas with sausage and black olives and two medium pizzas with pepperoni and extra cheese and three large pizzas with pepperoni and sausage</td>\n",
       "      <td>(ORDER (PIZZAORDER (NUMBER 2 ) (SIZE MEDIUM ) (COMPLEX_TOPPING (QUANTITY EXTRA ) (TOPPING CHEESE ) ) (TOPPING PEPPERONI ) ) (PIZZAORDER (NUMBER 2 ) (SIZE MEDIUM ) (TOPPING OLIVES ) (TOPPING SAUSAGE ) ) (PIZZAORDER (NUMBER 3 ) (SIZE LARGE ) (TOPPING PEPPERONI ) (TOPPING SAUSAGE ) ) )</td>\n",
       "      <td>(ORDER i want to order (PIZZAORDER (NUMBER two ) (SIZE medium ) pizzas with (TOPPING sausage ) and (TOPPING black olives ) ) and (PIZZAORDER (NUMBER two ) (SIZE medium ) pizzas with (TOPPING pepperoni ) and (COMPLEX_TOPPING (QUANTITY extra ) (TOPPING cheese ) ) ) and (PIZZAORDER (NUMBER three ) (SIZE large ) pizzas with (TOPPING pepperoni ) and (TOPPING sausage ) ) )</td>\n",
       "      <td>False</td>\n",
       "    </tr>\n",
       "    <tr>\n",
       "      <th>1</th>\n",
       "      <td>five medium pizzas with tomatoes and ham</td>\n",
       "      <td>(ORDER (PIZZAORDER (NUMBER 5 ) (SIZE MEDIUM ) (TOPPING HAM ) (TOPPING TOMATOES ) ) )</td>\n",
       "      <td>(ORDER (PIZZAORDER (NUMBER five ) (SIZE medium ) pizzas with (TOPPING tomatoes ) and (TOPPING ham ) ) )</td>\n",
       "      <td>False</td>\n",
       "    </tr>\n",
       "    <tr>\n",
       "      <th>2</th>\n",
       "      <td>i need to order one large vegetarian pizza with extra banana peppers</td>\n",
       "      <td>(ORDER (PIZZAORDER (NUMBER 1 ) (SIZE LARGE ) (STYLE VEGETARIAN ) (COMPLEX_TOPPING (QUANTITY EXTRA ) (TOPPING BANANA_PEPPERS ) ) ) )</td>\n",
       "      <td>(ORDER i need to order (PIZZAORDER (NUMBER one ) (SIZE large ) (STYLE vegetarian ) pizza with (COMPLEX_TOPPING (QUANTITY extra ) (TOPPING banana peppers ) ) ) )</td>\n",
       "      <td>False</td>\n",
       "    </tr>\n",
       "    <tr>\n",
       "      <th>3</th>\n",
       "      <td>i'd like to order a large onion and pepper pizza</td>\n",
       "      <td>(ORDER (PIZZAORDER (NUMBER 1 ) (SIZE LARGE ) (TOPPING ONIONS ) (TOPPING PEPPERS ) ) )</td>\n",
       "      <td>(ORDER i'd like to order (PIZZAORDER (NUMBER a ) (SIZE large ) (TOPPING onion ) and (TOPPING pepper ) pizza ) )</td>\n",
       "      <td>False</td>\n",
       "    </tr>\n",
       "    <tr>\n",
       "      <th>4</th>\n",
       "      <td>i'll have one pie along with pesto and ham but avoid olives</td>\n",
       "      <td>(ORDER (PIZZAORDER (NOT (TOPPING OLIVES ) ) (NUMBER 1 ) (TOPPING HAM ) (TOPPING PESTO ) ) )</td>\n",
       "      <td>(ORDER i'll have (PIZZAORDER (NUMBER one ) pie along with (TOPPING pesto ) and (TOPPING ham ) but avoid (NOT (TOPPING olives ) ) ) )</td>\n",
       "      <td>False</td>\n",
       "    </tr>\n",
       "  </tbody>\n",
       "</table>\n",
       "</div>"
      ],
      "text/plain": [
       "                                                                                                                                                                   dev.SRC  \\\n",
       "0  i want to order two medium pizzas with sausage and black olives and two medium pizzas with pepperoni and extra cheese and three large pizzas with pepperoni and sausage   \n",
       "1                                                                                                                                 five medium pizzas with tomatoes and ham   \n",
       "2                                                                                                     i need to order one large vegetarian pizza with extra banana peppers   \n",
       "3                                                                                                                         i'd like to order a large onion and pepper pizza   \n",
       "4                                                                                                              i'll have one pie along with pesto and ham but avoid olives   \n",
       "\n",
       "                                                                                                                                                                                                                                                                                       dev.EXR  \\\n",
       "0  (ORDER (PIZZAORDER (NUMBER 2 ) (SIZE MEDIUM ) (COMPLEX_TOPPING (QUANTITY EXTRA ) (TOPPING CHEESE ) ) (TOPPING PEPPERONI ) ) (PIZZAORDER (NUMBER 2 ) (SIZE MEDIUM ) (TOPPING OLIVES ) (TOPPING SAUSAGE ) ) (PIZZAORDER (NUMBER 3 ) (SIZE LARGE ) (TOPPING PEPPERONI ) (TOPPING SAUSAGE ) ) )   \n",
       "1                                                                                                                                                                                                         (ORDER (PIZZAORDER (NUMBER 5 ) (SIZE MEDIUM ) (TOPPING HAM ) (TOPPING TOMATOES ) ) )   \n",
       "2                                                                                                                                                          (ORDER (PIZZAORDER (NUMBER 1 ) (SIZE LARGE ) (STYLE VEGETARIAN ) (COMPLEX_TOPPING (QUANTITY EXTRA ) (TOPPING BANANA_PEPPERS ) ) ) )   \n",
       "3                                                                                                                                                                                                        (ORDER (PIZZAORDER (NUMBER 1 ) (SIZE LARGE ) (TOPPING ONIONS ) (TOPPING PEPPERS ) ) )   \n",
       "4                                                                                                                                                                                                  (ORDER (PIZZAORDER (NOT (TOPPING OLIVES ) ) (NUMBER 1 ) (TOPPING HAM ) (TOPPING PESTO ) ) )   \n",
       "\n",
       "                                                                                                                                                                                                                                                                                                                                                                             dev.TOP  \\\n",
       "0  (ORDER i want to order (PIZZAORDER (NUMBER two ) (SIZE medium ) pizzas with (TOPPING sausage ) and (TOPPING black olives ) ) and (PIZZAORDER (NUMBER two ) (SIZE medium ) pizzas with (TOPPING pepperoni ) and (COMPLEX_TOPPING (QUANTITY extra ) (TOPPING cheese ) ) ) and (PIZZAORDER (NUMBER three ) (SIZE large ) pizzas with (TOPPING pepperoni ) and (TOPPING sausage ) ) )   \n",
       "1                                                                                                                                                                                                                                                                            (ORDER (PIZZAORDER (NUMBER five ) (SIZE medium ) pizzas with (TOPPING tomatoes ) and (TOPPING ham ) ) )   \n",
       "2                                                                                                                                                                                                                   (ORDER i need to order (PIZZAORDER (NUMBER one ) (SIZE large ) (STYLE vegetarian ) pizza with (COMPLEX_TOPPING (QUANTITY extra ) (TOPPING banana peppers ) ) ) )   \n",
       "3                                                                                                                                                                                                                                                                    (ORDER i'd like to order (PIZZAORDER (NUMBER a ) (SIZE large ) (TOPPING onion ) and (TOPPING pepper ) pizza ) )   \n",
       "4                                                                                                                                                                                                                                               (ORDER i'll have (PIZZAORDER (NUMBER one ) pie along with (TOPPING pesto ) and (TOPPING ham ) but avoid (NOT (TOPPING olives ) ) ) )   \n",
       "\n",
       "  dev.PCFG_ERR  \n",
       "0        False  \n",
       "1        False  \n",
       "2        False  \n",
       "3        False  \n",
       "4        False  "
      ]
     },
     "execution_count": 5,
     "metadata": {},
     "output_type": "execute_result"
    }
   ],
   "source": [
    "df_dev = pd.read_json(DATASET_PATH + '/PIZZA_dev.json', lines=True)\n",
    "df_dev.head()"
   ]
  },
  {
   "cell_type": "code",
   "execution_count": 6,
   "metadata": {},
   "outputs": [
    {
     "data": {
      "text/plain": [
       "2149.19921875"
      ]
     },
     "execution_count": 6,
     "metadata": {},
     "output_type": "execute_result"
    }
   ],
   "source": [
    "memory_usage()"
   ]
  },
  {
   "cell_type": "markdown",
   "metadata": {},
   "source": [
    "# EDA - Exploratory Data Analysis"
   ]
  },
  {
   "cell_type": "markdown",
   "metadata": {},
   "source": [
    "## Column names"
   ]
  },
  {
   "cell_type": "markdown",
   "metadata": {},
   "source": [
    "- **SRC** \n",
    "    - The source text of the pizza order as given by the user.\n",
    "- **EXR** \n",
    "    - The expected representation of the pizza order in a structured format (likely a parse tree or similar structure).\n",
    "- **TOP** \n",
    "    - The top-level representation of the pizza order, possibly a normalized or tokenized version of the source text.\n",
    "- **PCFG_ERR** \n",
    "    - A boolean indicating whether there was an error in parsing the pizza order using a Probabilistic Context-Free Grammar (PCFG)."
   ]
  },
  {
   "cell_type": "code",
   "execution_count": 6,
   "metadata": {
    "execution": {
     "iopub.execute_input": "2024-12-06T21:15:47.598691Z",
     "iopub.status.busy": "2024-12-06T21:15:47.598305Z",
     "iopub.status.idle": "2024-12-06T21:15:47.606423Z",
     "shell.execute_reply": "2024-12-06T21:15:47.605167Z",
     "shell.execute_reply.started": "2024-12-06T21:15:47.598655Z"
    },
    "trusted": true
   },
   "outputs": [],
   "source": [
    "df_dev.rename(columns={\n",
    "    'dev.SRC': 'src', \n",
    "    'dev.EXR': 'exr',\n",
    "    'dev.TOP': 'top',\n",
    "    'dev.PCFG_ERR': 'pcfg_err',\n",
    "}, inplace=True)\n",
    "df_train.rename(columns={\n",
    "    'train.SRC': 'src', \n",
    "    'train.EXR': 'exr',\n",
    "    'train.TOP': 'top',\n",
    "    'train.TOP-DECOUPLED': 'decoupled',\n",
    "}, inplace=True)"
   ]
  },
  {
   "cell_type": "markdown",
   "metadata": {},
   "source": [
    "## Check Duplicates & Missing Data"
   ]
  },
  {
   "cell_type": "code",
   "execution_count": 8,
   "metadata": {
    "execution": {
     "iopub.execute_input": "2024-12-06T21:15:47.637294Z",
     "iopub.status.busy": "2024-12-06T21:15:47.636801Z",
     "iopub.status.idle": "2024-12-06T21:16:03.646647Z",
     "shell.execute_reply": "2024-12-06T21:16:03.645342Z",
     "shell.execute_reply.started": "2024-12-06T21:15:47.637243Z"
    },
    "trusted": true
   },
   "outputs": [
    {
     "data": {
      "text/html": [
       "<div>\n",
       "<style scoped>\n",
       "    .dataframe tbody tr th:only-of-type {\n",
       "        vertical-align: middle;\n",
       "    }\n",
       "\n",
       "    .dataframe tbody tr th {\n",
       "        vertical-align: top;\n",
       "    }\n",
       "\n",
       "    .dataframe thead th {\n",
       "        text-align: right;\n",
       "    }\n",
       "</style>\n",
       "<table border=\"1\" class=\"dataframe\">\n",
       "  <thead>\n",
       "    <tr style=\"text-align: right;\">\n",
       "      <th></th>\n",
       "      <th>src</th>\n",
       "      <th>exr</th>\n",
       "      <th>top</th>\n",
       "      <th>decoupled</th>\n",
       "    </tr>\n",
       "  </thead>\n",
       "  <tbody>\n",
       "    <tr>\n",
       "      <th>count</th>\n",
       "      <td>2456446</td>\n",
       "      <td>2456446</td>\n",
       "      <td>2456446</td>\n",
       "      <td>2456446</td>\n",
       "    </tr>\n",
       "    <tr>\n",
       "      <th>unique</th>\n",
       "      <td>2456446</td>\n",
       "      <td>694346</td>\n",
       "      <td>2456446</td>\n",
       "      <td>1425035</td>\n",
       "    </tr>\n",
       "    <tr>\n",
       "      <th>top</th>\n",
       "      <td>can i have a large bbq pulled pork</td>\n",
       "      <td>(ORDER (PIZZAORDER (NUMBER 1 ) (SIZE PARTY_SIZE ) (TOPPING BANANA_PEPPERS ) (TOPPING PEPPERONI ) (TOPPING YELLOW_PEPPERS ) ) )</td>\n",
       "      <td>(ORDER can i have (PIZZAORDER (NUMBER a ) (SIZE large ) (TOPPING bbq pulled pork ) ) )</td>\n",
       "      <td>(ORDER (PIZZAORDER (NUMBER three ) (NOT (TOPPING american cheese ) ) ) (PIZZAORDER (NUMBER three ) (NOT (TOPPING american cheese ) ) ) )</td>\n",
       "    </tr>\n",
       "    <tr>\n",
       "      <th>freq</th>\n",
       "      <td>1</td>\n",
       "      <td>1999</td>\n",
       "      <td>1</td>\n",
       "      <td>167</td>\n",
       "    </tr>\n",
       "  </tbody>\n",
       "</table>\n",
       "</div>"
      ],
      "text/plain": [
       "                                       src  \\\n",
       "count                              2456446   \n",
       "unique                             2456446   \n",
       "top     can i have a large bbq pulled pork   \n",
       "freq                                     1   \n",
       "\n",
       "                                                                                                                                   exr  \\\n",
       "count                                                                                                                          2456446   \n",
       "unique                                                                                                                          694346   \n",
       "top     (ORDER (PIZZAORDER (NUMBER 1 ) (SIZE PARTY_SIZE ) (TOPPING BANANA_PEPPERS ) (TOPPING PEPPERONI ) (TOPPING YELLOW_PEPPERS ) ) )   \n",
       "freq                                                                                                                              1999   \n",
       "\n",
       "                                                                                           top  \\\n",
       "count                                                                                  2456446   \n",
       "unique                                                                                 2456446   \n",
       "top     (ORDER can i have (PIZZAORDER (NUMBER a ) (SIZE large ) (TOPPING bbq pulled pork ) ) )   \n",
       "freq                                                                                         1   \n",
       "\n",
       "                                                                                                                                       decoupled  \n",
       "count                                                                                                                                    2456446  \n",
       "unique                                                                                                                                   1425035  \n",
       "top     (ORDER (PIZZAORDER (NUMBER three ) (NOT (TOPPING american cheese ) ) ) (PIZZAORDER (NUMBER three ) (NOT (TOPPING american cheese ) ) ) )  \n",
       "freq                                                                                                                                         167  "
      ]
     },
     "execution_count": 8,
     "metadata": {},
     "output_type": "execute_result"
    }
   ],
   "source": [
    "df_train.describe()"
   ]
  },
  {
   "cell_type": "code",
   "execution_count": 9,
   "metadata": {
    "execution": {
     "iopub.execute_input": "2024-12-06T21:15:47.608234Z",
     "iopub.status.busy": "2024-12-06T21:15:47.607885Z",
     "iopub.status.idle": "2024-12-06T21:15:47.634416Z",
     "shell.execute_reply": "2024-12-06T21:15:47.633246Z",
     "shell.execute_reply.started": "2024-12-06T21:15:47.608173Z"
    },
    "trusted": true
   },
   "outputs": [
    {
     "data": {
      "text/html": [
       "<div>\n",
       "<style scoped>\n",
       "    .dataframe tbody tr th:only-of-type {\n",
       "        vertical-align: middle;\n",
       "    }\n",
       "\n",
       "    .dataframe tbody tr th {\n",
       "        vertical-align: top;\n",
       "    }\n",
       "\n",
       "    .dataframe thead th {\n",
       "        text-align: right;\n",
       "    }\n",
       "</style>\n",
       "<table border=\"1\" class=\"dataframe\">\n",
       "  <thead>\n",
       "    <tr style=\"text-align: right;\">\n",
       "      <th></th>\n",
       "      <th>src</th>\n",
       "      <th>exr</th>\n",
       "      <th>top</th>\n",
       "      <th>pcfg_err</th>\n",
       "    </tr>\n",
       "  </thead>\n",
       "  <tbody>\n",
       "    <tr>\n",
       "      <th>count</th>\n",
       "      <td>348</td>\n",
       "      <td>348</td>\n",
       "      <td>348</td>\n",
       "      <td>348</td>\n",
       "    </tr>\n",
       "    <tr>\n",
       "      <th>unique</th>\n",
       "      <td>348</td>\n",
       "      <td>270</td>\n",
       "      <td>348</td>\n",
       "      <td>2</td>\n",
       "    </tr>\n",
       "    <tr>\n",
       "      <th>top</th>\n",
       "      <td>i want to order two medium pizzas with sausage and black olives and two medium pizzas with pepperoni and extra cheese and three large pizzas with pepperoni and sausage</td>\n",
       "      <td>(ORDER (PIZZAORDER (NOT (TOPPING PEPPERS ) ) (NUMBER 1 ) (SIZE SMALL ) (STYLE THIN_CRUST ) (TOPPING HAM ) ) )</td>\n",
       "      <td>(ORDER i want to order (PIZZAORDER (NUMBER two ) (SIZE medium ) pizzas with (TOPPING sausage ) and (TOPPING black olives ) ) and (PIZZAORDER (NUMBER two ) (SIZE medium ) pizzas with (TOPPING pepperoni ) and (COMPLEX_TOPPING (QUANTITY extra ) (TOPPING cheese ) ) ) and (PIZZAORDER (NUMBER three ) (SIZE large ) pizzas with (TOPPING pepperoni ) and (TOPPING sausage ) ) )</td>\n",
       "      <td>False</td>\n",
       "    </tr>\n",
       "    <tr>\n",
       "      <th>freq</th>\n",
       "      <td>1</td>\n",
       "      <td>5</td>\n",
       "      <td>1</td>\n",
       "      <td>242</td>\n",
       "    </tr>\n",
       "  </tbody>\n",
       "</table>\n",
       "</div>"
      ],
      "text/plain": [
       "                                                                                                                                                                            src  \\\n",
       "count                                                                                                                                                                       348   \n",
       "unique                                                                                                                                                                      348   \n",
       "top     i want to order two medium pizzas with sausage and black olives and two medium pizzas with pepperoni and extra cheese and three large pizzas with pepperoni and sausage   \n",
       "freq                                                                                                                                                                          1   \n",
       "\n",
       "                                                                                                                  exr  \\\n",
       "count                                                                                                             348   \n",
       "unique                                                                                                            270   \n",
       "top     (ORDER (PIZZAORDER (NOT (TOPPING PEPPERS ) ) (NUMBER 1 ) (SIZE SMALL ) (STYLE THIN_CRUST ) (TOPPING HAM ) ) )   \n",
       "freq                                                                                                                5   \n",
       "\n",
       "                                                                                                                                                                                                                                                                                                                                                                                      top  \\\n",
       "count                                                                                                                                                                                                                                                                                                                                                                                 348   \n",
       "unique                                                                                                                                                                                                                                                                                                                                                                                348   \n",
       "top     (ORDER i want to order (PIZZAORDER (NUMBER two ) (SIZE medium ) pizzas with (TOPPING sausage ) and (TOPPING black olives ) ) and (PIZZAORDER (NUMBER two ) (SIZE medium ) pizzas with (TOPPING pepperoni ) and (COMPLEX_TOPPING (QUANTITY extra ) (TOPPING cheese ) ) ) and (PIZZAORDER (NUMBER three ) (SIZE large ) pizzas with (TOPPING pepperoni ) and (TOPPING sausage ) ) )   \n",
       "freq                                                                                                                                                                                                                                                                                                                                                                                    1   \n",
       "\n",
       "       pcfg_err  \n",
       "count       348  \n",
       "unique        2  \n",
       "top       False  \n",
       "freq        242  "
      ]
     },
     "execution_count": 9,
     "metadata": {},
     "output_type": "execute_result"
    }
   ],
   "source": [
    "df_dev.describe()"
   ]
  },
  {
   "cell_type": "code",
   "execution_count": 10,
   "metadata": {
    "execution": {
     "iopub.execute_input": "2024-12-06T21:16:03.664054Z",
     "iopub.status.busy": "2024-12-06T21:16:03.663621Z",
     "iopub.status.idle": "2024-12-06T21:16:03.678697Z",
     "shell.execute_reply": "2024-12-06T21:16:03.677309Z",
     "shell.execute_reply.started": "2024-12-06T21:16:03.664003Z"
    },
    "trusted": true
   },
   "outputs": [
    {
     "name": "stdout",
     "output_type": "stream",
     "text": [
      "<class 'pandas.core.frame.DataFrame'>\n",
      "RangeIndex: 2456446 entries, 0 to 2456445\n",
      "Data columns (total 4 columns):\n",
      " #   Column     Dtype \n",
      "---  ------     ----- \n",
      " 0   src        object\n",
      " 1   exr        object\n",
      " 2   top        object\n",
      " 3   decoupled  object\n",
      "dtypes: object(4)\n",
      "memory usage: 75.0+ MB\n"
     ]
    }
   ],
   "source": [
    "df_train.info()"
   ]
  },
  {
   "cell_type": "code",
   "execution_count": 11,
   "metadata": {
    "execution": {
     "iopub.execute_input": "2024-12-06T21:16:03.648692Z",
     "iopub.status.busy": "2024-12-06T21:16:03.648238Z",
     "iopub.status.idle": "2024-12-06T21:16:03.661804Z",
     "shell.execute_reply": "2024-12-06T21:16:03.660177Z",
     "shell.execute_reply.started": "2024-12-06T21:16:03.648644Z"
    },
    "trusted": true
   },
   "outputs": [
    {
     "name": "stdout",
     "output_type": "stream",
     "text": [
      "<class 'pandas.core.frame.DataFrame'>\n",
      "RangeIndex: 348 entries, 0 to 347\n",
      "Data columns (total 4 columns):\n",
      " #   Column    Non-Null Count  Dtype \n",
      "---  ------    --------------  ----- \n",
      " 0   src       348 non-null    object\n",
      " 1   exr       348 non-null    object\n",
      " 2   top       348 non-null    object\n",
      " 3   pcfg_err  348 non-null    object\n",
      "dtypes: object(4)\n",
      "memory usage: 11.0+ KB\n"
     ]
    }
   ],
   "source": [
    "df_dev.info()"
   ]
  },
  {
   "cell_type": "code",
   "execution_count": 12,
   "metadata": {
    "execution": {
     "iopub.execute_input": "2024-12-06T21:16:03.699284Z",
     "iopub.status.busy": "2024-12-06T21:16:03.698921Z",
     "iopub.status.idle": "2024-12-06T21:16:12.232248Z",
     "shell.execute_reply": "2024-12-06T21:16:12.230975Z",
     "shell.execute_reply.started": "2024-12-06T21:16:03.699249Z"
    },
    "trusted": true
   },
   "outputs": [
    {
     "data": {
      "text/plain": [
       "0"
      ]
     },
     "execution_count": 12,
     "metadata": {},
     "output_type": "execute_result"
    }
   ],
   "source": [
    "df_train.duplicated().sum()"
   ]
  },
  {
   "cell_type": "code",
   "execution_count": 13,
   "metadata": {
    "execution": {
     "iopub.execute_input": "2024-12-06T21:16:03.680781Z",
     "iopub.status.busy": "2024-12-06T21:16:03.680350Z",
     "iopub.status.idle": "2024-12-06T21:16:03.697356Z",
     "shell.execute_reply": "2024-12-06T21:16:03.695715Z",
     "shell.execute_reply.started": "2024-12-06T21:16:03.680715Z"
    },
    "trusted": true
   },
   "outputs": [
    {
     "data": {
      "text/plain": [
       "0"
      ]
     },
     "execution_count": 13,
     "metadata": {},
     "output_type": "execute_result"
    }
   ],
   "source": [
    "df_dev.duplicated().sum()"
   ]
  },
  {
   "cell_type": "code",
   "execution_count": 14,
   "metadata": {
    "execution": {
     "iopub.execute_input": "2024-12-06T21:16:12.245994Z",
     "iopub.status.busy": "2024-12-06T21:16:12.245550Z",
     "iopub.status.idle": "2024-12-06T21:16:13.339255Z",
     "shell.execute_reply": "2024-12-06T21:16:13.337712Z",
     "shell.execute_reply.started": "2024-12-06T21:16:12.245932Z"
    },
    "trusted": true
   },
   "outputs": [
    {
     "data": {
      "text/plain": [
       "src          0\n",
       "exr          0\n",
       "top          0\n",
       "decoupled    0\n",
       "dtype: int64"
      ]
     },
     "execution_count": 14,
     "metadata": {},
     "output_type": "execute_result"
    }
   ],
   "source": [
    "df_train.isna().sum()"
   ]
  },
  {
   "cell_type": "code",
   "execution_count": 15,
   "metadata": {
    "execution": {
     "iopub.execute_input": "2024-12-06T21:16:12.233952Z",
     "iopub.status.busy": "2024-12-06T21:16:12.233515Z",
     "iopub.status.idle": "2024-12-06T21:16:12.244041Z",
     "shell.execute_reply": "2024-12-06T21:16:12.242713Z",
     "shell.execute_reply.started": "2024-12-06T21:16:12.233916Z"
    },
    "trusted": true
   },
   "outputs": [
    {
     "data": {
      "text/plain": [
       "src         0\n",
       "exr         0\n",
       "top         0\n",
       "pcfg_err    0\n",
       "dtype: int64"
      ]
     },
     "execution_count": 15,
     "metadata": {},
     "output_type": "execute_result"
    }
   ],
   "source": [
    "df_dev.isna().sum()"
   ]
  },
  {
   "cell_type": "markdown",
   "metadata": {},
   "source": [
    "## Data Cleaning"
   ]
  },
  {
   "cell_type": "markdown",
   "metadata": {},
   "source": [
    "Masha2 allah: Data is clean (no punctuation | whitespace)"
   ]
  },
  {
   "cell_type": "code",
   "execution_count": 16,
   "metadata": {
    "execution": {
     "iopub.execute_input": "2024-12-06T21:16:13.340723Z",
     "iopub.status.busy": "2024-12-06T21:16:13.340385Z",
     "iopub.status.idle": "2024-12-06T21:16:13.348365Z",
     "shell.execute_reply": "2024-12-06T21:16:13.347190Z",
     "shell.execute_reply.started": "2024-12-06T21:16:13.340690Z"
    },
    "trusted": true
   },
   "outputs": [
    {
     "data": {
      "text/plain": [
       "'!\"#$%&\\'()*+,-./:;<=>?@[\\\\]^_`{|}~'"
      ]
     },
     "execution_count": 16,
     "metadata": {},
     "output_type": "execute_result"
    }
   ],
   "source": [
    "string.punctuation"
   ]
  },
  {
   "cell_type": "code",
   "execution_count": 17,
   "metadata": {},
   "outputs": [],
   "source": [
    "# Escape all punctuation(special) characters\n",
    "# Grouped for the pd.str.extract() function\n",
    "punctuation_regex = \"(\\\\\" + \"|\\\\\".join(string.punctuation) + \")\" "
   ]
  },
  {
   "cell_type": "code",
   "execution_count": 18,
   "metadata": {},
   "outputs": [
    {
     "data": {
      "text/plain": [
       "0\n",
       "'    737203\n",
       "-    310742\n",
       "Name: count, dtype: int64"
      ]
     },
     "execution_count": 18,
     "metadata": {},
     "output_type": "execute_result"
    }
   ],
   "source": [
    "puncs = df_train['src'].str.extract(punctuation_regex).dropna()\n",
    "puncs.value_counts()"
   ]
  },
  {
   "cell_type": "code",
   "execution_count": 19,
   "metadata": {
    "execution": {
     "iopub.execute_input": "2024-12-06T21:16:13.350403Z",
     "iopub.status.busy": "2024-12-06T21:16:13.349961Z",
     "iopub.status.idle": "2024-12-06T21:16:13.369039Z",
     "shell.execute_reply": "2024-12-06T21:16:13.367773Z",
     "shell.execute_reply.started": "2024-12-06T21:16:13.350355Z"
    },
    "trusted": true
   },
   "outputs": [
    {
     "data": {
      "text/plain": [
       "0\n",
       "'    69\n",
       "-     3\n",
       "Name: count, dtype: int64"
      ]
     },
     "execution_count": 19,
     "metadata": {},
     "output_type": "execute_result"
    }
   ],
   "source": [
    "puncs = df_dev['src'].str.extract(punctuation_regex).dropna()\n",
    "puncs.value_counts()"
   ]
  },
  {
   "cell_type": "code",
   "execution_count": 20,
   "metadata": {
    "execution": {
     "iopub.execute_input": "2024-12-06T21:16:13.395586Z",
     "iopub.status.busy": "2024-12-06T21:16:13.395119Z",
     "iopub.status.idle": "2024-12-06T21:16:22.195780Z",
     "shell.execute_reply": "2024-12-06T21:16:22.194466Z",
     "shell.execute_reply.started": "2024-12-06T21:16:13.395526Z"
    },
    "trusted": true
   },
   "outputs": [
    {
     "data": {
      "text/plain": [
       "Series([], Name: count, dtype: int64)"
      ]
     },
     "execution_count": 20,
     "metadata": {},
     "output_type": "execute_result"
    }
   ],
   "source": [
    "df_train['src'].str.extract(\"([A-Z]\\.)+\").dropna().value_counts() # No Abbreviations!"
   ]
  },
  {
   "cell_type": "code",
   "execution_count": 21,
   "metadata": {
    "execution": {
     "iopub.execute_input": "2024-12-06T21:16:13.370842Z",
     "iopub.status.busy": "2024-12-06T21:16:13.370396Z",
     "iopub.status.idle": "2024-12-06T21:16:13.393729Z",
     "shell.execute_reply": "2024-12-06T21:16:13.392234Z",
     "shell.execute_reply.started": "2024-12-06T21:16:13.370801Z"
    },
    "trusted": true
   },
   "outputs": [
    {
     "data": {
      "text/plain": [
       "Series([], Name: count, dtype: int64)"
      ]
     },
     "execution_count": 21,
     "metadata": {},
     "output_type": "execute_result"
    }
   ],
   "source": [
    "df_dev['src'].str.extract(\"([A-Z]\\.)+\").dropna().value_counts() # No Abbreviations!"
   ]
  },
  {
   "cell_type": "code",
   "execution_count": 22,
   "metadata": {
    "execution": {
     "iopub.execute_input": "2024-12-06T21:16:22.213969Z",
     "iopub.status.busy": "2024-12-06T21:16:22.213455Z",
     "iopub.status.idle": "2024-12-06T21:16:22.232136Z",
     "shell.execute_reply": "2024-12-06T21:16:22.230941Z",
     "shell.execute_reply.started": "2024-12-06T21:16:22.213931Z"
    },
    "trusted": true
   },
   "outputs": [
    {
     "data": {
      "text/plain": [
       "count                                                                                                                                              6\n",
       "unique                                                                                                                                             6\n",
       "top       how are you tonight my order is for a medium pizza and i'd like chicken on it as well as extra cheese but please no onions i appreciate it\n",
       "freq                                                                                                                                               1\n",
       "Name: src, dtype: object"
      ]
     },
     "execution_count": 22,
     "metadata": {},
     "output_type": "execute_result"
    }
   ],
   "source": [
    "df_dev['src'][df_dev['src'].str.find(\"i'd\") > 0].describe()"
   ]
  },
  {
   "cell_type": "code",
   "execution_count": 23,
   "metadata": {
    "execution": {
     "iopub.execute_input": "2024-12-06T21:16:22.234223Z",
     "iopub.status.busy": "2024-12-06T21:16:22.233684Z",
     "iopub.status.idle": "2024-12-06T21:16:24.539438Z",
     "shell.execute_reply": "2024-12-06T21:16:24.538171Z",
     "shell.execute_reply.started": "2024-12-06T21:16:22.234173Z"
    },
    "trusted": true
   },
   "outputs": [
    {
     "data": {
      "text/html": [
       "<div>\n",
       "<style scoped>\n",
       "    .dataframe tbody tr th:only-of-type {\n",
       "        vertical-align: middle;\n",
       "    }\n",
       "\n",
       "    .dataframe tbody tr th {\n",
       "        vertical-align: top;\n",
       "    }\n",
       "\n",
       "    .dataframe thead th {\n",
       "        text-align: right;\n",
       "    }\n",
       "</style>\n",
       "<table border=\"1\" class=\"dataframe\">\n",
       "  <thead>\n",
       "    <tr style=\"text-align: right;\">\n",
       "      <th></th>\n",
       "      <th>0</th>\n",
       "      <th>1</th>\n",
       "    </tr>\n",
       "  </thead>\n",
       "  <tbody>\n",
       "    <tr>\n",
       "      <th>2268941</th>\n",
       "      <td>PIZZAORDER</td>\n",
       "      <td>DRINKORDER</td>\n",
       "    </tr>\n",
       "    <tr>\n",
       "      <th>2268942</th>\n",
       "      <td>PIZZAORDER</td>\n",
       "      <td>DRINKORDER</td>\n",
       "    </tr>\n",
       "    <tr>\n",
       "      <th>2268943</th>\n",
       "      <td>PIZZAORDER</td>\n",
       "      <td>DRINKORDER</td>\n",
       "    </tr>\n",
       "    <tr>\n",
       "      <th>2268944</th>\n",
       "      <td>PIZZAORDER</td>\n",
       "      <td>DRINKORDER</td>\n",
       "    </tr>\n",
       "    <tr>\n",
       "      <th>2268945</th>\n",
       "      <td>PIZZAORDER</td>\n",
       "      <td>DRINKORDER</td>\n",
       "    </tr>\n",
       "  </tbody>\n",
       "</table>\n",
       "</div>"
      ],
      "text/plain": [
       "                  0           1\n",
       "2268941  PIZZAORDER  DRINKORDER\n",
       "2268942  PIZZAORDER  DRINKORDER\n",
       "2268943  PIZZAORDER  DRINKORDER\n",
       "2268944  PIZZAORDER  DRINKORDER\n",
       "2268945  PIZZAORDER  DRINKORDER"
      ]
     },
     "execution_count": 23,
     "metadata": {},
     "output_type": "execute_result"
    }
   ],
   "source": [
    "# Are there any orders containing both DRINKORDER and PIZZAORDER?\n",
    "df_train['top'].str.extract(rf\"(PIZZAORDER).*(DRINKORDER)\").dropna().tail()"
   ]
  },
  {
   "cell_type": "code",
   "execution_count": 24,
   "metadata": {
    "execution": {
     "iopub.execute_input": "2024-12-06T21:16:24.542165Z",
     "iopub.status.busy": "2024-12-06T21:16:24.541687Z",
     "iopub.status.idle": "2024-12-06T21:16:24.549957Z",
     "shell.execute_reply": "2024-12-06T21:16:24.548628Z",
     "shell.execute_reply.started": "2024-12-06T21:16:24.542117Z"
    },
    "trusted": true
   },
   "outputs": [
    {
     "data": {
      "text/plain": [
       "\"(ORDER i'd like (PIZZAORDER (NUMBER a ) pizza with (TOPPING roasted peppers ) ) and (DRINKORDER (NUMBER nine ) (DRINKTYPE seven up ) ) )\""
      ]
     },
     "execution_count": 24,
     "metadata": {},
     "output_type": "execute_result"
    }
   ],
   "source": [
    "df_train.iloc[2268941]['top']"
   ]
  },
  {
   "cell_type": "code",
   "execution_count": 25,
   "metadata": {},
   "outputs": [
    {
     "data": {
      "text/plain": [
       "pcfg_err\n",
       "False    242\n",
       "True     106\n",
       "Name: count, dtype: int64"
      ]
     },
     "execution_count": 25,
     "metadata": {},
     "output_type": "execute_result"
    }
   ],
   "source": [
    "df_dev['pcfg_err'].value_counts()"
   ]
  },
  {
   "cell_type": "markdown",
   "metadata": {},
   "source": [
    "#### Negation"
   ]
  },
  {
   "cell_type": "code",
   "execution_count": 26,
   "metadata": {},
   "outputs": [],
   "source": [
    "negations = df_train[df_train['top'].str.find(\"NOT\") > 0]"
   ]
  },
  {
   "cell_type": "code",
   "execution_count": 27,
   "metadata": {},
   "outputs": [
    {
     "data": {
      "text/html": [
       "<div>\n",
       "<style scoped>\n",
       "    .dataframe tbody tr th:only-of-type {\n",
       "        vertical-align: middle;\n",
       "    }\n",
       "\n",
       "    .dataframe tbody tr th {\n",
       "        vertical-align: top;\n",
       "    }\n",
       "\n",
       "    .dataframe thead th {\n",
       "        text-align: right;\n",
       "    }\n",
       "</style>\n",
       "<table border=\"1\" class=\"dataframe\">\n",
       "  <thead>\n",
       "    <tr style=\"text-align: right;\">\n",
       "      <th></th>\n",
       "      <th>src</th>\n",
       "      <th>exr</th>\n",
       "      <th>top</th>\n",
       "      <th>decoupled</th>\n",
       "    </tr>\n",
       "  </thead>\n",
       "  <tbody>\n",
       "    <tr>\n",
       "      <th>2456439</th>\n",
       "      <td>i'd like a pizza with buffalo mozarella dried pepper and brocoli without thin crust</td>\n",
       "      <td>(ORDER (PIZZAORDER (NUMBER 1 ) (TOPPING BUFFALO_MOZZARELLA ) (TOPPING DRIED_PEPPERS ) (TOPPING BROCCOLI ) (NOT (STYLE THIN_CRUST ) ) ) )</td>\n",
       "      <td>(ORDER i'd like (PIZZAORDER (NUMBER a ) pizza with (TOPPING buffalo mozarella ) (TOPPING dried pepper ) and (TOPPING brocoli ) without (NOT (STYLE thin crust ) ) ) )</td>\n",
       "      <td>(ORDER (PIZZAORDER (NUMBER a ) (TOPPING buffalo mozarella ) (TOPPING dried pepper ) (TOPPING brocoli ) (NOT (STYLE thin crust ) ) ) )</td>\n",
       "    </tr>\n",
       "    <tr>\n",
       "      <th>2456440</th>\n",
       "      <td>i'd like a pizza with pesto mushrooms and green olives without thin crust</td>\n",
       "      <td>(ORDER (PIZZAORDER (NUMBER 1 ) (TOPPING PESTO ) (TOPPING MUSHROOMS ) (TOPPING GREEN_OLIVES ) (NOT (STYLE THIN_CRUST ) ) ) )</td>\n",
       "      <td>(ORDER i'd like (PIZZAORDER (NUMBER a ) pizza with (TOPPING pesto ) (TOPPING mushrooms ) and (TOPPING green olives ) without (NOT (STYLE thin crust ) ) ) )</td>\n",
       "      <td>(ORDER (PIZZAORDER (NUMBER a ) (TOPPING pesto ) (TOPPING mushrooms ) (TOPPING green olives ) (NOT (STYLE thin crust ) ) ) )</td>\n",
       "    </tr>\n",
       "    <tr>\n",
       "      <th>2456441</th>\n",
       "      <td>i'd like a pizza with arugula ricotta cheese and sauce without thin crust</td>\n",
       "      <td>(ORDER (PIZZAORDER (NUMBER 1 ) (TOPPING ARUGULA ) (TOPPING RICOTTA_CHEESE ) (TOPPING SAUCE ) (NOT (STYLE THIN_CRUST ) ) ) )</td>\n",
       "      <td>(ORDER i'd like (PIZZAORDER (NUMBER a ) pizza with (TOPPING arugula ) (TOPPING ricotta cheese ) and (TOPPING sauce ) without (NOT (STYLE thin crust ) ) ) )</td>\n",
       "      <td>(ORDER (PIZZAORDER (NUMBER a ) (TOPPING arugula ) (TOPPING ricotta cheese ) (TOPPING sauce ) (NOT (STYLE thin crust ) ) ) )</td>\n",
       "    </tr>\n",
       "    <tr>\n",
       "      <th>2456442</th>\n",
       "      <td>i'd like a pizza with yellow peppers fried onions and dried pepper without thin crust</td>\n",
       "      <td>(ORDER (PIZZAORDER (NUMBER 1 ) (TOPPING YELLOW_PEPPERS ) (TOPPING FRIED_ONIONS ) (TOPPING DRIED_PEPPERS ) (NOT (STYLE THIN_CRUST ) ) ) )</td>\n",
       "      <td>(ORDER i'd like (PIZZAORDER (NUMBER a ) pizza with (TOPPING yellow peppers ) (TOPPING fried onions ) and (TOPPING dried pepper ) without (NOT (STYLE thin crust ) ) ) )</td>\n",
       "      <td>(ORDER (PIZZAORDER (NUMBER a ) (TOPPING yellow peppers ) (TOPPING fried onions ) (TOPPING dried pepper ) (NOT (STYLE thin crust ) ) ) )</td>\n",
       "    </tr>\n",
       "    <tr>\n",
       "      <th>2456443</th>\n",
       "      <td>i'd like a pizza with olives roasted tomatoes and broccoli without thin crust</td>\n",
       "      <td>(ORDER (PIZZAORDER (NUMBER 1 ) (TOPPING OLIVES ) (TOPPING ROASTED_TOMATOES ) (TOPPING BROCCOLI ) (NOT (STYLE THIN_CRUST ) ) ) )</td>\n",
       "      <td>(ORDER i'd like (PIZZAORDER (NUMBER a ) pizza with (TOPPING olives ) (TOPPING roasted tomatoes ) and (TOPPING broccoli ) without (NOT (STYLE thin crust ) ) ) )</td>\n",
       "      <td>(ORDER (PIZZAORDER (NUMBER a ) (TOPPING olives ) (TOPPING roasted tomatoes ) (TOPPING broccoli ) (NOT (STYLE thin crust ) ) ) )</td>\n",
       "    </tr>\n",
       "  </tbody>\n",
       "</table>\n",
       "</div>"
      ],
      "text/plain": [
       "                                                                                           src  \\\n",
       "2456439    i'd like a pizza with buffalo mozarella dried pepper and brocoli without thin crust   \n",
       "2456440              i'd like a pizza with pesto mushrooms and green olives without thin crust   \n",
       "2456441              i'd like a pizza with arugula ricotta cheese and sauce without thin crust   \n",
       "2456442  i'd like a pizza with yellow peppers fried onions and dried pepper without thin crust   \n",
       "2456443          i'd like a pizza with olives roasted tomatoes and broccoli without thin crust   \n",
       "\n",
       "                                                                                                                                              exr  \\\n",
       "2456439  (ORDER (PIZZAORDER (NUMBER 1 ) (TOPPING BUFFALO_MOZZARELLA ) (TOPPING DRIED_PEPPERS ) (TOPPING BROCCOLI ) (NOT (STYLE THIN_CRUST ) ) ) )   \n",
       "2456440               (ORDER (PIZZAORDER (NUMBER 1 ) (TOPPING PESTO ) (TOPPING MUSHROOMS ) (TOPPING GREEN_OLIVES ) (NOT (STYLE THIN_CRUST ) ) ) )   \n",
       "2456441               (ORDER (PIZZAORDER (NUMBER 1 ) (TOPPING ARUGULA ) (TOPPING RICOTTA_CHEESE ) (TOPPING SAUCE ) (NOT (STYLE THIN_CRUST ) ) ) )   \n",
       "2456442  (ORDER (PIZZAORDER (NUMBER 1 ) (TOPPING YELLOW_PEPPERS ) (TOPPING FRIED_ONIONS ) (TOPPING DRIED_PEPPERS ) (NOT (STYLE THIN_CRUST ) ) ) )   \n",
       "2456443           (ORDER (PIZZAORDER (NUMBER 1 ) (TOPPING OLIVES ) (TOPPING ROASTED_TOMATOES ) (TOPPING BROCCOLI ) (NOT (STYLE THIN_CRUST ) ) ) )   \n",
       "\n",
       "                                                                                                                                                                             top  \\\n",
       "2456439    (ORDER i'd like (PIZZAORDER (NUMBER a ) pizza with (TOPPING buffalo mozarella ) (TOPPING dried pepper ) and (TOPPING brocoli ) without (NOT (STYLE thin crust ) ) ) )   \n",
       "2456440              (ORDER i'd like (PIZZAORDER (NUMBER a ) pizza with (TOPPING pesto ) (TOPPING mushrooms ) and (TOPPING green olives ) without (NOT (STYLE thin crust ) ) ) )   \n",
       "2456441              (ORDER i'd like (PIZZAORDER (NUMBER a ) pizza with (TOPPING arugula ) (TOPPING ricotta cheese ) and (TOPPING sauce ) without (NOT (STYLE thin crust ) ) ) )   \n",
       "2456442  (ORDER i'd like (PIZZAORDER (NUMBER a ) pizza with (TOPPING yellow peppers ) (TOPPING fried onions ) and (TOPPING dried pepper ) without (NOT (STYLE thin crust ) ) ) )   \n",
       "2456443          (ORDER i'd like (PIZZAORDER (NUMBER a ) pizza with (TOPPING olives ) (TOPPING roasted tomatoes ) and (TOPPING broccoli ) without (NOT (STYLE thin crust ) ) ) )   \n",
       "\n",
       "                                                                                                                                       decoupled  \n",
       "2456439    (ORDER (PIZZAORDER (NUMBER a ) (TOPPING buffalo mozarella ) (TOPPING dried pepper ) (TOPPING brocoli ) (NOT (STYLE thin crust ) ) ) )  \n",
       "2456440              (ORDER (PIZZAORDER (NUMBER a ) (TOPPING pesto ) (TOPPING mushrooms ) (TOPPING green olives ) (NOT (STYLE thin crust ) ) ) )  \n",
       "2456441              (ORDER (PIZZAORDER (NUMBER a ) (TOPPING arugula ) (TOPPING ricotta cheese ) (TOPPING sauce ) (NOT (STYLE thin crust ) ) ) )  \n",
       "2456442  (ORDER (PIZZAORDER (NUMBER a ) (TOPPING yellow peppers ) (TOPPING fried onions ) (TOPPING dried pepper ) (NOT (STYLE thin crust ) ) ) )  \n",
       "2456443          (ORDER (PIZZAORDER (NUMBER a ) (TOPPING olives ) (TOPPING roasted tomatoes ) (TOPPING broccoli ) (NOT (STYLE thin crust ) ) ) )  "
      ]
     },
     "execution_count": 27,
     "metadata": {},
     "output_type": "execute_result"
    }
   ],
   "source": [
    "index = 758454\n",
    "negations.iloc[index: index + 5].head()"
   ]
  },
  {
   "cell_type": "code",
   "execution_count": 28,
   "metadata": {},
   "outputs": [
    {
     "data": {
      "text/plain": [
       "(758461, 4)"
      ]
     },
     "execution_count": 28,
     "metadata": {},
     "output_type": "execute_result"
    }
   ],
   "source": [
    "negations.shape"
   ]
  },
  {
   "cell_type": "code",
   "execution_count": 29,
   "metadata": {},
   "outputs": [
    {
     "data": {
      "text/plain": [
       "0            \n",
       "(NOT (TOPPING    633461\n",
       "(NOT (STYLE      125000\n",
       "Name: count, dtype: int64"
      ]
     },
     "execution_count": 29,
     "metadata": {},
     "output_type": "execute_result"
    }
   ],
   "source": [
    "# Checking for any NOT -> ( -> any sequence of uppercase letters\n",
    "df_train['top'].str.extract(\"(\\(NOT\\s*\\([A-Z]+)\").dropna().value_counts() # Negation is only applied to TOPPING & STYLE"
   ]
  },
  {
   "cell_type": "markdown",
   "metadata": {},
   "source": [
    "#### Complex Topping"
   ]
  },
  {
   "cell_type": "code",
   "execution_count": 7,
   "metadata": {},
   "outputs": [],
   "source": [
    "complex_toppings = df_train[df_train['top'].str.find(\"COMPLEX_TOPPING\") > 0]"
   ]
  },
  {
   "cell_type": "code",
   "execution_count": 8,
   "metadata": {},
   "outputs": [
    {
     "data": {
      "text/html": [
       "<div>\n",
       "<style scoped>\n",
       "    .dataframe tbody tr th:only-of-type {\n",
       "        vertical-align: middle;\n",
       "    }\n",
       "\n",
       "    .dataframe tbody tr th {\n",
       "        vertical-align: top;\n",
       "    }\n",
       "\n",
       "    .dataframe thead th {\n",
       "        text-align: right;\n",
       "    }\n",
       "</style>\n",
       "<table border=\"1\" class=\"dataframe\">\n",
       "  <thead>\n",
       "    <tr style=\"text-align: right;\">\n",
       "      <th></th>\n",
       "      <th>src</th>\n",
       "      <th>exr</th>\n",
       "      <th>top</th>\n",
       "      <th>decoupled</th>\n",
       "    </tr>\n",
       "  </thead>\n",
       "  <tbody>\n",
       "    <tr>\n",
       "      <th>1</th>\n",
       "      <td>large pie with green pepper and with extra peperonni</td>\n",
       "      <td>(ORDER (PIZZAORDER (NUMBER 1 ) (SIZE LARGE ) (TOPPING GREEN_PEPPERS ) (COMPLEX_TOPPING (QUANTITY EXTRA ) (TOPPING PEPPERONI ) ) ) )</td>\n",
       "      <td>(ORDER (PIZZAORDER (SIZE large ) pie with (TOPPING green pepper ) and with (COMPLEX_TOPPING (QUANTITY extra ) (TOPPING peperonni ) ) ) )</td>\n",
       "      <td>(ORDER (PIZZAORDER (SIZE large ) (TOPPING green pepper ) (COMPLEX_TOPPING (QUANTITY extra ) (TOPPING peperonni ) ) ) )</td>\n",
       "    </tr>\n",
       "    <tr>\n",
       "      <th>5</th>\n",
       "      <td>pie with banana pepper and peppperonis and extra low fat cheese</td>\n",
       "      <td>(ORDER (PIZZAORDER (NUMBER 1 ) (TOPPING BANANA_PEPPERS ) (TOPPING PEPPERONI ) (COMPLEX_TOPPING (QUANTITY EXTRA ) (TOPPING LOW_FAT_CHEESE ) ) ) )</td>\n",
       "      <td>(ORDER (PIZZAORDER pie with (TOPPING banana pepper ) and (TOPPING peppperonis ) and (COMPLEX_TOPPING (QUANTITY extra ) (TOPPING low fat cheese ) ) ) )</td>\n",
       "      <td>(ORDER (PIZZAORDER (TOPPING banana pepper ) (TOPPING peppperonis ) (COMPLEX_TOPPING (QUANTITY extra ) (TOPPING low fat cheese ) ) ) )</td>\n",
       "    </tr>\n",
       "    <tr>\n",
       "      <th>7</th>\n",
       "      <td>i want a stuffed crust pizza with american cheese and a little bit of peperonni</td>\n",
       "      <td>(ORDER (PIZZAORDER (NUMBER 1 ) (STYLE STUFFED_CRUST ) (TOPPING AMERICAN_CHEESE ) (COMPLEX_TOPPING (QUANTITY LIGHT ) (TOPPING PEPPERONI ) ) ) )</td>\n",
       "      <td>(ORDER i want (PIZZAORDER (NUMBER a ) (STYLE stuffed crust ) pizza with (TOPPING american cheese ) and (COMPLEX_TOPPING (QUANTITY a little bit of ) (TOPPING peperonni ) ) ) )</td>\n",
       "      <td>(ORDER (PIZZAORDER (NUMBER a ) (STYLE stuffed crust ) (TOPPING american cheese ) (COMPLEX_TOPPING (QUANTITY a little bit of ) (TOPPING peperonni ) ) ) )</td>\n",
       "    </tr>\n",
       "    <tr>\n",
       "      <th>8</th>\n",
       "      <td>can i have one party sized high rise dough pizza with american cheese and a lot of peperonni</td>\n",
       "      <td>(ORDER (PIZZAORDER (NUMBER 1 ) (SIZE PARTY_SIZE ) (STYLE THICK_CRUST ) (TOPPING AMERICAN_CHEESE ) (COMPLEX_TOPPING (QUANTITY EXTRA ) (TOPPING PEPPERONI ) ) ) )</td>\n",
       "      <td>(ORDER can i have (PIZZAORDER (NUMBER one ) (SIZE party sized ) (STYLE high rise dough ) pizza with (TOPPING american cheese ) and (COMPLEX_TOPPING (QUANTITY a lot of ) (TOPPING peperonni ) ) ) )</td>\n",
       "      <td>(ORDER (PIZZAORDER (NUMBER one ) (SIZE party sized ) (STYLE high rise dough ) (TOPPING american cheese ) (COMPLEX_TOPPING (QUANTITY a lot of ) (TOPPING peperonni ) ) ) )</td>\n",
       "    </tr>\n",
       "    <tr>\n",
       "      <th>12</th>\n",
       "      <td>can i have one high rise dough pie with american cheese and a lot of meatball</td>\n",
       "      <td>(ORDER (PIZZAORDER (NUMBER 1 ) (STYLE THICK_CRUST ) (TOPPING AMERICAN_CHEESE ) (COMPLEX_TOPPING (QUANTITY EXTRA ) (TOPPING MEATBALLS ) ) ) )</td>\n",
       "      <td>(ORDER can i have (PIZZAORDER (NUMBER one ) (STYLE high rise dough ) pie with (TOPPING american cheese ) and (COMPLEX_TOPPING (QUANTITY a lot of ) (TOPPING meatball ) ) ) )</td>\n",
       "      <td>(ORDER (PIZZAORDER (NUMBER one ) (STYLE high rise dough ) (TOPPING american cheese ) (COMPLEX_TOPPING (QUANTITY a lot of ) (TOPPING meatball ) ) ) )</td>\n",
       "    </tr>\n",
       "  </tbody>\n",
       "</table>\n",
       "</div>"
      ],
      "text/plain": [
       "                                                                                             src  \\\n",
       "1                                           large pie with green pepper and with extra peperonni   \n",
       "5                                pie with banana pepper and peppperonis and extra low fat cheese   \n",
       "7                i want a stuffed crust pizza with american cheese and a little bit of peperonni   \n",
       "8   can i have one party sized high rise dough pizza with american cheese and a lot of peperonni   \n",
       "12                 can i have one high rise dough pie with american cheese and a lot of meatball   \n",
       "\n",
       "                                                                                                                                                                exr  \\\n",
       "1                               (ORDER (PIZZAORDER (NUMBER 1 ) (SIZE LARGE ) (TOPPING GREEN_PEPPERS ) (COMPLEX_TOPPING (QUANTITY EXTRA ) (TOPPING PEPPERONI ) ) ) )   \n",
       "5                  (ORDER (PIZZAORDER (NUMBER 1 ) (TOPPING BANANA_PEPPERS ) (TOPPING PEPPERONI ) (COMPLEX_TOPPING (QUANTITY EXTRA ) (TOPPING LOW_FAT_CHEESE ) ) ) )   \n",
       "7                    (ORDER (PIZZAORDER (NUMBER 1 ) (STYLE STUFFED_CRUST ) (TOPPING AMERICAN_CHEESE ) (COMPLEX_TOPPING (QUANTITY LIGHT ) (TOPPING PEPPERONI ) ) ) )   \n",
       "8   (ORDER (PIZZAORDER (NUMBER 1 ) (SIZE PARTY_SIZE ) (STYLE THICK_CRUST ) (TOPPING AMERICAN_CHEESE ) (COMPLEX_TOPPING (QUANTITY EXTRA ) (TOPPING PEPPERONI ) ) ) )   \n",
       "12                     (ORDER (PIZZAORDER (NUMBER 1 ) (STYLE THICK_CRUST ) (TOPPING AMERICAN_CHEESE ) (COMPLEX_TOPPING (QUANTITY EXTRA ) (TOPPING MEATBALLS ) ) ) )   \n",
       "\n",
       "                                                                                                                                                                                                    top  \\\n",
       "1                                                              (ORDER (PIZZAORDER (SIZE large ) pie with (TOPPING green pepper ) and with (COMPLEX_TOPPING (QUANTITY extra ) (TOPPING peperonni ) ) ) )   \n",
       "5                                                (ORDER (PIZZAORDER pie with (TOPPING banana pepper ) and (TOPPING peppperonis ) and (COMPLEX_TOPPING (QUANTITY extra ) (TOPPING low fat cheese ) ) ) )   \n",
       "7                        (ORDER i want (PIZZAORDER (NUMBER a ) (STYLE stuffed crust ) pizza with (TOPPING american cheese ) and (COMPLEX_TOPPING (QUANTITY a little bit of ) (TOPPING peperonni ) ) ) )   \n",
       "8   (ORDER can i have (PIZZAORDER (NUMBER one ) (SIZE party sized ) (STYLE high rise dough ) pizza with (TOPPING american cheese ) and (COMPLEX_TOPPING (QUANTITY a lot of ) (TOPPING peperonni ) ) ) )   \n",
       "12                         (ORDER can i have (PIZZAORDER (NUMBER one ) (STYLE high rise dough ) pie with (TOPPING american cheese ) and (COMPLEX_TOPPING (QUANTITY a lot of ) (TOPPING meatball ) ) ) )   \n",
       "\n",
       "                                                                                                                                                                    decoupled  \n",
       "1                                                      (ORDER (PIZZAORDER (SIZE large ) (TOPPING green pepper ) (COMPLEX_TOPPING (QUANTITY extra ) (TOPPING peperonni ) ) ) )  \n",
       "5                                       (ORDER (PIZZAORDER (TOPPING banana pepper ) (TOPPING peppperonis ) (COMPLEX_TOPPING (QUANTITY extra ) (TOPPING low fat cheese ) ) ) )  \n",
       "7                    (ORDER (PIZZAORDER (NUMBER a ) (STYLE stuffed crust ) (TOPPING american cheese ) (COMPLEX_TOPPING (QUANTITY a little bit of ) (TOPPING peperonni ) ) ) )  \n",
       "8   (ORDER (PIZZAORDER (NUMBER one ) (SIZE party sized ) (STYLE high rise dough ) (TOPPING american cheese ) (COMPLEX_TOPPING (QUANTITY a lot of ) (TOPPING peperonni ) ) ) )  \n",
       "12                       (ORDER (PIZZAORDER (NUMBER one ) (STYLE high rise dough ) (TOPPING american cheese ) (COMPLEX_TOPPING (QUANTITY a lot of ) (TOPPING meatball ) ) ) )  "
      ]
     },
     "execution_count": 8,
     "metadata": {},
     "output_type": "execute_result"
    }
   ],
   "source": [
    "complex_toppings.head()"
   ]
  },
  {
   "cell_type": "code",
   "execution_count": 31,
   "metadata": {},
   "outputs": [
    {
     "data": {
      "text/plain": [
       "0                         \n",
       "(COMPLEX_TOPPING (QUANTITY    418367\n",
       "Name: count, dtype: int64"
      ]
     },
     "execution_count": 31,
     "metadata": {},
     "output_type": "execute_result"
    }
   ],
   "source": [
    "df_train['top'].str.extract(\"(\\(COMPLEX_TOPPING\\s*\\([A-Z]+)\").dropna().value_counts()"
   ]
  },
  {
   "cell_type": "code",
   "execution_count": 32,
   "metadata": {},
   "outputs": [
    {
     "data": {
      "text/plain": [
       "0                                                                                                                                                                            \n",
       "(COMPLEX_TOPPING (QUANTITY extra ) (TOPPING sauce ) ) ) )                                                                                                                        10416\n",
       "(COMPLEX_TOPPING (QUANTITY extra ) (TOPPING peperonni ) ) ) )                                                                                                                     6059\n",
       "(COMPLEX_TOPPING (QUANTITY a lot of ) (TOPPING sauce ) ) ) )                                                                                                                      5338\n",
       "(COMPLEX_TOPPING (QUANTITY extra ) (TOPPING american cheese ) ) ) )                                                                                                               4230\n",
       "(COMPLEX_TOPPING (QUANTITY extra ) (TOPPING vegan pepperoni ) ) ) )                                                                                                               3384\n",
       "                                                                                                                                                                                 ...  \n",
       "(COMPLEX_TOPPING (QUANTITY extra ) (TOPPING american cheese ) ) ) and (PIZZAORDER (NUMBER two ) (SIZE extra large ) pies no (NOT (TOPPING american cheese ) ) ) )                    1\n",
       "(COMPLEX_TOPPING (QUANTITY extra ) (TOPPING american cheese ) ) ) and (PIZZAORDER (NUMBER four ) pies with (COMPLEX_TOPPING (QUANTITY lots of ) (TOPPING green pepper ) ) ) )        1\n",
       "(COMPLEX_TOPPING (QUANTITY extra ) (TOPPING american cheese ) ) ) and (PIZZAORDER (NUMBER two ) (SIZE extra large ) pizzas with (TOPPING american cheese ) ) )                       1\n",
       "(COMPLEX_TOPPING (QUANTITY extra ) (TOPPING american cheese ) ) ) and (PIZZAORDER (NUMBER two ) (SIZE large ) pies no (NOT (TOPPING american cheese ) ) ) )                          1\n",
       "(COMPLEX_TOPPING (QUANTITY extra ) (TOPPING american cheese ) ) ) and (PIZZAORDER (NUMBER three ) pizzas with (COMPLEX_TOPPING (QUANTITY lots of ) (TOPPING chorrizo ) ) ) )         1\n",
       "Name: count, Length: 17578, dtype: int64"
      ]
     },
     "execution_count": 32,
     "metadata": {},
     "output_type": "execute_result"
    }
   ],
   "source": [
    "df_train['top'].str.extract(\"(\\(COMPLEX_TOPPING\\s*.+\\))\").dropna().value_counts()"
   ]
  },
  {
   "cell_type": "markdown",
   "metadata": {},
   "source": [
    "#### Container Type"
   ]
  },
  {
   "cell_type": "markdown",
   "metadata": {},
   "source": [
    "Container Type is a 2nd-level entity under DRINKORDER"
   ]
  },
  {
   "cell_type": "code",
   "execution_count": null,
   "metadata": {},
   "outputs": [
    {
     "data": {
      "text/plain": [
       "0                                                                                                                                                                                                              \n",
       "(CONTAINERTYPE bottles ) ) )                                                                                                                                                                                       4727\n",
       "(CONTAINERTYPE in bottles ) ) )                                                                                                                                                                                    4270\n",
       "(CONTAINERTYPE in cans ) ) )                                                                                                                                                                                       4122\n",
       "(CONTAINERTYPE cans ) ) )                                                                                                                                                                                          3973\n",
       "(CONTAINERTYPE in a bottle ) ) )                                                                                                                                                                                   2863\n",
       "                                                                                                                                                                                                                   ... \n",
       "(CONTAINERTYPE bottle ) of (DRINKTYPE ice tea ) ) and (DRINKORDER (NUMBER three ) (VOLUME eight ounce ) (DRINKTYPE fantas ) ) and (DRINKORDER (NUMBER three ) (VOLUME 200 ml ) (DRINKTYPE pepsis ) ) )                1\n",
       "(CONTAINERTYPE bottle ) of (DRINKTYPE ice tea ) ) and (DRINKORDER (NUMBER three ) (VOLUME eight ounce ) (DRINKTYPE fantas ) ) and (DRINKORDER (NUMBER three ) (VOLUME 200 ml ) (DRINKTYPE pellegrinos ) ) )           1\n",
       "(CONTAINERTYPE bottle ) of (DRINKTYPE ice tea ) ) and (DRINKORDER (NUMBER three ) (VOLUME eight ounce ) (DRINKTYPE fantas ) ) and (DRINKORDER (NUMBER three ) (VOLUME 200 milliliter ) (DRINKTYPE waters ) ) )        1\n",
       "(CONTAINERTYPE bottle ) of (DRINKTYPE ice tea ) ) and (DRINKORDER (NUMBER three ) (VOLUME eight ounce ) (DRINKTYPE fantas ) ) and (DRINKORDER (NUMBER three ) (VOLUME 200 milliliter ) (DRINKTYPE sprites ) ) )       1\n",
       "(CONTAINERTYPE in cans ) ) and (DRINKORDER (NUMBER two ) (VOLUME two-liter ) (DRINKTYPE waters ) ) )                                                                                                                  1\n",
       "Name: count, Length: 124128, dtype: int64"
      ]
     },
     "execution_count": 36,
     "metadata": {},
     "output_type": "execute_result"
    }
   ],
   "source": [
    "df_train['top'].str.extract(\"(\\(CONTAINERTYPE\\s*.+\\))\").dropna().value_counts()"
   ]
  },
  {
   "cell_type": "markdown",
   "metadata": {},
   "source": [
    "# Max Sequence Length"
   ]
  },
  {
   "cell_type": "code",
   "execution_count": 12,
   "metadata": {},
   "outputs": [
    {
     "data": {
      "text/plain": [
       "25"
      ]
     },
     "execution_count": 12,
     "metadata": {},
     "output_type": "execute_result"
    }
   ],
   "source": [
    "df_train.apply(lambda x: len(x['src'].split()), axis=1).max()"
   ]
  },
  {
   "cell_type": "code",
   "execution_count": 15,
   "metadata": {},
   "outputs": [
    {
     "data": {
      "text/plain": [
       "32"
      ]
     },
     "execution_count": 15,
     "metadata": {},
     "output_type": "execute_result"
    }
   ],
   "source": [
    "df_dev[df_dev['pcfg_err'] == 'False'].apply(lambda x: len(x['src'].split()), axis=1).max()"
   ]
  }
 ],
 "metadata": {
  "kaggle": {
   "accelerator": "none",
   "dataSources": [
    {
     "datasetId": 6200837,
     "sourceId": 10062018,
     "sourceType": "datasetVersion"
    }
   ],
   "dockerImageVersionId": 30787,
   "isGpuEnabled": false,
   "isInternetEnabled": true,
   "language": "python",
   "sourceType": "notebook"
  },
  "kernelspec": {
   "display_name": "env",
   "language": "python",
   "name": "python3"
  },
  "language_info": {
   "codemirror_mode": {
    "name": "ipython",
    "version": 3
   },
   "file_extension": ".py",
   "mimetype": "text/x-python",
   "name": "python",
   "nbconvert_exporter": "python",
   "pygments_lexer": "ipython3",
   "version": "3.10.6"
  }
 },
 "nbformat": 4,
 "nbformat_minor": 4
}
