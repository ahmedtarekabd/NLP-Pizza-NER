{
 "cells": [
  {
   "cell_type": "markdown",
   "metadata": {},
   "source": [
    "# Setup"
   ]
  },
  {
   "cell_type": "markdown",
   "metadata": {},
   "source": [
    "## Imports"
   ]
  },
  {
   "cell_type": "code",
   "execution_count": 1,
   "metadata": {
    "execution": {
     "iopub.execute_input": "2024-12-06T21:15:23.707922Z",
     "iopub.status.busy": "2024-12-06T21:15:23.707431Z",
     "iopub.status.idle": "2024-12-06T21:15:24.499569Z",
     "shell.execute_reply": "2024-12-06T21:15:24.498371Z",
     "shell.execute_reply.started": "2024-12-06T21:15:23.707878Z"
    },
    "trusted": true
   },
   "outputs": [],
   "source": [
    "# General\n",
    "import numpy as np\n",
    "import pandas as pd\n",
    "\n",
    "# Preprocessing\n",
    "from sklearn.feature_extraction.text import TfidfVectorizer"
   ]
  },
  {
   "cell_type": "code",
   "execution_count": 2,
   "metadata": {},
   "outputs": [
    {
     "data": {
      "text/plain": [
       "<module 'config' from 'e:\\\\College\\\\4- Senior 2\\\\Semester 1\\\\NLP\\\\Project\\\\config.py'>"
      ]
     },
     "execution_count": 2,
     "metadata": {},
     "output_type": "execute_result"
    }
   ],
   "source": [
    "import os\n",
    "import sys\n",
    "# Add the path to the utils folder\n",
    "sys.path.append(os.path.abspath('../..'))\n",
    "import importlib\n",
    "# Custom modules\n",
    "from utils import memory_usage, save_pickle, load_pickle, save_np, load_np, file_exists, save_parquet, load_parquet\n",
    "from config import run_config, token_pattern, MODELS_PATH, FEATURES_PATH, PROCESSED_DATA_PATH\n",
    "importlib.reload(sys.modules['utils'])\n",
    "importlib.reload(sys.modules['config'])"
   ]
  },
  {
   "cell_type": "markdown",
   "metadata": {},
   "source": [
    "## Config"
   ]
  },
  {
   "cell_type": "code",
   "execution_count": 3,
   "metadata": {
    "execution": {
     "iopub.execute_input": "2024-12-06T21:15:24.510775Z",
     "iopub.status.busy": "2024-12-06T21:15:24.510375Z",
     "iopub.status.idle": "2024-12-06T21:15:24.519935Z",
     "shell.execute_reply": "2024-12-06T21:15:24.518949Z",
     "shell.execute_reply.started": "2024-12-06T21:15:24.510724Z"
    },
    "trusted": true
   },
   "outputs": [],
   "source": [
    "run_config()"
   ]
  },
  {
   "cell_type": "code",
   "execution_count": 4,
   "metadata": {},
   "outputs": [],
   "source": [
    "df_train = pd.read_parquet(PROCESSED_DATA_PATH + '/train_preprocessing.parquet')"
   ]
  },
  {
   "cell_type": "markdown",
   "metadata": {},
   "source": [
    "# TF-IDF"
   ]
  },
  {
   "cell_type": "code",
   "execution_count": 6,
   "metadata": {
    "execution": {
     "iopub.execute_input": "2024-12-06T21:16:59.497134Z",
     "iopub.status.busy": "2024-12-06T21:16:59.496761Z",
     "iopub.status.idle": "2024-12-06T21:16:59.516975Z",
     "shell.execute_reply": "2024-12-06T21:16:59.515691Z",
     "shell.execute_reply.started": "2024-12-06T21:16:59.497101Z"
    },
    "trusted": true
   },
   "outputs": [],
   "source": [
    "update_feature = False\n",
    "if update_feature or not file_exists(FEATURES_PATH + \"/tfidf_features.npy\") or not file_exists(MODELS_PATH + \"/tfidf_vectorizer.pkl\"):\n",
    "    # TF-IDF feature extraction\n",
    "    vectorizer = TfidfVectorizer(analyzer=\"word\", ngram_range=(1, 1), token_pattern=token_pattern)\n",
    "    tfidf_features = vectorizer.fit_transform(df_train[\"src\"])    \n",
    "    tfidf_embeddings = {word: tfidf_features[:, vectorizer.vocabulary_.get(word, 0)].toarray().reshape(-1) for word in vectorizer.get_feature_names_out()}\n",
    "    save_pickle(MODELS_PATH + \"/tfidf_vectorizer.pkl\", vectorizer)\n",
    "    save_np(\"tfidf_features.npy\", tfidf_features, type=\"feature\")\n",
    "    # save_pickle(FEATURES_PATH + \"/tfidf_embeddings.pkl\", tfidf_embeddings)\n",
    "    save_parquet(FEATURES_PATH + \"/tfidf_embeddings.parquet\", pd.DataFrame(tfidf_embeddings))\n",
    "else:\n",
    "    vectorizer = load_pickle(MODELS_PATH + \"/tfidf_vectorizer.pkl\")\n",
    "    tfidf_features = load_np(\"tfidf_features.npy\", type=\"feature\").tolist()\n",
    "    # tfidf_embeddings = load_pickle(FEATURES_PATH + \"tfidf_embeddings.pkl\")\n",
    "    tfidf_embeddings = load_parquet(FEATURES_PATH + \"/tfidf_embeddings.parquet\").to_dict(orient=\"list\")"
   ]
  },
  {
   "cell_type": "code",
   "execution_count": 7,
   "metadata": {},
   "outputs": [
    {
     "data": {
      "text/plain": [
       "{'1': array([0., 0., 0., ..., 0., 0., 0.]),\n",
       " '10': array([0., 0., 0., ..., 0., 0., 0.]),\n",
       " '11': array([0., 0., 0., ..., 0., 0., 0.]),\n",
       " '12': array([0., 0., 0., ..., 0., 0., 0.]),\n",
       " '13': array([0., 0., 0., ..., 0., 0., 0.]),\n",
       " '14': array([0., 0., 0., ..., 0., 0., 0.]),\n",
       " '15': array([0., 0., 0., ..., 0., 0., 0.]),\n",
       " '16': array([0., 0., 0., ..., 0., 0., 0.]),\n",
       " '2': array([0., 0., 0., ..., 0., 0., 0.]),\n",
       " '20': array([0., 0., 0., ..., 0., 0., 0.]),\n",
       " '200': array([0., 0., 0., ..., 0., 0., 0.]),\n",
       " '200-milliliter': array([0., 0., 0., ..., 0., 0., 0.]),\n",
       " '3': array([0., 0., 0., ..., 0., 0., 0.]),\n",
       " '4': array([0., 0., 0., ..., 0., 0., 0.]),\n",
       " '5': array([0., 0., 0., ..., 0., 0., 0.]),\n",
       " '500': array([0., 0., 0., ..., 0., 0., 0.]),\n",
       " '500-milliliter': array([0., 0., 0., ..., 0., 0., 0.]),\n",
       " '500-ml': array([0., 0., 0., ..., 0., 0., 0.]),\n",
       " '6': array([0., 0., 0., ..., 0., 0., 0.]),\n",
       " '7': array([0., 0., 0., ..., 0., 0., 0.]),\n",
       " '8': array([0., 0., 0., ..., 0., 0., 0.]),\n",
       " '9': array([0., 0., 0., ..., 0., 0., 0.]),\n",
       " 'a': array([0.25508536, 0.1307638 , 0.13357908, ..., 0.11565611, 0.14956663,\n",
       "        0.        ]),\n",
       " 'add': array([0., 0., 0., ..., 0., 0., 0.]),\n",
       " 'ale': array([0.30818694, 0.        , 0.        , ..., 0.        , 0.        ,\n",
       "        0.        ]),\n",
       " 'ales': array([0., 0., 0., ..., 0., 0., 0.]),\n",
       " 'alfredo': array([0., 0., 0., ..., 0., 0., 0.]),\n",
       " 'all': array([0., 0., 0., ..., 0., 0., 0.]),\n",
       " 'along': array([0., 0., 0., ..., 0., 0., 0.]),\n",
       " 'also': array([0.        , 0.        , 0.        , ..., 0.        , 0.32813518,\n",
       "        0.        ]),\n",
       " 'am': array([0., 0., 0., ..., 0., 0., 0.]),\n",
       " 'american': array([0.19527802, 0.        , 0.        , ..., 0.        , 0.22899845,\n",
       "        0.        ]),\n",
       " 'an': array([0., 0., 0., ..., 0., 0., 0.]),\n",
       " 'anchovies': array([0., 0., 0., ..., 0., 0., 0.]),\n",
       " 'anchovy': array([0., 0., 0., ..., 0., 0., 0.]),\n",
       " 'and': array([0.26814436, 0.09163881, 0.09361174, ..., 0.08105139, 0.31444729,\n",
       "        0.08858632]),\n",
       " 'any': array([0., 0., 0., ..., 0., 0., 0.]),\n",
       " 'apple': array([0., 0., 0., ..., 0., 0., 0.]),\n",
       " 'applewood': array([0., 0., 0., ..., 0., 0., 0.]),\n",
       " 'artichoke': array([0., 0., 0., ..., 0., 0., 0.]),\n",
       " 'artichokes': array([0., 0., 0., ..., 0., 0., 0.]),\n",
       " 'arugula': array([0., 0., 0., ..., 0., 0., 0.]),\n",
       " 'avoid': array([0., 0., 0., ..., 0., 0., 0.]),\n",
       " 'bacon': array([0., 0., 0., ..., 0., 0., 0.]),\n",
       " 'bacons': array([0., 0., 0., ..., 0., 0., 0.]),\n",
       " 'balsamic': array([0.        , 0.24923518, 0.        , ..., 0.        , 0.        ,\n",
       "        0.24093316]),\n",
       " 'balzamic': array([0., 0., 0., ..., 0., 0., 0.]),\n",
       " 'banana': array([0., 0., 0., ..., 0., 0., 0.]),\n",
       " 'barbecue': array([0., 0., 0., ..., 0., 0., 0.]),\n",
       " 'basil': array([0., 0., 0., ..., 0., 0., 0.]),\n",
       " 'bay': array([0., 0., 0., ..., 0., 0., 0.]),\n",
       " 'bbq': array([0., 0., 0., ..., 0., 0., 0.]),\n",
       " 'bean': array([0., 0., 0., ..., 0., 0., 0.]),\n",
       " 'beans': array([0., 0., 0., ..., 0., 0., 0.]),\n",
       " 'beef': array([0., 0., 0., ..., 0., 0., 0.]),\n",
       " 'begin': array([0., 0., 0., ..., 0., 0., 0.]),\n",
       " 'big': array([0., 0., 0., ..., 0., 0., 0.]),\n",
       " 'bit': array([0., 0., 0., ..., 0., 0., 0.]),\n",
       " 'black': array([0.        , 0.        , 0.        , ..., 0.38930004, 0.        ,\n",
       "        0.        ]),\n",
       " 'bottle': array([0., 0., 0., ..., 0., 0., 0.]),\n",
       " 'bottles': array([0., 0., 0., ..., 0., 0., 0.]),\n",
       " 'broccoli': array([0., 0., 0., ..., 0., 0., 0.]),\n",
       " 'brocoli': array([0., 0., 0., ..., 0., 0., 0.]),\n",
       " 'buffalo': array([0., 0., 0., ..., 0., 0., 0.]),\n",
       " 'but': array([0., 0., 0., ..., 0., 0., 0.]),\n",
       " 'can': array([0., 0., 0., ..., 0., 0., 0.]),\n",
       " 'cans': array([0., 0., 0., ..., 0., 0., 0.]),\n",
       " 'caramelized': array([0., 0., 0., ..., 0., 0., 0.]),\n",
       " 'carrot': array([0., 0., 0., ..., 0., 0., 0.]),\n",
       " 'carrots': array([0., 0., 0., ..., 0., 0., 0.]),\n",
       " 'cauliflower': array([0., 0., 0., ..., 0., 0., 0.]),\n",
       " 'cheddar': array([0., 0., 0., ..., 0., 0., 0.]),\n",
       " 'cheese': array([0.17283737, 0.        , 0.        , ..., 0.        , 0.20268277,\n",
       "        0.        ]),\n",
       " 'cheeseburger': array([0., 0., 0., ..., 0., 0., 0.]),\n",
       " 'cherry': array([0.        , 0.38620155, 0.        , ..., 0.        , 0.        ,\n",
       "        0.        ]),\n",
       " 'chicago': array([0., 0., 0., ..., 0., 0., 0.]),\n",
       " 'chicken': array([0., 0., 0., ..., 0., 0., 0.]),\n",
       " 'chickens': array([0., 0., 0., ..., 0., 0., 0.]),\n",
       " 'chorizo': array([0., 0., 0., ..., 0., 0., 0.]),\n",
       " 'chorrizo': array([0., 0., 0., ..., 0., 0., 0.]),\n",
       " 'coffee': array([0., 0., 0., ..., 0., 0., 0.]),\n",
       " 'coffees': array([0., 0., 0., ..., 0., 0., 0.]),\n",
       " 'coke': array([0., 0., 0., ..., 0., 0., 0.]),\n",
       " 'cokes': array([0., 0., 0., ..., 0., 0., 0.]),\n",
       " 'combination': array([0., 0., 0., ..., 0., 0., 0.]),\n",
       " 'crust': array([0.        , 0.        , 0.        , ..., 0.23363431, 0.        ,\n",
       "        0.        ]),\n",
       " 'crusts': array([0., 0., 0., ..., 0., 0., 0.]),\n",
       " 'cumin': array([0., 0., 0., ..., 0., 0., 0.]),\n",
       " 'deep': array([0., 0., 0., ..., 0., 0., 0.]),\n",
       " 'deepdish': array([0., 0., 0., ..., 0., 0., 0.]),\n",
       " 'dew': array([0., 0., 0., ..., 0., 0., 0.]),\n",
       " 'dews': array([0., 0., 0., ..., 0., 0., 0.]),\n",
       " 'diet': array([0., 0., 0., ..., 0., 0., 0.]),\n",
       " 'dish': array([0., 0., 0., ..., 0., 0., 0.]),\n",
       " 'do': array([0., 0., 0., ..., 0., 0., 0.]),\n",
       " 'doctor': array([0., 0., 0., ..., 0., 0., 0.]),\n",
       " \"don't\": array([0., 0., 0., ..., 0., 0., 0.]),\n",
       " 'dough': array([0., 0., 0., ..., 0., 0., 0.]),\n",
       " 'dr': array([0., 0., 0., ..., 0., 0., 0.]),\n",
       " 'dried': array([0., 0., 0., ..., 0., 0., 0.]),\n",
       " 'drinks': array([0., 0., 0., ..., 0., 0., 0.]),\n",
       " 'eight': array([0., 0., 0., ..., 0., 0., 0.]),\n",
       " 'eleven': array([0., 0., 0., ..., 0., 0., 0.]),\n",
       " 'every': array([0., 0., 0., ..., 0., 0., 0.]),\n",
       " 'everything': array([0., 0., 0., ..., 0., 0., 0.]),\n",
       " 'extra': array([0., 0., 0., ..., 0., 0., 0.]),\n",
       " 'fanta': array([0., 0., 0., ..., 0., 0., 0.]),\n",
       " 'fantas': array([0.        , 0.        , 0.        , ..., 0.        , 0.35843836,\n",
       "        0.        ]),\n",
       " 'fat': array([0., 0., 0., ..., 0., 0., 0.]),\n",
       " 'feta': array([0., 0., 0., ..., 0., 0., 0.]),\n",
       " 'fifteen': array([0., 0., 0., ..., 0., 0., 0.]),\n",
       " 'five': array([0., 0., 0., ..., 0., 0., 0.]),\n",
       " 'fl': array([0., 0., 0., ..., 0., 0., 0.]),\n",
       " 'flake': array([0., 0., 0., ..., 0., 0., 0.]),\n",
       " 'flakes': array([0., 0., 0., ..., 0., 0., 0.]),\n",
       " 'fluid': array([0., 0., 0., ..., 0., 0., 0.]),\n",
       " 'for': array([0., 0., 0., ..., 0., 0., 0.]),\n",
       " 'four': array([0.        , 0.        , 0.        , ..., 0.        , 0.        ,\n",
       "        0.18779847]),\n",
       " 'fourteen': array([0., 0., 0., ..., 0., 0., 0.]),\n",
       " 'free': array([0., 0., 0., ..., 0., 0., 0.]),\n",
       " 'fried': array([0.        , 0.        , 0.41264029, ..., 0.        , 0.        ,\n",
       "        0.        ]),\n",
       " 'garlic': array([0.        , 0.        , 0.        , ..., 0.33757062, 0.        ,\n",
       "        0.        ]),\n",
       " 'get': array([0., 0., 0., ..., 0., 0., 0.]),\n",
       " 'ginger': array([0.29456515, 0.        , 0.        , ..., 0.        , 0.        ,\n",
       "        0.        ]),\n",
       " 'glaze': array([0.        , 0.24370924, 0.        , ..., 0.        , 0.        ,\n",
       "        0.23559129]),\n",
       " 'gluten': array([0., 0., 0., ..., 0., 0., 0.]),\n",
       " 'gluten-free': array([0., 0., 0., ..., 0., 0., 0.]),\n",
       " 'go': array([0., 0., 0., ..., 0., 0., 0.]),\n",
       " 'green': array([0., 0., 0., ..., 0., 0., 0.]),\n",
       " 'grilled': array([0.        , 0.        , 0.        , ..., 0.        , 0.        ,\n",
       "        0.40048693]),\n",
       " 'ground': array([0., 0., 0., ..., 0., 0., 0.]),\n",
       " 'ham': array([0., 0., 0., ..., 0., 0., 0.]),\n",
       " 'hams': array([0., 0., 0., ..., 0., 0., 0.]),\n",
       " 'hate': array([0., 0., 0., ..., 0., 0., 0.]),\n",
       " 'have': array([0., 0., 0., ..., 0., 0., 0.]),\n",
       " 'hawaiian': array([0., 0., 0., ..., 0., 0., 0.]),\n",
       " 'hello': array([0., 0., 0., ..., 0., 0., 0.]),\n",
       " 'high': array([0., 0., 0., ..., 0., 0., 0.]),\n",
       " 'hold': array([0.        , 0.        , 0.        , ..., 0.29994198, 0.        ,\n",
       "        0.        ]),\n",
       " 'hot': array([0., 0., 0., ..., 0., 0., 0.]),\n",
       " 'i': array([0., 0., 0., ..., 0., 0., 0.]),\n",
       " \"i'd\": array([0.        , 0.        , 0.17436203, ..., 0.15096701, 0.        ,\n",
       "        0.        ]),\n",
       " \"i'll\": array([0., 0., 0., ..., 0., 0., 0.]),\n",
       " \"i'm\": array([0., 0., 0., ..., 0., 0., 0.]),\n",
       " 'ice': array([0., 0., 0., ..., 0., 0., 0.]),\n",
       " 'iced': array([0., 0., 0., ..., 0., 0., 0.]),\n",
       " 'id': array([0., 0., 0., ..., 0., 0., 0.]),\n",
       " 'ill': array([0., 0., 0., ..., 0., 0., 0.]),\n",
       " 'in': array([0., 0., 0., ..., 0., 0., 0.]),\n",
       " 'include': array([0., 0., 0., ..., 0., 0., 0.]),\n",
       " 'including': array([0., 0., 0., ..., 0., 0., 0.]),\n",
       " 'is': array([0., 0., 0., ..., 0., 0., 0.]),\n",
       " 'it': array([0., 0., 0., ..., 0., 0., 0.]),\n",
       " 'italian': array([0., 0., 0., ..., 0., 0., 0.]),\n",
       " 'jalapeno': array([0., 0., 0., ..., 0., 0., 0.]),\n",
       " 'jalapenos': array([0., 0., 0., ..., 0., 0., 0.]),\n",
       " 'just': array([0.        , 0.33973299, 0.        , ..., 0.        , 0.        ,\n",
       "        0.        ]),\n",
       " 'kalamata': array([0., 0., 0., ..., 0., 0., 0.]),\n",
       " 'keto': array([0., 0., 0., ..., 0., 0., 0.]),\n",
       " 'large': array([0.        , 0.24893198, 0.        , ..., 0.        , 0.        ,\n",
       "        0.        ]),\n",
       " 'leaves': array([0., 0., 0., ..., 0., 0., 0.]),\n",
       " 'lemon': array([0., 0., 0., ..., 0., 0., 0.]),\n",
       " 'lettuce': array([0.        , 0.        , 0.        , ..., 0.42502043, 0.        ,\n",
       "        0.        ]),\n",
       " 'like': array([0.        , 0.        , 0.17435964, ..., 0.15096494, 0.        ,\n",
       "        0.        ]),\n",
       " 'liter': array([0., 0., 0., ..., 0., 0., 0.]),\n",
       " 'little': array([0.        , 0.31469482, 0.        , ..., 0.        , 0.        ,\n",
       "        0.        ]),\n",
       " 'looking': array([0., 0., 0., ..., 0., 0., 0.]),\n",
       " 'lot': array([0., 0., 0., ..., 0., 0., 0.]),\n",
       " 'lots': array([0., 0., 0., ..., 0., 0., 0.]),\n",
       " 'love': array([0., 0., 0., ..., 0., 0., 0.]),\n",
       " 'lover': array([0., 0., 0., ..., 0., 0., 0.]),\n",
       " 'lovers': array([0., 0., 0., ..., 0., 0., 0.]),\n",
       " 'low': array([0., 0., 0., ..., 0., 0., 0.]),\n",
       " 'lunch': array([0.        , 0.        , 0.32284269, ..., 0.        , 0.        ,\n",
       "        0.30551131]),\n",
       " 'many': array([0.        , 0.        , 0.        , ..., 0.        , 0.        ,\n",
       "        0.40355768]),\n",
       " 'margarita': array([0., 0., 0., ..., 0., 0., 0.]),\n",
       " 'margherita': array([0., 0., 0., ..., 0., 0., 0.]),\n",
       " 'may': array([0., 0., 0., ..., 0., 0., 0.]),\n",
       " 'me': array([0., 0., 0., ..., 0., 0., 0.]),\n",
       " 'meat': array([0., 0., 0., ..., 0., 0., 0.]),\n",
       " 'meatball': array([0., 0., 0., ..., 0., 0., 0.]),\n",
       " 'meatballs': array([0., 0., 0., ..., 0., 0., 0.]),\n",
       " 'meatlover': array([0., 0., 0., ..., 0., 0., 0.]),\n",
       " 'meatlovers': array([0., 0., 0., ..., 0., 0., 0.]),\n",
       " 'med': array([0., 0., 0., ..., 0., 0., 0.]),\n",
       " 'mediterranean': array([0., 0., 0., ..., 0., 0., 0.]),\n",
       " 'medium': array([0., 0., 0., ..., 0., 0., 0.]),\n",
       " 'mexican': array([0., 0., 0., ..., 0., 0., 0.]),\n",
       " 'milliliter': array([0., 0., 0., ..., 0., 0., 0.]),\n",
       " 'ml': array([0., 0., 0., ..., 0., 0., 0.]),\n",
       " 'mountain': array([0., 0., 0., ..., 0., 0., 0.]),\n",
       " 'mozarella': array([0., 0., 0., ..., 0., 0., 0.]),\n",
       " 'mozzarella': array([0., 0., 0., ..., 0., 0., 0.]),\n",
       " 'much': array([0., 0., 0., ..., 0., 0., 0.]),\n",
       " 'mushroom': array([0., 0., 0., ..., 0., 0., 0.]),\n",
       " 'mushrooms': array([0., 0., 0., ..., 0., 0., 0.]),\n",
       " 'my': array([0., 0., 0., ..., 0., 0., 0.]),\n",
       " 'napolitan': array([0., 0., 0., ..., 0., 0., 0.]),\n",
       " 'napolitana': array([0., 0., 0., ..., 0., 0., 0.]),\n",
       " 'neapolitan': array([0., 0., 0., ..., 0., 0., 0.]),\n",
       " 'need': array([0., 0., 0., ..., 0., 0., 0.]),\n",
       " 'new': array([0., 0., 0., ..., 0., 0., 0.]),\n",
       " 'nine': array([0., 0., 0., ..., 0., 0., 0.]),\n",
       " 'no': array([0.21731173, 0.        , 0.        , ..., 0.        , 0.25483693,\n",
       "        0.        ]),\n",
       " 'not': array([0.        , 0.        , 0.        , ..., 0.        , 0.        ,\n",
       "        0.34317502]),\n",
       " 'of': array([0., 0., 0., ..., 0., 0., 0.]),\n",
       " 'oil': array([0., 0., 0., ..., 0., 0., 0.]),\n",
       " 'olive': array([0., 0., 0., ..., 0., 0., 0.]),\n",
       " 'olives': array([0.        , 0.        , 0.        , ..., 0.31647497, 0.        ,\n",
       "        0.        ]),\n",
       " 'on': array([0., 0., 0., ..., 0., 0., 0.]),\n",
       " 'one': array([0.21455957, 0.        , 0.        , ..., 0.        , 0.25160952,\n",
       "        0.        ]),\n",
       " 'onion': array([0., 0., 0., ..., 0., 0., 0.]),\n",
       " 'onions': array([0.        , 0.        , 0.33805909, ..., 0.        , 0.        ,\n",
       "        0.        ]),\n",
       " 'only': array([0., 0., 0., ..., 0., 0., 0.]),\n",
       " 'order': array([0., 0., 0., ..., 0., 0., 0.]),\n",
       " 'ordering': array([0., 0., 0., ..., 0., 0., 0.]),\n",
       " 'oregano': array([0., 0., 0., ..., 0., 0., 0.]),\n",
       " 'original': array([0., 0., 0., ..., 0., 0., 0.]),\n",
       " 'ounce': array([0., 0., 0., ..., 0., 0., 0.]),\n",
       " 'oz': array([0., 0., 0., ..., 0., 0., 0.]),\n",
       " 'pan': array([0., 0., 0., ..., 0., 0., 0.]),\n",
       " 'parmesan': array([0.        , 0.        , 0.43110867, ..., 0.        , 0.        ,\n",
       "        0.        ]),\n",
       " 'parsley': array([0.        , 0.        , 0.49863728, ..., 0.        , 0.        ,\n",
       "        0.        ]),\n",
       " 'party': array([0.        , 0.19820329, 0.        , ..., 0.        , 0.        ,\n",
       "        0.        ]),\n",
       " 'pea': array([0., 0., 0., ..., 0., 0., 0.]),\n",
       " 'peas': array([0., 0., 0., ..., 0., 0., 0.]),\n",
       " 'pecorino': array([0., 0., 0., ..., 0., 0., 0.]),\n",
       " 'pellegrino': array([0.33223344, 0.        , 0.        , ..., 0.        , 0.        ,\n",
       "        0.        ]),\n",
       " 'pellegrinos': array([0., 0., 0., ..., 0., 0., 0.]),\n",
       " 'peper': array([0., 0., 0., ..., 0., 0., 0.]),\n",
       " 'peperoni': array([0., 0., 0., ..., 0., 0., 0.]),\n",
       " 'peperonis': array([0., 0., 0., ..., 0., 0., 0.]),\n",
       " 'peperonni': array([0., 0., 0., ..., 0., 0., 0.]),\n",
       " 'peperroni': array([0., 0., 0., ..., 0., 0., 0.]),\n",
       " 'peperronni': array([0., 0., 0., ..., 0., 0., 0.]),\n",
       " 'pepers': array([0., 0., 0., ..., 0., 0., 0.]),\n",
       " 'pepper': array([0., 0., 0., ..., 0., 0., 0.]),\n",
       " 'pepperoni': array([0., 0., 0., ..., 0., 0., 0.]),\n",
       " 'pepperonis': array([0., 0., 0., ..., 0., 0., 0.]),\n",
       " 'peppers': array([0., 0., 0., ..., 0., 0., 0.]),\n",
       " 'peppperoni': array([0., 0., 0., ..., 0., 0., 0.]),\n",
       " 'peppperonis': array([0., 0., 0., ..., 0., 0., 0.]),\n",
       " 'pepsi': array([0., 0., 0., ..., 0., 0., 0.]),\n",
       " 'pepsis': array([0., 0., 0., ..., 0., 0., 0.]),\n",
       " 'perrier': array([0.        , 0.        , 0.        , ..., 0.        , 0.50659408,\n",
       "        0.        ]),\n",
       " 'perriers': array([0., 0., 0., ..., 0., 0., 0.]),\n",
       " 'personal': array([0., 0., 0., ..., 0., 0., 0.]),\n",
       " 'pesto': array([0., 0., 0., ..., 0., 0., 0.]),\n",
       " 'pestos': array([0., 0., 0., ..., 0., 0., 0.]),\n",
       " 'pickle': array([0., 0., 0., ..., 0., 0., 0.]),\n",
       " 'pickles': array([0., 0., 0., ..., 0., 0., 0.]),\n",
       " 'pie': array([0., 0., 0., ..., 0., 0., 0.]),\n",
       " 'pies': array([0.        , 0.19333584, 0.        , ..., 0.        , 0.        ,\n",
       "        0.18689582]),\n",
       " 'pineaple': array([0., 0., 0., ..., 0., 0., 0.]),\n",
       " 'pineaples': array([0., 0., 0., ..., 0., 0., 0.]),\n",
       " 'pineapple': array([0.        , 0.        , 0.        , ..., 0.        , 0.        ,\n",
       "        0.32943598]),\n",
       " 'pineapples': array([0., 0., 0., ..., 0., 0., 0.]),\n",
       " 'pizza': array([0.        , 0.        , 0.17693311, ..., 0.15319312, 0.19810955,\n",
       "        0.        ]),\n",
       " 'pizzas': array([0.17197466, 0.17631793, 0.        , ..., 0.        , 0.        ,\n",
       "        0.17044478]),\n",
       " 'place': array([0., 0., 0., ..., 0., 0., 0.]),\n",
       " 'please': array([0., 0., 0., ..., 0., 0., 0.]),\n",
       " 'pork': array([0., 0., 0., ..., 0., 0., 0.]),\n",
       " 'powder': array([0., 0., 0., ..., 0., 0., 0.]),\n",
       " 'prefer': array([0., 0., 0., ..., 0., 0., 0.]),\n",
       " 'pulled': array([0., 0., 0., ..., 0., 0., 0.]),\n",
       " 'put': array([0., 0., 0., ..., 0., 0., 0.]),\n",
       " 'ranch': array([0., 0., 0., ..., 0., 0., 0.]),\n",
       " 'red': array([0., 0., 0., ..., 0., 0., 0.]),\n",
       " 'regular': array([0., 0., 0., ..., 0., 0., 0.]),\n",
       " 'ricotta': array([0., 0., 0., ..., 0., 0., 0.]),\n",
       " 'rise': array([0., 0., 0., ..., 0., 0., 0.]),\n",
       " 'roasted': array([0.        , 0.        , 0.        , ..., 0.25592424, 0.        ,\n",
       "        0.        ]),\n",
       " 'rosemary': array([0., 0., 0., ..., 0., 0., 0.]),\n",
       " 'salami': array([0., 0., 0., ..., 0., 0., 0.]),\n",
       " 'san': array([0.33407842, 0.        , 0.        , ..., 0.        , 0.        ,\n",
       "        0.        ]),\n",
       " 'sauce': array([0., 0., 0., ..., 0., 0., 0.]),\n",
       " 'sausage': array([0., 0., 0., ..., 0., 0., 0.]),\n",
       " 'sausages': array([0., 0., 0., ..., 0., 0., 0.]),\n",
       " 'seven': array([0., 0., 0., ..., 0., 0., 0.]),\n",
       " 'shrimp': array([0., 0., 0., ..., 0., 0., 0.]),\n",
       " 'shrimps': array([0., 0., 0., ..., 0., 0., 0.]),\n",
       " 'six': array([0., 0., 0., ..., 0., 0., 0.]),\n",
       " 'sixteen': array([0., 0., 0., ..., 0., 0., 0.]),\n",
       " 'size': array([0., 0., 0., ..., 0., 0., 0.]),\n",
       " 'sized': array([0.        , 0.21002914, 0.21455095, ..., 0.        , 0.        ,\n",
       "        0.20303307]),\n",
       " 'skip': array([0., 0., 0., ..., 0., 0., 0.]),\n",
       " 'small': array([0., 0., 0., ..., 0., 0., 0.]),\n",
       " 'soda': array([0., 0., 0., ..., 0., 0., 0.]),\n",
       " 'sodas': array([0., 0., 0., ..., 0., 0., 0.]),\n",
       " 'sourdough': array([0., 0., 0., ..., 0., 0., 0.]),\n",
       " 'spiced': array([0., 0., 0., ..., 0., 0., 0.]),\n",
       " 'spicy': array([0., 0., 0., ..., 0., 0., 0.]),\n",
       " 'spinach': array([0., 0., 0., ..., 0., 0., 0.]),\n",
       " 'sprite': array([0.        , 0.        , 0.        , ..., 0.        , 0.27456058,\n",
       "        0.        ]),\n",
       " 'sprites': array([0., 0., 0., ..., 0., 0., 0.]),\n",
       " 'start': array([0., 0., 0., ..., 0., 0., 0.]),\n",
       " 'stuffed': array([0., 0., 0., ..., 0., 0., 0.]),\n",
       " 'style': array([0., 0., 0., ..., 0., 0., 0.]),\n",
       " 'supreme': array([0., 0., 0., ..., 0., 0., 0.]),\n",
       " 'take': array([0., 0., 0., ..., 0., 0., 0.]),\n",
       " 'tea': array([0., 0., 0., ..., 0., 0., 0.]),\n",
       " 'teas': array([0., 0., 0., ..., 0., 0., 0.]),\n",
       " 'ten': array([0., 0., 0., ..., 0., 0., 0.]),\n",
       " 'thanks': array([0., 0., 0., ..., 0., 0., 0.]),\n",
       " 'that': array([0., 0., 0., ..., 0., 0., 0.]),\n",
       " 'the': array([0.        , 0.        , 0.        , ..., 0.29406858, 0.        ,\n",
       "        0.        ]),\n",
       " 'them': array([0., 0., 0., ..., 0., 0., 0.]),\n",
       " 'thick': array([0., 0., 0., ..., 0., 0., 0.]),\n",
       " 'thin': array([0.        , 0.        , 0.        , ..., 0.24330303, 0.        ,\n",
       "        0.        ]),\n",
       " 'thirteen': array([0., 0., 0., ..., 0., 0., 0.]),\n",
       " 'this': array([0., 0., 0., ..., 0., 0., 0.]),\n",
       " 'though': array([0., 0., 0., ..., 0., 0., 0.]),\n",
       " 'three': array([0.15850592, 0.32501806, 0.        , ..., 0.        , 0.18587658,\n",
       "        0.        ]),\n",
       " 'three-liter': array([0., 0., 0., ..., 0., 0., 0.]),\n",
       " 'tiny': array([0., 0., 0., ..., 0., 0., 0.]),\n",
       " 'to': array([0., 0., 0., ..., 0., 0., 0.]),\n",
       " 'tomato': array([0.       , 0.3521597, 0.       , ..., 0.       , 0.       ,\n",
       "        0.       ]),\n",
       " 'tomatoes': array([0., 0., 0., ..., 0., 0., 0.]),\n",
       " 'top': array([0., 0., 0., ..., 0., 0., 0.]),\n",
       " 'topping': array([0., 0., 0., ..., 0., 0., 0.]),\n",
       " 'toppings': array([0., 0., 0., ..., 0., 0., 0.]),\n",
       " 'try': array([0., 0., 0., ..., 0., 0., 0.]),\n",
       " 'tuna': array([0., 0., 0., ..., 0., 0., 0.]),\n",
       " 'tunas': array([0., 0., 0., ..., 0., 0., 0.]),\n",
       " 'twelve': array([0., 0., 0., ..., 0., 0., 0.]),\n",
       " 'two': array([0.        , 0.        , 0.        , ..., 0.        , 0.        ,\n",
       "        0.22879813]),\n",
       " 'two-liter': array([0., 0., 0., ..., 0., 0., 0.]),\n",
       " 'up': array([0., 0., 0., ..., 0., 0., 0.]),\n",
       " 'ups': array([0., 0., 0., ..., 0., 0., 0.]),\n",
       " 'vegan': array([0., 0., 0., ..., 0., 0., 0.]),\n",
       " 'vegetables': array([0., 0., 0., ..., 0., 0., 0.]),\n",
       " 'vegetarian': array([0., 0., 0., ..., 0., 0., 0.]),\n",
       " 'veggie': array([0., 0., 0., ..., 0., 0., 0.]),\n",
       " 'veggies': array([0., 0., 0., ..., 0., 0., 0.]),\n",
       " 'want': array([0., 0., 0., ..., 0., 0., 0.]),\n",
       " 'wanted': array([0., 0., 0., ..., 0., 0., 0.]),\n",
       " 'wanting': array([0., 0., 0., ..., 0., 0., 0.]),\n",
       " 'was': array([0., 0., 0., ..., 0., 0., 0.]),\n",
       " 'water': array([0.49328381, 0.        , 0.        , ..., 0.        , 0.        ,\n",
       "        0.        ]),\n",
       " 'waters': array([0., 0., 0., ..., 0., 0., 0.]),\n",
       " 'white': array([0., 0., 0., ..., 0., 0., 0.]),\n",
       " 'wish': array([0., 0., 0., ..., 0., 0., 0.]),\n",
       " 'with': array([0.        , 0.21425209, 0.10943241, ..., 0.09474932, 0.12252995,\n",
       "        0.20711536]),\n",
       " 'without': array([0., 0., 0., ..., 0., 0., 0.]),\n",
       " \"won't\": array([0., 0., 0., ..., 0., 0., 0.]),\n",
       " 'wood': array([0., 0., 0., ..., 0., 0., 0.]),\n",
       " 'works': array([0., 0., 0., ..., 0., 0., 0.]),\n",
       " 'would': array([0., 0., 0., ..., 0., 0., 0.]),\n",
       " 'yellow': array([0., 0., 0., ..., 0., 0., 0.]),\n",
       " 'york': array([0., 0., 0., ..., 0., 0., 0.]),\n",
       " 'yorker': array([0., 0., 0., ..., 0., 0., 0.]),\n",
       " 'you': array([0., 0., 0., ..., 0., 0., 0.]),\n",
       " 'zero': array([0., 0., 0., ..., 0., 0., 0.]),\n",
       " 'zeroes': array([0., 0., 0., ..., 0., 0., 0.]),\n",
       " 'zeros': array([0., 0., 0., ..., 0., 0., 0.])}"
      ]
     },
     "execution_count": 7,
     "metadata": {},
     "output_type": "execute_result"
    }
   ],
   "source": [
    "tfidf_embeddings"
   ]
  },
  {
   "cell_type": "code",
   "execution_count": 16,
   "metadata": {
    "execution": {
     "iopub.execute_input": "2024-12-06T21:16:59.519385Z",
     "iopub.status.busy": "2024-12-06T21:16:59.518905Z",
     "iopub.status.idle": "2024-12-06T21:16:59.527621Z",
     "shell.execute_reply": "2024-12-06T21:16:59.526400Z",
     "shell.execute_reply.started": "2024-12-06T21:16:59.519336Z"
    },
    "trusted": true
   },
   "outputs": [
    {
     "data": {
      "text/plain": [
       "(2100467, 355)"
      ]
     },
     "execution_count": 16,
     "metadata": {},
     "output_type": "execute_result"
    }
   ],
   "source": [
    "tfidf_features.shape"
   ]
  },
  {
   "cell_type": "code",
   "execution_count": 17,
   "metadata": {
    "execution": {
     "iopub.execute_input": "2024-12-06T21:16:59.529430Z",
     "iopub.status.busy": "2024-12-06T21:16:59.529117Z",
     "iopub.status.idle": "2024-12-06T21:16:59.540905Z",
     "shell.execute_reply": "2024-12-06T21:16:59.539886Z",
     "shell.execute_reply.started": "2024-12-06T21:16:59.529399Z"
    },
    "trusted": true
   },
   "outputs": [],
   "source": [
    "# vocab = vectorizer.get_feature_names_out()\n",
    "# docterm = pd.DataFrame(tfidf_features.todense(), columns=vocab)"
   ]
  },
  {
   "cell_type": "code",
   "execution_count": 18,
   "metadata": {
    "execution": {
     "iopub.execute_input": "2024-12-06T21:16:59.585814Z",
     "iopub.status.busy": "2024-12-06T21:16:59.585337Z",
     "iopub.status.idle": "2024-12-06T21:16:59.596870Z",
     "shell.execute_reply": "2024-12-06T21:16:59.595686Z",
     "shell.execute_reply.started": "2024-12-06T21:16:59.585758Z"
    },
    "trusted": true
   },
   "outputs": [
    {
     "data": {
      "text/plain": [
       "141"
      ]
     },
     "execution_count": 18,
     "metadata": {},
     "output_type": "execute_result"
    }
   ],
   "source": [
    "vectorizer.vocabulary_[\"i'd\"]"
   ]
  },
  {
   "cell_type": "code",
   "execution_count": 19,
   "metadata": {
    "execution": {
     "iopub.execute_input": "2024-12-06T21:16:59.598947Z",
     "iopub.status.busy": "2024-12-06T21:16:59.598446Z",
     "iopub.status.idle": "2024-12-06T21:16:59.612845Z",
     "shell.execute_reply": "2024-12-06T21:16:59.611786Z",
     "shell.execute_reply.started": "2024-12-06T21:16:59.598911Z"
    },
    "trusted": true
   },
   "outputs": [
    {
     "data": {
      "text/plain": [
       "array([0., 0., 0., ..., 0., 0., 0.])"
      ]
     },
     "execution_count": 19,
     "metadata": {},
     "output_type": "execute_result"
    }
   ],
   "source": [
    "tfidf_features[:, vectorizer.vocabulary_.get(\"you\", 0)].toarray().reshape(-1)"
   ]
  },
  {
   "cell_type": "code",
   "execution_count": 20,
   "metadata": {},
   "outputs": [
    {
     "data": {
      "text/plain": [
       "5283.5859375"
      ]
     },
     "execution_count": 20,
     "metadata": {},
     "output_type": "execute_result"
    }
   ],
   "source": [
    "memory_usage()"
   ]
  }
 ],
 "metadata": {
  "kaggle": {
   "accelerator": "none",
   "dataSources": [
    {
     "datasetId": 6200837,
     "sourceId": 10062018,
     "sourceType": "datasetVersion"
    }
   ],
   "dockerImageVersionId": 30787,
   "isGpuEnabled": false,
   "isInternetEnabled": true,
   "language": "python",
   "sourceType": "notebook"
  },
  "kernelspec": {
   "display_name": "env",
   "language": "python",
   "name": "python3"
  },
  "language_info": {
   "codemirror_mode": {
    "name": "ipython",
    "version": 3
   },
   "file_extension": ".py",
   "mimetype": "text/x-python",
   "name": "python",
   "nbconvert_exporter": "python",
   "pygments_lexer": "ipython3",
   "version": "3.10.6"
  }
 },
 "nbformat": 4,
 "nbformat_minor": 4
}
