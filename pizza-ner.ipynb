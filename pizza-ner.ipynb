{
 "cells": [
  {
   "cell_type": "markdown",
   "id": "cb690056",
   "metadata": {
    "papermill": {
     "duration": 0.016892,
     "end_time": "2024-12-06T21:23:54.768492",
     "exception": false,
     "start_time": "2024-12-06T21:23:54.751600",
     "status": "completed"
    },
    "tags": []
   },
   "source": [
    "# Setup"
   ]
  },
  {
   "cell_type": "markdown",
   "id": "dcdcfe91",
   "metadata": {
    "papermill": {
     "duration": 0.014746,
     "end_time": "2024-12-06T21:23:54.798179",
     "exception": false,
     "start_time": "2024-12-06T21:23:54.783433",
     "status": "completed"
    },
    "tags": []
   },
   "source": [
    "## Imports"
   ]
  },
  {
   "cell_type": "code",
   "execution_count": 1,
   "id": "e1d02163",
   "metadata": {
    "execution": {
     "iopub.execute_input": "2024-12-06T21:23:54.829134Z",
     "iopub.status.busy": "2024-12-06T21:23:54.828723Z",
     "iopub.status.idle": "2024-12-06T21:24:06.744083Z",
     "shell.execute_reply": "2024-12-06T21:24:06.742777Z"
    },
    "papermill": {
     "duration": 11.934041,
     "end_time": "2024-12-06T21:24:06.746696",
     "exception": false,
     "start_time": "2024-12-06T21:23:54.812655",
     "status": "completed"
    },
    "tags": []
   },
   "outputs": [
    {
     "name": "stdout",
     "output_type": "stream",
     "text": [
      "Collecting sklearn_crfsuite\r\n",
      "  Downloading sklearn_crfsuite-0.5.0-py2.py3-none-any.whl.metadata (4.9 kB)\r\n",
      "Collecting python-crfsuite>=0.9.7 (from sklearn_crfsuite)\r\n",
      "  Downloading python_crfsuite-0.9.11-cp310-cp310-manylinux_2_17_x86_64.manylinux2014_x86_64.whl.metadata (4.3 kB)\r\n",
      "Requirement already satisfied: scikit-learn>=0.24.0 in /opt/conda/lib/python3.10/site-packages (from sklearn_crfsuite) (1.2.2)\r\n",
      "Requirement already satisfied: tabulate>=0.4.2 in /opt/conda/lib/python3.10/site-packages (from sklearn_crfsuite) (0.9.0)\r\n",
      "Requirement already satisfied: tqdm>=2.0 in /opt/conda/lib/python3.10/site-packages (from sklearn_crfsuite) (4.66.4)\r\n",
      "Requirement already satisfied: numpy>=1.17.3 in /opt/conda/lib/python3.10/site-packages (from scikit-learn>=0.24.0->sklearn_crfsuite) (1.26.4)\r\n",
      "Requirement already satisfied: scipy>=1.3.2 in /opt/conda/lib/python3.10/site-packages (from scikit-learn>=0.24.0->sklearn_crfsuite) (1.14.1)\r\n",
      "Requirement already satisfied: joblib>=1.1.1 in /opt/conda/lib/python3.10/site-packages (from scikit-learn>=0.24.0->sklearn_crfsuite) (1.4.2)\r\n",
      "Requirement already satisfied: threadpoolctl>=2.0.0 in /opt/conda/lib/python3.10/site-packages (from scikit-learn>=0.24.0->sklearn_crfsuite) (3.5.0)\r\n",
      "Downloading sklearn_crfsuite-0.5.0-py2.py3-none-any.whl (10 kB)\r\n",
      "Downloading python_crfsuite-0.9.11-cp310-cp310-manylinux_2_17_x86_64.manylinux2014_x86_64.whl (1.2 MB)\r\n",
      "\u001b[2K   \u001b[90m━━━━━━━━━━━━━━━━━━━━━━━━━━━━━━━━━━━━━━━━\u001b[0m \u001b[32m1.2/1.2 MB\u001b[0m \u001b[31m20.6 MB/s\u001b[0m eta \u001b[36m0:00:00\u001b[0m\r\n",
      "\u001b[?25hInstalling collected packages: python-crfsuite, sklearn_crfsuite\r\n",
      "Successfully installed python-crfsuite-0.9.11 sklearn_crfsuite-0.5.0\r\n"
     ]
    }
   ],
   "source": [
    "!pip install sklearn_crfsuite"
   ]
  },
  {
   "cell_type": "code",
   "execution_count": 2,
   "id": "ce8af22a",
   "metadata": {
    "execution": {
     "iopub.execute_input": "2024-12-06T21:24:06.780212Z",
     "iopub.status.busy": "2024-12-06T21:24:06.779790Z",
     "iopub.status.idle": "2024-12-06T21:24:29.456005Z",
     "shell.execute_reply": "2024-12-06T21:24:29.455092Z"
    },
    "papermill": {
     "duration": 22.695324,
     "end_time": "2024-12-06T21:24:29.458302",
     "exception": false,
     "start_time": "2024-12-06T21:24:06.762978",
     "status": "completed"
    },
    "tags": []
   },
   "outputs": [],
   "source": [
    "# General\n",
    "import numpy as np\n",
    "import pandas as pd\n",
    "import matplotlib.pyplot as plt\n",
    "import seaborn as sns\n",
    "import string\n",
    "import re\n",
    "import os\n",
    "import tqdm\n",
    "\n",
    "import spacy\n",
    "# Load spacy model for lemmatization\n",
    "nlp = spacy.load(\"en_core_web_sm\")\n",
    "\n",
    "# Preprocessing\n",
    "from sklearn.preprocessing import LabelEncoder\n",
    "from sklearn.feature_extraction.text import TfidfVectorizer\n",
    "from gensim.models import Word2Vec\n",
    "from nltk.tokenize import regexp_tokenize\n",
    "\n",
    "# Models\n",
    "from sklearn_crfsuite import CRF\n",
    "import torch\n",
    "\n",
    "# Evaluation metrics\n",
    "from sklearn.metrics import accuracy_score, precision_score, recall_score, f1_score"
   ]
  },
  {
   "cell_type": "code",
   "execution_count": 3,
   "id": "251f23b0",
   "metadata": {
    "execution": {
     "iopub.execute_input": "2024-12-06T21:24:29.493949Z",
     "iopub.status.busy": "2024-12-06T21:24:29.493069Z",
     "iopub.status.idle": "2024-12-06T21:24:29.504439Z",
     "shell.execute_reply": "2024-12-06T21:24:29.503226Z"
    },
    "papermill": {
     "duration": 0.032314,
     "end_time": "2024-12-06T21:24:29.507063",
     "exception": false,
     "start_time": "2024-12-06T21:24:29.474749",
     "status": "completed"
    },
    "tags": []
   },
   "outputs": [
    {
     "data": {
      "text/plain": [
       "device(type='cpu')"
      ]
     },
     "execution_count": 3,
     "metadata": {},
     "output_type": "execute_result"
    }
   ],
   "source": [
    "device = torch.device(\"cuda\" if torch.cuda.is_available() else \"cpu\")\n",
    "device"
   ]
  },
  {
   "cell_type": "markdown",
   "id": "2cbd050d",
   "metadata": {
    "papermill": {
     "duration": 0.027326,
     "end_time": "2024-12-06T21:24:29.553716",
     "exception": false,
     "start_time": "2024-12-06T21:24:29.526390",
     "status": "completed"
    },
    "tags": []
   },
   "source": [
    "## Config"
   ]
  },
  {
   "cell_type": "code",
   "execution_count": 4,
   "id": "fdd7b509",
   "metadata": {
    "execution": {
     "iopub.execute_input": "2024-12-06T21:24:29.599562Z",
     "iopub.status.busy": "2024-12-06T21:24:29.599154Z",
     "iopub.status.idle": "2024-12-06T21:24:29.605146Z",
     "shell.execute_reply": "2024-12-06T21:24:29.604233Z"
    },
    "papermill": {
     "duration": 0.029308,
     "end_time": "2024-12-06T21:24:29.607335",
     "exception": false,
     "start_time": "2024-12-06T21:24:29.578027",
     "status": "completed"
    },
    "tags": []
   },
   "outputs": [],
   "source": [
    "pd.set_option('display.max_colwidth', 1000) # Show all content of the cells\n",
    "# # Undo with \n",
    "# pd.reset_option('display.max_colwidth')\n",
    "\n",
    "# config tqdm for pandas\n",
    "tqdm.tqdm.pandas()"
   ]
  },
  {
   "cell_type": "code",
   "execution_count": 5,
   "id": "ae3add00",
   "metadata": {
    "execution": {
     "iopub.execute_input": "2024-12-06T21:24:29.640904Z",
     "iopub.status.busy": "2024-12-06T21:24:29.640547Z",
     "iopub.status.idle": "2024-12-06T21:24:29.645671Z",
     "shell.execute_reply": "2024-12-06T21:24:29.644571Z"
    },
    "papermill": {
     "duration": 0.023889,
     "end_time": "2024-12-06T21:24:29.647823",
     "exception": false,
     "start_time": "2024-12-06T21:24:29.623934",
     "status": "completed"
    },
    "tags": []
   },
   "outputs": [],
   "source": [
    "DATASET_PATH = \"/kaggle/input/pizza-dataset\"\n",
    "OUTPUT_ROOT_PATH = \"/kaggle/working\"\n",
    "MODELS_PATH = OUTPUT_ROOT_PATH + \"/models\"\n",
    "PYTORCH_MODELS_PATH = MODELS_PATH + \"/checkpoints\""
   ]
  },
  {
   "cell_type": "code",
   "execution_count": 6,
   "id": "2088846a",
   "metadata": {
    "execution": {
     "iopub.execute_input": "2024-12-06T21:24:29.680496Z",
     "iopub.status.busy": "2024-12-06T21:24:29.680089Z",
     "iopub.status.idle": "2024-12-06T21:24:30.861556Z",
     "shell.execute_reply": "2024-12-06T21:24:30.860273Z"
    },
    "papermill": {
     "duration": 1.200696,
     "end_time": "2024-12-06T21:24:30.864175",
     "exception": false,
     "start_time": "2024-12-06T21:24:29.663479",
     "status": "completed"
    },
    "tags": []
   },
   "outputs": [],
   "source": [
    "!mkdir {MODELS_PATH} {PYTORCH_MODELS_PATH}\n",
    "# !rmdir {MODELS_PATH} {PYTORCH_MODELS_PATH}"
   ]
  },
  {
   "cell_type": "code",
   "execution_count": 7,
   "id": "360974f2",
   "metadata": {
    "execution": {
     "iopub.execute_input": "2024-12-06T21:24:30.897081Z",
     "iopub.status.busy": "2024-12-06T21:24:30.896622Z",
     "iopub.status.idle": "2024-12-06T21:24:30.902095Z",
     "shell.execute_reply": "2024-12-06T21:24:30.901171Z"
    },
    "papermill": {
     "duration": 0.024607,
     "end_time": "2024-12-06T21:24:30.904247",
     "exception": false,
     "start_time": "2024-12-06T21:24:30.879640",
     "status": "completed"
    },
    "tags": []
   },
   "outputs": [],
   "source": [
    "# token_pattern=r\"(?u)\\b\\w+\\b\"\n",
    "token_pattern=r\"(?u)\\b\\w+(?:'\\w+)?(?:-\\w+)*\\b\""
   ]
  },
  {
   "cell_type": "markdown",
   "id": "2eb50a88",
   "metadata": {
    "papermill": {
     "duration": 0.015374,
     "end_time": "2024-12-06T21:24:30.934960",
     "exception": false,
     "start_time": "2024-12-06T21:24:30.919586",
     "status": "completed"
    },
    "tags": []
   },
   "source": [
    "# Load Dataset"
   ]
  },
  {
   "cell_type": "code",
   "execution_count": 8,
   "id": "81323d9f",
   "metadata": {
    "execution": {
     "iopub.execute_input": "2024-12-06T21:24:30.967129Z",
     "iopub.status.busy": "2024-12-06T21:24:30.966698Z",
     "iopub.status.idle": "2024-12-06T21:24:31.018674Z",
     "shell.execute_reply": "2024-12-06T21:24:31.017544Z"
    },
    "papermill": {
     "duration": 0.070838,
     "end_time": "2024-12-06T21:24:31.021019",
     "exception": false,
     "start_time": "2024-12-06T21:24:30.950181",
     "status": "completed"
    },
    "tags": []
   },
   "outputs": [
    {
     "data": {
      "text/html": [
       "<div>\n",
       "<style scoped>\n",
       "    .dataframe tbody tr th:only-of-type {\n",
       "        vertical-align: middle;\n",
       "    }\n",
       "\n",
       "    .dataframe tbody tr th {\n",
       "        vertical-align: top;\n",
       "    }\n",
       "\n",
       "    .dataframe thead th {\n",
       "        text-align: right;\n",
       "    }\n",
       "</style>\n",
       "<table border=\"1\" class=\"dataframe\">\n",
       "  <thead>\n",
       "    <tr style=\"text-align: right;\">\n",
       "      <th></th>\n",
       "      <th>dev.SRC</th>\n",
       "      <th>dev.EXR</th>\n",
       "      <th>dev.TOP</th>\n",
       "      <th>dev.PCFG_ERR</th>\n",
       "    </tr>\n",
       "  </thead>\n",
       "  <tbody>\n",
       "    <tr>\n",
       "      <th>0</th>\n",
       "      <td>i want to order two medium pizzas with sausage and black olives and two medium pizzas with pepperoni and extra cheese and three large pizzas with pepperoni and sausage</td>\n",
       "      <td>(ORDER (PIZZAORDER (NUMBER 2 ) (SIZE MEDIUM ) (COMPLEX_TOPPING (QUANTITY EXTRA ) (TOPPING CHEESE ) ) (TOPPING PEPPERONI ) ) (PIZZAORDER (NUMBER 2 ) (SIZE MEDIUM ) (TOPPING OLIVES ) (TOPPING SAUSAGE ) ) (PIZZAORDER (NUMBER 3 ) (SIZE LARGE ) (TOPPING PEPPERONI ) (TOPPING SAUSAGE ) ) )</td>\n",
       "      <td>(ORDER i want to order (PIZZAORDER (NUMBER two ) (SIZE medium ) pizzas with (TOPPING sausage ) and (TOPPING black olives ) ) and (PIZZAORDER (NUMBER two ) (SIZE medium ) pizzas with (TOPPING pepperoni ) and (COMPLEX_TOPPING (QUANTITY extra ) (TOPPING cheese ) ) ) and (PIZZAORDER (NUMBER three ) (SIZE large ) pizzas with (TOPPING pepperoni ) and (TOPPING sausage ) ) )</td>\n",
       "      <td>False</td>\n",
       "    </tr>\n",
       "    <tr>\n",
       "      <th>1</th>\n",
       "      <td>five medium pizzas with tomatoes and ham</td>\n",
       "      <td>(ORDER (PIZZAORDER (NUMBER 5 ) (SIZE MEDIUM ) (TOPPING HAM ) (TOPPING TOMATOES ) ) )</td>\n",
       "      <td>(ORDER (PIZZAORDER (NUMBER five ) (SIZE medium ) pizzas with (TOPPING tomatoes ) and (TOPPING ham ) ) )</td>\n",
       "      <td>False</td>\n",
       "    </tr>\n",
       "    <tr>\n",
       "      <th>2</th>\n",
       "      <td>i need to order one large vegetarian pizza with extra banana peppers</td>\n",
       "      <td>(ORDER (PIZZAORDER (NUMBER 1 ) (SIZE LARGE ) (STYLE VEGETARIAN ) (COMPLEX_TOPPING (QUANTITY EXTRA ) (TOPPING BANANA_PEPPERS ) ) ) )</td>\n",
       "      <td>(ORDER i need to order (PIZZAORDER (NUMBER one ) (SIZE large ) (STYLE vegetarian ) pizza with (COMPLEX_TOPPING (QUANTITY extra ) (TOPPING banana peppers ) ) ) )</td>\n",
       "      <td>False</td>\n",
       "    </tr>\n",
       "    <tr>\n",
       "      <th>3</th>\n",
       "      <td>i'd like to order a large onion and pepper pizza</td>\n",
       "      <td>(ORDER (PIZZAORDER (NUMBER 1 ) (SIZE LARGE ) (TOPPING ONIONS ) (TOPPING PEPPERS ) ) )</td>\n",
       "      <td>(ORDER i'd like to order (PIZZAORDER (NUMBER a ) (SIZE large ) (TOPPING onion ) and (TOPPING pepper ) pizza ) )</td>\n",
       "      <td>False</td>\n",
       "    </tr>\n",
       "    <tr>\n",
       "      <th>4</th>\n",
       "      <td>i'll have one pie along with pesto and ham but avoid olives</td>\n",
       "      <td>(ORDER (PIZZAORDER (NOT (TOPPING OLIVES ) ) (NUMBER 1 ) (TOPPING HAM ) (TOPPING PESTO ) ) )</td>\n",
       "      <td>(ORDER i'll have (PIZZAORDER (NUMBER one ) pie along with (TOPPING pesto ) and (TOPPING ham ) but avoid (NOT (TOPPING olives ) ) ) )</td>\n",
       "      <td>False</td>\n",
       "    </tr>\n",
       "  </tbody>\n",
       "</table>\n",
       "</div>"
      ],
      "text/plain": [
       "                                                                                                                                                                   dev.SRC  \\\n",
       "0  i want to order two medium pizzas with sausage and black olives and two medium pizzas with pepperoni and extra cheese and three large pizzas with pepperoni and sausage   \n",
       "1                                                                                                                                 five medium pizzas with tomatoes and ham   \n",
       "2                                                                                                     i need to order one large vegetarian pizza with extra banana peppers   \n",
       "3                                                                                                                         i'd like to order a large onion and pepper pizza   \n",
       "4                                                                                                              i'll have one pie along with pesto and ham but avoid olives   \n",
       "\n",
       "                                                                                                                                                                                                                                                                                       dev.EXR  \\\n",
       "0  (ORDER (PIZZAORDER (NUMBER 2 ) (SIZE MEDIUM ) (COMPLEX_TOPPING (QUANTITY EXTRA ) (TOPPING CHEESE ) ) (TOPPING PEPPERONI ) ) (PIZZAORDER (NUMBER 2 ) (SIZE MEDIUM ) (TOPPING OLIVES ) (TOPPING SAUSAGE ) ) (PIZZAORDER (NUMBER 3 ) (SIZE LARGE ) (TOPPING PEPPERONI ) (TOPPING SAUSAGE ) ) )   \n",
       "1                                                                                                                                                                                                         (ORDER (PIZZAORDER (NUMBER 5 ) (SIZE MEDIUM ) (TOPPING HAM ) (TOPPING TOMATOES ) ) )   \n",
       "2                                                                                                                                                          (ORDER (PIZZAORDER (NUMBER 1 ) (SIZE LARGE ) (STYLE VEGETARIAN ) (COMPLEX_TOPPING (QUANTITY EXTRA ) (TOPPING BANANA_PEPPERS ) ) ) )   \n",
       "3                                                                                                                                                                                                        (ORDER (PIZZAORDER (NUMBER 1 ) (SIZE LARGE ) (TOPPING ONIONS ) (TOPPING PEPPERS ) ) )   \n",
       "4                                                                                                                                                                                                  (ORDER (PIZZAORDER (NOT (TOPPING OLIVES ) ) (NUMBER 1 ) (TOPPING HAM ) (TOPPING PESTO ) ) )   \n",
       "\n",
       "                                                                                                                                                                                                                                                                                                                                                                             dev.TOP  \\\n",
       "0  (ORDER i want to order (PIZZAORDER (NUMBER two ) (SIZE medium ) pizzas with (TOPPING sausage ) and (TOPPING black olives ) ) and (PIZZAORDER (NUMBER two ) (SIZE medium ) pizzas with (TOPPING pepperoni ) and (COMPLEX_TOPPING (QUANTITY extra ) (TOPPING cheese ) ) ) and (PIZZAORDER (NUMBER three ) (SIZE large ) pizzas with (TOPPING pepperoni ) and (TOPPING sausage ) ) )   \n",
       "1                                                                                                                                                                                                                                                                            (ORDER (PIZZAORDER (NUMBER five ) (SIZE medium ) pizzas with (TOPPING tomatoes ) and (TOPPING ham ) ) )   \n",
       "2                                                                                                                                                                                                                   (ORDER i need to order (PIZZAORDER (NUMBER one ) (SIZE large ) (STYLE vegetarian ) pizza with (COMPLEX_TOPPING (QUANTITY extra ) (TOPPING banana peppers ) ) ) )   \n",
       "3                                                                                                                                                                                                                                                                    (ORDER i'd like to order (PIZZAORDER (NUMBER a ) (SIZE large ) (TOPPING onion ) and (TOPPING pepper ) pizza ) )   \n",
       "4                                                                                                                                                                                                                                               (ORDER i'll have (PIZZAORDER (NUMBER one ) pie along with (TOPPING pesto ) and (TOPPING ham ) but avoid (NOT (TOPPING olives ) ) ) )   \n",
       "\n",
       "  dev.PCFG_ERR  \n",
       "0        False  \n",
       "1        False  \n",
       "2        False  \n",
       "3        False  \n",
       "4        False  "
      ]
     },
     "execution_count": 8,
     "metadata": {},
     "output_type": "execute_result"
    }
   ],
   "source": [
    "df_dev = pd.read_json(DATASET_PATH + '/dataset/PIZZA_dev.json', lines=True)\n",
    "df_dev.head()"
   ]
  },
  {
   "cell_type": "code",
   "execution_count": 9,
   "id": "47cb5118",
   "metadata": {
    "execution": {
     "iopub.execute_input": "2024-12-06T21:24:31.054579Z",
     "iopub.status.busy": "2024-12-06T21:24:31.054186Z",
     "iopub.status.idle": "2024-12-06T21:25:00.585564Z",
     "shell.execute_reply": "2024-12-06T21:25:00.584247Z"
    },
    "papermill": {
     "duration": 29.55093,
     "end_time": "2024-12-06T21:25:00.587890",
     "exception": false,
     "start_time": "2024-12-06T21:24:31.036960",
     "status": "completed"
    },
    "tags": []
   },
   "outputs": [
    {
     "data": {
      "text/html": [
       "<div>\n",
       "<style scoped>\n",
       "    .dataframe tbody tr th:only-of-type {\n",
       "        vertical-align: middle;\n",
       "    }\n",
       "\n",
       "    .dataframe tbody tr th {\n",
       "        vertical-align: top;\n",
       "    }\n",
       "\n",
       "    .dataframe thead th {\n",
       "        text-align: right;\n",
       "    }\n",
       "</style>\n",
       "<table border=\"1\" class=\"dataframe\">\n",
       "  <thead>\n",
       "    <tr style=\"text-align: right;\">\n",
       "      <th></th>\n",
       "      <th>train.SRC</th>\n",
       "      <th>train.EXR</th>\n",
       "      <th>train.TOP</th>\n",
       "      <th>train.TOP-DECOUPLED</th>\n",
       "    </tr>\n",
       "  </thead>\n",
       "  <tbody>\n",
       "    <tr>\n",
       "      <th>0</th>\n",
       "      <td>can i have a large bbq pulled pork</td>\n",
       "      <td>(ORDER (PIZZAORDER (NUMBER 1 ) (SIZE LARGE ) (TOPPING BBQ_PULLED_PORK ) ) )</td>\n",
       "      <td>(ORDER can i have (PIZZAORDER (NUMBER a ) (SIZE large ) (TOPPING bbq pulled pork ) ) )</td>\n",
       "      <td>(ORDER (PIZZAORDER (NUMBER a ) (SIZE large ) (TOPPING bbq pulled pork ) ) )</td>\n",
       "    </tr>\n",
       "    <tr>\n",
       "      <th>1</th>\n",
       "      <td>large pie with green pepper and with extra peperonni</td>\n",
       "      <td>(ORDER (PIZZAORDER (NUMBER 1 ) (SIZE LARGE ) (TOPPING GREEN_PEPPERS ) (COMPLEX_TOPPING (QUANTITY EXTRA ) (TOPPING PEPPERONI ) ) ) )</td>\n",
       "      <td>(ORDER (PIZZAORDER (SIZE large ) pie with (TOPPING green pepper ) and with (COMPLEX_TOPPING (QUANTITY extra ) (TOPPING peperonni ) ) ) )</td>\n",
       "      <td>(ORDER (PIZZAORDER (SIZE large ) (TOPPING green pepper ) (COMPLEX_TOPPING (QUANTITY extra ) (TOPPING peperonni ) ) ) )</td>\n",
       "    </tr>\n",
       "    <tr>\n",
       "      <th>2</th>\n",
       "      <td>i'd like a large vegetarian pizza</td>\n",
       "      <td>(ORDER (PIZZAORDER (NUMBER 1 ) (SIZE LARGE ) (STYLE VEGETARIAN ) ) )</td>\n",
       "      <td>(ORDER i'd like (PIZZAORDER (NUMBER a ) (SIZE large ) (STYLE vegetarian ) pizza ) )</td>\n",
       "      <td>(ORDER (PIZZAORDER (NUMBER a ) (SIZE large ) (STYLE vegetarian ) ) )</td>\n",
       "    </tr>\n",
       "    <tr>\n",
       "      <th>3</th>\n",
       "      <td>party size stuffed crust pie with american cheese and with mushroom</td>\n",
       "      <td>(ORDER (PIZZAORDER (NUMBER 1 ) (SIZE PARTY_SIZE ) (STYLE STUFFED_CRUST ) (TOPPING AMERICAN_CHEESE ) (TOPPING MUSHROOMS ) ) )</td>\n",
       "      <td>(ORDER (PIZZAORDER (SIZE party size ) (STYLE stuffed crust ) pie with (TOPPING american cheese ) and with (TOPPING mushroom ) ) )</td>\n",
       "      <td>(ORDER (PIZZAORDER (SIZE party size ) (STYLE stuffed crust ) (TOPPING american cheese ) (TOPPING mushroom ) ) )</td>\n",
       "    </tr>\n",
       "    <tr>\n",
       "      <th>4</th>\n",
       "      <td>can i have one personal sized artichoke</td>\n",
       "      <td>(ORDER (PIZZAORDER (NUMBER 1 ) (SIZE PERSONAL_SIZE ) (TOPPING ARTICHOKES ) ) )</td>\n",
       "      <td>(ORDER can i have (PIZZAORDER (NUMBER one ) (SIZE personal sized ) (TOPPING artichoke ) ) )</td>\n",
       "      <td>(ORDER (PIZZAORDER (NUMBER one ) (SIZE personal sized ) (TOPPING artichoke ) ) )</td>\n",
       "    </tr>\n",
       "  </tbody>\n",
       "</table>\n",
       "</div>"
      ],
      "text/plain": [
       "                                                             train.SRC  \\\n",
       "0                                   can i have a large bbq pulled pork   \n",
       "1                 large pie with green pepper and with extra peperonni   \n",
       "2                                    i'd like a large vegetarian pizza   \n",
       "3  party size stuffed crust pie with american cheese and with mushroom   \n",
       "4                              can i have one personal sized artichoke   \n",
       "\n",
       "                                                                                                                             train.EXR  \\\n",
       "0                                                          (ORDER (PIZZAORDER (NUMBER 1 ) (SIZE LARGE ) (TOPPING BBQ_PULLED_PORK ) ) )   \n",
       "1  (ORDER (PIZZAORDER (NUMBER 1 ) (SIZE LARGE ) (TOPPING GREEN_PEPPERS ) (COMPLEX_TOPPING (QUANTITY EXTRA ) (TOPPING PEPPERONI ) ) ) )   \n",
       "2                                                                 (ORDER (PIZZAORDER (NUMBER 1 ) (SIZE LARGE ) (STYLE VEGETARIAN ) ) )   \n",
       "3         (ORDER (PIZZAORDER (NUMBER 1 ) (SIZE PARTY_SIZE ) (STYLE STUFFED_CRUST ) (TOPPING AMERICAN_CHEESE ) (TOPPING MUSHROOMS ) ) )   \n",
       "4                                                       (ORDER (PIZZAORDER (NUMBER 1 ) (SIZE PERSONAL_SIZE ) (TOPPING ARTICHOKES ) ) )   \n",
       "\n",
       "                                                                                                                                  train.TOP  \\\n",
       "0                                                    (ORDER can i have (PIZZAORDER (NUMBER a ) (SIZE large ) (TOPPING bbq pulled pork ) ) )   \n",
       "1  (ORDER (PIZZAORDER (SIZE large ) pie with (TOPPING green pepper ) and with (COMPLEX_TOPPING (QUANTITY extra ) (TOPPING peperonni ) ) ) )   \n",
       "2                                                       (ORDER i'd like (PIZZAORDER (NUMBER a ) (SIZE large ) (STYLE vegetarian ) pizza ) )   \n",
       "3         (ORDER (PIZZAORDER (SIZE party size ) (STYLE stuffed crust ) pie with (TOPPING american cheese ) and with (TOPPING mushroom ) ) )   \n",
       "4                                               (ORDER can i have (PIZZAORDER (NUMBER one ) (SIZE personal sized ) (TOPPING artichoke ) ) )   \n",
       "\n",
       "                                                                                                      train.TOP-DECOUPLED  \n",
       "0                                             (ORDER (PIZZAORDER (NUMBER a ) (SIZE large ) (TOPPING bbq pulled pork ) ) )  \n",
       "1  (ORDER (PIZZAORDER (SIZE large ) (TOPPING green pepper ) (COMPLEX_TOPPING (QUANTITY extra ) (TOPPING peperonni ) ) ) )  \n",
       "2                                                    (ORDER (PIZZAORDER (NUMBER a ) (SIZE large ) (STYLE vegetarian ) ) )  \n",
       "3         (ORDER (PIZZAORDER (SIZE party size ) (STYLE stuffed crust ) (TOPPING american cheese ) (TOPPING mushroom ) ) )  \n",
       "4                                        (ORDER (PIZZAORDER (NUMBER one ) (SIZE personal sized ) (TOPPING artichoke ) ) )  "
      ]
     },
     "execution_count": 9,
     "metadata": {},
     "output_type": "execute_result"
    }
   ],
   "source": [
    "df_train = pd.read_json(DATASET_PATH + '/dataset/PIZZA_train.json/PIZZA_train.json', lines=True)\n",
    "df_train.head()"
   ]
  },
  {
   "cell_type": "markdown",
   "id": "68d8e72f",
   "metadata": {
    "papermill": {
     "duration": 0.015753,
     "end_time": "2024-12-06T21:25:00.620134",
     "exception": false,
     "start_time": "2024-12-06T21:25:00.604381",
     "status": "completed"
    },
    "tags": []
   },
   "source": [
    "# EDA - Exploratory Data Analysis"
   ]
  },
  {
   "cell_type": "markdown",
   "id": "8aada03f",
   "metadata": {
    "papermill": {
     "duration": 0.015366,
     "end_time": "2024-12-06T21:25:00.651532",
     "exception": false,
     "start_time": "2024-12-06T21:25:00.636166",
     "status": "completed"
    },
    "tags": []
   },
   "source": [
    "## Column names"
   ]
  },
  {
   "cell_type": "markdown",
   "id": "8434e3f9",
   "metadata": {
    "papermill": {
     "duration": 0.015448,
     "end_time": "2024-12-06T21:25:00.682709",
     "exception": false,
     "start_time": "2024-12-06T21:25:00.667261",
     "status": "completed"
    },
    "tags": []
   },
   "source": [
    "- **SRC** \n",
    "    - The source text of the pizza order as given by the user.\n",
    "- **EXR** \n",
    "    - The expected representation of the pizza order in a structured format (likely a parse tree or similar structure).\n",
    "    - Or the required extraction ~ Ahmed :)\n",
    "- **TOP** \n",
    "    - The top-level representation of the pizza order, possibly a normalized or tokenized version of the source text.\n",
    "- **PCFG_ERR** \n",
    "    - A boolean indicating whether there was an error in parsing the pizza order using a Probabilistic Context-Free Grammar (PCFG)."
   ]
  },
  {
   "cell_type": "code",
   "execution_count": 10,
   "id": "4912bcea",
   "metadata": {
    "execution": {
     "iopub.execute_input": "2024-12-06T21:25:00.716058Z",
     "iopub.status.busy": "2024-12-06T21:25:00.715628Z",
     "iopub.status.idle": "2024-12-06T21:25:00.722756Z",
     "shell.execute_reply": "2024-12-06T21:25:00.721537Z"
    },
    "papermill": {
     "duration": 0.026524,
     "end_time": "2024-12-06T21:25:00.725073",
     "exception": false,
     "start_time": "2024-12-06T21:25:00.698549",
     "status": "completed"
    },
    "tags": []
   },
   "outputs": [],
   "source": [
    "df_dev.rename(columns={\n",
    "    'dev.SRC': 'src', \n",
    "    'dev.EXR': 'exr',\n",
    "    'dev.TOP': 'top',\n",
    "    'dev.PCFG_ERR': 'pcfg_err',\n",
    "}, inplace=True)\n",
    "df_train.rename(columns={\n",
    "    'train.SRC': 'src', \n",
    "    'train.EXR': 'exr',\n",
    "    'train.TOP': 'top',\n",
    "    'train.TOP-DECOUPLED': 'decoupled',\n",
    "}, inplace=True)"
   ]
  },
  {
   "cell_type": "markdown",
   "id": "dc1e0c2d",
   "metadata": {
    "papermill": {
     "duration": 0.015631,
     "end_time": "2024-12-06T21:25:00.756661",
     "exception": false,
     "start_time": "2024-12-06T21:25:00.741030",
     "status": "completed"
    },
    "tags": []
   },
   "source": [
    "## Check Duplicates & Missing Data"
   ]
  },
  {
   "cell_type": "code",
   "execution_count": 11,
   "id": "7e9ee39a",
   "metadata": {
    "execution": {
     "iopub.execute_input": "2024-12-06T21:25:00.790166Z",
     "iopub.status.busy": "2024-12-06T21:25:00.789692Z",
     "iopub.status.idle": "2024-12-06T21:25:00.813553Z",
     "shell.execute_reply": "2024-12-06T21:25:00.812219Z"
    },
    "papermill": {
     "duration": 0.043139,
     "end_time": "2024-12-06T21:25:00.815578",
     "exception": false,
     "start_time": "2024-12-06T21:25:00.772439",
     "status": "completed"
    },
    "tags": []
   },
   "outputs": [
    {
     "data": {
      "text/html": [
       "<div>\n",
       "<style scoped>\n",
       "    .dataframe tbody tr th:only-of-type {\n",
       "        vertical-align: middle;\n",
       "    }\n",
       "\n",
       "    .dataframe tbody tr th {\n",
       "        vertical-align: top;\n",
       "    }\n",
       "\n",
       "    .dataframe thead th {\n",
       "        text-align: right;\n",
       "    }\n",
       "</style>\n",
       "<table border=\"1\" class=\"dataframe\">\n",
       "  <thead>\n",
       "    <tr style=\"text-align: right;\">\n",
       "      <th></th>\n",
       "      <th>src</th>\n",
       "      <th>exr</th>\n",
       "      <th>top</th>\n",
       "      <th>pcfg_err</th>\n",
       "    </tr>\n",
       "  </thead>\n",
       "  <tbody>\n",
       "    <tr>\n",
       "      <th>count</th>\n",
       "      <td>348</td>\n",
       "      <td>348</td>\n",
       "      <td>348</td>\n",
       "      <td>348</td>\n",
       "    </tr>\n",
       "    <tr>\n",
       "      <th>unique</th>\n",
       "      <td>348</td>\n",
       "      <td>270</td>\n",
       "      <td>348</td>\n",
       "      <td>2</td>\n",
       "    </tr>\n",
       "    <tr>\n",
       "      <th>top</th>\n",
       "      <td>i want to order two medium pizzas with sausage and black olives and two medium pizzas with pepperoni and extra cheese and three large pizzas with pepperoni and sausage</td>\n",
       "      <td>(ORDER (PIZZAORDER (NOT (TOPPING PEPPERS ) ) (NUMBER 1 ) (SIZE SMALL ) (STYLE THIN_CRUST ) (TOPPING HAM ) ) )</td>\n",
       "      <td>(ORDER i want to order (PIZZAORDER (NUMBER two ) (SIZE medium ) pizzas with (TOPPING sausage ) and (TOPPING black olives ) ) and (PIZZAORDER (NUMBER two ) (SIZE medium ) pizzas with (TOPPING pepperoni ) and (COMPLEX_TOPPING (QUANTITY extra ) (TOPPING cheese ) ) ) and (PIZZAORDER (NUMBER three ) (SIZE large ) pizzas with (TOPPING pepperoni ) and (TOPPING sausage ) ) )</td>\n",
       "      <td>False</td>\n",
       "    </tr>\n",
       "    <tr>\n",
       "      <th>freq</th>\n",
       "      <td>1</td>\n",
       "      <td>5</td>\n",
       "      <td>1</td>\n",
       "      <td>242</td>\n",
       "    </tr>\n",
       "  </tbody>\n",
       "</table>\n",
       "</div>"
      ],
      "text/plain": [
       "                                                                                                                                                                            src  \\\n",
       "count                                                                                                                                                                       348   \n",
       "unique                                                                                                                                                                      348   \n",
       "top     i want to order two medium pizzas with sausage and black olives and two medium pizzas with pepperoni and extra cheese and three large pizzas with pepperoni and sausage   \n",
       "freq                                                                                                                                                                          1   \n",
       "\n",
       "                                                                                                                  exr  \\\n",
       "count                                                                                                             348   \n",
       "unique                                                                                                            270   \n",
       "top     (ORDER (PIZZAORDER (NOT (TOPPING PEPPERS ) ) (NUMBER 1 ) (SIZE SMALL ) (STYLE THIN_CRUST ) (TOPPING HAM ) ) )   \n",
       "freq                                                                                                                5   \n",
       "\n",
       "                                                                                                                                                                                                                                                                                                                                                                                      top  \\\n",
       "count                                                                                                                                                                                                                                                                                                                                                                                 348   \n",
       "unique                                                                                                                                                                                                                                                                                                                                                                                348   \n",
       "top     (ORDER i want to order (PIZZAORDER (NUMBER two ) (SIZE medium ) pizzas with (TOPPING sausage ) and (TOPPING black olives ) ) and (PIZZAORDER (NUMBER two ) (SIZE medium ) pizzas with (TOPPING pepperoni ) and (COMPLEX_TOPPING (QUANTITY extra ) (TOPPING cheese ) ) ) and (PIZZAORDER (NUMBER three ) (SIZE large ) pizzas with (TOPPING pepperoni ) and (TOPPING sausage ) ) )   \n",
       "freq                                                                                                                                                                                                                                                                                                                                                                                    1   \n",
       "\n",
       "       pcfg_err  \n",
       "count       348  \n",
       "unique        2  \n",
       "top       False  \n",
       "freq        242  "
      ]
     },
     "execution_count": 11,
     "metadata": {},
     "output_type": "execute_result"
    }
   ],
   "source": [
    "df_dev.describe()"
   ]
  },
  {
   "cell_type": "code",
   "execution_count": 12,
   "id": "9b0bf317",
   "metadata": {
    "execution": {
     "iopub.execute_input": "2024-12-06T21:25:00.849600Z",
     "iopub.status.busy": "2024-12-06T21:25:00.849212Z",
     "iopub.status.idle": "2024-12-06T21:25:16.567773Z",
     "shell.execute_reply": "2024-12-06T21:25:16.565935Z"
    },
    "papermill": {
     "duration": 15.741043,
     "end_time": "2024-12-06T21:25:16.572819",
     "exception": false,
     "start_time": "2024-12-06T21:25:00.831776",
     "status": "completed"
    },
    "tags": []
   },
   "outputs": [
    {
     "data": {
      "text/html": [
       "<div>\n",
       "<style scoped>\n",
       "    .dataframe tbody tr th:only-of-type {\n",
       "        vertical-align: middle;\n",
       "    }\n",
       "\n",
       "    .dataframe tbody tr th {\n",
       "        vertical-align: top;\n",
       "    }\n",
       "\n",
       "    .dataframe thead th {\n",
       "        text-align: right;\n",
       "    }\n",
       "</style>\n",
       "<table border=\"1\" class=\"dataframe\">\n",
       "  <thead>\n",
       "    <tr style=\"text-align: right;\">\n",
       "      <th></th>\n",
       "      <th>src</th>\n",
       "      <th>exr</th>\n",
       "      <th>top</th>\n",
       "      <th>decoupled</th>\n",
       "    </tr>\n",
       "  </thead>\n",
       "  <tbody>\n",
       "    <tr>\n",
       "      <th>count</th>\n",
       "      <td>2456446</td>\n",
       "      <td>2456446</td>\n",
       "      <td>2456446</td>\n",
       "      <td>2456446</td>\n",
       "    </tr>\n",
       "    <tr>\n",
       "      <th>unique</th>\n",
       "      <td>2456446</td>\n",
       "      <td>694346</td>\n",
       "      <td>2456446</td>\n",
       "      <td>1425035</td>\n",
       "    </tr>\n",
       "    <tr>\n",
       "      <th>top</th>\n",
       "      <td>can i have a large bbq pulled pork</td>\n",
       "      <td>(ORDER (PIZZAORDER (NUMBER 1 ) (SIZE PARTY_SIZE ) (TOPPING BANANA_PEPPERS ) (TOPPING PEPPERONI ) (TOPPING YELLOW_PEPPERS ) ) )</td>\n",
       "      <td>(ORDER can i have (PIZZAORDER (NUMBER a ) (SIZE large ) (TOPPING bbq pulled pork ) ) )</td>\n",
       "      <td>(ORDER (PIZZAORDER (NUMBER three ) (NOT (TOPPING american cheese ) ) ) (PIZZAORDER (NUMBER three ) (NOT (TOPPING american cheese ) ) ) )</td>\n",
       "    </tr>\n",
       "    <tr>\n",
       "      <th>freq</th>\n",
       "      <td>1</td>\n",
       "      <td>1999</td>\n",
       "      <td>1</td>\n",
       "      <td>167</td>\n",
       "    </tr>\n",
       "  </tbody>\n",
       "</table>\n",
       "</div>"
      ],
      "text/plain": [
       "                                       src  \\\n",
       "count                              2456446   \n",
       "unique                             2456446   \n",
       "top     can i have a large bbq pulled pork   \n",
       "freq                                     1   \n",
       "\n",
       "                                                                                                                                   exr  \\\n",
       "count                                                                                                                          2456446   \n",
       "unique                                                                                                                          694346   \n",
       "top     (ORDER (PIZZAORDER (NUMBER 1 ) (SIZE PARTY_SIZE ) (TOPPING BANANA_PEPPERS ) (TOPPING PEPPERONI ) (TOPPING YELLOW_PEPPERS ) ) )   \n",
       "freq                                                                                                                              1999   \n",
       "\n",
       "                                                                                           top  \\\n",
       "count                                                                                  2456446   \n",
       "unique                                                                                 2456446   \n",
       "top     (ORDER can i have (PIZZAORDER (NUMBER a ) (SIZE large ) (TOPPING bbq pulled pork ) ) )   \n",
       "freq                                                                                         1   \n",
       "\n",
       "                                                                                                                                       decoupled  \n",
       "count                                                                                                                                    2456446  \n",
       "unique                                                                                                                                   1425035  \n",
       "top     (ORDER (PIZZAORDER (NUMBER three ) (NOT (TOPPING american cheese ) ) ) (PIZZAORDER (NUMBER three ) (NOT (TOPPING american cheese ) ) ) )  \n",
       "freq                                                                                                                                         167  "
      ]
     },
     "execution_count": 12,
     "metadata": {},
     "output_type": "execute_result"
    }
   ],
   "source": [
    "df_train.describe()"
   ]
  },
  {
   "cell_type": "code",
   "execution_count": 13,
   "id": "80d7cf48",
   "metadata": {
    "execution": {
     "iopub.execute_input": "2024-12-06T21:25:16.611956Z",
     "iopub.status.busy": "2024-12-06T21:25:16.611419Z",
     "iopub.status.idle": "2024-12-06T21:25:16.636335Z",
     "shell.execute_reply": "2024-12-06T21:25:16.635127Z"
    },
    "papermill": {
     "duration": 0.046017,
     "end_time": "2024-12-06T21:25:16.638786",
     "exception": false,
     "start_time": "2024-12-06T21:25:16.592769",
     "status": "completed"
    },
    "tags": []
   },
   "outputs": [
    {
     "name": "stdout",
     "output_type": "stream",
     "text": [
      "<class 'pandas.core.frame.DataFrame'>\n",
      "RangeIndex: 348 entries, 0 to 347\n",
      "Data columns (total 4 columns):\n",
      " #   Column    Non-Null Count  Dtype \n",
      "---  ------    --------------  ----- \n",
      " 0   src       348 non-null    object\n",
      " 1   exr       348 non-null    object\n",
      " 2   top       348 non-null    object\n",
      " 3   pcfg_err  348 non-null    object\n",
      "dtypes: object(4)\n",
      "memory usage: 11.0+ KB\n"
     ]
    }
   ],
   "source": [
    "df_dev.info()"
   ]
  },
  {
   "cell_type": "code",
   "execution_count": 14,
   "id": "501b1365",
   "metadata": {
    "execution": {
     "iopub.execute_input": "2024-12-06T21:25:16.683043Z",
     "iopub.status.busy": "2024-12-06T21:25:16.682438Z",
     "iopub.status.idle": "2024-12-06T21:25:16.693068Z",
     "shell.execute_reply": "2024-12-06T21:25:16.692055Z"
    },
    "papermill": {
     "duration": 0.035387,
     "end_time": "2024-12-06T21:25:16.695273",
     "exception": false,
     "start_time": "2024-12-06T21:25:16.659886",
     "status": "completed"
    },
    "tags": []
   },
   "outputs": [
    {
     "name": "stdout",
     "output_type": "stream",
     "text": [
      "<class 'pandas.core.frame.DataFrame'>\n",
      "RangeIndex: 2456446 entries, 0 to 2456445\n",
      "Data columns (total 4 columns):\n",
      " #   Column     Dtype \n",
      "---  ------     ----- \n",
      " 0   src        object\n",
      " 1   exr        object\n",
      " 2   top        object\n",
      " 3   decoupled  object\n",
      "dtypes: object(4)\n",
      "memory usage: 75.0+ MB\n"
     ]
    }
   ],
   "source": [
    "df_train.info()"
   ]
  },
  {
   "cell_type": "code",
   "execution_count": 15,
   "id": "2c9965ec",
   "metadata": {
    "execution": {
     "iopub.execute_input": "2024-12-06T21:25:16.741691Z",
     "iopub.status.busy": "2024-12-06T21:25:16.741292Z",
     "iopub.status.idle": "2024-12-06T21:25:16.750442Z",
     "shell.execute_reply": "2024-12-06T21:25:16.749330Z"
    },
    "papermill": {
     "duration": 0.035244,
     "end_time": "2024-12-06T21:25:16.752832",
     "exception": false,
     "start_time": "2024-12-06T21:25:16.717588",
     "status": "completed"
    },
    "tags": []
   },
   "outputs": [
    {
     "data": {
      "text/plain": [
       "0"
      ]
     },
     "execution_count": 15,
     "metadata": {},
     "output_type": "execute_result"
    }
   ],
   "source": [
    "df_dev.duplicated().sum()"
   ]
  },
  {
   "cell_type": "code",
   "execution_count": 16,
   "id": "b6839730",
   "metadata": {
    "execution": {
     "iopub.execute_input": "2024-12-06T21:25:16.798822Z",
     "iopub.status.busy": "2024-12-06T21:25:16.798407Z",
     "iopub.status.idle": "2024-12-06T21:25:25.143413Z",
     "shell.execute_reply": "2024-12-06T21:25:25.142018Z"
    },
    "papermill": {
     "duration": 8.371016,
     "end_time": "2024-12-06T21:25:25.145729",
     "exception": false,
     "start_time": "2024-12-06T21:25:16.774713",
     "status": "completed"
    },
    "tags": []
   },
   "outputs": [
    {
     "data": {
      "text/plain": [
       "0"
      ]
     },
     "execution_count": 16,
     "metadata": {},
     "output_type": "execute_result"
    }
   ],
   "source": [
    "df_train.duplicated().sum()"
   ]
  },
  {
   "cell_type": "code",
   "execution_count": 17,
   "id": "1ab130f5",
   "metadata": {
    "execution": {
     "iopub.execute_input": "2024-12-06T21:25:25.182531Z",
     "iopub.status.busy": "2024-12-06T21:25:25.182112Z",
     "iopub.status.idle": "2024-12-06T21:25:25.192690Z",
     "shell.execute_reply": "2024-12-06T21:25:25.191703Z"
    },
    "papermill": {
     "duration": 0.031118,
     "end_time": "2024-12-06T21:25:25.195056",
     "exception": false,
     "start_time": "2024-12-06T21:25:25.163938",
     "status": "completed"
    },
    "tags": []
   },
   "outputs": [
    {
     "data": {
      "text/plain": [
       "src         0\n",
       "exr         0\n",
       "top         0\n",
       "pcfg_err    0\n",
       "dtype: int64"
      ]
     },
     "execution_count": 17,
     "metadata": {},
     "output_type": "execute_result"
    }
   ],
   "source": [
    "df_dev.isna().sum()"
   ]
  },
  {
   "cell_type": "code",
   "execution_count": 18,
   "id": "31617a2e",
   "metadata": {
    "execution": {
     "iopub.execute_input": "2024-12-06T21:25:25.231469Z",
     "iopub.status.busy": "2024-12-06T21:25:25.231091Z",
     "iopub.status.idle": "2024-12-06T21:25:26.241538Z",
     "shell.execute_reply": "2024-12-06T21:25:26.240425Z"
    },
    "papermill": {
     "duration": 1.030816,
     "end_time": "2024-12-06T21:25:26.244034",
     "exception": false,
     "start_time": "2024-12-06T21:25:25.213218",
     "status": "completed"
    },
    "tags": []
   },
   "outputs": [
    {
     "data": {
      "text/plain": [
       "src          0\n",
       "exr          0\n",
       "top          0\n",
       "decoupled    0\n",
       "dtype: int64"
      ]
     },
     "execution_count": 18,
     "metadata": {},
     "output_type": "execute_result"
    }
   ],
   "source": [
    "df_train.isna().sum()"
   ]
  },
  {
   "cell_type": "markdown",
   "id": "30642e18",
   "metadata": {
    "papermill": {
     "duration": 0.01655,
     "end_time": "2024-12-06T21:25:26.277502",
     "exception": false,
     "start_time": "2024-12-06T21:25:26.260952",
     "status": "completed"
    },
    "tags": []
   },
   "source": [
    "## Data Cleaning"
   ]
  },
  {
   "cell_type": "markdown",
   "id": "f156e2ec",
   "metadata": {
    "papermill": {
     "duration": 0.016506,
     "end_time": "2024-12-06T21:25:26.310835",
     "exception": false,
     "start_time": "2024-12-06T21:25:26.294329",
     "status": "completed"
    },
    "tags": []
   },
   "source": [
    "Masha2 allah: Data is clean (no punctuation | whitespace)"
   ]
  },
  {
   "cell_type": "code",
   "execution_count": 19,
   "id": "246b8ba8",
   "metadata": {
    "execution": {
     "iopub.execute_input": "2024-12-06T21:25:26.346431Z",
     "iopub.status.busy": "2024-12-06T21:25:26.345560Z",
     "iopub.status.idle": "2024-12-06T21:25:26.352692Z",
     "shell.execute_reply": "2024-12-06T21:25:26.351486Z"
    },
    "papermill": {
     "duration": 0.027207,
     "end_time": "2024-12-06T21:25:26.354679",
     "exception": false,
     "start_time": "2024-12-06T21:25:26.327472",
     "status": "completed"
    },
    "tags": []
   },
   "outputs": [
    {
     "data": {
      "text/plain": [
       "'!\"#$%&\\'()*+,-./:;<=>?@[\\\\]^_`{|}~'"
      ]
     },
     "execution_count": 19,
     "metadata": {},
     "output_type": "execute_result"
    }
   ],
   "source": [
    "string.punctuation"
   ]
  },
  {
   "cell_type": "code",
   "execution_count": 20,
   "id": "5708462b",
   "metadata": {
    "execution": {
     "iopub.execute_input": "2024-12-06T21:25:26.391701Z",
     "iopub.status.busy": "2024-12-06T21:25:26.390544Z",
     "iopub.status.idle": "2024-12-06T21:25:26.411097Z",
     "shell.execute_reply": "2024-12-06T21:25:26.410064Z"
    },
    "papermill": {
     "duration": 0.041445,
     "end_time": "2024-12-06T21:25:26.413295",
     "exception": false,
     "start_time": "2024-12-06T21:25:26.371850",
     "status": "completed"
    },
    "tags": []
   },
   "outputs": [
    {
     "data": {
      "text/plain": [
       "count    348.0\n",
       "mean      -1.0\n",
       "std        0.0\n",
       "min       -1.0\n",
       "25%       -1.0\n",
       "50%       -1.0\n",
       "75%       -1.0\n",
       "max       -1.0\n",
       "Name: src, dtype: float64"
      ]
     },
     "execution_count": 20,
     "metadata": {},
     "output_type": "execute_result"
    }
   ],
   "source": [
    "df_dev['src'].str.find(string.punctuation).describe()"
   ]
  },
  {
   "cell_type": "code",
   "execution_count": 21,
   "id": "8dd4f7cc",
   "metadata": {
    "execution": {
     "iopub.execute_input": "2024-12-06T21:25:26.449508Z",
     "iopub.status.busy": "2024-12-06T21:25:26.449142Z",
     "iopub.status.idle": "2024-12-06T21:25:26.464244Z",
     "shell.execute_reply": "2024-12-06T21:25:26.463087Z"
    },
    "papermill": {
     "duration": 0.035838,
     "end_time": "2024-12-06T21:25:26.466426",
     "exception": false,
     "start_time": "2024-12-06T21:25:26.430588",
     "status": "completed"
    },
    "tags": []
   },
   "outputs": [
    {
     "data": {
      "text/html": [
       "<div>\n",
       "<style scoped>\n",
       "    .dataframe tbody tr th:only-of-type {\n",
       "        vertical-align: middle;\n",
       "    }\n",
       "\n",
       "    .dataframe tbody tr th {\n",
       "        vertical-align: top;\n",
       "    }\n",
       "\n",
       "    .dataframe thead th {\n",
       "        text-align: right;\n",
       "    }\n",
       "</style>\n",
       "<table border=\"1\" class=\"dataframe\">\n",
       "  <thead>\n",
       "    <tr style=\"text-align: right;\">\n",
       "      <th></th>\n",
       "      <th>0</th>\n",
       "    </tr>\n",
       "  </thead>\n",
       "  <tbody>\n",
       "    <tr>\n",
       "      <th>count</th>\n",
       "      <td>0</td>\n",
       "    </tr>\n",
       "    <tr>\n",
       "      <th>unique</th>\n",
       "      <td>0</td>\n",
       "    </tr>\n",
       "    <tr>\n",
       "      <th>top</th>\n",
       "      <td>NaN</td>\n",
       "    </tr>\n",
       "    <tr>\n",
       "      <th>freq</th>\n",
       "      <td>NaN</td>\n",
       "    </tr>\n",
       "  </tbody>\n",
       "</table>\n",
       "</div>"
      ],
      "text/plain": [
       "          0\n",
       "count     0\n",
       "unique    0\n",
       "top     NaN\n",
       "freq    NaN"
      ]
     },
     "execution_count": 21,
     "metadata": {},
     "output_type": "execute_result"
    }
   ],
   "source": [
    "df_dev['src'].str.extract(\"([A-Z]\\.)+\").describe() # No Abbreviations!"
   ]
  },
  {
   "cell_type": "code",
   "execution_count": 22,
   "id": "3f844fb0",
   "metadata": {
    "execution": {
     "iopub.execute_input": "2024-12-06T21:25:26.503846Z",
     "iopub.status.busy": "2024-12-06T21:25:26.503157Z",
     "iopub.status.idle": "2024-12-06T21:25:35.285406Z",
     "shell.execute_reply": "2024-12-06T21:25:35.284292Z"
    },
    "papermill": {
     "duration": 8.803323,
     "end_time": "2024-12-06T21:25:35.287415",
     "exception": false,
     "start_time": "2024-12-06T21:25:26.484092",
     "status": "completed"
    },
    "tags": []
   },
   "outputs": [
    {
     "data": {
      "text/html": [
       "<div>\n",
       "<style scoped>\n",
       "    .dataframe tbody tr th:only-of-type {\n",
       "        vertical-align: middle;\n",
       "    }\n",
       "\n",
       "    .dataframe tbody tr th {\n",
       "        vertical-align: top;\n",
       "    }\n",
       "\n",
       "    .dataframe thead th {\n",
       "        text-align: right;\n",
       "    }\n",
       "</style>\n",
       "<table border=\"1\" class=\"dataframe\">\n",
       "  <thead>\n",
       "    <tr style=\"text-align: right;\">\n",
       "      <th></th>\n",
       "      <th>0</th>\n",
       "    </tr>\n",
       "  </thead>\n",
       "  <tbody>\n",
       "    <tr>\n",
       "      <th>count</th>\n",
       "      <td>0</td>\n",
       "    </tr>\n",
       "    <tr>\n",
       "      <th>unique</th>\n",
       "      <td>0</td>\n",
       "    </tr>\n",
       "    <tr>\n",
       "      <th>top</th>\n",
       "      <td>NaN</td>\n",
       "    </tr>\n",
       "    <tr>\n",
       "      <th>freq</th>\n",
       "      <td>NaN</td>\n",
       "    </tr>\n",
       "  </tbody>\n",
       "</table>\n",
       "</div>"
      ],
      "text/plain": [
       "          0\n",
       "count     0\n",
       "unique    0\n",
       "top     NaN\n",
       "freq    NaN"
      ]
     },
     "execution_count": 22,
     "metadata": {},
     "output_type": "execute_result"
    }
   ],
   "source": [
    "df_train['src'].str.extract(\"([A-Z]\\.)+\").describe() # No Abbreviations!"
   ]
  },
  {
   "cell_type": "code",
   "execution_count": 23,
   "id": "25c35414",
   "metadata": {
    "execution": {
     "iopub.execute_input": "2024-12-06T21:25:35.323623Z",
     "iopub.status.busy": "2024-12-06T21:25:35.323231Z",
     "iopub.status.idle": "2024-12-06T21:25:35.335265Z",
     "shell.execute_reply": "2024-12-06T21:25:35.334058Z"
    },
    "papermill": {
     "duration": 0.033059,
     "end_time": "2024-12-06T21:25:35.337779",
     "exception": false,
     "start_time": "2024-12-06T21:25:35.304720",
     "status": "completed"
    },
    "tags": []
   },
   "outputs": [
    {
     "data": {
      "text/plain": [
       "count    348.0\n",
       "mean      -1.0\n",
       "std        0.0\n",
       "min       -1.0\n",
       "25%       -1.0\n",
       "50%       -1.0\n",
       "75%       -1.0\n",
       "max       -1.0\n",
       "Name: src, dtype: float64"
      ]
     },
     "execution_count": 23,
     "metadata": {},
     "output_type": "execute_result"
    }
   ],
   "source": [
    "df_dev['src'].str.find(string.whitespace).describe()"
   ]
  },
  {
   "cell_type": "code",
   "execution_count": 24,
   "id": "7c810966",
   "metadata": {
    "execution": {
     "iopub.execute_input": "2024-12-06T21:25:35.375515Z",
     "iopub.status.busy": "2024-12-06T21:25:35.374587Z",
     "iopub.status.idle": "2024-12-06T21:25:35.385420Z",
     "shell.execute_reply": "2024-12-06T21:25:35.384138Z"
    },
    "papermill": {
     "duration": 0.032346,
     "end_time": "2024-12-06T21:25:35.387599",
     "exception": false,
     "start_time": "2024-12-06T21:25:35.355253",
     "status": "completed"
    },
    "tags": []
   },
   "outputs": [
    {
     "data": {
      "text/plain": [
       "count                                                                                                                                              6\n",
       "unique                                                                                                                                             6\n",
       "top       how are you tonight my order is for a medium pizza and i'd like chicken on it as well as extra cheese but please no onions i appreciate it\n",
       "freq                                                                                                                                               1\n",
       "Name: src, dtype: object"
      ]
     },
     "execution_count": 24,
     "metadata": {},
     "output_type": "execute_result"
    }
   ],
   "source": [
    "df_dev['src'][df_dev['src'].str.find(\"i'd\") > 0].describe()"
   ]
  },
  {
   "cell_type": "code",
   "execution_count": 25,
   "id": "ad274e7b",
   "metadata": {
    "execution": {
     "iopub.execute_input": "2024-12-06T21:25:35.425073Z",
     "iopub.status.busy": "2024-12-06T21:25:35.424583Z",
     "iopub.status.idle": "2024-12-06T21:25:37.669076Z",
     "shell.execute_reply": "2024-12-06T21:25:37.667938Z"
    },
    "papermill": {
     "duration": 2.265923,
     "end_time": "2024-12-06T21:25:37.671236",
     "exception": false,
     "start_time": "2024-12-06T21:25:35.405313",
     "status": "completed"
    },
    "tags": []
   },
   "outputs": [
    {
     "data": {
      "text/plain": [
       "1251888    -1\n",
       "1251889    -1\n",
       "1251890    -1\n",
       "1251891    -1\n",
       "1251892    -1\n",
       "           ..\n",
       "2268941    17\n",
       "2268942    17\n",
       "2268943    17\n",
       "2268944    17\n",
       "2268945    17\n",
       "Name: top, Length: 767058, dtype: int64"
      ]
     },
     "execution_count": 25,
     "metadata": {},
     "output_type": "execute_result"
    }
   ],
   "source": [
    "df_train['top'][df_train['top'].str.find(\"DRINKORDER\") > 0].str.find(\"PIZZAORDER\")"
   ]
  },
  {
   "cell_type": "code",
   "execution_count": 26,
   "id": "3a7600ee",
   "metadata": {
    "execution": {
     "iopub.execute_input": "2024-12-06T21:25:37.707761Z",
     "iopub.status.busy": "2024-12-06T21:25:37.707371Z",
     "iopub.status.idle": "2024-12-06T21:25:37.714237Z",
     "shell.execute_reply": "2024-12-06T21:25:37.713172Z"
    },
    "papermill": {
     "duration": 0.027364,
     "end_time": "2024-12-06T21:25:37.716230",
     "exception": false,
     "start_time": "2024-12-06T21:25:37.688866",
     "status": "completed"
    },
    "tags": []
   },
   "outputs": [
    {
     "data": {
      "text/plain": [
       "\"(ORDER i'd like (PIZZAORDER (NUMBER a ) pizza with (TOPPING roasted peppers ) ) and (DRINKORDER (NUMBER nine ) (DRINKTYPE seven up ) ) )\""
      ]
     },
     "execution_count": 26,
     "metadata": {},
     "output_type": "execute_result"
    }
   ],
   "source": [
    "df_train.iloc[2268941]['top']"
   ]
  },
  {
   "cell_type": "markdown",
   "id": "1ae64e27",
   "metadata": {
    "papermill": {
     "duration": 0.017791,
     "end_time": "2024-12-06T21:25:37.751547",
     "exception": false,
     "start_time": "2024-12-06T21:25:37.733756",
     "status": "completed"
    },
    "tags": []
   },
   "source": [
    "# Preprocessing"
   ]
  },
  {
   "cell_type": "markdown",
   "id": "a1265690",
   "metadata": {
    "papermill": {
     "duration": 0.017704,
     "end_time": "2024-12-06T21:25:37.787416",
     "exception": false,
     "start_time": "2024-12-06T21:25:37.769712",
     "status": "completed"
    },
    "tags": []
   },
   "source": [
    "## Targets"
   ]
  },
  {
   "cell_type": "markdown",
   "id": "f012c9a3",
   "metadata": {
    "papermill": {
     "duration": 0.018007,
     "end_time": "2024-12-06T21:25:37.823249",
     "exception": false,
     "start_time": "2024-12-06T21:25:37.805242",
     "status": "completed"
    },
    "tags": []
   },
   "source": [
    "We remove the leading *ORDER* constructor from the target output sequences since it is a **universal top-level constructor** and **there is nothing to be learned from it**."
   ]
  },
  {
   "cell_type": "code",
   "execution_count": 27,
   "id": "bf08b26d",
   "metadata": {
    "execution": {
     "iopub.execute_input": "2024-12-06T21:25:37.942150Z",
     "iopub.status.busy": "2024-12-06T21:25:37.941723Z",
     "iopub.status.idle": "2024-12-06T21:26:09.403153Z",
     "shell.execute_reply": "2024-12-06T21:26:09.402063Z"
    },
    "papermill": {
     "duration": 31.564495,
     "end_time": "2024-12-06T21:26:09.405731",
     "exception": false,
     "start_time": "2024-12-06T21:25:37.841236",
     "status": "completed"
    },
    "tags": []
   },
   "outputs": [],
   "source": [
    "# train.SRC\ttrain.EXR\ttrain.TOP\ttrain.TOP-DECOUPLED\n",
    "df_train['src'] = df_train['src'].str.replace(r\"^\\(ORDER\\s?\", \"\", regex=True)\n",
    "df_train['exr'] = df_train['exr'].str.replace(r\"^\\(ORDER\\s?\", \"\", regex=True)\n",
    "df_train['top'] = df_train['top'].str.replace(r\"^\\(ORDER\\s?\", \"\", regex=True)\n",
    "df_train['decoupled'] = df_train['decoupled'].str.replace(r\"^\\(ORDER\\s?\", \"\", regex=True)\n",
    "df_train['src'] = df_train['src'].str.replace(r\"\\)$\", \"\", regex=True)\n",
    "df_train['exr'] = df_train['exr'].str.replace(r\"\\)$\", \"\", regex=True)\n",
    "df_train['top'] = df_train['top'].str.replace(r\"\\)$\", \"\", regex=True)\n",
    "df_train['decoupled'] = df_train['decoupled'].str.replace(r\"\\)$\", \"\", regex=True)\n",
    "\n",
    "df_dev['src'] = df_dev['src'].str.replace(r\"^\\(ORDER\\s?\", \"\", regex=True)\n",
    "df_dev['exr'] = df_dev['exr'].str.replace(r\"^\\(ORDER\\s?\", \"\", regex=True)\n",
    "df_dev['top'] = df_dev['top'].str.replace(r\"^\\(ORDER\\s?\", \"\", regex=True)\n",
    "df_dev['src'] = df_dev['src'].str.replace(r\"\\)$\", \"\", regex=True)\n",
    "df_dev['exr'] = df_dev['exr'].str.replace(r\"\\)$\", \"\", regex=True)\n",
    "df_dev['top'] = df_dev['top'].str.replace(r\"\\)$\", \"\", regex=True)"
   ]
  },
  {
   "cell_type": "code",
   "execution_count": 28,
   "id": "e3c0f6b4",
   "metadata": {
    "execution": {
     "iopub.execute_input": "2024-12-06T21:26:09.443570Z",
     "iopub.status.busy": "2024-12-06T21:26:09.443149Z",
     "iopub.status.idle": "2024-12-06T21:26:09.454016Z",
     "shell.execute_reply": "2024-12-06T21:26:09.452912Z"
    },
    "papermill": {
     "duration": 0.032478,
     "end_time": "2024-12-06T21:26:09.456106",
     "exception": false,
     "start_time": "2024-12-06T21:26:09.423628",
     "status": "completed"
    },
    "tags": []
   },
   "outputs": [
    {
     "data": {
      "text/html": [
       "<div>\n",
       "<style scoped>\n",
       "    .dataframe tbody tr th:only-of-type {\n",
       "        vertical-align: middle;\n",
       "    }\n",
       "\n",
       "    .dataframe tbody tr th {\n",
       "        vertical-align: top;\n",
       "    }\n",
       "\n",
       "    .dataframe thead th {\n",
       "        text-align: right;\n",
       "    }\n",
       "</style>\n",
       "<table border=\"1\" class=\"dataframe\">\n",
       "  <thead>\n",
       "    <tr style=\"text-align: right;\">\n",
       "      <th></th>\n",
       "      <th>src</th>\n",
       "      <th>exr</th>\n",
       "      <th>top</th>\n",
       "      <th>decoupled</th>\n",
       "    </tr>\n",
       "  </thead>\n",
       "  <tbody>\n",
       "    <tr>\n",
       "      <th>0</th>\n",
       "      <td>can i have a large bbq pulled pork</td>\n",
       "      <td>(PIZZAORDER (NUMBER 1 ) (SIZE LARGE ) (TOPPING BBQ_PULLED_PORK ) )</td>\n",
       "      <td>can i have (PIZZAORDER (NUMBER a ) (SIZE large ) (TOPPING bbq pulled pork ) )</td>\n",
       "      <td>(PIZZAORDER (NUMBER a ) (SIZE large ) (TOPPING bbq pulled pork ) )</td>\n",
       "    </tr>\n",
       "  </tbody>\n",
       "</table>\n",
       "</div>"
      ],
      "text/plain": [
       "                                  src  \\\n",
       "0  can i have a large bbq pulled pork   \n",
       "\n",
       "                                                                   exr  \\\n",
       "0  (PIZZAORDER (NUMBER 1 ) (SIZE LARGE ) (TOPPING BBQ_PULLED_PORK ) )    \n",
       "\n",
       "                                                                              top  \\\n",
       "0  can i have (PIZZAORDER (NUMBER a ) (SIZE large ) (TOPPING bbq pulled pork ) )    \n",
       "\n",
       "                                                             decoupled  \n",
       "0  (PIZZAORDER (NUMBER a ) (SIZE large ) (TOPPING bbq pulled pork ) )   "
      ]
     },
     "execution_count": 28,
     "metadata": {},
     "output_type": "execute_result"
    }
   ],
   "source": [
    "df_train.head(1)"
   ]
  },
  {
   "cell_type": "code",
   "execution_count": 29,
   "id": "b567a910",
   "metadata": {
    "execution": {
     "iopub.execute_input": "2024-12-06T21:26:09.495707Z",
     "iopub.status.busy": "2024-12-06T21:26:09.494911Z",
     "iopub.status.idle": "2024-12-06T21:26:09.507025Z",
     "shell.execute_reply": "2024-12-06T21:26:09.505727Z"
    },
    "papermill": {
     "duration": 0.035663,
     "end_time": "2024-12-06T21:26:09.509880",
     "exception": false,
     "start_time": "2024-12-06T21:26:09.474217",
     "status": "completed"
    },
    "tags": []
   },
   "outputs": [
    {
     "data": {
      "text/html": [
       "<div>\n",
       "<style scoped>\n",
       "    .dataframe tbody tr th:only-of-type {\n",
       "        vertical-align: middle;\n",
       "    }\n",
       "\n",
       "    .dataframe tbody tr th {\n",
       "        vertical-align: top;\n",
       "    }\n",
       "\n",
       "    .dataframe thead th {\n",
       "        text-align: right;\n",
       "    }\n",
       "</style>\n",
       "<table border=\"1\" class=\"dataframe\">\n",
       "  <thead>\n",
       "    <tr style=\"text-align: right;\">\n",
       "      <th></th>\n",
       "      <th>src</th>\n",
       "      <th>exr</th>\n",
       "      <th>top</th>\n",
       "      <th>pcfg_err</th>\n",
       "    </tr>\n",
       "  </thead>\n",
       "  <tbody>\n",
       "    <tr>\n",
       "      <th>0</th>\n",
       "      <td>i want to order two medium pizzas with sausage and black olives and two medium pizzas with pepperoni and extra cheese and three large pizzas with pepperoni and sausage</td>\n",
       "      <td>(PIZZAORDER (NUMBER 2 ) (SIZE MEDIUM ) (COMPLEX_TOPPING (QUANTITY EXTRA ) (TOPPING CHEESE ) ) (TOPPING PEPPERONI ) ) (PIZZAORDER (NUMBER 2 ) (SIZE MEDIUM ) (TOPPING OLIVES ) (TOPPING SAUSAGE ) ) (PIZZAORDER (NUMBER 3 ) (SIZE LARGE ) (TOPPING PEPPERONI ) (TOPPING SAUSAGE ) )</td>\n",
       "      <td>i want to order (PIZZAORDER (NUMBER two ) (SIZE medium ) pizzas with (TOPPING sausage ) and (TOPPING black olives ) ) and (PIZZAORDER (NUMBER two ) (SIZE medium ) pizzas with (TOPPING pepperoni ) and (COMPLEX_TOPPING (QUANTITY extra ) (TOPPING cheese ) ) ) and (PIZZAORDER (NUMBER three ) (SIZE large ) pizzas with (TOPPING pepperoni ) and (TOPPING sausage ) )</td>\n",
       "      <td>False</td>\n",
       "    </tr>\n",
       "  </tbody>\n",
       "</table>\n",
       "</div>"
      ],
      "text/plain": [
       "                                                                                                                                                                       src  \\\n",
       "0  i want to order two medium pizzas with sausage and black olives and two medium pizzas with pepperoni and extra cheese and three large pizzas with pepperoni and sausage   \n",
       "\n",
       "                                                                                                                                                                                                                                                                                   exr  \\\n",
       "0  (PIZZAORDER (NUMBER 2 ) (SIZE MEDIUM ) (COMPLEX_TOPPING (QUANTITY EXTRA ) (TOPPING CHEESE ) ) (TOPPING PEPPERONI ) ) (PIZZAORDER (NUMBER 2 ) (SIZE MEDIUM ) (TOPPING OLIVES ) (TOPPING SAUSAGE ) ) (PIZZAORDER (NUMBER 3 ) (SIZE LARGE ) (TOPPING PEPPERONI ) (TOPPING SAUSAGE ) )    \n",
       "\n",
       "                                                                                                                                                                                                                                                                                                                                                                         top  \\\n",
       "0  i want to order (PIZZAORDER (NUMBER two ) (SIZE medium ) pizzas with (TOPPING sausage ) and (TOPPING black olives ) ) and (PIZZAORDER (NUMBER two ) (SIZE medium ) pizzas with (TOPPING pepperoni ) and (COMPLEX_TOPPING (QUANTITY extra ) (TOPPING cheese ) ) ) and (PIZZAORDER (NUMBER three ) (SIZE large ) pizzas with (TOPPING pepperoni ) and (TOPPING sausage ) )    \n",
       "\n",
       "  pcfg_err  \n",
       "0    False  "
      ]
     },
     "execution_count": 29,
     "metadata": {},
     "output_type": "execute_result"
    }
   ],
   "source": [
    "df_dev.head(1)"
   ]
  },
  {
   "cell_type": "markdown",
   "id": "6e25e305",
   "metadata": {
    "papermill": {
     "duration": 0.023875,
     "end_time": "2024-12-06T21:26:09.559745",
     "exception": false,
     "start_time": "2024-12-06T21:26:09.535870",
     "status": "completed"
    },
    "tags": []
   },
   "source": [
    "## Features - Inputs"
   ]
  },
  {
   "cell_type": "markdown",
   "id": "b1c3cc90",
   "metadata": {
    "papermill": {
     "duration": 0.018257,
     "end_time": "2024-12-06T21:26:09.604141",
     "exception": false,
     "start_time": "2024-12-06T21:26:09.585884",
     "status": "completed"
    },
    "tags": []
   },
   "source": [
    "### Lemmatize src"
   ]
  },
  {
   "cell_type": "markdown",
   "id": "60031b2c",
   "metadata": {
    "papermill": {
     "duration": 0.018467,
     "end_time": "2024-12-06T21:26:09.640980",
     "exception": false,
     "start_time": "2024-12-06T21:26:09.622513",
     "status": "completed"
    },
    "tags": []
   },
   "source": [
    "- We compare the accuracy of **normal text** to that of **lemmatized text**.\n",
    "- This will provide insights into whether the models can use plural words to capture the meaning of quantities better or not."
   ]
  },
  {
   "cell_type": "code",
   "execution_count": 30,
   "id": "56fb7573",
   "metadata": {
    "execution": {
     "iopub.execute_input": "2024-12-06T21:26:09.680297Z",
     "iopub.status.busy": "2024-12-06T21:26:09.679108Z",
     "iopub.status.idle": "2024-12-06T21:26:12.437210Z",
     "shell.execute_reply": "2024-12-06T21:26:12.436085Z"
    },
    "papermill": {
     "duration": 2.779935,
     "end_time": "2024-12-06T21:26:12.439339",
     "exception": false,
     "start_time": "2024-12-06T21:26:09.659404",
     "status": "completed"
    },
    "tags": []
   },
   "outputs": [
    {
     "name": "stderr",
     "output_type": "stream",
     "text": [
      "100%|██████████| 348/348 [00:02<00:00, 128.08it/s]\n",
      "100%|██████████| 348/348 [00:00<00:00, 70414.29it/s]\n",
      "100%|██████████| 348/348 [00:00<00:00, 251614.86it/s]\n"
     ]
    },
    {
     "data": {
      "text/html": [
       "<div>\n",
       "<style scoped>\n",
       "    .dataframe tbody tr th:only-of-type {\n",
       "        vertical-align: middle;\n",
       "    }\n",
       "\n",
       "    .dataframe tbody tr th {\n",
       "        vertical-align: top;\n",
       "    }\n",
       "\n",
       "    .dataframe thead th {\n",
       "        text-align: right;\n",
       "    }\n",
       "</style>\n",
       "<table border=\"1\" class=\"dataframe\">\n",
       "  <thead>\n",
       "    <tr style=\"text-align: right;\">\n",
       "      <th></th>\n",
       "      <th>src</th>\n",
       "      <th>exr</th>\n",
       "      <th>top</th>\n",
       "      <th>pcfg_err</th>\n",
       "      <th>tokenized_lemma</th>\n",
       "      <th>tokenized</th>\n",
       "      <th>lemmatized</th>\n",
       "    </tr>\n",
       "  </thead>\n",
       "  <tbody>\n",
       "    <tr>\n",
       "      <th>0</th>\n",
       "      <td>i want to order two medium pizzas with sausage and black olives and two medium pizzas with pepperoni and extra cheese and three large pizzas with pepperoni and sausage</td>\n",
       "      <td>(PIZZAORDER (NUMBER 2 ) (SIZE MEDIUM ) (COMPLEX_TOPPING (QUANTITY EXTRA ) (TOPPING CHEESE ) ) (TOPPING PEPPERONI ) ) (PIZZAORDER (NUMBER 2 ) (SIZE MEDIUM ) (TOPPING OLIVES ) (TOPPING SAUSAGE ) ) (PIZZAORDER (NUMBER 3 ) (SIZE LARGE ) (TOPPING PEPPERONI ) (TOPPING SAUSAGE ) )</td>\n",
       "      <td>i want to order (PIZZAORDER (NUMBER two ) (SIZE medium ) pizzas with (TOPPING sausage ) and (TOPPING black olives ) ) and (PIZZAORDER (NUMBER two ) (SIZE medium ) pizzas with (TOPPING pepperoni ) and (COMPLEX_TOPPING (QUANTITY extra ) (TOPPING cheese ) ) ) and (PIZZAORDER (NUMBER three ) (SIZE large ) pizzas with (TOPPING pepperoni ) and (TOPPING sausage ) )</td>\n",
       "      <td>False</td>\n",
       "      <td>[i, want, to, order, two, medium, pizza, with, sausage, and, black, olive, and, two, medium, pizza, with, pepperoni, and, extra, cheese, and, three, large, pizza, with, pepperoni, and, sausage]</td>\n",
       "      <td>[i, want, to, order, two, medium, pizzas, with, sausage, and, black, olives, and, two, medium, pizzas, with, pepperoni, and, extra, cheese, and, three, large, pizzas, with, pepperoni, and, sausage]</td>\n",
       "      <td>i want to order two medium pizza with sausage and black olive and two medium pizza with pepperoni and extra cheese and three large pizza with pepperoni and sausage</td>\n",
       "    </tr>\n",
       "    <tr>\n",
       "      <th>1</th>\n",
       "      <td>five medium pizzas with tomatoes and ham</td>\n",
       "      <td>(PIZZAORDER (NUMBER 5 ) (SIZE MEDIUM ) (TOPPING HAM ) (TOPPING TOMATOES ) )</td>\n",
       "      <td>(PIZZAORDER (NUMBER five ) (SIZE medium ) pizzas with (TOPPING tomatoes ) and (TOPPING ham ) )</td>\n",
       "      <td>False</td>\n",
       "      <td>[five, medium, pizza, with, tomato, and, ham]</td>\n",
       "      <td>[five, medium, pizzas, with, tomatoes, and, ham]</td>\n",
       "      <td>five medium pizza with tomato and ham</td>\n",
       "    </tr>\n",
       "    <tr>\n",
       "      <th>2</th>\n",
       "      <td>i need to order one large vegetarian pizza with extra banana peppers</td>\n",
       "      <td>(PIZZAORDER (NUMBER 1 ) (SIZE LARGE ) (STYLE VEGETARIAN ) (COMPLEX_TOPPING (QUANTITY EXTRA ) (TOPPING BANANA_PEPPERS ) ) )</td>\n",
       "      <td>i need to order (PIZZAORDER (NUMBER one ) (SIZE large ) (STYLE vegetarian ) pizza with (COMPLEX_TOPPING (QUANTITY extra ) (TOPPING banana peppers ) ) )</td>\n",
       "      <td>False</td>\n",
       "      <td>[i, need, to, order, one, large, vegetarian, pizza, with, extra, banana, pepper]</td>\n",
       "      <td>[i, need, to, order, one, large, vegetarian, pizza, with, extra, banana, peppers]</td>\n",
       "      <td>i need to order one large vegetarian pizza with extra banana pepper</td>\n",
       "    </tr>\n",
       "    <tr>\n",
       "      <th>3</th>\n",
       "      <td>i'd like to order a large onion and pepper pizza</td>\n",
       "      <td>(PIZZAORDER (NUMBER 1 ) (SIZE LARGE ) (TOPPING ONIONS ) (TOPPING PEPPERS ) )</td>\n",
       "      <td>i'd like to order (PIZZAORDER (NUMBER a ) (SIZE large ) (TOPPING onion ) and (TOPPING pepper ) pizza )</td>\n",
       "      <td>False</td>\n",
       "      <td>[i, would, like, to, order, a, large, onion, and, pepper, pizza]</td>\n",
       "      <td>[i'd, like, to, order, a, large, onion, and, pepper, pizza]</td>\n",
       "      <td>i would like to order a large onion and pepper pizza</td>\n",
       "    </tr>\n",
       "    <tr>\n",
       "      <th>4</th>\n",
       "      <td>i'll have one pie along with pesto and ham but avoid olives</td>\n",
       "      <td>(PIZZAORDER (NOT (TOPPING OLIVES ) ) (NUMBER 1 ) (TOPPING HAM ) (TOPPING PESTO ) )</td>\n",
       "      <td>i'll have (PIZZAORDER (NUMBER one ) pie along with (TOPPING pesto ) and (TOPPING ham ) but avoid (NOT (TOPPING olives ) ) )</td>\n",
       "      <td>False</td>\n",
       "      <td>[i, will, have, one, pie, along, with, pesto, and, ham, but, avoid, olive]</td>\n",
       "      <td>[i'll, have, one, pie, along, with, pesto, and, ham, but, avoid, olives]</td>\n",
       "      <td>i will have one pie along with pesto and ham but avoid olive</td>\n",
       "    </tr>\n",
       "  </tbody>\n",
       "</table>\n",
       "</div>"
      ],
      "text/plain": [
       "                                                                                                                                                                       src  \\\n",
       "0  i want to order two medium pizzas with sausage and black olives and two medium pizzas with pepperoni and extra cheese and three large pizzas with pepperoni and sausage   \n",
       "1                                                                                                                                 five medium pizzas with tomatoes and ham   \n",
       "2                                                                                                     i need to order one large vegetarian pizza with extra banana peppers   \n",
       "3                                                                                                                         i'd like to order a large onion and pepper pizza   \n",
       "4                                                                                                              i'll have one pie along with pesto and ham but avoid olives   \n",
       "\n",
       "                                                                                                                                                                                                                                                                                   exr  \\\n",
       "0  (PIZZAORDER (NUMBER 2 ) (SIZE MEDIUM ) (COMPLEX_TOPPING (QUANTITY EXTRA ) (TOPPING CHEESE ) ) (TOPPING PEPPERONI ) ) (PIZZAORDER (NUMBER 2 ) (SIZE MEDIUM ) (TOPPING OLIVES ) (TOPPING SAUSAGE ) ) (PIZZAORDER (NUMBER 3 ) (SIZE LARGE ) (TOPPING PEPPERONI ) (TOPPING SAUSAGE ) )    \n",
       "1                                                                                                                                                                                                         (PIZZAORDER (NUMBER 5 ) (SIZE MEDIUM ) (TOPPING HAM ) (TOPPING TOMATOES ) )    \n",
       "2                                                                                                                                                          (PIZZAORDER (NUMBER 1 ) (SIZE LARGE ) (STYLE VEGETARIAN ) (COMPLEX_TOPPING (QUANTITY EXTRA ) (TOPPING BANANA_PEPPERS ) ) )    \n",
       "3                                                                                                                                                                                                        (PIZZAORDER (NUMBER 1 ) (SIZE LARGE ) (TOPPING ONIONS ) (TOPPING PEPPERS ) )    \n",
       "4                                                                                                                                                                                                  (PIZZAORDER (NOT (TOPPING OLIVES ) ) (NUMBER 1 ) (TOPPING HAM ) (TOPPING PESTO ) )    \n",
       "\n",
       "                                                                                                                                                                                                                                                                                                                                                                         top  \\\n",
       "0  i want to order (PIZZAORDER (NUMBER two ) (SIZE medium ) pizzas with (TOPPING sausage ) and (TOPPING black olives ) ) and (PIZZAORDER (NUMBER two ) (SIZE medium ) pizzas with (TOPPING pepperoni ) and (COMPLEX_TOPPING (QUANTITY extra ) (TOPPING cheese ) ) ) and (PIZZAORDER (NUMBER three ) (SIZE large ) pizzas with (TOPPING pepperoni ) and (TOPPING sausage ) )    \n",
       "1                                                                                                                                                                                                                                                                            (PIZZAORDER (NUMBER five ) (SIZE medium ) pizzas with (TOPPING tomatoes ) and (TOPPING ham ) )    \n",
       "2                                                                                                                                                                                                                   i need to order (PIZZAORDER (NUMBER one ) (SIZE large ) (STYLE vegetarian ) pizza with (COMPLEX_TOPPING (QUANTITY extra ) (TOPPING banana peppers ) ) )    \n",
       "3                                                                                                                                                                                                                                                                    i'd like to order (PIZZAORDER (NUMBER a ) (SIZE large ) (TOPPING onion ) and (TOPPING pepper ) pizza )    \n",
       "4                                                                                                                                                                                                                                               i'll have (PIZZAORDER (NUMBER one ) pie along with (TOPPING pesto ) and (TOPPING ham ) but avoid (NOT (TOPPING olives ) ) )    \n",
       "\n",
       "  pcfg_err  \\\n",
       "0    False   \n",
       "1    False   \n",
       "2    False   \n",
       "3    False   \n",
       "4    False   \n",
       "\n",
       "                                                                                                                                                                                     tokenized_lemma  \\\n",
       "0  [i, want, to, order, two, medium, pizza, with, sausage, and, black, olive, and, two, medium, pizza, with, pepperoni, and, extra, cheese, and, three, large, pizza, with, pepperoni, and, sausage]   \n",
       "1                                                                                                                                                      [five, medium, pizza, with, tomato, and, ham]   \n",
       "2                                                                                                                   [i, need, to, order, one, large, vegetarian, pizza, with, extra, banana, pepper]   \n",
       "3                                                                                                                                   [i, would, like, to, order, a, large, onion, and, pepper, pizza]   \n",
       "4                                                                                                                         [i, will, have, one, pie, along, with, pesto, and, ham, but, avoid, olive]   \n",
       "\n",
       "                                                                                                                                                                                               tokenized  \\\n",
       "0  [i, want, to, order, two, medium, pizzas, with, sausage, and, black, olives, and, two, medium, pizzas, with, pepperoni, and, extra, cheese, and, three, large, pizzas, with, pepperoni, and, sausage]   \n",
       "1                                                                                                                                                       [five, medium, pizzas, with, tomatoes, and, ham]   \n",
       "2                                                                                                                      [i, need, to, order, one, large, vegetarian, pizza, with, extra, banana, peppers]   \n",
       "3                                                                                                                                            [i'd, like, to, order, a, large, onion, and, pepper, pizza]   \n",
       "4                                                                                                                               [i'll, have, one, pie, along, with, pesto, and, ham, but, avoid, olives]   \n",
       "\n",
       "                                                                                                                                                            lemmatized  \n",
       "0  i want to order two medium pizza with sausage and black olive and two medium pizza with pepperoni and extra cheese and three large pizza with pepperoni and sausage  \n",
       "1                                                                                                                                five medium pizza with tomato and ham  \n",
       "2                                                                                                  i need to order one large vegetarian pizza with extra banana pepper  \n",
       "3                                                                                                                 i would like to order a large onion and pepper pizza  \n",
       "4                                                                                                         i will have one pie along with pesto and ham but avoid olive  "
      ]
     },
     "execution_count": 30,
     "metadata": {},
     "output_type": "execute_result"
    }
   ],
   "source": [
    "def lemmatize_text(text):\n",
    "    doc = nlp(text)\n",
    "    lemma_tokenized = [token.lemma_.lower() for token in doc if not token.is_punct and not token.is_space]\n",
    "    return lemma_tokenized\n",
    "\n",
    "# Apply lemmatization\n",
    "# Used for the rest of embeddings\n",
    "df_dev[\"tokenized_lemma\"] = df_dev[\"src\"].progress_apply(lemmatize_text)\n",
    "df_dev[\"tokenized\"] = df_dev[\"src\"].progress_apply(lambda x: regexp_tokenize(x, token_pattern))\n",
    "# Used for tf-idf\n",
    "df_dev[\"lemmatized\"] = df_dev[\"tokenized_lemma\"].progress_apply(lambda x: \" \".join(x))\n",
    "df_dev.head()"
   ]
  },
  {
   "cell_type": "markdown",
   "id": "8d41e469",
   "metadata": {
    "papermill": {
     "duration": 0.019745,
     "end_time": "2024-12-06T21:26:12.479816",
     "exception": false,
     "start_time": "2024-12-06T21:26:12.460071",
     "status": "completed"
    },
    "tags": []
   },
   "source": [
    "### TF-IDF"
   ]
  },
  {
   "cell_type": "code",
   "execution_count": 31,
   "id": "f1efd134",
   "metadata": {
    "execution": {
     "iopub.execute_input": "2024-12-06T21:26:12.521242Z",
     "iopub.status.busy": "2024-12-06T21:26:12.520812Z",
     "iopub.status.idle": "2024-12-06T21:26:12.552396Z",
     "shell.execute_reply": "2024-12-06T21:26:12.551229Z"
    },
    "papermill": {
     "duration": 0.055522,
     "end_time": "2024-12-06T21:26:12.555171",
     "exception": false,
     "start_time": "2024-12-06T21:26:12.499649",
     "status": "completed"
    },
    "tags": []
   },
   "outputs": [
    {
     "name": "stdout",
     "output_type": "stream",
     "text": [
      "245\n",
      "[0.         0.         0.         0.         0.         0.\n",
      " 0.         0.         0.         0.         0.         0.\n",
      " 0.33419201 0.         0.         0.         0.         0.\n",
      " 0.         0.         0.         0.         0.         0.\n",
      " 0.         0.         0.         0.         0.         0.\n",
      " 0.27444242 0.         0.         0.         0.         0.\n",
      " 0.         0.         0.13552587 0.         0.         0.\n",
      " 0.         0.         0.         0.         0.         0.\n",
      " 0.         0.         0.         0.         0.         0.\n",
      " 0.         0.         0.         0.         0.         0.\n",
      " 0.         0.         0.         0.         0.13966882 0.\n",
      " 0.         0.         0.         0.         0.         0.\n",
      " 0.         0.         0.         0.         0.         0.\n",
      " 0.         0.         0.         0.         0.         0.\n",
      " 0.         0.         0.         0.         0.         0.\n",
      " 0.         0.         0.         0.08430144 0.         0.\n",
      " 0.         0.         0.         0.         0.         0.\n",
      " 0.         0.         0.         0.         0.         0.\n",
      " 0.         0.         0.         0.         0.11605409 0.\n",
      " 0.         0.         0.         0.         0.         0.\n",
      " 0.         0.         0.         0.         0.         0.\n",
      " 0.         0.         0.         0.         0.25381643 0.\n",
      " 0.         0.         0.         0.         0.         0.\n",
      " 0.         0.         0.         0.         0.         0.\n",
      " 0.         0.         0.         0.         0.         0.16681071\n",
      " 0.         0.         0.         0.         0.         0.1457184\n",
      " 0.         0.         0.         0.         0.         0.\n",
      " 0.3124626  0.         0.         0.         0.         0.\n",
      " 0.         0.         0.         0.         0.         0.45482547\n",
      " 0.         0.         0.         0.         0.         0.\n",
      " 0.         0.         0.30500595 0.         0.         0.\n",
      " 0.         0.         0.         0.         0.         0.\n",
      " 0.         0.         0.         0.         0.         0.\n",
      " 0.         0.         0.         0.         0.         0.\n",
      " 0.         0.         0.         0.         0.         0.\n",
      " 0.         0.         0.         0.         0.         0.22822767\n",
      " 0.13552587 0.         0.         0.         0.         0.\n",
      " 0.         0.         0.         0.         0.         0.\n",
      " 0.3204523  0.         0.         0.15160849 0.         0.\n",
      " 0.         0.         0.         0.         0.         0.21773158\n",
      " 0.         0.         0.         0.         0.        ]\n",
      "7-up\n"
     ]
    }
   ],
   "source": [
    "# TF-IDF feature extraction\n",
    "vectorizer = TfidfVectorizer(analyzer=\"word\", ngram_range=(1, 1), token_pattern=token_pattern)\n",
    "\n",
    "# Transform lemmatized tokens into TF-IDF features\n",
    "# Converts i'd -> i would (2 tokens instead of 1!) -> Trade off between lemmatizing 'top' or use 'src'\n",
    "# tfidf_features = vectorizer.fit_transform(df_dev[\"lemmatized\"]) \n",
    "tfidf_features = vectorizer.fit_transform(df_dev[\"src\"])\n",
    "print(len(tfidf_features.toarray()[5]))\n",
    "print(tfidf_features.toarray()[0])\n",
    "print(vectorizer.get_feature_names_out()[0])"
   ]
  },
  {
   "cell_type": "code",
   "execution_count": 32,
   "id": "27aa3fea",
   "metadata": {
    "execution": {
     "iopub.execute_input": "2024-12-06T21:26:12.597686Z",
     "iopub.status.busy": "2024-12-06T21:26:12.597293Z",
     "iopub.status.idle": "2024-12-06T21:26:12.604133Z",
     "shell.execute_reply": "2024-12-06T21:26:12.603078Z"
    },
    "papermill": {
     "duration": 0.030446,
     "end_time": "2024-12-06T21:26:12.606226",
     "exception": false,
     "start_time": "2024-12-06T21:26:12.575780",
     "status": "completed"
    },
    "tags": []
   },
   "outputs": [
    {
     "data": {
      "text/plain": [
       "((348, 245), (348, 7))"
      ]
     },
     "execution_count": 32,
     "metadata": {},
     "output_type": "execute_result"
    }
   ],
   "source": [
    "tfidf_features.shape, df_dev.shape"
   ]
  },
  {
   "cell_type": "code",
   "execution_count": 33,
   "id": "904a42ea",
   "metadata": {
    "execution": {
     "iopub.execute_input": "2024-12-06T21:26:12.650699Z",
     "iopub.status.busy": "2024-12-06T21:26:12.650334Z",
     "iopub.status.idle": "2024-12-06T21:26:12.656036Z",
     "shell.execute_reply": "2024-12-06T21:26:12.654903Z"
    },
    "papermill": {
     "duration": 0.030237,
     "end_time": "2024-12-06T21:26:12.658208",
     "exception": false,
     "start_time": "2024-12-06T21:26:12.627971",
     "status": "completed"
    },
    "tags": []
   },
   "outputs": [],
   "source": [
    "vocab = vectorizer.get_feature_names_out()\n",
    "docterm = pd.DataFrame(tfidf_features.todense(), columns=vocab)"
   ]
  },
  {
   "cell_type": "code",
   "execution_count": 34,
   "id": "43ccfb21",
   "metadata": {
    "execution": {
     "iopub.execute_input": "2024-12-06T21:26:12.702690Z",
     "iopub.status.busy": "2024-12-06T21:26:12.701654Z",
     "iopub.status.idle": "2024-12-06T21:26:12.727021Z",
     "shell.execute_reply": "2024-12-06T21:26:12.725920Z"
    },
    "papermill": {
     "duration": 0.0501,
     "end_time": "2024-12-06T21:26:12.729151",
     "exception": false,
     "start_time": "2024-12-06T21:26:12.679051",
     "status": "completed"
    },
    "tags": []
   },
   "outputs": [
    {
     "data": {
      "text/html": [
       "<div>\n",
       "<style scoped>\n",
       "    .dataframe tbody tr th:only-of-type {\n",
       "        vertical-align: middle;\n",
       "    }\n",
       "\n",
       "    .dataframe tbody tr th {\n",
       "        vertical-align: top;\n",
       "    }\n",
       "\n",
       "    .dataframe thead th {\n",
       "        text-align: right;\n",
       "    }\n",
       "</style>\n",
       "<table border=\"1\" class=\"dataframe\">\n",
       "  <thead>\n",
       "    <tr style=\"text-align: right;\">\n",
       "      <th></th>\n",
       "      <th>7-up</th>\n",
       "      <th>a</th>\n",
       "      <th>add</th>\n",
       "      <th>adding</th>\n",
       "      <th>additional</th>\n",
       "      <th>all</th>\n",
       "      <th>allergic</th>\n",
       "      <th>along</th>\n",
       "      <th>also</th>\n",
       "      <th>am</th>\n",
       "      <th>...</th>\n",
       "      <th>well</th>\n",
       "      <th>which</th>\n",
       "      <th>will</th>\n",
       "      <th>wish</th>\n",
       "      <th>with</th>\n",
       "      <th>without</th>\n",
       "      <th>won't</th>\n",
       "      <th>would</th>\n",
       "      <th>yellow</th>\n",
       "      <th>you</th>\n",
       "    </tr>\n",
       "  </thead>\n",
       "  <tbody>\n",
       "    <tr>\n",
       "      <th>0</th>\n",
       "      <td>0.0</td>\n",
       "      <td>0.000000</td>\n",
       "      <td>0.0</td>\n",
       "      <td>0.0</td>\n",
       "      <td>0.0</td>\n",
       "      <td>0.0</td>\n",
       "      <td>0.0</td>\n",
       "      <td>0.000000</td>\n",
       "      <td>0.0</td>\n",
       "      <td>0.0</td>\n",
       "      <td>...</td>\n",
       "      <td>0.0</td>\n",
       "      <td>0.0</td>\n",
       "      <td>0.0</td>\n",
       "      <td>0.0</td>\n",
       "      <td>0.217732</td>\n",
       "      <td>0.0</td>\n",
       "      <td>0.0</td>\n",
       "      <td>0.0</td>\n",
       "      <td>0.0</td>\n",
       "      <td>0.0</td>\n",
       "    </tr>\n",
       "    <tr>\n",
       "      <th>1</th>\n",
       "      <td>0.0</td>\n",
       "      <td>0.000000</td>\n",
       "      <td>0.0</td>\n",
       "      <td>0.0</td>\n",
       "      <td>0.0</td>\n",
       "      <td>0.0</td>\n",
       "      <td>0.0</td>\n",
       "      <td>0.000000</td>\n",
       "      <td>0.0</td>\n",
       "      <td>0.0</td>\n",
       "      <td>...</td>\n",
       "      <td>0.0</td>\n",
       "      <td>0.0</td>\n",
       "      <td>0.0</td>\n",
       "      <td>0.0</td>\n",
       "      <td>0.159152</td>\n",
       "      <td>0.0</td>\n",
       "      <td>0.0</td>\n",
       "      <td>0.0</td>\n",
       "      <td>0.0</td>\n",
       "      <td>0.0</td>\n",
       "    </tr>\n",
       "    <tr>\n",
       "      <th>2</th>\n",
       "      <td>0.0</td>\n",
       "      <td>0.000000</td>\n",
       "      <td>0.0</td>\n",
       "      <td>0.0</td>\n",
       "      <td>0.0</td>\n",
       "      <td>0.0</td>\n",
       "      <td>0.0</td>\n",
       "      <td>0.000000</td>\n",
       "      <td>0.0</td>\n",
       "      <td>0.0</td>\n",
       "      <td>...</td>\n",
       "      <td>0.0</td>\n",
       "      <td>0.0</td>\n",
       "      <td>0.0</td>\n",
       "      <td>0.0</td>\n",
       "      <td>0.114830</td>\n",
       "      <td>0.0</td>\n",
       "      <td>0.0</td>\n",
       "      <td>0.0</td>\n",
       "      <td>0.0</td>\n",
       "      <td>0.0</td>\n",
       "    </tr>\n",
       "    <tr>\n",
       "      <th>3</th>\n",
       "      <td>0.0</td>\n",
       "      <td>0.172717</td>\n",
       "      <td>0.0</td>\n",
       "      <td>0.0</td>\n",
       "      <td>0.0</td>\n",
       "      <td>0.0</td>\n",
       "      <td>0.0</td>\n",
       "      <td>0.000000</td>\n",
       "      <td>0.0</td>\n",
       "      <td>0.0</td>\n",
       "      <td>...</td>\n",
       "      <td>0.0</td>\n",
       "      <td>0.0</td>\n",
       "      <td>0.0</td>\n",
       "      <td>0.0</td>\n",
       "      <td>0.000000</td>\n",
       "      <td>0.0</td>\n",
       "      <td>0.0</td>\n",
       "      <td>0.0</td>\n",
       "      <td>0.0</td>\n",
       "      <td>0.0</td>\n",
       "    </tr>\n",
       "    <tr>\n",
       "      <th>4</th>\n",
       "      <td>0.0</td>\n",
       "      <td>0.000000</td>\n",
       "      <td>0.0</td>\n",
       "      <td>0.0</td>\n",
       "      <td>0.0</td>\n",
       "      <td>0.0</td>\n",
       "      <td>0.0</td>\n",
       "      <td>0.317027</td>\n",
       "      <td>0.0</td>\n",
       "      <td>0.0</td>\n",
       "      <td>...</td>\n",
       "      <td>0.0</td>\n",
       "      <td>0.0</td>\n",
       "      <td>0.0</td>\n",
       "      <td>0.0</td>\n",
       "      <td>0.135995</td>\n",
       "      <td>0.0</td>\n",
       "      <td>0.0</td>\n",
       "      <td>0.0</td>\n",
       "      <td>0.0</td>\n",
       "      <td>0.0</td>\n",
       "    </tr>\n",
       "  </tbody>\n",
       "</table>\n",
       "<p>5 rows × 245 columns</p>\n",
       "</div>"
      ],
      "text/plain": [
       "   7-up         a  add  adding  additional  all  allergic     along  also  \\\n",
       "0   0.0  0.000000  0.0     0.0         0.0  0.0       0.0  0.000000   0.0   \n",
       "1   0.0  0.000000  0.0     0.0         0.0  0.0       0.0  0.000000   0.0   \n",
       "2   0.0  0.000000  0.0     0.0         0.0  0.0       0.0  0.000000   0.0   \n",
       "3   0.0  0.172717  0.0     0.0         0.0  0.0       0.0  0.000000   0.0   \n",
       "4   0.0  0.000000  0.0     0.0         0.0  0.0       0.0  0.317027   0.0   \n",
       "\n",
       "    am  ...  well  which  will  wish      with  without  won't  would  yellow  \\\n",
       "0  0.0  ...   0.0    0.0   0.0   0.0  0.217732      0.0    0.0    0.0     0.0   \n",
       "1  0.0  ...   0.0    0.0   0.0   0.0  0.159152      0.0    0.0    0.0     0.0   \n",
       "2  0.0  ...   0.0    0.0   0.0   0.0  0.114830      0.0    0.0    0.0     0.0   \n",
       "3  0.0  ...   0.0    0.0   0.0   0.0  0.000000      0.0    0.0    0.0     0.0   \n",
       "4  0.0  ...   0.0    0.0   0.0   0.0  0.135995      0.0    0.0    0.0     0.0   \n",
       "\n",
       "   you  \n",
       "0  0.0  \n",
       "1  0.0  \n",
       "2  0.0  \n",
       "3  0.0  \n",
       "4  0.0  \n",
       "\n",
       "[5 rows x 245 columns]"
      ]
     },
     "execution_count": 34,
     "metadata": {},
     "output_type": "execute_result"
    }
   ],
   "source": [
    "docterm.head()"
   ]
  },
  {
   "cell_type": "code",
   "execution_count": 35,
   "id": "da06e135",
   "metadata": {
    "execution": {
     "iopub.execute_input": "2024-12-06T21:26:12.774175Z",
     "iopub.status.busy": "2024-12-06T21:26:12.773756Z",
     "iopub.status.idle": "2024-12-06T21:26:12.778746Z",
     "shell.execute_reply": "2024-12-06T21:26:12.777649Z"
    },
    "papermill": {
     "duration": 0.030289,
     "end_time": "2024-12-06T21:26:12.781100",
     "exception": false,
     "start_time": "2024-12-06T21:26:12.750811",
     "status": "completed"
    },
    "tags": []
   },
   "outputs": [],
   "source": [
    "# (docterm['7'].to_list() == tfidf_features.toarray().T[0]).all()"
   ]
  },
  {
   "cell_type": "code",
   "execution_count": 36,
   "id": "c7cd6326",
   "metadata": {
    "execution": {
     "iopub.execute_input": "2024-12-06T21:26:12.826329Z",
     "iopub.status.busy": "2024-12-06T21:26:12.825345Z",
     "iopub.status.idle": "2024-12-06T21:26:12.832248Z",
     "shell.execute_reply": "2024-12-06T21:26:12.830862Z"
    },
    "papermill": {
     "duration": 0.032222,
     "end_time": "2024-12-06T21:26:12.834267",
     "exception": false,
     "start_time": "2024-12-06T21:26:12.802045",
     "status": "completed"
    },
    "tags": []
   },
   "outputs": [
    {
     "data": {
      "text/plain": [
       "94"
      ]
     },
     "execution_count": 36,
     "metadata": {},
     "output_type": "execute_result"
    }
   ],
   "source": [
    "vectorizer.vocabulary_[\"i'd\"]"
   ]
  },
  {
   "cell_type": "code",
   "execution_count": 37,
   "id": "d648cb78",
   "metadata": {
    "execution": {
     "iopub.execute_input": "2024-12-06T21:26:12.877726Z",
     "iopub.status.busy": "2024-12-06T21:26:12.877329Z",
     "iopub.status.idle": "2024-12-06T21:26:12.887759Z",
     "shell.execute_reply": "2024-12-06T21:26:12.886700Z"
    },
    "papermill": {
     "duration": 0.034617,
     "end_time": "2024-12-06T21:26:12.889878",
     "exception": false,
     "start_time": "2024-12-06T21:26:12.855261",
     "status": "completed"
    },
    "tags": []
   },
   "outputs": [
    {
     "data": {
      "text/plain": [
       "array([0.        , 0.18706812, 0.        , 0.        , 0.        ,\n",
       "       0.        , 0.        , 0.        , 0.        , 0.        ,\n",
       "       0.        , 0.        , 0.14551966, 0.        , 0.        ,\n",
       "       0.        , 0.        , 0.        , 0.        , 0.33806403,\n",
       "       0.        , 0.        , 0.        , 0.        , 0.        ,\n",
       "       0.        , 0.        , 0.        , 0.        , 0.        ,\n",
       "       0.        , 0.        , 0.        , 0.        , 0.34014466,\n",
       "       0.        , 0.        , 0.        , 0.        , 0.        ,\n",
       "       0.        , 0.        , 0.        , 0.        , 0.        ,\n",
       "       0.        , 0.        , 0.        , 0.        , 0.        ,\n",
       "       0.        , 0.        , 0.        , 0.        , 0.        ,\n",
       "       0.        , 0.        , 0.        , 0.        , 0.        ,\n",
       "       0.        , 0.        , 0.        , 0.        , 0.        ,\n",
       "       0.        , 0.        , 0.        , 0.        , 0.        ,\n",
       "       0.        , 0.        , 0.        , 0.        , 0.        ,\n",
       "       0.30724662, 0.        , 0.        , 0.        , 0.        ,\n",
       "       0.        , 0.        , 0.        , 0.        , 0.        ,\n",
       "       0.        , 0.        , 0.        , 0.        , 0.        ,\n",
       "       0.        , 0.        , 0.        , 0.18353994, 0.        ,\n",
       "       0.        , 0.        , 0.        , 0.        , 0.        ,\n",
       "       0.        , 0.        , 0.        , 0.        , 0.        ,\n",
       "       0.        , 0.        , 0.        , 0.        , 0.        ,\n",
       "       0.        , 0.        , 0.        , 0.        , 0.        ,\n",
       "       0.        , 0.        , 0.        , 0.        , 0.        ,\n",
       "       0.        , 0.        , 0.        , 0.        , 0.        ,\n",
       "       0.        , 0.        , 0.        , 0.        , 0.        ,\n",
       "       0.        , 0.        , 0.        , 0.        , 0.        ,\n",
       "       0.        , 0.        , 0.        , 0.        , 0.        ,\n",
       "       0.        , 0.        , 0.        , 0.        , 0.        ,\n",
       "       0.        , 0.        , 0.        , 0.        , 0.        ,\n",
       "       0.        , 0.        , 0.        , 0.        , 0.        ,\n",
       "       0.        , 0.        , 0.        , 0.        , 0.        ,\n",
       "       0.        , 0.        , 0.        , 0.        , 0.        ,\n",
       "       0.        , 0.        , 0.        , 0.        , 0.        ,\n",
       "       0.        , 0.        , 0.1925599 , 0.        , 0.        ,\n",
       "       0.        , 0.        , 0.        , 0.        , 0.        ,\n",
       "       0.66562521, 0.        , 0.        , 0.        , 0.        ,\n",
       "       0.        , 0.        , 0.        , 0.        , 0.28399258,\n",
       "       0.        , 0.        , 0.        , 0.        , 0.        ,\n",
       "       0.        , 0.        , 0.        , 0.        , 0.        ,\n",
       "       0.        , 0.        , 0.        , 0.        , 0.        ,\n",
       "       0.        , 0.        , 0.        , 0.        , 0.        ,\n",
       "       0.        , 0.        , 0.        , 0.        , 0.        ,\n",
       "       0.        , 0.        , 0.        , 0.        , 0.        ,\n",
       "       0.        , 0.        , 0.        , 0.        , 0.        ,\n",
       "       0.        , 0.        , 0.        , 0.        , 0.        ,\n",
       "       0.        , 0.        , 0.        , 0.        , 0.        ,\n",
       "       0.        , 0.        , 0.        , 0.        , 0.15801408,\n",
       "       0.        , 0.        , 0.        , 0.        , 0.        ])"
      ]
     },
     "execution_count": 37,
     "metadata": {},
     "output_type": "execute_result"
    }
   ],
   "source": [
    "tfidf_features[vectorizer.vocabulary_.get('i', 0)].toarray()[0]"
   ]
  },
  {
   "cell_type": "markdown",
   "id": "b22c80ea",
   "metadata": {
    "papermill": {
     "duration": 0.020673,
     "end_time": "2024-12-06T21:26:12.931523",
     "exception": false,
     "start_time": "2024-12-06T21:26:12.910850",
     "status": "completed"
    },
    "tags": []
   },
   "source": [
    "### Word2Vec"
   ]
  },
  {
   "cell_type": "code",
   "execution_count": 38,
   "id": "149510c4",
   "metadata": {
    "execution": {
     "iopub.execute_input": "2024-12-06T21:26:12.975632Z",
     "iopub.status.busy": "2024-12-06T21:26:12.974707Z",
     "iopub.status.idle": "2024-12-06T21:26:13.037048Z",
     "shell.execute_reply": "2024-12-06T21:26:13.036052Z"
    },
    "papermill": {
     "duration": 0.086557,
     "end_time": "2024-12-06T21:26:13.039191",
     "exception": false,
     "start_time": "2024-12-06T21:26:12.952634",
     "status": "completed"
    },
    "tags": []
   },
   "outputs": [
    {
     "name": "stdout",
     "output_type": "stream",
     "text": [
      "Creating /word2vec_model.bin...\n",
      "Saving /word2vec_model.bin...\n"
     ]
    },
    {
     "data": {
      "text/plain": [
       "<gensim.models.word2vec.Word2Vec at 0x799095e60700>"
      ]
     },
     "execution_count": 38,
     "metadata": {},
     "output_type": "execute_result"
    }
   ],
   "source": [
    "model_name = \"/word2vec_model.bin\"\n",
    "update_model = True\n",
    "if update_model or not os.path.exists(MODELS_PATH + model_name):\n",
    "    print(f\"Creating {model_name}...\")\n",
    "    # Create a Word2Vec model\n",
    "    # word2vec_model = Word2Vec(sentences=df_dev[\"tokenized_lemma\"], vector_size=200, window=5, min_count=1, workers=4)\n",
    "    word2vec_model = Word2Vec(sentences=df_dev[\"tokenized\"], vector_size=200, window=5, min_count=1, workers=4)\n",
    "    print(f\"Saving {model_name}...\")\n",
    "    # Save the trained model\n",
    "    word2vec_model.save(MODELS_PATH + model_name)\n",
    "else:\n",
    "    print(f\"Loading {model_name}...\")\n",
    "    # Load the trained model\n",
    "    Word2Vec.load(MODELS_PATH + model_name)\n",
    "    \n",
    "word2vec_model"
   ]
  },
  {
   "cell_type": "code",
   "execution_count": 39,
   "id": "789f5145",
   "metadata": {
    "execution": {
     "iopub.execute_input": "2024-12-06T21:26:13.084488Z",
     "iopub.status.busy": "2024-12-06T21:26:13.083533Z",
     "iopub.status.idle": "2024-12-06T21:26:13.089162Z",
     "shell.execute_reply": "2024-12-06T21:26:13.088102Z"
    },
    "papermill": {
     "duration": 0.03092,
     "end_time": "2024-12-06T21:26:13.091294",
     "exception": false,
     "start_time": "2024-12-06T21:26:13.060374",
     "status": "completed"
    },
    "tags": []
   },
   "outputs": [],
   "source": [
    "word_embeddings = {word: word2vec_model.wv[word] for word in word2vec_model.wv.index_to_key}\n",
    "# word_embeddings"
   ]
  },
  {
   "cell_type": "code",
   "execution_count": 40,
   "id": "11effe54",
   "metadata": {
    "execution": {
     "iopub.execute_input": "2024-12-06T21:26:13.135358Z",
     "iopub.status.busy": "2024-12-06T21:26:13.134962Z",
     "iopub.status.idle": "2024-12-06T21:26:13.139758Z",
     "shell.execute_reply": "2024-12-06T21:26:13.138796Z"
    },
    "papermill": {
     "duration": 0.029329,
     "end_time": "2024-12-06T21:26:13.141699",
     "exception": false,
     "start_time": "2024-12-06T21:26:13.112370",
     "status": "completed"
    },
    "tags": []
   },
   "outputs": [],
   "source": [
    "# # Step 2: Prepare CRF features by combining tokens with embeddings\n",
    "# def convert_to_crf_features(tokens, word_embeddings):\n",
    "#     features = []\n",
    "#     for sentence, embeddings in zip(tokens, word_embeddings):\n",
    "#         sentence_features = []\n",
    "#         for word, embedding in zip(sentence, embeddings):\n",
    "#             word_features = {\n",
    "#                 'word': word,  # Word token itself (useful for CRF)\n",
    "#                 'embedding': embedding,  # Word embedding (numerical vector)\n",
    "#             }\n",
    "#             sentence_features.append(word_features)\n",
    "#         features.append(sentence_features)\n",
    "#     return features\n"
   ]
  },
  {
   "cell_type": "code",
   "execution_count": 41,
   "id": "43fe4979",
   "metadata": {
    "execution": {
     "iopub.execute_input": "2024-12-06T21:26:13.185358Z",
     "iopub.status.busy": "2024-12-06T21:26:13.184911Z",
     "iopub.status.idle": "2024-12-06T21:26:13.189952Z",
     "shell.execute_reply": "2024-12-06T21:26:13.188790Z"
    },
    "papermill": {
     "duration": 0.029279,
     "end_time": "2024-12-06T21:26:13.191968",
     "exception": false,
     "start_time": "2024-12-06T21:26:13.162689",
     "status": "completed"
    },
    "tags": []
   },
   "outputs": [],
   "source": [
    "# # Step 3: Get the embeddings for your tokens (train data)\n",
    "# word_embeddings = get_word_embeddings(tokens, word2vec_model)\n",
    "\n",
    "# # Step 4: Convert tokens and embeddings into CRF-friendly format\n",
    "# crf_train_features = convert_to_crf_features(tokens, word_embeddings)"
   ]
  },
  {
   "cell_type": "code",
   "execution_count": 42,
   "id": "31ad5143",
   "metadata": {
    "execution": {
     "iopub.execute_input": "2024-12-06T21:26:13.236470Z",
     "iopub.status.busy": "2024-12-06T21:26:13.236054Z",
     "iopub.status.idle": "2024-12-06T21:26:13.240889Z",
     "shell.execute_reply": "2024-12-06T21:26:13.239805Z"
    },
    "papermill": {
     "duration": 0.029515,
     "end_time": "2024-12-06T21:26:13.242925",
     "exception": false,
     "start_time": "2024-12-06T21:26:13.213410",
     "status": "completed"
    },
    "tags": []
   },
   "outputs": [],
   "source": [
    "# len(word_embeddings)"
   ]
  },
  {
   "cell_type": "code",
   "execution_count": 43,
   "id": "f17e7fc3",
   "metadata": {
    "execution": {
     "iopub.execute_input": "2024-12-06T21:26:13.286619Z",
     "iopub.status.busy": "2024-12-06T21:26:13.286258Z",
     "iopub.status.idle": "2024-12-06T21:26:13.291479Z",
     "shell.execute_reply": "2024-12-06T21:26:13.290229Z"
    },
    "papermill": {
     "duration": 0.029585,
     "end_time": "2024-12-06T21:26:13.293544",
     "exception": false,
     "start_time": "2024-12-06T21:26:13.263959",
     "status": "completed"
    },
    "tags": []
   },
   "outputs": [],
   "source": [
    "# word_embeddings[0]"
   ]
  },
  {
   "cell_type": "markdown",
   "id": "2fb4ce0b",
   "metadata": {
    "papermill": {
     "duration": 0.021464,
     "end_time": "2024-12-06T21:26:13.335868",
     "exception": false,
     "start_time": "2024-12-06T21:26:13.314404",
     "status": "completed"
    },
    "tags": []
   },
   "source": [
    "## Word Vectorization"
   ]
  },
  {
   "cell_type": "code",
   "execution_count": 44,
   "id": "87307241",
   "metadata": {
    "execution": {
     "iopub.execute_input": "2024-12-06T21:26:13.379944Z",
     "iopub.status.busy": "2024-12-06T21:26:13.379526Z",
     "iopub.status.idle": "2024-12-06T21:26:14.266921Z",
     "shell.execute_reply": "2024-12-06T21:26:14.265828Z"
    },
    "papermill": {
     "duration": 0.912019,
     "end_time": "2024-12-06T21:26:14.269108",
     "exception": false,
     "start_time": "2024-12-06T21:26:13.357089",
     "status": "completed"
    },
    "tags": []
   },
   "outputs": [
    {
     "name": "stderr",
     "output_type": "stream",
     "text": [
      "100%|██████████| 348/348 [00:00<00:00, 422.01it/s]\n"
     ]
    },
    {
     "data": {
      "text/html": [
       "<div>\n",
       "<style scoped>\n",
       "    .dataframe tbody tr th:only-of-type {\n",
       "        vertical-align: middle;\n",
       "    }\n",
       "\n",
       "    .dataframe tbody tr th {\n",
       "        vertical-align: top;\n",
       "    }\n",
       "\n",
       "    .dataframe thead th {\n",
       "        text-align: right;\n",
       "    }\n",
       "</style>\n",
       "<table border=\"1\" class=\"dataframe\">\n",
       "  <thead>\n",
       "    <tr style=\"text-align: right;\">\n",
       "      <th></th>\n",
       "      <th>src</th>\n",
       "      <th>exr</th>\n",
       "      <th>top</th>\n",
       "      <th>pcfg_err</th>\n",
       "      <th>tokenized_lemma</th>\n",
       "      <th>tokenized</th>\n",
       "      <th>lemmatized</th>\n",
       "      <th>tfidf_features</th>\n",
       "      <th>word2vec_features</th>\n",
       "    </tr>\n",
       "  </thead>\n",
       "  <tbody>\n",
       "    <tr>\n",
       "      <th>0</th>\n",
       "      <td>i want to order two medium pizzas with sausage and black olives and two medium pizzas with pepperoni and extra cheese and three large pizzas with pepperoni and sausage</td>\n",
       "      <td>(PIZZAORDER (NUMBER 2 ) (SIZE MEDIUM ) (COMPLEX_TOPPING (QUANTITY EXTRA ) (TOPPING CHEESE ) ) (TOPPING PEPPERONI ) ) (PIZZAORDER (NUMBER 2 ) (SIZE MEDIUM ) (TOPPING OLIVES ) (TOPPING SAUSAGE ) ) (PIZZAORDER (NUMBER 3 ) (SIZE LARGE ) (TOPPING PEPPERONI ) (TOPPING SAUSAGE ) )</td>\n",
       "      <td>i want to order (PIZZAORDER (NUMBER two ) (SIZE medium ) pizzas with (TOPPING sausage ) and (TOPPING black olives ) ) and (PIZZAORDER (NUMBER two ) (SIZE medium ) pizzas with (TOPPING pepperoni ) and (COMPLEX_TOPPING (QUANTITY extra ) (TOPPING cheese ) ) ) and (PIZZAORDER (NUMBER three ) (SIZE large ) pizzas with (TOPPING pepperoni ) and (TOPPING sausage ) )</td>\n",
       "      <td>False</td>\n",
       "      <td>[i, want, to, order, two, medium, pizza, with, sausage, and, black, olive, and, two, medium, pizza, with, pepperoni, and, extra, cheese, and, three, large, pizza, with, pepperoni, and, sausage]</td>\n",
       "      <td>[i, want, to, order, two, medium, pizzas, with, sausage, and, black, olives, and, two, medium, pizzas, with, pepperoni, and, extra, cheese, and, three, large, pizzas, with, pepperoni, and, sausage]</td>\n",
       "      <td>i want to order two medium pizza with sausage and black olive and two medium pizza with pepperoni and extra cheese and three large pizza with pepperoni and sausage</td>\n",
       "      <td>[[0.0, 0.18706812373139206, 0.0, 0.0, 0.0, 0.0, 0.0, 0.0, 0.0, 0.0, 0.0, 0.0, 0.14551966070645694, 0.0, 0.0, 0.0, 0.0, 0.0, 0.0, 0.338064030414566, 0.0, 0.0, 0.0, 0.0, 0.0, 0.0, 0.0, 0.0, 0.0, 0.0, 0.0, 0.0, 0.0, 0.0, 0.34014465734620436, 0.0, 0.0, 0.0, 0.0, 0.0, 0.0, 0.0, 0.0, 0.0, 0.0, 0.0, 0.0, 0.0, 0.0, 0.0, 0.0, 0.0, 0.0, 0.0, 0.0, 0.0, 0.0, 0.0, 0.0, 0.0, 0.0, 0.0, 0.0, 0.0, 0.0, 0.0, 0.0, 0.0, 0.0, 0.0, 0.0, 0.0, 0.0, 0.0, 0.0, 0.30724661810746495, 0.0, 0.0, 0.0, 0.0, 0.0, 0.0, 0.0, 0.0, 0.0, 0.0, 0.0, 0.0, 0.0, 0.0, 0.0, 0.0, 0.0, 0.1835399430287813, 0.0, 0.0, 0.0, 0.0, 0.0, 0.0, ...], [0.0, 0.0, 0.36841804537972767, 0.0, 0.0, 0.0, 0.0, 0.0, 0.3769445313850932, 0.0, 0.0, 0.0, 0.19351042155584847, 0.0, 0.0, 0.0, 0.0, 0.0, 0.0, 0.0, 0.0, 0.0, 0.0, 0.0, 0.0, 0.0, 0.0, 0.0, 0.0, 0.0, 0.0, 0.0, 0.0, 0.0, 0.0, 0.0, 0.0, 0.0, 0.19618713190325923, 0.0, 0.0, 0.0, 0.0, 0.0, 0.0, 0.0, 0.0, 0.0, 0.0, 0.0, 0.0, 0.0, 0.0, 0.0, 0.0, 0.0, 0.0, 0.0, 0.0, 0.0, 0.0, 0.0, 0.0, 0.0, 0.202184450...</td>\n",
       "      <td>[[0.0677469, -0.041739315, -0.08083352, 0.12261514, 0.16721858, -0.05736017, 0.09708657, 0.28409472, -0.118705854, -0.027471012, -0.057421274, -0.14376749, 0.0473368, 0.14283921, -0.030394064, -0.031858526, 0.052781112, 0.07924095, 0.0069334647, -0.2780961, 0.09244968, -0.032641098, -0.026583068, 0.036451172, 0.03341323, -0.025228117, -0.07656543, -0.118221, -0.10734222, 0.03260397, 0.15275688, 0.05852104, 0.106173486, -0.05881508, -0.082549885, 0.1174997, 0.06174134, -0.08423522, -0.055344716, -0.16970553, -0.06645013, 0.006280372, -0.11624798, -0.00490635, 0.1332938, -0.05824645, -0.00758351, -0.1255734, 0.039873965, 0.07710664, 0.045426518, -0.18234527, -0.024939088, -0.10234514, 0.08368705, -0.06852132, -0.07534842, -0.15418817, -0.14619642, -0.003937893, -0.101910375, -0.030932281, 0.1487361, -0.090863645, -0.320359, 0.09530128, -0.022416687, 0.22749043, -0.17629756, 0.21058744, -0.03136628, 0.1173821, 0.12045498, 0.03843337, 0.11156459, 0.058297314, 0.104958236, -0.11261302, ...</td>\n",
       "    </tr>\n",
       "  </tbody>\n",
       "</table>\n",
       "</div>"
      ],
      "text/plain": [
       "                                                                                                                                                                       src  \\\n",
       "0  i want to order two medium pizzas with sausage and black olives and two medium pizzas with pepperoni and extra cheese and three large pizzas with pepperoni and sausage   \n",
       "\n",
       "                                                                                                                                                                                                                                                                                   exr  \\\n",
       "0  (PIZZAORDER (NUMBER 2 ) (SIZE MEDIUM ) (COMPLEX_TOPPING (QUANTITY EXTRA ) (TOPPING CHEESE ) ) (TOPPING PEPPERONI ) ) (PIZZAORDER (NUMBER 2 ) (SIZE MEDIUM ) (TOPPING OLIVES ) (TOPPING SAUSAGE ) ) (PIZZAORDER (NUMBER 3 ) (SIZE LARGE ) (TOPPING PEPPERONI ) (TOPPING SAUSAGE ) )    \n",
       "\n",
       "                                                                                                                                                                                                                                                                                                                                                                         top  \\\n",
       "0  i want to order (PIZZAORDER (NUMBER two ) (SIZE medium ) pizzas with (TOPPING sausage ) and (TOPPING black olives ) ) and (PIZZAORDER (NUMBER two ) (SIZE medium ) pizzas with (TOPPING pepperoni ) and (COMPLEX_TOPPING (QUANTITY extra ) (TOPPING cheese ) ) ) and (PIZZAORDER (NUMBER three ) (SIZE large ) pizzas with (TOPPING pepperoni ) and (TOPPING sausage ) )    \n",
       "\n",
       "  pcfg_err  \\\n",
       "0    False   \n",
       "\n",
       "                                                                                                                                                                                     tokenized_lemma  \\\n",
       "0  [i, want, to, order, two, medium, pizza, with, sausage, and, black, olive, and, two, medium, pizza, with, pepperoni, and, extra, cheese, and, three, large, pizza, with, pepperoni, and, sausage]   \n",
       "\n",
       "                                                                                                                                                                                               tokenized  \\\n",
       "0  [i, want, to, order, two, medium, pizzas, with, sausage, and, black, olives, and, two, medium, pizzas, with, pepperoni, and, extra, cheese, and, three, large, pizzas, with, pepperoni, and, sausage]   \n",
       "\n",
       "                                                                                                                                                            lemmatized  \\\n",
       "0  i want to order two medium pizza with sausage and black olive and two medium pizza with pepperoni and extra cheese and three large pizza with pepperoni and sausage   \n",
       "\n",
       "                                                                                                                                                                                                                                                                                                                                                                                                                                                                                                                                                                                                                                                                                                                                                                                                                                                                                                                                                                                                                            tfidf_features  \\\n",
       "0  [[0.0, 0.18706812373139206, 0.0, 0.0, 0.0, 0.0, 0.0, 0.0, 0.0, 0.0, 0.0, 0.0, 0.14551966070645694, 0.0, 0.0, 0.0, 0.0, 0.0, 0.0, 0.338064030414566, 0.0, 0.0, 0.0, 0.0, 0.0, 0.0, 0.0, 0.0, 0.0, 0.0, 0.0, 0.0, 0.0, 0.0, 0.34014465734620436, 0.0, 0.0, 0.0, 0.0, 0.0, 0.0, 0.0, 0.0, 0.0, 0.0, 0.0, 0.0, 0.0, 0.0, 0.0, 0.0, 0.0, 0.0, 0.0, 0.0, 0.0, 0.0, 0.0, 0.0, 0.0, 0.0, 0.0, 0.0, 0.0, 0.0, 0.0, 0.0, 0.0, 0.0, 0.0, 0.0, 0.0, 0.0, 0.0, 0.0, 0.30724661810746495, 0.0, 0.0, 0.0, 0.0, 0.0, 0.0, 0.0, 0.0, 0.0, 0.0, 0.0, 0.0, 0.0, 0.0, 0.0, 0.0, 0.0, 0.1835399430287813, 0.0, 0.0, 0.0, 0.0, 0.0, 0.0, ...], [0.0, 0.0, 0.36841804537972767, 0.0, 0.0, 0.0, 0.0, 0.0, 0.3769445313850932, 0.0, 0.0, 0.0, 0.19351042155584847, 0.0, 0.0, 0.0, 0.0, 0.0, 0.0, 0.0, 0.0, 0.0, 0.0, 0.0, 0.0, 0.0, 0.0, 0.0, 0.0, 0.0, 0.0, 0.0, 0.0, 0.0, 0.0, 0.0, 0.0, 0.0, 0.19618713190325923, 0.0, 0.0, 0.0, 0.0, 0.0, 0.0, 0.0, 0.0, 0.0, 0.0, 0.0, 0.0, 0.0, 0.0, 0.0, 0.0, 0.0, 0.0, 0.0, 0.0, 0.0, 0.0, 0.0, 0.0, 0.0, 0.202184450...   \n",
       "\n",
       "                                                                                                                                                                                                                                                                                                                                                                                                                                                                                                                                                                                                                                                                                                                                                                                                                                                                                                                                                                                                                         word2vec_features  \n",
       "0  [[0.0677469, -0.041739315, -0.08083352, 0.12261514, 0.16721858, -0.05736017, 0.09708657, 0.28409472, -0.118705854, -0.027471012, -0.057421274, -0.14376749, 0.0473368, 0.14283921, -0.030394064, -0.031858526, 0.052781112, 0.07924095, 0.0069334647, -0.2780961, 0.09244968, -0.032641098, -0.026583068, 0.036451172, 0.03341323, -0.025228117, -0.07656543, -0.118221, -0.10734222, 0.03260397, 0.15275688, 0.05852104, 0.106173486, -0.05881508, -0.082549885, 0.1174997, 0.06174134, -0.08423522, -0.055344716, -0.16970553, -0.06645013, 0.006280372, -0.11624798, -0.00490635, 0.1332938, -0.05824645, -0.00758351, -0.1255734, 0.039873965, 0.07710664, 0.045426518, -0.18234527, -0.024939088, -0.10234514, 0.08368705, -0.06852132, -0.07534842, -0.15418817, -0.14619642, -0.003937893, -0.101910375, -0.030932281, 0.1487361, -0.090863645, -0.320359, 0.09530128, -0.022416687, 0.22749043, -0.17629756, 0.21058744, -0.03136628, 0.1173821, 0.12045498, 0.03843337, 0.11156459, 0.058297314, 0.104958236, -0.11261302, ...  "
      ]
     },
     "execution_count": 44,
     "metadata": {},
     "output_type": "execute_result"
    }
   ],
   "source": [
    "def vectorize_words(row):\n",
    "    tokens: list[str] = row[\"tokenized\"]\n",
    "    sentence_tfidfs = []\n",
    "    sentence_word2vec = []\n",
    "    for token in tokens:\n",
    "        sentence_tfidfs.append(tfidf_features[vectorizer.vocabulary_.get(token, 0)].toarray()[0])\n",
    "        sentence_word2vec.append(word_embeddings.get(token, [0] * 100)) # Default zero-vector\n",
    "    row['tfidf_features'], row['word2vec_features'] = sentence_tfidfs, sentence_word2vec\n",
    "    return row\n",
    "\n",
    "df_dev = df_dev.progress_apply(vectorize_words, axis=1)\n",
    "df_dev.head(1)"
   ]
  },
  {
   "cell_type": "markdown",
   "id": "8d687341",
   "metadata": {
    "papermill": {
     "duration": 0.021969,
     "end_time": "2024-12-06T21:26:14.314133",
     "exception": false,
     "start_time": "2024-12-06T21:26:14.292164",
     "status": "completed"
    },
    "tags": []
   },
   "source": [
    "## Extracting Entities"
   ]
  },
  {
   "cell_type": "markdown",
   "id": "cc0c46ab",
   "metadata": {
    "papermill": {
     "duration": 0.021372,
     "end_time": "2024-12-06T21:26:14.357440",
     "exception": false,
     "start_time": "2024-12-06T21:26:14.336068",
     "status": "completed"
    },
    "tags": []
   },
   "source": [
    "We updated the token_pattern to tokenize words with at least 1 character instead of the default of min 2 chars, which will skip important tokens such as a, 7, etc. (used for NUMBER entity label)\n"
   ]
  },
  {
   "cell_type": "code",
   "execution_count": 45,
   "id": "a493c3ea",
   "metadata": {
    "execution": {
     "iopub.execute_input": "2024-12-06T21:26:14.403866Z",
     "iopub.status.busy": "2024-12-06T21:26:14.403145Z",
     "iopub.status.idle": "2024-12-06T21:26:14.410717Z",
     "shell.execute_reply": "2024-12-06T21:26:14.409686Z"
    },
    "papermill": {
     "duration": 0.033555,
     "end_time": "2024-12-06T21:26:14.412903",
     "exception": false,
     "start_time": "2024-12-06T21:26:14.379348",
     "status": "completed"
    },
    "tags": []
   },
   "outputs": [
    {
     "data": {
      "text/plain": [
       "['(PIZZAORDER (NUMBER two )',\n",
       " '(PIZZAORDER (NUMBER two )',\n",
       " '(PIZZAORDER (NUMBER three )']"
      ]
     },
     "execution_count": 45,
     "metadata": {},
     "output_type": "execute_result"
    }
   ],
   "source": [
    "[x.group() for x in re.finditer(r\"\\(PIZZAORDER .+?\\)\", df_dev['top'][0])]"
   ]
  },
  {
   "cell_type": "code",
   "execution_count": 46,
   "id": "c8319986",
   "metadata": {
    "execution": {
     "iopub.execute_input": "2024-12-06T21:26:14.463658Z",
     "iopub.status.busy": "2024-12-06T21:26:14.462682Z",
     "iopub.status.idle": "2024-12-06T21:26:27.693873Z",
     "shell.execute_reply": "2024-12-06T21:26:27.692794Z"
    },
    "papermill": {
     "duration": 13.260529,
     "end_time": "2024-12-06T21:26:27.697213",
     "exception": false,
     "start_time": "2024-12-06T21:26:14.436684",
     "status": "completed"
    },
    "tags": []
   },
   "outputs": [],
   "source": [
    "full_text = \" \".join(df_train['top'].to_list())\n",
    "entities = [x.group() for x in re.finditer(\"(?<=\\()[A-Z]+(_[A-Z]+)*\", full_text)]"
   ]
  },
  {
   "cell_type": "code",
   "execution_count": 47,
   "id": "a9f5525b",
   "metadata": {
    "execution": {
     "iopub.execute_input": "2024-12-06T21:26:27.744695Z",
     "iopub.status.busy": "2024-12-06T21:26:27.744291Z",
     "iopub.status.idle": "2024-12-06T21:26:28.850293Z",
     "shell.execute_reply": "2024-12-06T21:26:28.849265Z"
    },
    "papermill": {
     "duration": 1.132126,
     "end_time": "2024-12-06T21:26:28.852263",
     "exception": false,
     "start_time": "2024-12-06T21:26:27.720137",
     "status": "completed"
    },
    "tags": []
   },
   "outputs": [
    {
     "data": {
      "text/plain": [
       "['TOPPING',\n",
       " 'DRINKORDER',\n",
       " 'COMPLEX_TOPPING',\n",
       " 'CONTAINERTYPE',\n",
       " 'NOT',\n",
       " 'PIZZAORDER',\n",
       " 'NUMBER',\n",
       " 'DRINKTYPE',\n",
       " 'VOLUME',\n",
       " 'QUANTITY',\n",
       " 'SIZE',\n",
       " 'STYLE']"
      ]
     },
     "execution_count": 47,
     "metadata": {},
     "output_type": "execute_result"
    }
   ],
   "source": [
    "entities = list(set(entities)) # Unique\n",
    "entities"
   ]
  },
  {
   "cell_type": "code",
   "execution_count": 48,
   "id": "ab9a9cbe",
   "metadata": {
    "execution": {
     "iopub.execute_input": "2024-12-06T21:26:28.898659Z",
     "iopub.status.busy": "2024-12-06T21:26:28.898295Z",
     "iopub.status.idle": "2024-12-06T21:26:28.905509Z",
     "shell.execute_reply": "2024-12-06T21:26:28.904527Z"
    },
    "papermill": {
     "duration": 0.03292,
     "end_time": "2024-12-06T21:26:28.907676",
     "exception": false,
     "start_time": "2024-12-06T21:26:28.874756",
     "status": "completed"
    },
    "tags": []
   },
   "outputs": [
    {
     "data": {
      "text/plain": [
       "['B-TOPPING',\n",
       " 'I-TOPPING',\n",
       " 'B-DRINKORDER',\n",
       " 'I-DRINKORDER',\n",
       " 'B-COMPLEX_TOPPING',\n",
       " 'I-COMPLEX_TOPPING',\n",
       " 'B-CONTAINERTYPE',\n",
       " 'I-CONTAINERTYPE',\n",
       " 'B-NOT',\n",
       " 'I-NOT',\n",
       " 'B-PIZZAORDER',\n",
       " 'I-PIZZAORDER',\n",
       " 'B-NUMBER',\n",
       " 'I-NUMBER',\n",
       " 'B-DRINKTYPE',\n",
       " 'I-DRINKTYPE',\n",
       " 'B-VOLUME',\n",
       " 'I-VOLUME',\n",
       " 'B-QUANTITY',\n",
       " 'I-QUANTITY',\n",
       " 'B-SIZE',\n",
       " 'I-SIZE',\n",
       " 'B-STYLE',\n",
       " 'I-STYLE',\n",
       " 'O']"
      ]
     },
     "execution_count": 48,
     "metadata": {},
     "output_type": "execute_result"
    }
   ],
   "source": [
    "# Using BIO Tagging\n",
    "bio_entities = [f\"{letter}-{entity}\" for entity in entities for letter in \"BI\"]\n",
    "bio_entities.append('O')\n",
    "bio_entities"
   ]
  },
  {
   "cell_type": "code",
   "execution_count": 49,
   "id": "894a0a50",
   "metadata": {
    "execution": {
     "iopub.execute_input": "2024-12-06T21:26:28.955828Z",
     "iopub.status.busy": "2024-12-06T21:26:28.954785Z",
     "iopub.status.idle": "2024-12-06T21:26:28.976484Z",
     "shell.execute_reply": "2024-12-06T21:26:28.975414Z"
    },
    "papermill": {
     "duration": 0.048425,
     "end_time": "2024-12-06T21:26:28.978565",
     "exception": false,
     "start_time": "2024-12-06T21:26:28.930140",
     "status": "completed"
    },
    "tags": []
   },
   "outputs": [
    {
     "data": {
      "text/html": [
       "<style>#sk-container-id-1 {color: black;background-color: white;}#sk-container-id-1 pre{padding: 0;}#sk-container-id-1 div.sk-toggleable {background-color: white;}#sk-container-id-1 label.sk-toggleable__label {cursor: pointer;display: block;width: 100%;margin-bottom: 0;padding: 0.3em;box-sizing: border-box;text-align: center;}#sk-container-id-1 label.sk-toggleable__label-arrow:before {content: \"▸\";float: left;margin-right: 0.25em;color: #696969;}#sk-container-id-1 label.sk-toggleable__label-arrow:hover:before {color: black;}#sk-container-id-1 div.sk-estimator:hover label.sk-toggleable__label-arrow:before {color: black;}#sk-container-id-1 div.sk-toggleable__content {max-height: 0;max-width: 0;overflow: hidden;text-align: left;background-color: #f0f8ff;}#sk-container-id-1 div.sk-toggleable__content pre {margin: 0.2em;color: black;border-radius: 0.25em;background-color: #f0f8ff;}#sk-container-id-1 input.sk-toggleable__control:checked~div.sk-toggleable__content {max-height: 200px;max-width: 100%;overflow: auto;}#sk-container-id-1 input.sk-toggleable__control:checked~label.sk-toggleable__label-arrow:before {content: \"▾\";}#sk-container-id-1 div.sk-estimator input.sk-toggleable__control:checked~label.sk-toggleable__label {background-color: #d4ebff;}#sk-container-id-1 div.sk-label input.sk-toggleable__control:checked~label.sk-toggleable__label {background-color: #d4ebff;}#sk-container-id-1 input.sk-hidden--visually {border: 0;clip: rect(1px 1px 1px 1px);clip: rect(1px, 1px, 1px, 1px);height: 1px;margin: -1px;overflow: hidden;padding: 0;position: absolute;width: 1px;}#sk-container-id-1 div.sk-estimator {font-family: monospace;background-color: #f0f8ff;border: 1px dotted black;border-radius: 0.25em;box-sizing: border-box;margin-bottom: 0.5em;}#sk-container-id-1 div.sk-estimator:hover {background-color: #d4ebff;}#sk-container-id-1 div.sk-parallel-item::after {content: \"\";width: 100%;border-bottom: 1px solid gray;flex-grow: 1;}#sk-container-id-1 div.sk-label:hover label.sk-toggleable__label {background-color: #d4ebff;}#sk-container-id-1 div.sk-serial::before {content: \"\";position: absolute;border-left: 1px solid gray;box-sizing: border-box;top: 0;bottom: 0;left: 50%;z-index: 0;}#sk-container-id-1 div.sk-serial {display: flex;flex-direction: column;align-items: center;background-color: white;padding-right: 0.2em;padding-left: 0.2em;position: relative;}#sk-container-id-1 div.sk-item {position: relative;z-index: 1;}#sk-container-id-1 div.sk-parallel {display: flex;align-items: stretch;justify-content: center;background-color: white;position: relative;}#sk-container-id-1 div.sk-item::before, #sk-container-id-1 div.sk-parallel-item::before {content: \"\";position: absolute;border-left: 1px solid gray;box-sizing: border-box;top: 0;bottom: 0;left: 50%;z-index: -1;}#sk-container-id-1 div.sk-parallel-item {display: flex;flex-direction: column;z-index: 1;position: relative;background-color: white;}#sk-container-id-1 div.sk-parallel-item:first-child::after {align-self: flex-end;width: 50%;}#sk-container-id-1 div.sk-parallel-item:last-child::after {align-self: flex-start;width: 50%;}#sk-container-id-1 div.sk-parallel-item:only-child::after {width: 0;}#sk-container-id-1 div.sk-dashed-wrapped {border: 1px dashed gray;margin: 0 0.4em 0.5em 0.4em;box-sizing: border-box;padding-bottom: 0.4em;background-color: white;}#sk-container-id-1 div.sk-label label {font-family: monospace;font-weight: bold;display: inline-block;line-height: 1.2em;}#sk-container-id-1 div.sk-label-container {text-align: center;}#sk-container-id-1 div.sk-container {/* jupyter's `normalize.less` sets `[hidden] { display: none; }` but bootstrap.min.css set `[hidden] { display: none !important; }` so we also need the `!important` here to be able to override the default hidden behavior on the sphinx rendered scikit-learn.org. See: https://github.com/scikit-learn/scikit-learn/issues/21755 */display: inline-block !important;position: relative;}#sk-container-id-1 div.sk-text-repr-fallback {display: none;}</style><div id=\"sk-container-id-1\" class=\"sk-top-container\"><div class=\"sk-text-repr-fallback\"><pre>LabelEncoder()</pre><b>In a Jupyter environment, please rerun this cell to show the HTML representation or trust the notebook. <br />On GitHub, the HTML representation is unable to render, please try loading this page with nbviewer.org.</b></div><div class=\"sk-container\" hidden><div class=\"sk-item\"><div class=\"sk-estimator sk-toggleable\"><input class=\"sk-toggleable__control sk-hidden--visually\" id=\"sk-estimator-id-1\" type=\"checkbox\" checked><label for=\"sk-estimator-id-1\" class=\"sk-toggleable__label sk-toggleable__label-arrow\">LabelEncoder</label><div class=\"sk-toggleable__content\"><pre>LabelEncoder()</pre></div></div></div></div></div>"
      ],
      "text/plain": [
       "LabelEncoder()"
      ]
     },
     "execution_count": 49,
     "metadata": {},
     "output_type": "execute_result"
    }
   ],
   "source": [
    "label_encoder = LabelEncoder()\n",
    "label_encoder.fit(bio_entities)"
   ]
  },
  {
   "cell_type": "code",
   "execution_count": 50,
   "id": "91ec6d5d",
   "metadata": {
    "execution": {
     "iopub.execute_input": "2024-12-06T21:26:29.025788Z",
     "iopub.status.busy": "2024-12-06T21:26:29.025414Z",
     "iopub.status.idle": "2024-12-06T21:26:29.033017Z",
     "shell.execute_reply": "2024-12-06T21:26:29.031823Z"
    },
    "papermill": {
     "duration": 0.033977,
     "end_time": "2024-12-06T21:26:29.035183",
     "exception": false,
     "start_time": "2024-12-06T21:26:29.001206",
     "status": "completed"
    },
    "tags": []
   },
   "outputs": [
    {
     "data": {
      "text/plain": [
       "array([6])"
      ]
     },
     "execution_count": 50,
     "metadata": {},
     "output_type": "execute_result"
    }
   ],
   "source": [
    "label_encoder.transform(['B-PIZZAORDER'])"
   ]
  },
  {
   "cell_type": "code",
   "execution_count": 51,
   "id": "53c8f147",
   "metadata": {
    "execution": {
     "iopub.execute_input": "2024-12-06T21:26:29.082765Z",
     "iopub.status.busy": "2024-12-06T21:26:29.081619Z",
     "iopub.status.idle": "2024-12-06T21:26:29.087412Z",
     "shell.execute_reply": "2024-12-06T21:26:29.086290Z"
    },
    "papermill": {
     "duration": 0.03168,
     "end_time": "2024-12-06T21:26:29.089516",
     "exception": false,
     "start_time": "2024-12-06T21:26:29.057836",
     "status": "completed"
    },
    "tags": []
   },
   "outputs": [],
   "source": [
    "def encode_entities(entities):\n",
    "    return [label_encoder.transform(entity) for entity in entities]\n",
    "def decode_entities(encoded_entities):\n",
    "    return [label_encoder.inverse_transform(entity) for entity in encoded_entities]"
   ]
  },
  {
   "cell_type": "markdown",
   "id": "83b18d58",
   "metadata": {
    "papermill": {
     "duration": 0.022944,
     "end_time": "2024-12-06T21:26:29.136284",
     "exception": false,
     "start_time": "2024-12-06T21:26:29.113340",
     "status": "completed"
    },
    "tags": []
   },
   "source": [
    "### Modification\n",
    "#### we used regexp_tokenize to handle cases like:\n",
    "- I'd \n",
    "- party - size"
   ]
  },
  {
   "cell_type": "code",
   "execution_count": 52,
   "id": "4bcf06c0",
   "metadata": {
    "execution": {
     "iopub.execute_input": "2024-12-06T21:26:29.184198Z",
     "iopub.status.busy": "2024-12-06T21:26:29.183736Z",
     "iopub.status.idle": "2024-12-06T21:26:30.819245Z",
     "shell.execute_reply": "2024-12-06T21:26:30.818094Z"
    },
    "papermill": {
     "duration": 1.66231,
     "end_time": "2024-12-06T21:26:30.821707",
     "exception": false,
     "start_time": "2024-12-06T21:26:29.159397",
     "status": "completed"
    },
    "tags": []
   },
   "outputs": [
    {
     "data": {
      "text/html": [
       "<div>\n",
       "<style scoped>\n",
       "    .dataframe tbody tr th:only-of-type {\n",
       "        vertical-align: middle;\n",
       "    }\n",
       "\n",
       "    .dataframe tbody tr th {\n",
       "        vertical-align: top;\n",
       "    }\n",
       "\n",
       "    .dataframe thead th {\n",
       "        text-align: right;\n",
       "    }\n",
       "</style>\n",
       "<table border=\"1\" class=\"dataframe\">\n",
       "  <thead>\n",
       "    <tr style=\"text-align: right;\">\n",
       "      <th></th>\n",
       "      <th>src</th>\n",
       "      <th>top</th>\n",
       "    </tr>\n",
       "  </thead>\n",
       "  <tbody>\n",
       "    <tr>\n",
       "      <th>852235</th>\n",
       "      <td>three pizzas no american cheese and i'd like five personal size pies with no american cheese</td>\n",
       "      <td>(PIZZAORDER (NUMBER three ) pizzas no (NOT (TOPPING american cheese ) ) ) and i'd like (PIZZAORDER (NUMBER five ) (SIZE personal size ) pies with no (NOT (TOPPING american cheese ) ) )</td>\n",
       "    </tr>\n",
       "    <tr>\n",
       "      <th>852238</th>\n",
       "      <td>three pizzas no american cheese and i'd like three large pizzas with peperonni and without any vegan pepperoni</td>\n",
       "      <td>(PIZZAORDER (NUMBER three ) pizzas no (NOT (TOPPING american cheese ) ) ) and i'd like (PIZZAORDER (NUMBER three ) (SIZE large ) pizzas with (TOPPING peperonni ) and without any (NOT (TOPPING vegan pepperoni ) ) )</td>\n",
       "    </tr>\n",
       "    <tr>\n",
       "      <th>852270</th>\n",
       "      <td>four pizzas with balsamic glaze and i'd like three party size pies with peperonni and with no roasted pepper</td>\n",
       "      <td>(PIZZAORDER (NUMBER four ) pizzas with (TOPPING balsamic glaze ) ) and i'd like (PIZZAORDER (NUMBER three ) (SIZE party size ) pies with (TOPPING peperonni ) and with no (NOT (TOPPING roasted pepper ) ) )</td>\n",
       "    </tr>\n",
       "    <tr>\n",
       "      <th>852280</th>\n",
       "      <td>three large pizzas with balsamic glaze and i'd like four pies with peperonni and roasted green peppers</td>\n",
       "      <td>(PIZZAORDER (NUMBER three ) (SIZE large ) pizzas with (TOPPING balsamic glaze ) ) and i'd like (PIZZAORDER (NUMBER four ) pies with (TOPPING peperonni ) and (TOPPING roasted green peppers ) )</td>\n",
       "    </tr>\n",
       "    <tr>\n",
       "      <th>852287</th>\n",
       "      <td>four pizzas with balsamic glaze and i'd like three pies with pepper</td>\n",
       "      <td>(PIZZAORDER (NUMBER four ) pizzas with (TOPPING balsamic glaze ) ) and i'd like (PIZZAORDER (NUMBER three ) pies with (TOPPING pepper ) )</td>\n",
       "    </tr>\n",
       "    <tr>\n",
       "      <th>...</th>\n",
       "      <td>...</td>\n",
       "      <td>...</td>\n",
       "    </tr>\n",
       "    <tr>\n",
       "      <th>1251865</th>\n",
       "      <td>five pizzas no american cheese and i'd like three party sized pies with no banana peppers</td>\n",
       "      <td>(PIZZAORDER (NUMBER five ) pizzas no (NOT (TOPPING american cheese ) ) ) and i'd like (PIZZAORDER (NUMBER three ) (SIZE party sized ) pies with no (NOT (TOPPING banana peppers ) ) )</td>\n",
       "    </tr>\n",
       "    <tr>\n",
       "      <th>1251868</th>\n",
       "      <td>three party sized pizzas no american cheese and i'd like two regular pies no american cheese</td>\n",
       "      <td>(PIZZAORDER (NUMBER three ) (SIZE party sized ) pizzas no (NOT (TOPPING american cheese ) ) ) and i'd like (PIZZAORDER (NUMBER two ) (SIZE regular ) pies no (NOT (TOPPING american cheese ) ) )</td>\n",
       "    </tr>\n",
       "    <tr>\n",
       "      <th>1251870</th>\n",
       "      <td>five large pizzas with balsamic glaze and i'd like three pies with mozzarella and sauce</td>\n",
       "      <td>(PIZZAORDER (NUMBER five ) (SIZE large ) pizzas with (TOPPING balsamic glaze ) ) and i'd like (PIZZAORDER (NUMBER three ) pies with (TOPPING mozzarella ) and (TOPPING sauce ) )</td>\n",
       "    </tr>\n",
       "    <tr>\n",
       "      <th>1251871</th>\n",
       "      <td>three pizzas no american cheese and i'd like three party size pies with meatball and without roasted green pepper</td>\n",
       "      <td>(PIZZAORDER (NUMBER three ) pizzas no (NOT (TOPPING american cheese ) ) ) and i'd like (PIZZAORDER (NUMBER three ) (SIZE party size ) pies with (TOPPING meatball ) and without (NOT (TOPPING roasted green pepper ) ) )</td>\n",
       "    </tr>\n",
       "    <tr>\n",
       "      <th>1251883</th>\n",
       "      <td>four pizzas with balsamic glaze and i'd like three pies with pecorino cheese and no ricotta</td>\n",
       "      <td>(PIZZAORDER (NUMBER four ) pizzas with (TOPPING balsamic glaze ) ) and i'd like (PIZZAORDER (NUMBER three ) pies with (TOPPING pecorino cheese ) and no (NOT (TOPPING ricotta ) ) )</td>\n",
       "    </tr>\n",
       "  </tbody>\n",
       "</table>\n",
       "<p>38623 rows × 2 columns</p>\n",
       "</div>"
      ],
      "text/plain": [
       "                                                                                                                       src  \\\n",
       "852235                        three pizzas no american cheese and i'd like five personal size pies with no american cheese   \n",
       "852238      three pizzas no american cheese and i'd like three large pizzas with peperonni and without any vegan pepperoni   \n",
       "852270        four pizzas with balsamic glaze and i'd like three party size pies with peperonni and with no roasted pepper   \n",
       "852280              three large pizzas with balsamic glaze and i'd like four pies with peperonni and roasted green peppers   \n",
       "852287                                                 four pizzas with balsamic glaze and i'd like three pies with pepper   \n",
       "...                                                                                                                    ...   \n",
       "1251865                          five pizzas no american cheese and i'd like three party sized pies with no banana peppers   \n",
       "1251868                       three party sized pizzas no american cheese and i'd like two regular pies no american cheese   \n",
       "1251870                            five large pizzas with balsamic glaze and i'd like three pies with mozzarella and sauce   \n",
       "1251871  three pizzas no american cheese and i'd like three party size pies with meatball and without roasted green pepper   \n",
       "1251883                        four pizzas with balsamic glaze and i'd like three pies with pecorino cheese and no ricotta   \n",
       "\n",
       "                                                                                                                                                                                                                               top  \n",
       "852235                                   (PIZZAORDER (NUMBER three ) pizzas no (NOT (TOPPING american cheese ) ) ) and i'd like (PIZZAORDER (NUMBER five ) (SIZE personal size ) pies with no (NOT (TOPPING american cheese ) ) )   \n",
       "852238      (PIZZAORDER (NUMBER three ) pizzas no (NOT (TOPPING american cheese ) ) ) and i'd like (PIZZAORDER (NUMBER three ) (SIZE large ) pizzas with (TOPPING peperonni ) and without any (NOT (TOPPING vegan pepperoni ) ) )   \n",
       "852270               (PIZZAORDER (NUMBER four ) pizzas with (TOPPING balsamic glaze ) ) and i'd like (PIZZAORDER (NUMBER three ) (SIZE party size ) pies with (TOPPING peperonni ) and with no (NOT (TOPPING roasted pepper ) ) )   \n",
       "852280                            (PIZZAORDER (NUMBER three ) (SIZE large ) pizzas with (TOPPING balsamic glaze ) ) and i'd like (PIZZAORDER (NUMBER four ) pies with (TOPPING peperonni ) and (TOPPING roasted green peppers ) )   \n",
       "852287                                                                                  (PIZZAORDER (NUMBER four ) pizzas with (TOPPING balsamic glaze ) ) and i'd like (PIZZAORDER (NUMBER three ) pies with (TOPPING pepper ) )   \n",
       "...                                                                                                                                                                                                                            ...  \n",
       "1251865                                     (PIZZAORDER (NUMBER five ) pizzas no (NOT (TOPPING american cheese ) ) ) and i'd like (PIZZAORDER (NUMBER three ) (SIZE party sized ) pies with no (NOT (TOPPING banana peppers ) ) )   \n",
       "1251868                          (PIZZAORDER (NUMBER three ) (SIZE party sized ) pizzas no (NOT (TOPPING american cheese ) ) ) and i'd like (PIZZAORDER (NUMBER two ) (SIZE regular ) pies no (NOT (TOPPING american cheese ) ) )   \n",
       "1251870                                          (PIZZAORDER (NUMBER five ) (SIZE large ) pizzas with (TOPPING balsamic glaze ) ) and i'd like (PIZZAORDER (NUMBER three ) pies with (TOPPING mozzarella ) and (TOPPING sauce ) )   \n",
       "1251871  (PIZZAORDER (NUMBER three ) pizzas no (NOT (TOPPING american cheese ) ) ) and i'd like (PIZZAORDER (NUMBER three ) (SIZE party size ) pies with (TOPPING meatball ) and without (NOT (TOPPING roasted green pepper ) ) )   \n",
       "1251883                                       (PIZZAORDER (NUMBER four ) pizzas with (TOPPING balsamic glaze ) ) and i'd like (PIZZAORDER (NUMBER three ) pies with (TOPPING pecorino cheese ) and no (NOT (TOPPING ricotta ) ) )   \n",
       "\n",
       "[38623 rows x 2 columns]"
      ]
     },
     "execution_count": 52,
     "metadata": {},
     "output_type": "execute_result"
    }
   ],
   "source": [
    "quotes_sparated = df_train['src'].str.find(\"i'd\") > 0\n",
    "df_train[['src', 'top']][quotes_sparated]"
   ]
  },
  {
   "cell_type": "code",
   "execution_count": 53,
   "id": "85955ba8",
   "metadata": {
    "execution": {
     "iopub.execute_input": "2024-12-06T21:26:30.869630Z",
     "iopub.status.busy": "2024-12-06T21:26:30.868859Z",
     "iopub.status.idle": "2024-12-06T21:26:32.498487Z",
     "shell.execute_reply": "2024-12-06T21:26:32.497426Z"
    },
    "papermill": {
     "duration": 1.655769,
     "end_time": "2024-12-06T21:26:32.500603",
     "exception": false,
     "start_time": "2024-12-06T21:26:30.844834",
     "status": "completed"
    },
    "tags": []
   },
   "outputs": [
    {
     "data": {
      "text/html": [
       "<div>\n",
       "<style scoped>\n",
       "    .dataframe tbody tr th:only-of-type {\n",
       "        vertical-align: middle;\n",
       "    }\n",
       "\n",
       "    .dataframe tbody tr th {\n",
       "        vertical-align: top;\n",
       "    }\n",
       "\n",
       "    .dataframe thead th {\n",
       "        text-align: right;\n",
       "    }\n",
       "</style>\n",
       "<table border=\"1\" class=\"dataframe\">\n",
       "  <thead>\n",
       "    <tr style=\"text-align: right;\">\n",
       "      <th></th>\n",
       "      <th>src</th>\n",
       "      <th>top</th>\n",
       "    </tr>\n",
       "  </thead>\n",
       "  <tbody>\n",
       "    <tr>\n",
       "      <th>8</th>\n",
       "      <td>can i have one party sized high rise dough pizza with american cheese and a lot of peperonni</td>\n",
       "      <td>can i have (PIZZAORDER (NUMBER one ) (SIZE party sized ) (STYLE high rise dough ) pizza with (TOPPING american cheese ) and (COMPLEX_TOPPING (QUANTITY a lot of ) (TOPPING peperonni ) ) )</td>\n",
       "    </tr>\n",
       "    <tr>\n",
       "      <th>11</th>\n",
       "      <td>i'd like one party sized pie with american cheese and with pesto sauce</td>\n",
       "      <td>i'd like (PIZZAORDER (NUMBER one ) (SIZE party sized ) pie with (TOPPING american cheese ) and with (TOPPING pesto sauce ) )</td>\n",
       "    </tr>\n",
       "    <tr>\n",
       "      <th>13</th>\n",
       "      <td>can i have a party - sized pie without any bean</td>\n",
       "      <td>can i have (PIZZAORDER (NUMBER a ) (SIZE party - sized ) pie without any (NOT (TOPPING bean ) ) )</td>\n",
       "    </tr>\n",
       "    <tr>\n",
       "      <th>15</th>\n",
       "      <td>i'd like a party sized high rise dough pie with a lot of banana pepper and pecorino cheese</td>\n",
       "      <td>i'd like (PIZZAORDER (NUMBER a ) (SIZE party sized ) (STYLE high rise dough ) pie with (COMPLEX_TOPPING (QUANTITY a lot of ) (TOPPING banana pepper ) ) and (TOPPING pecorino cheese ) )</td>\n",
       "    </tr>\n",
       "    <tr>\n",
       "      <th>16</th>\n",
       "      <td>i'd like a party sized pie with balsamic glaze and black olive</td>\n",
       "      <td>i'd like (PIZZAORDER (NUMBER a ) (SIZE party sized ) pie with (TOPPING balsamic glaze ) and (TOPPING black olive ) )</td>\n",
       "    </tr>\n",
       "    <tr>\n",
       "      <th>...</th>\n",
       "      <td>...</td>\n",
       "      <td>...</td>\n",
       "    </tr>\n",
       "    <tr>\n",
       "      <th>2081430</th>\n",
       "      <td>i'd like a party - sized pizza with red peppers salami and fried onions</td>\n",
       "      <td>i'd like (PIZZAORDER (NUMBER a ) (SIZE party - sized ) pizza with (TOPPING red peppers ) (TOPPING salami ) and (TOPPING fried onions ) )</td>\n",
       "    </tr>\n",
       "    <tr>\n",
       "      <th>2081432</th>\n",
       "      <td>i'd like a party - size pizza with vegan pepperoni bbq chicken and dried tomato</td>\n",
       "      <td>i'd like (PIZZAORDER (NUMBER a ) (SIZE party - size ) pizza with (TOPPING vegan pepperoni ) (TOPPING bbq chicken ) and (TOPPING dried tomato ) )</td>\n",
       "    </tr>\n",
       "    <tr>\n",
       "      <th>2081434</th>\n",
       "      <td>i'd like a party - size pizza with barbecue sauce peppperoni and white onion</td>\n",
       "      <td>i'd like (PIZZAORDER (NUMBER a ) (SIZE party - size ) pizza with (TOPPING barbecue sauce ) (TOPPING peppperoni ) and (TOPPING white onion ) )</td>\n",
       "    </tr>\n",
       "    <tr>\n",
       "      <th>2081439</th>\n",
       "      <td>i'd like a party size pizza with bacon yellow peppers and sausage</td>\n",
       "      <td>i'd like (PIZZAORDER (NUMBER a ) (SIZE party size ) pizza with (TOPPING bacon ) (TOPPING yellow peppers ) and (TOPPING sausage ) )</td>\n",
       "    </tr>\n",
       "    <tr>\n",
       "      <th>2081443</th>\n",
       "      <td>i'd like a party size pizza with white onion carrots and salami</td>\n",
       "      <td>i'd like (PIZZAORDER (NUMBER a ) (SIZE party size ) pizza with (TOPPING white onion ) (TOPPING carrots ) and (TOPPING salami ) )</td>\n",
       "    </tr>\n",
       "  </tbody>\n",
       "</table>\n",
       "<p>479854 rows × 2 columns</p>\n",
       "</div>"
      ],
      "text/plain": [
       "                                                                                                  src  \\\n",
       "8        can i have one party sized high rise dough pizza with american cheese and a lot of peperonni   \n",
       "11                             i'd like one party sized pie with american cheese and with pesto sauce   \n",
       "13                                                    can i have a party - sized pie without any bean   \n",
       "15         i'd like a party sized high rise dough pie with a lot of banana pepper and pecorino cheese   \n",
       "16                                     i'd like a party sized pie with balsamic glaze and black olive   \n",
       "...                                                                                               ...   \n",
       "2081430                       i'd like a party - sized pizza with red peppers salami and fried onions   \n",
       "2081432               i'd like a party - size pizza with vegan pepperoni bbq chicken and dried tomato   \n",
       "2081434                  i'd like a party - size pizza with barbecue sauce peppperoni and white onion   \n",
       "2081439                             i'd like a party size pizza with bacon yellow peppers and sausage   \n",
       "2081443                               i'd like a party size pizza with white onion carrots and salami   \n",
       "\n",
       "                                                                                                                                                                                                 top  \n",
       "8        can i have (PIZZAORDER (NUMBER one ) (SIZE party sized ) (STYLE high rise dough ) pizza with (TOPPING american cheese ) and (COMPLEX_TOPPING (QUANTITY a lot of ) (TOPPING peperonni ) ) )   \n",
       "11                                                                     i'd like (PIZZAORDER (NUMBER one ) (SIZE party sized ) pie with (TOPPING american cheese ) and with (TOPPING pesto sauce ) )   \n",
       "13                                                                                                can i have (PIZZAORDER (NUMBER a ) (SIZE party - sized ) pie without any (NOT (TOPPING bean ) ) )   \n",
       "15         i'd like (PIZZAORDER (NUMBER a ) (SIZE party sized ) (STYLE high rise dough ) pie with (COMPLEX_TOPPING (QUANTITY a lot of ) (TOPPING banana pepper ) ) and (TOPPING pecorino cheese ) )   \n",
       "16                                                                             i'd like (PIZZAORDER (NUMBER a ) (SIZE party sized ) pie with (TOPPING balsamic glaze ) and (TOPPING black olive ) )   \n",
       "...                                                                                                                                                                                              ...  \n",
       "2081430                                                    i'd like (PIZZAORDER (NUMBER a ) (SIZE party - sized ) pizza with (TOPPING red peppers ) (TOPPING salami ) and (TOPPING fried onions ) )   \n",
       "2081432                                            i'd like (PIZZAORDER (NUMBER a ) (SIZE party - size ) pizza with (TOPPING vegan pepperoni ) (TOPPING bbq chicken ) and (TOPPING dried tomato ) )   \n",
       "2081434                                               i'd like (PIZZAORDER (NUMBER a ) (SIZE party - size ) pizza with (TOPPING barbecue sauce ) (TOPPING peppperoni ) and (TOPPING white onion ) )   \n",
       "2081439                                                          i'd like (PIZZAORDER (NUMBER a ) (SIZE party size ) pizza with (TOPPING bacon ) (TOPPING yellow peppers ) and (TOPPING sausage ) )   \n",
       "2081443                                                            i'd like (PIZZAORDER (NUMBER a ) (SIZE party size ) pizza with (TOPPING white onion ) (TOPPING carrots ) and (TOPPING salami ) )   \n",
       "\n",
       "[479854 rows x 2 columns]"
      ]
     },
     "execution_count": 53,
     "metadata": {},
     "output_type": "execute_result"
    }
   ],
   "source": [
    "hyphen_separated = df_train['src'].str.find(\"party\") > 0\n",
    "df_train[['src', 'top']][hyphen_separated]"
   ]
  },
  {
   "cell_type": "code",
   "execution_count": 54,
   "id": "006769fe",
   "metadata": {
    "execution": {
     "iopub.execute_input": "2024-12-06T21:26:32.548888Z",
     "iopub.status.busy": "2024-12-06T21:26:32.548498Z",
     "iopub.status.idle": "2024-12-06T21:26:32.566931Z",
     "shell.execute_reply": "2024-12-06T21:26:32.565739Z"
    },
    "papermill": {
     "duration": 0.045679,
     "end_time": "2024-12-06T21:26:32.569620",
     "exception": false,
     "start_time": "2024-12-06T21:26:32.523941",
     "status": "completed"
    },
    "tags": []
   },
   "outputs": [
    {
     "name": "stdout",
     "output_type": "stream",
     "text": [
      "16 16\n",
      "[('three', 6), ('party', 18), ('sized', 18), ('pizzas', 18), ('no', 18), ('american', 18), ('cheese', 18), ('and', 24), (\"i'd\", 24), ('like', 24), ('two', 6), ('regular', 18), ('pies', 18), ('no', 18), ('american', 18), ('cheese', 18)]\n"
     ]
    },
    {
     "data": {
      "text/html": [
       "<div>\n",
       "<style scoped>\n",
       "    .dataframe tbody tr th:only-of-type {\n",
       "        vertical-align: middle;\n",
       "    }\n",
       "\n",
       "    .dataframe tbody tr th {\n",
       "        vertical-align: top;\n",
       "    }\n",
       "\n",
       "    .dataframe thead th {\n",
       "        text-align: right;\n",
       "    }\n",
       "</style>\n",
       "<table border=\"1\" class=\"dataframe\">\n",
       "  <thead>\n",
       "    <tr style=\"text-align: right;\">\n",
       "      <th></th>\n",
       "      <th>src</th>\n",
       "      <th>exr</th>\n",
       "      <th>top</th>\n",
       "      <th>decoupled</th>\n",
       "    </tr>\n",
       "  </thead>\n",
       "  <tbody>\n",
       "    <tr>\n",
       "      <th>1251868</th>\n",
       "      <td>three party sized pizzas no american cheese and i'd like two regular pies no american cheese</td>\n",
       "      <td>(PIZZAORDER (NUMBER 2 ) (SIZE REGULARSIZE ) (NOT (TOPPING AMERICAN_CHEESE ) ) ) (PIZZAORDER (NUMBER 3 ) (SIZE PARTY_SIZE ) (NOT (TOPPING AMERICAN_CHEESE ) ) )</td>\n",
       "      <td>(PIZZAORDER (NUMBER three ) (SIZE party sized ) pizzas no (NOT (TOPPING american cheese ) ) ) and i'd like (PIZZAORDER (NUMBER two ) (SIZE regular ) pies no (NOT (TOPPING american cheese ) ) )</td>\n",
       "      <td>(PIZZAORDER (NUMBER three ) (SIZE party sized ) (NOT (TOPPING american cheese ) ) ) (PIZZAORDER (NUMBER two ) (SIZE regular ) (NOT (TOPPING american cheese ) ) )</td>\n",
       "    </tr>\n",
       "  </tbody>\n",
       "</table>\n",
       "</div>"
      ],
      "text/plain": [
       "                                                                                                  src  \\\n",
       "1251868  three party sized pizzas no american cheese and i'd like two regular pies no american cheese   \n",
       "\n",
       "                                                                                                                                                                     exr  \\\n",
       "1251868  (PIZZAORDER (NUMBER 2 ) (SIZE REGULARSIZE ) (NOT (TOPPING AMERICAN_CHEESE ) ) ) (PIZZAORDER (NUMBER 3 ) (SIZE PARTY_SIZE ) (NOT (TOPPING AMERICAN_CHEESE ) ) )    \n",
       "\n",
       "                                                                                                                                                                                                       top  \\\n",
       "1251868  (PIZZAORDER (NUMBER three ) (SIZE party sized ) pizzas no (NOT (TOPPING american cheese ) ) ) and i'd like (PIZZAORDER (NUMBER two ) (SIZE regular ) pies no (NOT (TOPPING american cheese ) ) )    \n",
       "\n",
       "                                                                                                                                                                  decoupled  \n",
       "1251868  (PIZZAORDER (NUMBER three ) (SIZE party sized ) (NOT (TOPPING american cheese ) ) ) (PIZZAORDER (NUMBER two ) (SIZE regular ) (NOT (TOPPING american cheese ) ) )   "
      ]
     },
     "execution_count": 54,
     "metadata": {},
     "output_type": "execute_result"
    }
   ],
   "source": [
    "def extract_labels(top: str, entities):\n",
    "    # Extract words and parenthesis\n",
    "    pattern = r\"\\b\\w+(?:'\\w+)?(?:-\\w+)*\\b|[()]\"\n",
    "    tokens = regexp_tokenize(top, pattern)\n",
    "    \n",
    "    labels = []\n",
    "    count = 0\n",
    "    # print(tokens)\n",
    "    is_beginning = True\n",
    "    order_type = \"PIZZAORDER\"\n",
    "    for i, token in enumerate(tokens):\n",
    "        # print(token, count)\n",
    "        # Skip all entities except [\"PIZZAORDER\", \"DRINKORDER\"]\n",
    "        if token in entities and token not in [\"PIZZAORDER\", \"DRINKORDER\"]:\n",
    "            continue\n",
    "        # if token == \"'\":\n",
    "        #     i += 1\n",
    "        elif token == \"(\":\n",
    "            count += 1\n",
    "        elif token == \")\":\n",
    "            count -= 1\n",
    "        elif token == \"PIZZAORDER\":\n",
    "            order_type = \"PIZZAORDER\"\n",
    "        elif token == \"DRINKORDER\":\n",
    "            order_type = \"DRINKORDER\"\n",
    "        \n",
    "        elif count == 0:\n",
    "            labels.append(\"O\")\n",
    "            is_beginning = True\n",
    "        else:\n",
    "            if is_beginning == True:\n",
    "                labels.append(\"B-\" + order_type)\n",
    "                is_beginning = False\n",
    "                continue\n",
    "            if is_beginning == False:\n",
    "                labels.append(\"I-\" + order_type)\n",
    "    labels = label_encoder.transform(labels)\n",
    "    return labels\n",
    "\n",
    "index = 1251868\n",
    "tokens = df_train['src'][index].split()\n",
    "labels = extract_labels(df_train['top'][index], entities)\n",
    "print(len(tokens), len(labels))\n",
    "print([(x, y) for x, y in zip(tokens, labels)])\n",
    "df_train.iloc[index:index+1].head()"
   ]
  },
  {
   "cell_type": "code",
   "execution_count": 55,
   "id": "6053f50d",
   "metadata": {
    "execution": {
     "iopub.execute_input": "2024-12-06T21:26:32.620959Z",
     "iopub.status.busy": "2024-12-06T21:26:32.620200Z",
     "iopub.status.idle": "2024-12-06T21:26:32.624870Z",
     "shell.execute_reply": "2024-12-06T21:26:32.623876Z"
    },
    "papermill": {
     "duration": 0.031751,
     "end_time": "2024-12-06T21:26:32.626788",
     "exception": false,
     "start_time": "2024-12-06T21:26:32.595037",
     "status": "completed"
    },
    "tags": []
   },
   "outputs": [],
   "source": [
    "# df_train['labels'] = df_train['top'].progress_apply(lambda x: extract_labels(x, entities))\n",
    "# df_train.head(1)"
   ]
  },
  {
   "cell_type": "code",
   "execution_count": 56,
   "id": "68c024f6",
   "metadata": {
    "execution": {
     "iopub.execute_input": "2024-12-06T21:26:32.675715Z",
     "iopub.status.busy": "2024-12-06T21:26:32.675356Z",
     "iopub.status.idle": "2024-12-06T21:26:32.778846Z",
     "shell.execute_reply": "2024-12-06T21:26:32.777778Z"
    },
    "papermill": {
     "duration": 0.130637,
     "end_time": "2024-12-06T21:26:32.781178",
     "exception": false,
     "start_time": "2024-12-06T21:26:32.650541",
     "status": "completed"
    },
    "tags": []
   },
   "outputs": [
    {
     "name": "stderr",
     "output_type": "stream",
     "text": [
      "100%|██████████| 348/348 [00:00<00:00, 8682.83it/s]\n"
     ]
    },
    {
     "data": {
      "text/html": [
       "<div>\n",
       "<style scoped>\n",
       "    .dataframe tbody tr th:only-of-type {\n",
       "        vertical-align: middle;\n",
       "    }\n",
       "\n",
       "    .dataframe tbody tr th {\n",
       "        vertical-align: top;\n",
       "    }\n",
       "\n",
       "    .dataframe thead th {\n",
       "        text-align: right;\n",
       "    }\n",
       "</style>\n",
       "<table border=\"1\" class=\"dataframe\">\n",
       "  <thead>\n",
       "    <tr style=\"text-align: right;\">\n",
       "      <th></th>\n",
       "      <th>src</th>\n",
       "      <th>exr</th>\n",
       "      <th>top</th>\n",
       "      <th>pcfg_err</th>\n",
       "      <th>tokenized_lemma</th>\n",
       "      <th>tokenized</th>\n",
       "      <th>lemmatized</th>\n",
       "      <th>tfidf_features</th>\n",
       "      <th>word2vec_features</th>\n",
       "      <th>labels</th>\n",
       "    </tr>\n",
       "  </thead>\n",
       "  <tbody>\n",
       "    <tr>\n",
       "      <th>0</th>\n",
       "      <td>i want to order two medium pizzas with sausage and black olives and two medium pizzas with pepperoni and extra cheese and three large pizzas with pepperoni and sausage</td>\n",
       "      <td>(PIZZAORDER (NUMBER 2 ) (SIZE MEDIUM ) (COMPLEX_TOPPING (QUANTITY EXTRA ) (TOPPING CHEESE ) ) (TOPPING PEPPERONI ) ) (PIZZAORDER (NUMBER 2 ) (SIZE MEDIUM ) (TOPPING OLIVES ) (TOPPING SAUSAGE ) ) (PIZZAORDER (NUMBER 3 ) (SIZE LARGE ) (TOPPING PEPPERONI ) (TOPPING SAUSAGE ) )</td>\n",
       "      <td>i want to order (PIZZAORDER (NUMBER two ) (SIZE medium ) pizzas with (TOPPING sausage ) and (TOPPING black olives ) ) and (PIZZAORDER (NUMBER two ) (SIZE medium ) pizzas with (TOPPING pepperoni ) and (COMPLEX_TOPPING (QUANTITY extra ) (TOPPING cheese ) ) ) and (PIZZAORDER (NUMBER three ) (SIZE large ) pizzas with (TOPPING pepperoni ) and (TOPPING sausage ) )</td>\n",
       "      <td>False</td>\n",
       "      <td>[i, want, to, order, two, medium, pizza, with, sausage, and, black, olive, and, two, medium, pizza, with, pepperoni, and, extra, cheese, and, three, large, pizza, with, pepperoni, and, sausage]</td>\n",
       "      <td>[i, want, to, order, two, medium, pizzas, with, sausage, and, black, olives, and, two, medium, pizzas, with, pepperoni, and, extra, cheese, and, three, large, pizzas, with, pepperoni, and, sausage]</td>\n",
       "      <td>i want to order two medium pizza with sausage and black olive and two medium pizza with pepperoni and extra cheese and three large pizza with pepperoni and sausage</td>\n",
       "      <td>[[0.0, 0.18706812373139206, 0.0, 0.0, 0.0, 0.0, 0.0, 0.0, 0.0, 0.0, 0.0, 0.0, 0.14551966070645694, 0.0, 0.0, 0.0, 0.0, 0.0, 0.0, 0.338064030414566, 0.0, 0.0, 0.0, 0.0, 0.0, 0.0, 0.0, 0.0, 0.0, 0.0, 0.0, 0.0, 0.0, 0.0, 0.34014465734620436, 0.0, 0.0, 0.0, 0.0, 0.0, 0.0, 0.0, 0.0, 0.0, 0.0, 0.0, 0.0, 0.0, 0.0, 0.0, 0.0, 0.0, 0.0, 0.0, 0.0, 0.0, 0.0, 0.0, 0.0, 0.0, 0.0, 0.0, 0.0, 0.0, 0.0, 0.0, 0.0, 0.0, 0.0, 0.0, 0.0, 0.0, 0.0, 0.0, 0.0, 0.30724661810746495, 0.0, 0.0, 0.0, 0.0, 0.0, 0.0, 0.0, 0.0, 0.0, 0.0, 0.0, 0.0, 0.0, 0.0, 0.0, 0.0, 0.0, 0.1835399430287813, 0.0, 0.0, 0.0, 0.0, 0.0, 0.0, ...], [0.0, 0.0, 0.36841804537972767, 0.0, 0.0, 0.0, 0.0, 0.0, 0.3769445313850932, 0.0, 0.0, 0.0, 0.19351042155584847, 0.0, 0.0, 0.0, 0.0, 0.0, 0.0, 0.0, 0.0, 0.0, 0.0, 0.0, 0.0, 0.0, 0.0, 0.0, 0.0, 0.0, 0.0, 0.0, 0.0, 0.0, 0.0, 0.0, 0.0, 0.0, 0.19618713190325923, 0.0, 0.0, 0.0, 0.0, 0.0, 0.0, 0.0, 0.0, 0.0, 0.0, 0.0, 0.0, 0.0, 0.0, 0.0, 0.0, 0.0, 0.0, 0.0, 0.0, 0.0, 0.0, 0.0, 0.0, 0.0, 0.202184450...</td>\n",
       "      <td>[[0.0677469, -0.041739315, -0.08083352, 0.12261514, 0.16721858, -0.05736017, 0.09708657, 0.28409472, -0.118705854, -0.027471012, -0.057421274, -0.14376749, 0.0473368, 0.14283921, -0.030394064, -0.031858526, 0.052781112, 0.07924095, 0.0069334647, -0.2780961, 0.09244968, -0.032641098, -0.026583068, 0.036451172, 0.03341323, -0.025228117, -0.07656543, -0.118221, -0.10734222, 0.03260397, 0.15275688, 0.05852104, 0.106173486, -0.05881508, -0.082549885, 0.1174997, 0.06174134, -0.08423522, -0.055344716, -0.16970553, -0.06645013, 0.006280372, -0.11624798, -0.00490635, 0.1332938, -0.05824645, -0.00758351, -0.1255734, 0.039873965, 0.07710664, 0.045426518, -0.18234527, -0.024939088, -0.10234514, 0.08368705, -0.06852132, -0.07534842, -0.15418817, -0.14619642, -0.003937893, -0.101910375, -0.030932281, 0.1487361, -0.090863645, -0.320359, 0.09530128, -0.022416687, 0.22749043, -0.17629756, 0.21058744, -0.03136628, 0.1173821, 0.12045498, 0.03843337, 0.11156459, 0.058297314, 0.104958236, -0.11261302, ...</td>\n",
       "      <td>[24, 24, 24, 24, 6, 18, 18, 18, 18, 18, 18, 18, 24, 6, 18, 18, 18, 18, 18, 18, 18, 24, 6, 18, 18, 18, 18, 18, 18]</td>\n",
       "    </tr>\n",
       "  </tbody>\n",
       "</table>\n",
       "</div>"
      ],
      "text/plain": [
       "                                                                                                                                                                       src  \\\n",
       "0  i want to order two medium pizzas with sausage and black olives and two medium pizzas with pepperoni and extra cheese and three large pizzas with pepperoni and sausage   \n",
       "\n",
       "                                                                                                                                                                                                                                                                                   exr  \\\n",
       "0  (PIZZAORDER (NUMBER 2 ) (SIZE MEDIUM ) (COMPLEX_TOPPING (QUANTITY EXTRA ) (TOPPING CHEESE ) ) (TOPPING PEPPERONI ) ) (PIZZAORDER (NUMBER 2 ) (SIZE MEDIUM ) (TOPPING OLIVES ) (TOPPING SAUSAGE ) ) (PIZZAORDER (NUMBER 3 ) (SIZE LARGE ) (TOPPING PEPPERONI ) (TOPPING SAUSAGE ) )    \n",
       "\n",
       "                                                                                                                                                                                                                                                                                                                                                                         top  \\\n",
       "0  i want to order (PIZZAORDER (NUMBER two ) (SIZE medium ) pizzas with (TOPPING sausage ) and (TOPPING black olives ) ) and (PIZZAORDER (NUMBER two ) (SIZE medium ) pizzas with (TOPPING pepperoni ) and (COMPLEX_TOPPING (QUANTITY extra ) (TOPPING cheese ) ) ) and (PIZZAORDER (NUMBER three ) (SIZE large ) pizzas with (TOPPING pepperoni ) and (TOPPING sausage ) )    \n",
       "\n",
       "  pcfg_err  \\\n",
       "0    False   \n",
       "\n",
       "                                                                                                                                                                                     tokenized_lemma  \\\n",
       "0  [i, want, to, order, two, medium, pizza, with, sausage, and, black, olive, and, two, medium, pizza, with, pepperoni, and, extra, cheese, and, three, large, pizza, with, pepperoni, and, sausage]   \n",
       "\n",
       "                                                                                                                                                                                               tokenized  \\\n",
       "0  [i, want, to, order, two, medium, pizzas, with, sausage, and, black, olives, and, two, medium, pizzas, with, pepperoni, and, extra, cheese, and, three, large, pizzas, with, pepperoni, and, sausage]   \n",
       "\n",
       "                                                                                                                                                            lemmatized  \\\n",
       "0  i want to order two medium pizza with sausage and black olive and two medium pizza with pepperoni and extra cheese and three large pizza with pepperoni and sausage   \n",
       "\n",
       "                                                                                                                                                                                                                                                                                                                                                                                                                                                                                                                                                                                                                                                                                                                                                                                                                                                                                                                                                                                                                            tfidf_features  \\\n",
       "0  [[0.0, 0.18706812373139206, 0.0, 0.0, 0.0, 0.0, 0.0, 0.0, 0.0, 0.0, 0.0, 0.0, 0.14551966070645694, 0.0, 0.0, 0.0, 0.0, 0.0, 0.0, 0.338064030414566, 0.0, 0.0, 0.0, 0.0, 0.0, 0.0, 0.0, 0.0, 0.0, 0.0, 0.0, 0.0, 0.0, 0.0, 0.34014465734620436, 0.0, 0.0, 0.0, 0.0, 0.0, 0.0, 0.0, 0.0, 0.0, 0.0, 0.0, 0.0, 0.0, 0.0, 0.0, 0.0, 0.0, 0.0, 0.0, 0.0, 0.0, 0.0, 0.0, 0.0, 0.0, 0.0, 0.0, 0.0, 0.0, 0.0, 0.0, 0.0, 0.0, 0.0, 0.0, 0.0, 0.0, 0.0, 0.0, 0.0, 0.30724661810746495, 0.0, 0.0, 0.0, 0.0, 0.0, 0.0, 0.0, 0.0, 0.0, 0.0, 0.0, 0.0, 0.0, 0.0, 0.0, 0.0, 0.0, 0.1835399430287813, 0.0, 0.0, 0.0, 0.0, 0.0, 0.0, ...], [0.0, 0.0, 0.36841804537972767, 0.0, 0.0, 0.0, 0.0, 0.0, 0.3769445313850932, 0.0, 0.0, 0.0, 0.19351042155584847, 0.0, 0.0, 0.0, 0.0, 0.0, 0.0, 0.0, 0.0, 0.0, 0.0, 0.0, 0.0, 0.0, 0.0, 0.0, 0.0, 0.0, 0.0, 0.0, 0.0, 0.0, 0.0, 0.0, 0.0, 0.0, 0.19618713190325923, 0.0, 0.0, 0.0, 0.0, 0.0, 0.0, 0.0, 0.0, 0.0, 0.0, 0.0, 0.0, 0.0, 0.0, 0.0, 0.0, 0.0, 0.0, 0.0, 0.0, 0.0, 0.0, 0.0, 0.0, 0.0, 0.202184450...   \n",
       "\n",
       "                                                                                                                                                                                                                                                                                                                                                                                                                                                                                                                                                                                                                                                                                                                                                                                                                                                                                                                                                                                                                         word2vec_features  \\\n",
       "0  [[0.0677469, -0.041739315, -0.08083352, 0.12261514, 0.16721858, -0.05736017, 0.09708657, 0.28409472, -0.118705854, -0.027471012, -0.057421274, -0.14376749, 0.0473368, 0.14283921, -0.030394064, -0.031858526, 0.052781112, 0.07924095, 0.0069334647, -0.2780961, 0.09244968, -0.032641098, -0.026583068, 0.036451172, 0.03341323, -0.025228117, -0.07656543, -0.118221, -0.10734222, 0.03260397, 0.15275688, 0.05852104, 0.106173486, -0.05881508, -0.082549885, 0.1174997, 0.06174134, -0.08423522, -0.055344716, -0.16970553, -0.06645013, 0.006280372, -0.11624798, -0.00490635, 0.1332938, -0.05824645, -0.00758351, -0.1255734, 0.039873965, 0.07710664, 0.045426518, -0.18234527, -0.024939088, -0.10234514, 0.08368705, -0.06852132, -0.07534842, -0.15418817, -0.14619642, -0.003937893, -0.101910375, -0.030932281, 0.1487361, -0.090863645, -0.320359, 0.09530128, -0.022416687, 0.22749043, -0.17629756, 0.21058744, -0.03136628, 0.1173821, 0.12045498, 0.03843337, 0.11156459, 0.058297314, 0.104958236, -0.11261302, ...   \n",
       "\n",
       "                                                                                                              labels  \n",
       "0  [24, 24, 24, 24, 6, 18, 18, 18, 18, 18, 18, 18, 24, 6, 18, 18, 18, 18, 18, 18, 18, 24, 6, 18, 18, 18, 18, 18, 18]  "
      ]
     },
     "execution_count": 56,
     "metadata": {},
     "output_type": "execute_result"
    }
   ],
   "source": [
    "df_dev['labels'] = df_dev['top'].progress_apply(lambda x: extract_labels(x, entities))\n",
    "df_dev.head(1)"
   ]
  },
  {
   "cell_type": "code",
   "execution_count": 57,
   "id": "64797659",
   "metadata": {
    "execution": {
     "iopub.execute_input": "2024-12-06T21:26:32.834212Z",
     "iopub.status.busy": "2024-12-06T21:26:32.833800Z",
     "iopub.status.idle": "2024-12-06T21:26:32.864819Z",
     "shell.execute_reply": "2024-12-06T21:26:32.863734Z"
    },
    "papermill": {
     "duration": 0.061338,
     "end_time": "2024-12-06T21:26:32.866885",
     "exception": false,
     "start_time": "2024-12-06T21:26:32.805547",
     "status": "completed"
    },
    "tags": []
   },
   "outputs": [
    {
     "data": {
      "text/html": [
       "<div>\n",
       "<style scoped>\n",
       "    .dataframe tbody tr th:only-of-type {\n",
       "        vertical-align: middle;\n",
       "    }\n",
       "\n",
       "    .dataframe tbody tr th {\n",
       "        vertical-align: top;\n",
       "    }\n",
       "\n",
       "    .dataframe thead th {\n",
       "        text-align: right;\n",
       "    }\n",
       "</style>\n",
       "<table border=\"1\" class=\"dataframe\">\n",
       "  <thead>\n",
       "    <tr style=\"text-align: right;\">\n",
       "      <th></th>\n",
       "      <th>src</th>\n",
       "      <th>exr</th>\n",
       "      <th>top</th>\n",
       "      <th>pcfg_err</th>\n",
       "      <th>tokenized_lemma</th>\n",
       "      <th>tokenized</th>\n",
       "      <th>lemmatized</th>\n",
       "      <th>tfidf_features</th>\n",
       "      <th>word2vec_features</th>\n",
       "      <th>labels</th>\n",
       "    </tr>\n",
       "  </thead>\n",
       "  <tbody>\n",
       "    <tr>\n",
       "      <th>3</th>\n",
       "      <td>i'd like to order a large onion and pepper pizza</td>\n",
       "      <td>(PIZZAORDER (NUMBER 1 ) (SIZE LARGE ) (TOPPING ONIONS ) (TOPPING PEPPERS ) )</td>\n",
       "      <td>i'd like to order (PIZZAORDER (NUMBER a ) (SIZE large ) (TOPPING onion ) and (TOPPING pepper ) pizza )</td>\n",
       "      <td>False</td>\n",
       "      <td>[i, would, like, to, order, a, large, onion, and, pepper, pizza]</td>\n",
       "      <td>[i'd, like, to, order, a, large, onion, and, pepper, pizza]</td>\n",
       "      <td>i would like to order a large onion and pepper pizza</td>\n",
       "      <td>[[0.0, 0.25878141499079277, 0.0, 0.0, 0.0, 0.0, 0.0, 0.0, 0.0, 0.0, 0.0, 0.0, 0.0, 0.0, 0.0, 0.0, 0.0, 0.0, 0.0, 0.0, 0.0, 0.0, 0.0, 0.0, 0.0, 0.0, 0.0, 0.0, 0.0, 0.0, 0.0, 0.0, 0.0, 0.0, 0.0, 0.0, 0.0, 0.0, 0.0, 0.0, 0.0, 0.0, 0.0, 0.0, 0.0, 0.0, 0.0, 0.0, 0.0, 0.0, 0.0, 0.0, 0.0, 0.0, 0.0, 0.0, 0.0, 0.0, 0.0, 0.0, 0.0, 0.0, 0.0, 0.0, 0.0, 0.0, 0.0, 0.0, 0.0, 0.0, 0.0, 0.0, 0.0, 0.0, 0.0, 0.0, 0.0, 0.0, 0.0, 0.0, 0.0, 0.0, 0.0, 0.0, 0.0, 0.0, 0.0, 0.0, 0.0, 0.0, 0.0, 0.0, 0.0, 0.25390069252267294, 0.0, 0.0, 0.0, 0.0, 0.0, 0.0, ...], [0.0, 0.0, 0.0, 0.0, 0.0, 0.0, 0.0, 0.27720767756148734, 0.0, 0.0, 0.0, 0.0, 0.0, 0.0, 0.0, 0.0, 0.0, 0.0, 0.3739374411308161, 0.0, 0.0, 0.0, 0.0, 0.0, 0.0, 0.0, 0.0, 0.0, 0.0, 0.0, 0.0, 0.0, 0.0, 0.22767219330101038, 0.0, 0.0, 0.0, 0.0, 0.0, 0.0, 0.0, 0.0, 0.0, 0.0, 0.0, 0.0, 0.0, 0.0, 0.0, 0.0, 0.0, 0.0, 0.0, 0.0, 0.0, 0.0, 0.0, 0.0, 0.0, 0.0, 0.0, 0.0, 0.0, 0.0, 0.0, 0.0, 0.0, 0.0, 0.0, 0.0, 0.353498476780873, 0.2855402908978217, 0.0, 0.0, 0.0, 0.0,...</td>\n",
       "      <td>[[0.034876496, -0.018838737, -0.03094462, 0.049610227, 0.07292387, -0.028232593, 0.0426675, 0.124641865, -0.046168078, -0.010289274, -0.022492006, -0.067076765, 0.026225913, 0.0594144, -0.013272378, -0.013796637, 0.0225329, 0.031439085, 0.005429208, -0.117336124, 0.04022778, -0.011933805, -0.014957658, 0.011053996, 0.01287688, -0.011281822, -0.03759305, -0.05268785, -0.04346962, 0.011879201, 0.067503154, 0.025923895, 0.046448585, -0.020964967, -0.03751059, 0.049969103, 0.02965557, -0.039529294, -0.01972989, -0.07808588, -0.027959775, 0.0023421464, -0.049128532, -0.0011981872, 0.061333265, -0.021473194, -0.0011677572, -0.050754834, 0.018149236, 0.034283537, 0.0179269, -0.08481379, -0.012953331, -0.04719673, 0.03888765, -0.02838799, -0.027466046, -0.06957505, -0.06718644, 0.0016567827, -0.044730537, -0.014175598, 0.06563012, -0.04024822, -0.1364846, 0.04118543, -0.010231526, 0.09637261, -0.07360343, 0.09349069, -0.014939378, 0.045573164, 0.051587228, 0.019778902, 0.044990543, 0.01990...</td>\n",
       "      <td>[24, 24, 24, 24, 6, 18, 18, 18, 18, 18]</td>\n",
       "    </tr>\n",
       "  </tbody>\n",
       "</table>\n",
       "</div>"
      ],
      "text/plain": [
       "                                                src  \\\n",
       "3  i'd like to order a large onion and pepper pizza   \n",
       "\n",
       "                                                                             exr  \\\n",
       "3  (PIZZAORDER (NUMBER 1 ) (SIZE LARGE ) (TOPPING ONIONS ) (TOPPING PEPPERS ) )    \n",
       "\n",
       "                                                                                                       top  \\\n",
       "3  i'd like to order (PIZZAORDER (NUMBER a ) (SIZE large ) (TOPPING onion ) and (TOPPING pepper ) pizza )    \n",
       "\n",
       "  pcfg_err                                                   tokenized_lemma  \\\n",
       "3    False  [i, would, like, to, order, a, large, onion, and, pepper, pizza]   \n",
       "\n",
       "                                                     tokenized  \\\n",
       "3  [i'd, like, to, order, a, large, onion, and, pepper, pizza]   \n",
       "\n",
       "                                             lemmatized  \\\n",
       "3  i would like to order a large onion and pepper pizza   \n",
       "\n",
       "                                                                                                                                                                                                                                                                                                                                                                                                                                                                                                                                                                                                                                                                                                                                                                                                                                                                                                                                                                                                                            tfidf_features  \\\n",
       "3  [[0.0, 0.25878141499079277, 0.0, 0.0, 0.0, 0.0, 0.0, 0.0, 0.0, 0.0, 0.0, 0.0, 0.0, 0.0, 0.0, 0.0, 0.0, 0.0, 0.0, 0.0, 0.0, 0.0, 0.0, 0.0, 0.0, 0.0, 0.0, 0.0, 0.0, 0.0, 0.0, 0.0, 0.0, 0.0, 0.0, 0.0, 0.0, 0.0, 0.0, 0.0, 0.0, 0.0, 0.0, 0.0, 0.0, 0.0, 0.0, 0.0, 0.0, 0.0, 0.0, 0.0, 0.0, 0.0, 0.0, 0.0, 0.0, 0.0, 0.0, 0.0, 0.0, 0.0, 0.0, 0.0, 0.0, 0.0, 0.0, 0.0, 0.0, 0.0, 0.0, 0.0, 0.0, 0.0, 0.0, 0.0, 0.0, 0.0, 0.0, 0.0, 0.0, 0.0, 0.0, 0.0, 0.0, 0.0, 0.0, 0.0, 0.0, 0.0, 0.0, 0.0, 0.0, 0.25390069252267294, 0.0, 0.0, 0.0, 0.0, 0.0, 0.0, ...], [0.0, 0.0, 0.0, 0.0, 0.0, 0.0, 0.0, 0.27720767756148734, 0.0, 0.0, 0.0, 0.0, 0.0, 0.0, 0.0, 0.0, 0.0, 0.0, 0.3739374411308161, 0.0, 0.0, 0.0, 0.0, 0.0, 0.0, 0.0, 0.0, 0.0, 0.0, 0.0, 0.0, 0.0, 0.0, 0.22767219330101038, 0.0, 0.0, 0.0, 0.0, 0.0, 0.0, 0.0, 0.0, 0.0, 0.0, 0.0, 0.0, 0.0, 0.0, 0.0, 0.0, 0.0, 0.0, 0.0, 0.0, 0.0, 0.0, 0.0, 0.0, 0.0, 0.0, 0.0, 0.0, 0.0, 0.0, 0.0, 0.0, 0.0, 0.0, 0.0, 0.0, 0.353498476780873, 0.2855402908978217, 0.0, 0.0, 0.0, 0.0,...   \n",
       "\n",
       "                                                                                                                                                                                                                                                                                                                                                                                                                                                                                                                                                                                                                                                                                                                                                                                                                                                                                                                                                                                                                         word2vec_features  \\\n",
       "3  [[0.034876496, -0.018838737, -0.03094462, 0.049610227, 0.07292387, -0.028232593, 0.0426675, 0.124641865, -0.046168078, -0.010289274, -0.022492006, -0.067076765, 0.026225913, 0.0594144, -0.013272378, -0.013796637, 0.0225329, 0.031439085, 0.005429208, -0.117336124, 0.04022778, -0.011933805, -0.014957658, 0.011053996, 0.01287688, -0.011281822, -0.03759305, -0.05268785, -0.04346962, 0.011879201, 0.067503154, 0.025923895, 0.046448585, -0.020964967, -0.03751059, 0.049969103, 0.02965557, -0.039529294, -0.01972989, -0.07808588, -0.027959775, 0.0023421464, -0.049128532, -0.0011981872, 0.061333265, -0.021473194, -0.0011677572, -0.050754834, 0.018149236, 0.034283537, 0.0179269, -0.08481379, -0.012953331, -0.04719673, 0.03888765, -0.02838799, -0.027466046, -0.06957505, -0.06718644, 0.0016567827, -0.044730537, -0.014175598, 0.06563012, -0.04024822, -0.1364846, 0.04118543, -0.010231526, 0.09637261, -0.07360343, 0.09349069, -0.014939378, 0.045573164, 0.051587228, 0.019778902, 0.044990543, 0.01990...   \n",
       "\n",
       "                                    labels  \n",
       "3  [24, 24, 24, 24, 6, 18, 18, 18, 18, 18]  "
      ]
     },
     "execution_count": 57,
     "metadata": {},
     "output_type": "execute_result"
    }
   ],
   "source": [
    "df_dev.iloc[3:4].head()"
   ]
  },
  {
   "cell_type": "code",
   "execution_count": 58,
   "id": "965fc98a",
   "metadata": {
    "execution": {
     "iopub.execute_input": "2024-12-06T21:26:32.917903Z",
     "iopub.status.busy": "2024-12-06T21:26:32.916980Z",
     "iopub.status.idle": "2024-12-06T21:26:32.924635Z",
     "shell.execute_reply": "2024-12-06T21:26:32.923541Z"
    },
    "papermill": {
     "duration": 0.035446,
     "end_time": "2024-12-06T21:26:32.926775",
     "exception": false,
     "start_time": "2024-12-06T21:26:32.891329",
     "status": "completed"
    },
    "tags": []
   },
   "outputs": [
    {
     "data": {
      "text/plain": [
       "(10, 10, 10)"
      ]
     },
     "execution_count": 58,
     "metadata": {},
     "output_type": "execute_result"
    }
   ],
   "source": [
    "# df_dev[[\"tfidf_features\", \"word2vec_features\", \"labels\"]]\n",
    "len(df_dev[\"tfidf_features\"][3]), len(df_dev[\"word2vec_features\"][3]), len(df_dev[\"labels\"][3])"
   ]
  },
  {
   "cell_type": "code",
   "execution_count": 59,
   "id": "08f3e994",
   "metadata": {
    "execution": {
     "iopub.execute_input": "2024-12-06T21:26:32.980515Z",
     "iopub.status.busy": "2024-12-06T21:26:32.980152Z",
     "iopub.status.idle": "2024-12-06T21:26:32.986134Z",
     "shell.execute_reply": "2024-12-06T21:26:32.985036Z"
    },
    "papermill": {
     "duration": 0.036387,
     "end_time": "2024-12-06T21:26:32.988288",
     "exception": false,
     "start_time": "2024-12-06T21:26:32.951901",
     "status": "completed"
    },
    "tags": []
   },
   "outputs": [],
   "source": [
    "# def extract_labels(top: str, entities):\n",
    "#     # Extract words and parenthesis\n",
    "#     pattern = r\"\\b\\w+(?:'\\w+)?(?:-\\w+)*\\b|[()]\"\n",
    "#     tokens = regexp_tokenize(top, pattern)\n",
    "    \n",
    "#     IS_labels = []\n",
    "#     NER_labels = []\n",
    "#     # print(tokens)\n",
    "#     beginning_of_order = True\n",
    "#     order_type = \"PIZZAORDER\"\n",
    "#     beginning_of_ner = True\n",
    "#     ner_type = \"\"\n",
    "    \n",
    "#     count = 0 # Count the opened parenthesis (lower level in the hierarchy)\n",
    "#     for i, token in enumerate(tokens):\n",
    "#         # print(token, count)\n",
    "#         # Skip all entities except [\"PIZZAORDER\", \"DRINKORDER\"]\n",
    "#         if token in entities and token not in [\"PIZZAORDER\", \"DRINKORDER\"]:\n",
    "#             continue\n",
    "#         elif token == \"(\":\n",
    "#             count += 1\n",
    "#         elif token == \")\":\n",
    "#             count -= 1\n",
    "#         elif token == \"PIZZAORDER\":\n",
    "#             order_type = \"PIZZAORDER\"\n",
    "#         elif token == \"DRINKORDER\":\n",
    "#             order_type = \"DRINKORDER\"\n",
    "        \n",
    "#         elif count == 0:\n",
    "#             IS_labels.append(\"O\")\n",
    "#             NER_labels.append(\"O\")\n",
    "#             beginning_of_order = True\n",
    "#             beginning_of_ner = True\n",
    "#         # 2nd top-level are PIZZAORDER & DRINKORDER\n",
    "#         elif count >= 1:\n",
    "#             if beginning_of_order == True:\n",
    "#                 IS_labels.append(\"B-\" + order_type)\n",
    "#                 beginning_of_order = False\n",
    "#                 continue\n",
    "#             if beginning_of_order == False:\n",
    "#                 IS_labels.append(\"I-\" + order_type)\n",
    "        \n",
    "#         # Other levels: Number, Size, etc...\n",
    "#         else:\n",
    "#             if beginning_of_ner == True:\n",
    "#                 NER_labels.append(\"B-\" + order_type)\n",
    "#                 beginning_of_ner = False\n",
    "#                 continue\n",
    "#             if beginning_of_ner == False:\n",
    "#                 NER_labels.append(\"I-\" + order_type)\n",
    "            \n",
    "\n",
    "#     return IS_labels\n",
    "\n",
    "# # index = 1251868\n",
    "# # tokens = df_train['src'][index].split()\n",
    "# # labels = extract_labels(df_train['top'][index], entities)\n",
    "# # print(len(tokens), len(labels))\n",
    "# # print([(x, y) for x, y in zip(tokens, labels)])\n",
    "# # df_train.iloc[index:index+1].head()"
   ]
  },
  {
   "cell_type": "markdown",
   "id": "092f681d",
   "metadata": {
    "papermill": {
     "duration": 0.024197,
     "end_time": "2024-12-06T21:26:33.036979",
     "exception": false,
     "start_time": "2024-12-06T21:26:33.012782",
     "status": "completed"
    },
    "tags": []
   },
   "source": [
    "# Models"
   ]
  },
  {
   "cell_type": "markdown",
   "id": "94f11f10",
   "metadata": {
    "papermill": {
     "duration": 0.023901,
     "end_time": "2024-12-06T21:26:33.085757",
     "exception": false,
     "start_time": "2024-12-06T21:26:33.061856",
     "status": "completed"
    },
    "tags": []
   },
   "source": [
    "## CRF"
   ]
  },
  {
   "cell_type": "code",
   "execution_count": 60,
   "id": "7c14c270",
   "metadata": {
    "execution": {
     "iopub.execute_input": "2024-12-06T21:26:33.135566Z",
     "iopub.status.busy": "2024-12-06T21:26:33.135192Z",
     "iopub.status.idle": "2024-12-06T21:26:33.140887Z",
     "shell.execute_reply": "2024-12-06T21:26:33.139883Z"
    },
    "papermill": {
     "duration": 0.033172,
     "end_time": "2024-12-06T21:26:33.143149",
     "exception": false,
     "start_time": "2024-12-06T21:26:33.109977",
     "status": "completed"
    },
    "tags": []
   },
   "outputs": [],
   "source": [
    "# CRF Model\n",
    "crf = CRF(algorithm=\"lbfgs\", max_iterations=100)\n",
    "\n",
    "# Format data for CRF training\n",
    "# crf_train_tokens = word_embeddings\n",
    "# crf_train_labels = labels\n",
    "crf_train_tokens = df_dev['word2vec_features']\n",
    "crf_train_tokens = df_dev['tfidf_features'].to_list()\n",
    "crf_train_labels = df_dev['labels']"
   ]
  },
  {
   "cell_type": "code",
   "execution_count": 61,
   "id": "25cda341",
   "metadata": {
    "execution": {
     "iopub.execute_input": "2024-12-06T21:26:33.193799Z",
     "iopub.status.busy": "2024-12-06T21:26:33.193442Z",
     "iopub.status.idle": "2024-12-06T21:26:33.200514Z",
     "shell.execute_reply": "2024-12-06T21:26:33.199324Z"
    },
    "papermill": {
     "duration": 0.035244,
     "end_time": "2024-12-06T21:26:33.202762",
     "exception": false,
     "start_time": "2024-12-06T21:26:33.167518",
     "status": "completed"
    },
    "tags": []
   },
   "outputs": [
    {
     "name": "stdout",
     "output_type": "stream",
     "text": [
      "348\n",
      "348\n"
     ]
    }
   ],
   "source": [
    "# Will work only without vectorizing words! (Dimension of the word vector of course will be )\n",
    "print(len(crf_train_tokens))\n",
    "print(len(crf_train_labels))\n",
    "i = 0\n",
    "k = 0\n",
    "for token, label in zip(crf_train_tokens, crf_train_labels):\n",
    "    if len(token) != len(label):\n",
    "        print(f\"{len(token)}, {len(label)}, {i}\")\n",
    "        # print(f\"Mismatch found: {token}, {label}, {i}\")\n",
    "        k += 1\n",
    "    if k > 10: break\n",
    "    i += 1"
   ]
  },
  {
   "cell_type": "code",
   "execution_count": 62,
   "id": "6b6f276b",
   "metadata": {
    "execution": {
     "iopub.execute_input": "2024-12-06T21:26:33.253201Z",
     "iopub.status.busy": "2024-12-06T21:26:33.252806Z",
     "iopub.status.idle": "2024-12-06T21:26:33.925641Z",
     "shell.execute_reply": "2024-12-06T21:26:33.924101Z"
    },
    "papermill": {
     "duration": 0.700042,
     "end_time": "2024-12-06T21:26:33.927287",
     "exception": true,
     "start_time": "2024-12-06T21:26:33.227245",
     "status": "failed"
    },
    "tags": []
   },
   "outputs": [
    {
     "ename": "TypeError",
     "evalue": "expected bytes, numpy.int64 found",
     "output_type": "error",
     "traceback": [
      "\u001b[0;31m---------------------------------------------------------------------------\u001b[0m",
      "\u001b[0;31mTypeError\u001b[0m                                 Traceback (most recent call last)",
      "Cell \u001b[0;32mIn[62], line 2\u001b[0m\n\u001b[1;32m      1\u001b[0m \u001b[38;5;66;03m# Train CRF\u001b[39;00m\n\u001b[0;32m----> 2\u001b[0m \u001b[43mcrf\u001b[49m\u001b[38;5;241;43m.\u001b[39;49m\u001b[43mfit\u001b[49m\u001b[43m(\u001b[49m\u001b[43mcrf_train_tokens\u001b[49m\u001b[43m,\u001b[49m\u001b[43m \u001b[49m\u001b[43mcrf_train_labels\u001b[49m\u001b[43m)\u001b[49m\n\u001b[1;32m      3\u001b[0m \u001b[38;5;66;03m# Save the trained model\u001b[39;00m\n\u001b[1;32m      4\u001b[0m crf\u001b[38;5;241m.\u001b[39msave(MODELS_PATH \u001b[38;5;241m+\u001b[39m \u001b[38;5;124m\"\u001b[39m\u001b[38;5;124m/crf_model.bin\u001b[39m\u001b[38;5;124m\"\u001b[39m)\n",
      "File \u001b[0;32m/opt/conda/lib/python3.10/site-packages/sklearn_crfsuite/estimator.py:318\u001b[0m, in \u001b[0;36mCRF.fit\u001b[0;34m(self, X, y, X_dev, y_dev)\u001b[0m\n\u001b[1;32m    313\u001b[0m     train_data \u001b[38;5;241m=\u001b[39m tqdm(\n\u001b[1;32m    314\u001b[0m         train_data, \u001b[38;5;124m\"\u001b[39m\u001b[38;5;124mloading training data to CRFsuite\u001b[39m\u001b[38;5;124m\"\u001b[39m, \u001b[38;5;28mlen\u001b[39m(X), leave\u001b[38;5;241m=\u001b[39m\u001b[38;5;28;01mTrue\u001b[39;00m\n\u001b[1;32m    315\u001b[0m     )\n\u001b[1;32m    317\u001b[0m \u001b[38;5;28;01mfor\u001b[39;00m xseq, yseq \u001b[38;5;129;01min\u001b[39;00m train_data:\n\u001b[0;32m--> 318\u001b[0m     \u001b[43mtrainer\u001b[49m\u001b[38;5;241;43m.\u001b[39;49m\u001b[43mappend\u001b[49m\u001b[43m(\u001b[49m\u001b[43mxseq\u001b[49m\u001b[43m,\u001b[49m\u001b[43m \u001b[49m\u001b[43myseq\u001b[49m\u001b[43m)\u001b[49m\n\u001b[1;32m    320\u001b[0m \u001b[38;5;28;01mif\u001b[39;00m \u001b[38;5;28mself\u001b[39m\u001b[38;5;241m.\u001b[39mverbose:\n\u001b[1;32m    321\u001b[0m     \u001b[38;5;28mprint\u001b[39m(\u001b[38;5;124m\"\u001b[39m\u001b[38;5;124m\"\u001b[39m)\n",
      "File \u001b[0;32m/opt/conda/lib/python3.10/site-packages/pycrfsuite/_pycrfsuite.pyx:312\u001b[0m, in \u001b[0;36mpycrfsuite._pycrfsuite.BaseTrainer.append\u001b[0;34m()\u001b[0m\n",
      "File \u001b[0;32m<stringsource>:48\u001b[0m, in \u001b[0;36mvector.from_py.__pyx_convert_vector_from_py_std_3a__3a_string\u001b[0;34m()\u001b[0m\n",
      "File \u001b[0;32m<stringsource>:15\u001b[0m, in \u001b[0;36mstring.from_py.__pyx_convert_string_from_py_6libcpp_6string_std__in_string\u001b[0;34m()\u001b[0m\n",
      "\u001b[0;31mTypeError\u001b[0m: expected bytes, numpy.int64 found"
     ]
    }
   ],
   "source": [
    "# Train CRF\n",
    "crf.fit(crf_train_tokens, crf_train_labels)\n",
    "# Save the trained model\n",
    "crf.save(MODELS_PATH + \"/crf_model.bin\")"
   ]
  },
  {
   "cell_type": "code",
   "execution_count": null,
   "id": "a4900565",
   "metadata": {
    "execution": {
     "iopub.status.busy": "2024-12-06T21:17:25.383458Z",
     "iopub.status.idle": "2024-12-06T21:17:25.384057Z",
     "shell.execute_reply": "2024-12-06T21:17:25.383797Z",
     "shell.execute_reply.started": "2024-12-06T21:17:25.383757Z"
    },
    "papermill": {
     "duration": null,
     "end_time": null,
     "exception": null,
     "start_time": null,
     "status": "pending"
    },
    "tags": []
   },
   "outputs": [],
   "source": [
    "# Predict using CRF\n",
    "test = \"I want a pizza seafood with olives and a can of coke\".split()\n",
    "print(test)\n",
    "crf_predictions = crf.predict([test])\n",
    "print(crf_predictions)"
   ]
  },
  {
   "cell_type": "code",
   "execution_count": null,
   "id": "ba4177ce",
   "metadata": {
    "execution": {
     "iopub.status.busy": "2024-12-06T21:17:25.385518Z",
     "iopub.status.idle": "2024-12-06T21:17:25.385983Z",
     "shell.execute_reply": "2024-12-06T21:17:25.385811Z",
     "shell.execute_reply.started": "2024-12-06T21:17:25.385782Z"
    },
    "papermill": {
     "duration": null,
     "end_time": null,
     "exception": null,
     "start_time": null,
     "status": "pending"
    },
    "tags": []
   },
   "outputs": [],
   "source": [
    "# Predict using CRF\n",
    "# crf_predictions = crf.predict(crf_train_tokens)"
   ]
  },
  {
   "cell_type": "code",
   "execution_count": null,
   "id": "0cebe6fb",
   "metadata": {
    "execution": {
     "iopub.status.busy": "2024-12-06T21:17:25.387452Z",
     "iopub.status.idle": "2024-12-06T21:17:25.387942Z",
     "shell.execute_reply": "2024-12-06T21:17:25.387689Z",
     "shell.execute_reply.started": "2024-12-06T21:17:25.387659Z"
    },
    "papermill": {
     "duration": null,
     "end_time": null,
     "exception": null,
     "start_time": null,
     "status": "pending"
    },
    "tags": []
   },
   "outputs": [],
   "source": [
    "true_dev_labels = []\n",
    "tokens_dev = []\n",
    "for i in range(len(df_dev['top'])):\n",
    "    true_dev_labels.append(extract_labels(df_dev['top'][i], entities))\n",
    "    tokens_dev.append(df_dev['src'][i].split())"
   ]
  },
  {
   "cell_type": "code",
   "execution_count": null,
   "id": "460e5053",
   "metadata": {
    "execution": {
     "iopub.status.busy": "2024-12-06T21:17:25.389821Z",
     "iopub.status.idle": "2024-12-06T21:17:25.390217Z",
     "shell.execute_reply": "2024-12-06T21:17:25.390057Z",
     "shell.execute_reply.started": "2024-12-06T21:17:25.390038Z"
    },
    "papermill": {
     "duration": null,
     "end_time": null,
     "exception": null,
     "start_time": null,
     "status": "pending"
    },
    "tags": []
   },
   "outputs": [],
   "source": [
    "crf_predictions = crf.predict(tokens_dev)"
   ]
  },
  {
   "cell_type": "markdown",
   "id": "c2ec68f0",
   "metadata": {
    "papermill": {
     "duration": null,
     "end_time": null,
     "exception": null,
     "start_time": null,
     "status": "pending"
    },
    "tags": []
   },
   "source": [
    "## IS CRF Model Evaluation\n",
    "#### Calculate Exact Match (EM) accuracy, Compute Precision, Recall, F1-Score"
   ]
  },
  {
   "cell_type": "code",
   "execution_count": null,
   "id": "794ee678",
   "metadata": {
    "execution": {
     "iopub.status.busy": "2024-12-06T21:17:25.391829Z",
     "iopub.status.idle": "2024-12-06T21:17:25.392217Z",
     "shell.execute_reply": "2024-12-06T21:17:25.392055Z",
     "shell.execute_reply.started": "2024-12-06T21:17:25.392036Z"
    },
    "papermill": {
     "duration": null,
     "end_time": null,
     "exception": null,
     "start_time": null,
     "status": "pending"
    },
    "tags": []
   },
   "outputs": [],
   "source": [
    "# Flatten true labels and predictions\n",
    "flattened_true_labels = [label for sublist in true_dev_labels for label in sublist]\n",
    "flattened_pred_labels = [label for sublist in crf_predictions for label in sublist]\n",
    "\n",
    "em_accuracy = accuracy_score(flattened_true_labels, flattened_pred_labels)\n",
    "precision = precision_score(flattened_true_labels, flattened_pred_labels, average='macro')\n",
    "recall = recall_score(flattened_true_labels, flattened_pred_labels, average='macro')\n",
    "f1 = f1_score(flattened_true_labels, flattened_pred_labels, average='macro')\n",
    "\n",
    "print(f\"Exact Match Accuracy: {em_accuracy:.5f}\")\n",
    "print(f\"Precision: {precision:.5f}\")\n",
    "print(f\"Recall: {recall:.5f}\")\n",
    "print(f\"F1-Score: {f1:.5f}\")\n"
   ]
  },
  {
   "cell_type": "markdown",
   "id": "f46a3fdc",
   "metadata": {
    "papermill": {
     "duration": null,
     "end_time": null,
     "exception": null,
     "start_time": null,
     "status": "pending"
    },
    "tags": []
   },
   "source": [
    "## LSTM"
   ]
  },
  {
   "cell_type": "code",
   "execution_count": null,
   "id": "b5a4e1ca",
   "metadata": {
    "execution": {
     "iopub.status.busy": "2024-12-06T21:17:25.393939Z",
     "iopub.status.idle": "2024-12-06T21:17:25.394541Z",
     "shell.execute_reply": "2024-12-06T21:17:25.394261Z",
     "shell.execute_reply.started": "2024-12-06T21:17:25.394232Z"
    },
    "papermill": {
     "duration": null,
     "end_time": null,
     "exception": null,
     "start_time": null,
     "status": "pending"
    },
    "tags": []
   },
   "outputs": [],
   "source": [
    "# Define the LSTM model\n",
    "class LSTMModel(torch.nn.Module):\n",
    "    def __init__(self, input_size, hidden_size, output_size, num_layers=1):\n",
    "        super(LSTMModel, self).__init__()\n",
    "        self.hidden_size = hidden_size\n",
    "        self.num_layers = num_layers\n",
    "        self.lstm = torch.nn.LSTM(input_size, hidden_size, num_layers, batch_first=True)\n",
    "        self.fc = torch.nn.Linear(hidden_size, output_size)\n",
    "\n",
    "    def forward(self, x):\n",
    "        h0 = torch.zeros(self.num_layers, x.size(0), self.hidden_size).to(device)\n",
    "        c0 = torch.zeros(self.num_layers, x.size(0), self.hidden_size).to(device)\n",
    "        out, _ = self.lstm(x, (h0, c0))\n",
    "        out = self.fc(out[:, -1, :])\n",
    "        return out\n",
    "\n",
    "# Hyperparameters\n",
    "input_size = 10  # Adjust based on your data\n",
    "hidden_size = 256\n",
    "output_size = 1  # Adjust based on your data\n",
    "num_layers = 4\n",
    "num_epochs = 50\n",
    "learning_rate = 0.001\n",
    "\n",
    "# Initialize the model, loss function, and optimizer\n",
    "model = LSTMModel(input_size, hidden_size, output_size, num_layers).to(device)\n",
    "criterion = torch.nn.MSELoss()  # Adjust based on your task\n",
    "optimizer = torch.optim.Adam(model.parameters(), lr=learning_rate)\n",
    "\n",
    "# Dummy data for illustration (replace with your actual data)\n",
    "x_train = torch.randn(100, 10, input_size).to(device)  # (batch_size, sequence_length, input_size)\n",
    "y_train = torch.randn(100, output_size).to(device)  # (batch_size, output_size)\n",
    "\n",
    "# Training loop\n",
    "for epoch in range(num_epochs):\n",
    "    model.train()\n",
    "    outputs = model(x_train)\n",
    "    optimizer.zero_grad()\n",
    "    loss = criterion(outputs, y_train)\n",
    "    loss.backward()\n",
    "    optimizer.step()\n",
    "    \n",
    "    if (epoch+1) % 5 == 0:\n",
    "        print(f'Epoch [{epoch+1}/{num_epochs}], Loss: {loss.item():.4f}')"
   ]
  },
  {
   "cell_type": "markdown",
   "id": "b82e18dc",
   "metadata": {
    "papermill": {
     "duration": null,
     "end_time": null,
     "exception": null,
     "start_time": null,
     "status": "pending"
    },
    "tags": []
   },
   "source": [
    "# Model Evaluation"
   ]
  },
  {
   "cell_type": "code",
   "execution_count": null,
   "id": "21aab6bf",
   "metadata": {
    "papermill": {
     "duration": null,
     "end_time": null,
     "exception": null,
     "start_time": null,
     "status": "pending"
    },
    "tags": []
   },
   "outputs": [],
   "source": []
  }
 ],
 "metadata": {
  "kaggle": {
   "accelerator": "none",
   "dataSources": [
    {
     "datasetId": 6200837,
     "sourceId": 10062018,
     "sourceType": "datasetVersion"
    }
   ],
   "dockerImageVersionId": 30787,
   "isGpuEnabled": false,
   "isInternetEnabled": true,
   "language": "python",
   "sourceType": "notebook"
  },
  "kernelspec": {
   "display_name": "Python 3",
   "language": "python",
   "name": "python3"
  },
  "language_info": {
   "codemirror_mode": {
    "name": "ipython",
    "version": 3
   },
   "file_extension": ".py",
   "mimetype": "text/x-python",
   "name": "python",
   "nbconvert_exporter": "python",
   "pygments_lexer": "ipython3",
   "version": "3.10.14"
  },
  "papermill": {
   "default_parameters": {},
   "duration": 165.607205,
   "end_time": "2024-12-06T21:26:37.564941",
   "environment_variables": {},
   "exception": true,
   "input_path": "__notebook__.ipynb",
   "output_path": "__notebook__.ipynb",
   "parameters": {},
   "start_time": "2024-12-06T21:23:51.957736",
   "version": "2.6.0"
  }
 },
 "nbformat": 4,
 "nbformat_minor": 5
}
