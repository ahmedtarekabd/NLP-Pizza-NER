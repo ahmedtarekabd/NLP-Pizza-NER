{
 "cells": [
  {
   "cell_type": "markdown",
   "metadata": {},
   "source": [
    "# Read Json data and convert it to parqet format"
   ]
  },
  {
   "cell_type": "code",
   "execution_count": null,
   "metadata": {},
   "outputs": [],
   "source": [
    "import pandas as pd\n",
    "\n",
    "# Load JSON dataset\n",
    "df = pd.read_json('/kaggle/input/your-dataset-folder/dataset.json')\n",
    "\n",
    "# Save as Parquet\n",
    "df.to_parquet('/kaggle/working/dataset.parquet', index=False)\n",
    "\n",
    "print(\"JSON converted to Parquet!\")\n"
   ]
  },
  {
   "cell_type": "markdown",
   "metadata": {},
   "source": [
    "# Split Test and Train Data"
   ]
  },
  {
   "cell_type": "code",
   "execution_count": null,
   "metadata": {},
   "outputs": [],
   "source": [
    "import pandas as pd\n",
    "from sklearn.model_selection import train_test_split\n",
    "\n",
    "# Load your dataset\n",
    "df = pd.read_json('/kaggle/input/your-dataset-folder/dataset.json')\n",
    "\n",
    "# Shuffle the dataset\n",
    "df = df.sample(frac=1, random_state=42).reset_index(drop=True)\n",
    "\n",
    "# Define features and target\n",
    "X = df['train.SRC']  # Replace with your actual feature columns\n",
    "Y = df['train.TOP']  # Replace with your actual target column\n",
    "\n",
    "# Split into train and test sets\n",
    "X_train, X_test, y_train, y_test = train_test_split(X, Y, test_size=0.2, random_state=42)\n",
    "\n",
    "print(\"Data shuffled and split into training and testing sets.\")\n"
   ]
  },
  {
   "cell_type": "markdown",
   "metadata": {},
   "source": [
    "# Save Test and Train data"
   ]
  },
  {
   "cell_type": "code",
   "execution_count": null,
   "metadata": {},
   "outputs": [],
   "source": [
    "# Combine X_train and y_train into a single DataFrame\n",
    "train_df = pd.DataFrame({'src': X_train, 'top': y_train})\n",
    "test_df = pd.DataFrame({'src': X_test, 'top': y_test})\n",
    "\n",
    "# Save to the dataset folder\n",
    "train_df.to_parquet('/kaggle/working/train.parquet', index=False)\n",
    "test_df.to_parquet('/kaggle/working/test.parquet', index=False)\n",
    "\n",
    "print(\"Train and test datasets saved as Parquet files.\")\n"
   ]
  }
 ],
 "metadata": {
  "kernelspec": {
   "display_name": "base",
   "language": "python",
   "name": "python3"
  },
  "language_info": {
   "name": "python",
   "version": "3.12.4"
  }
 },
 "nbformat": 4,
 "nbformat_minor": 2
}
