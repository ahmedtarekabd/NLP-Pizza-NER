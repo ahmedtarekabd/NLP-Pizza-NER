{
 "cells": [
  {
   "cell_type": "markdown",
   "metadata": {},
   "source": [
    "# Setup"
   ]
  },
  {
   "cell_type": "markdown",
   "metadata": {},
   "source": [
    "## Imports"
   ]
  },
  {
   "cell_type": "code",
   "execution_count": 85,
   "metadata": {
    "execution": {
     "iopub.execute_input": "2024-12-06T21:15:23.707922Z",
     "iopub.status.busy": "2024-12-06T21:15:23.707431Z",
     "iopub.status.idle": "2024-12-06T21:15:24.499569Z",
     "shell.execute_reply": "2024-12-06T21:15:24.498371Z",
     "shell.execute_reply.started": "2024-12-06T21:15:23.707878Z"
    },
    "trusted": true
   },
   "outputs": [
    {
     "name": "stderr",
     "output_type": "stream",
     "text": [
      "[nltk_data] Downloading package punkt to\n",
      "[nltk_data]     C:\\Users\\ahmed\\AppData\\Roaming\\nltk_data...\n",
      "[nltk_data]   Package punkt is already up-to-date!\n",
      "[nltk_data] Downloading package wordnet to\n",
      "[nltk_data]     C:\\Users\\ahmed\\AppData\\Roaming\\nltk_data...\n",
      "[nltk_data]   Package wordnet is already up-to-date!\n",
      "[nltk_data] Downloading package averaged_perceptron_tagger_eng to\n",
      "[nltk_data]     C:\\Users\\ahmed\\AppData\\Roaming\\nltk_data...\n",
      "[nltk_data]   Package averaged_perceptron_tagger_eng is already up-to-\n",
      "[nltk_data]       date!\n"
     ]
    }
   ],
   "source": [
    "# General\n",
    "import numpy as np\n",
    "import pandas as pd\n",
    "import matplotlib.pyplot as plt\n",
    "import seaborn as sns\n",
    "import string\n",
    "import re\n",
    "import os\n",
    "import json\n",
    "import tqdm\n",
    "import pickle\n",
    "import gc\n",
    "import psutil\n",
    "from typing import Literal\n",
    "\n",
    "# Preprocessing\n",
    "from sklearn.preprocessing import LabelEncoder\n",
    "from sklearn.feature_extraction.text import TfidfVectorizer\n",
    "from gensim.models import Word2Vec\n",
    "\n",
    "import nltk\n",
    "from nltk.stem import WordNetLemmatizer\n",
    "from nltk.tokenize import word_tokenize, regexp_tokenize\n",
    "# Download necessary NLTK data files\n",
    "nltk.download('punkt')\n",
    "nltk.download('wordnet')\n",
    "nltk.download('averaged_perceptron_tagger_eng')\n",
    "\n",
    "# Models\n",
    "from sklearn_crfsuite import CRF\n",
    "import torch\n",
    "\n",
    "# Evaluation metrics\n",
    "from sklearn.metrics import accuracy_score, precision_score, recall_score, f1_score"
   ]
  },
  {
   "cell_type": "code",
   "execution_count": 86,
   "metadata": {
    "execution": {
     "iopub.execute_input": "2024-12-06T21:15:24.501227Z",
     "iopub.status.busy": "2024-12-06T21:15:24.500901Z",
     "iopub.status.idle": "2024-12-06T21:15:24.508190Z",
     "shell.execute_reply": "2024-12-06T21:15:24.507183Z",
     "shell.execute_reply.started": "2024-12-06T21:15:24.501195Z"
    },
    "trusted": true
   },
   "outputs": [
    {
     "data": {
      "text/plain": [
       "device(type='cuda')"
      ]
     },
     "execution_count": 86,
     "metadata": {},
     "output_type": "execute_result"
    }
   ],
   "source": [
    "device = torch.device(\"cuda\" if torch.cuda.is_available() else \"cpu\")\n",
    "device"
   ]
  },
  {
   "cell_type": "markdown",
   "metadata": {},
   "source": [
    "## Config"
   ]
  },
  {
   "cell_type": "code",
   "execution_count": 87,
   "metadata": {
    "execution": {
     "iopub.execute_input": "2024-12-06T21:15:24.510775Z",
     "iopub.status.busy": "2024-12-06T21:15:24.510375Z",
     "iopub.status.idle": "2024-12-06T21:15:24.519935Z",
     "shell.execute_reply": "2024-12-06T21:15:24.518949Z",
     "shell.execute_reply.started": "2024-12-06T21:15:24.510724Z"
    },
    "trusted": true
   },
   "outputs": [],
   "source": [
    "pd.set_option('display.max_colwidth', 1000) # Show all content of the cells\n",
    "# # Undo with \n",
    "# pd.reset_option('display.max_colwidth')\n",
    "\n",
    "# config tqdm for pandas\n",
    "tqdm.tqdm.pandas()"
   ]
  },
  {
   "cell_type": "markdown",
   "metadata": {},
   "source": [
    "### Folder Paths"
   ]
  },
  {
   "cell_type": "code",
   "execution_count": null,
   "metadata": {
    "execution": {
     "iopub.execute_input": "2024-12-06T21:15:24.521946Z",
     "iopub.status.busy": "2024-12-06T21:15:24.521548Z",
     "iopub.status.idle": "2024-12-06T21:15:24.536599Z",
     "shell.execute_reply": "2024-12-06T21:15:24.535333Z",
     "shell.execute_reply.started": "2024-12-06T21:15:24.521912Z"
    },
    "trusted": true
   },
   "outputs": [],
   "source": [
    "DATASET_PATH = \"/kaggle/input/pizza-dataset/dataset\" # Kaggle\n",
    "DATASET_PATH = \"./data/dataset\" # Local\n",
    "\n",
    "OUTPUT_ROOT_PATH = \"/kaggle/working\" # Kaggle\n",
    "OUTPUT_ROOT_PATH = \"./data/saved\" # Local\n",
    "\n",
    "FEATURES_PATH = OUTPUT_ROOT_PATH + \"/features\"\n",
    "MODELS_PATH = OUTPUT_ROOT_PATH + \"/models\"\n"
   ]
  },
  {
   "cell_type": "code",
   "execution_count": 89,
   "metadata": {
    "execution": {
     "iopub.execute_input": "2024-12-06T21:15:24.537932Z",
     "iopub.status.busy": "2024-12-06T21:15:24.537580Z",
     "iopub.status.idle": "2024-12-06T21:15:26.138775Z",
     "shell.execute_reply": "2024-12-06T21:15:26.137003Z",
     "shell.execute_reply.started": "2024-12-06T21:15:24.537899Z"
    },
    "trusted": true
   },
   "outputs": [],
   "source": [
    "os.makedirs(OUTPUT_ROOT_PATH, exist_ok=True)\n",
    "os.makedirs(FEATURES_PATH, exist_ok=True)\n",
    "os.makedirs(MODELS_PATH, exist_ok=True)\n",
    "\n",
    "# os.rmdir(OUTPUT_ROOT_PATH)\n",
    "# os.rmdir(FEATURES_PATH)\n",
    "# os.rmdir(MODELS_PATH)"
   ]
  },
  {
   "cell_type": "markdown",
   "metadata": {},
   "source": [
    "### Variables"
   ]
  },
  {
   "cell_type": "code",
   "execution_count": 90,
   "metadata": {
    "execution": {
     "iopub.execute_input": "2024-12-06T21:15:26.141168Z",
     "iopub.status.busy": "2024-12-06T21:15:26.140759Z",
     "iopub.status.idle": "2024-12-06T21:15:26.147194Z",
     "shell.execute_reply": "2024-12-06T21:15:26.145949Z",
     "shell.execute_reply.started": "2024-12-06T21:15:26.141125Z"
    },
    "trusted": true
   },
   "outputs": [],
   "source": [
    "token_pattern=r\"(?u)\\b\\w+(?:'\\w+)?(?:-\\w+)*\\b\""
   ]
  },
  {
   "cell_type": "markdown",
   "metadata": {},
   "source": [
    "# Utils"
   ]
  },
  {
   "cell_type": "code",
   "execution_count": 91,
   "metadata": {},
   "outputs": [
    {
     "name": "stdout",
     "output_type": "stream",
     "text": [
      "Starting with Memory Usage = 3196.10546875\n"
     ]
    }
   ],
   "source": [
    "process = psutil.Process(os.getpid())\n",
    "def memory_usage():\n",
    "    return (process.memory_info().rss / 1024 ** 2)\n",
    "\n",
    "print(f\"Starting with Memory Usage = {memory_usage()}\")"
   ]
  },
  {
   "cell_type": "code",
   "execution_count": null,
   "metadata": {},
   "outputs": [],
   "source": [
    "def save_pickle(path, obj, type: Literal[\"model\", \"feature\"] | None = None):\n",
    "    if type is not None:\n",
    "        if type == \"model\":\n",
    "            path = MODELS_PATH + \"/\" + path\n",
    "        elif type == \"feature\":\n",
    "            path = FEATURES_PATH + \"/\" + path\n",
    "    with open (path, 'wb') as f:\n",
    "        pickle.dump(obj, f)\n",
    "\n",
    "def load_pickle(path, type: Literal[\"model\", \"feature\"] | None = None):\n",
    "    if type is not None:\n",
    "        if type == \"model\":\n",
    "            path = MODELS_PATH + \"/\" + path\n",
    "        elif type == \"feature\":\n",
    "            path = FEATURES_PATH + \"/\" + path\n",
    "    with open(path, 'rb') as f:\n",
    "        return pickle.load(f)\n",
    "    \n",
    "def save_np(path, obj, type: Literal[\"model\", \"feature\"] | None = None, allow_pickle=True):\n",
    "    if type is not None:\n",
    "        if type == \"model\":\n",
    "            path = MODELS_PATH + \"/\" + path\n",
    "        elif type == \"feature\":\n",
    "            path = FEATURES_PATH + \"/\" + path\n",
    "    np.save(path, obj, allow_pickle=allow_pickle)\n",
    "\n",
    "def load_np(path, type: Literal[\"model\", \"feature\"] | None = None, allow_pickle=True):\n",
    "    if type is not None:\n",
    "        if type == \"model\":\n",
    "            path = MODELS_PATH + \"/\" + path\n",
    "        elif type == \"feature\":\n",
    "            path = FEATURES_PATH + \"/\" + path\n",
    "\n",
    "    return np.load(path, allow_pickle=allow_pickle)"
   ]
  },
  {
   "cell_type": "code",
   "execution_count": 121,
   "metadata": {},
   "outputs": [],
   "source": [
    "def file_exists(path):\n",
    "    return os.path.exists(path)"
   ]
  },
  {
   "cell_type": "markdown",
   "metadata": {},
   "source": [
    "# Load Dataset"
   ]
  },
  {
   "cell_type": "code",
   "execution_count": 93,
   "metadata": {},
   "outputs": [
    {
     "data": {
      "text/html": [
       "<div>\n",
       "<style scoped>\n",
       "    .dataframe tbody tr th:only-of-type {\n",
       "        vertical-align: middle;\n",
       "    }\n",
       "\n",
       "    .dataframe tbody tr th {\n",
       "        vertical-align: top;\n",
       "    }\n",
       "\n",
       "    .dataframe thead th {\n",
       "        text-align: right;\n",
       "    }\n",
       "</style>\n",
       "<table border=\"1\" class=\"dataframe\">\n",
       "  <thead>\n",
       "    <tr style=\"text-align: right;\">\n",
       "      <th></th>\n",
       "      <th>train.SRC</th>\n",
       "      <th>train.TOP</th>\n",
       "    </tr>\n",
       "  </thead>\n",
       "  <tbody>\n",
       "    <tr>\n",
       "      <th>0</th>\n",
       "      <td>can i have a large bbq pulled pork</td>\n",
       "      <td>(ORDER can i have (PIZZAORDER (NUMBER a ) (SIZE large ) (TOPPING bbq pulled pork ) ) )</td>\n",
       "    </tr>\n",
       "    <tr>\n",
       "      <th>1</th>\n",
       "      <td>large pie with green pepper and with extra peperonni</td>\n",
       "      <td>(ORDER (PIZZAORDER (SIZE large ) pie with (TOPPING green pepper ) and with (COMPLEX_TOPPING (QUANTITY extra ) (TOPPING peperonni ) ) ) )</td>\n",
       "    </tr>\n",
       "    <tr>\n",
       "      <th>2</th>\n",
       "      <td>i'd like a large vegetarian pizza</td>\n",
       "      <td>(ORDER i'd like (PIZZAORDER (NUMBER a ) (SIZE large ) (STYLE vegetarian ) pizza ) )</td>\n",
       "    </tr>\n",
       "    <tr>\n",
       "      <th>3</th>\n",
       "      <td>party size stuffed crust pie with american cheese and with mushroom</td>\n",
       "      <td>(ORDER (PIZZAORDER (SIZE party size ) (STYLE stuffed crust ) pie with (TOPPING american cheese ) and with (TOPPING mushroom ) ) )</td>\n",
       "    </tr>\n",
       "    <tr>\n",
       "      <th>4</th>\n",
       "      <td>can i have one personal sized artichoke</td>\n",
       "      <td>(ORDER can i have (PIZZAORDER (NUMBER one ) (SIZE personal sized ) (TOPPING artichoke ) ) )</td>\n",
       "    </tr>\n",
       "  </tbody>\n",
       "</table>\n",
       "</div>"
      ],
      "text/plain": [
       "                                                             train.SRC  \\\n",
       "0                                   can i have a large bbq pulled pork   \n",
       "1                 large pie with green pepper and with extra peperonni   \n",
       "2                                    i'd like a large vegetarian pizza   \n",
       "3  party size stuffed crust pie with american cheese and with mushroom   \n",
       "4                              can i have one personal sized artichoke   \n",
       "\n",
       "                                                                                                                                  train.TOP  \n",
       "0                                                    (ORDER can i have (PIZZAORDER (NUMBER a ) (SIZE large ) (TOPPING bbq pulled pork ) ) )  \n",
       "1  (ORDER (PIZZAORDER (SIZE large ) pie with (TOPPING green pepper ) and with (COMPLEX_TOPPING (QUANTITY extra ) (TOPPING peperonni ) ) ) )  \n",
       "2                                                       (ORDER i'd like (PIZZAORDER (NUMBER a ) (SIZE large ) (STYLE vegetarian ) pizza ) )  \n",
       "3         (ORDER (PIZZAORDER (SIZE party size ) (STYLE stuffed crust ) pie with (TOPPING american cheese ) and with (TOPPING mushroom ) ) )  \n",
       "4                                               (ORDER can i have (PIZZAORDER (NUMBER one ) (SIZE personal sized ) (TOPPING artichoke ) ) )  "
      ]
     },
     "execution_count": 93,
     "metadata": {},
     "output_type": "execute_result"
    }
   ],
   "source": [
    "def load_json(filename: str, cols: list[str] | None = None):\n",
    "    \"\"\"\n",
    "    Load a json file into a pandas DataFrame.\n",
    "    * This function is useful (for some reason) for loading the large dataset files.\n",
    "    \n",
    "    filename: str\n",
    "        The name of the file to load.\n",
    "    cols: list[str] | None\n",
    "        The columns to load. If None, load all columns.\n",
    "    return: pd.DataFrame\n",
    "        The DataFrame containing the data from the json file.\n",
    "    \"\"\"\n",
    "    all_cols = True if cols is None else False\n",
    "    data = []\n",
    "\n",
    "    with open(filename, encoding='latin-1') as f:\n",
    "        line = f.readline()\n",
    "        f.seek(0) # Go back to the beginning of the file\n",
    "        doc = json.loads(line)\n",
    "        if all_cols:\n",
    "            cols = list(doc.keys())\n",
    "        \n",
    "        for line in f:\n",
    "            doc = json.loads(line)\n",
    "            lst = [doc[col] for col in cols]\n",
    "            data.append(lst)\n",
    "\n",
    "    df = pd.DataFrame(data=data, columns=cols)\n",
    "    return df\n",
    "\n",
    "train_filename = DATASET_PATH + '/PIZZA_train.json'\n",
    "df_train = load_json(train_filename, cols=['train.SRC', 'train.TOP'])\n",
    "df_train.head()"
   ]
  },
  {
   "cell_type": "code",
   "execution_count": 94,
   "metadata": {
    "execution": {
     "iopub.execute_input": "2024-12-06T21:15:26.149347Z",
     "iopub.status.busy": "2024-12-06T21:15:26.148962Z",
     "iopub.status.idle": "2024-12-06T21:15:26.180314Z",
     "shell.execute_reply": "2024-12-06T21:15:26.179098Z",
     "shell.execute_reply.started": "2024-12-06T21:15:26.149312Z"
    },
    "trusted": true
   },
   "outputs": [
    {
     "data": {
      "text/html": [
       "<div>\n",
       "<style scoped>\n",
       "    .dataframe tbody tr th:only-of-type {\n",
       "        vertical-align: middle;\n",
       "    }\n",
       "\n",
       "    .dataframe tbody tr th {\n",
       "        vertical-align: top;\n",
       "    }\n",
       "\n",
       "    .dataframe thead th {\n",
       "        text-align: right;\n",
       "    }\n",
       "</style>\n",
       "<table border=\"1\" class=\"dataframe\">\n",
       "  <thead>\n",
       "    <tr style=\"text-align: right;\">\n",
       "      <th></th>\n",
       "      <th>dev.SRC</th>\n",
       "      <th>dev.TOP</th>\n",
       "    </tr>\n",
       "  </thead>\n",
       "  <tbody>\n",
       "    <tr>\n",
       "      <th>0</th>\n",
       "      <td>i want to order two medium pizzas with sausage and black olives and two medium pizzas with pepperoni and extra cheese and three large pizzas with pepperoni and sausage</td>\n",
       "      <td>(ORDER i want to order (PIZZAORDER (NUMBER two ) (SIZE medium ) pizzas with (TOPPING sausage ) and (TOPPING black olives ) ) and (PIZZAORDER (NUMBER two ) (SIZE medium ) pizzas with (TOPPING pepperoni ) and (COMPLEX_TOPPING (QUANTITY extra ) (TOPPING cheese ) ) ) and (PIZZAORDER (NUMBER three ) (SIZE large ) pizzas with (TOPPING pepperoni ) and (TOPPING sausage ) ) )</td>\n",
       "    </tr>\n",
       "    <tr>\n",
       "      <th>1</th>\n",
       "      <td>five medium pizzas with tomatoes and ham</td>\n",
       "      <td>(ORDER (PIZZAORDER (NUMBER five ) (SIZE medium ) pizzas with (TOPPING tomatoes ) and (TOPPING ham ) ) )</td>\n",
       "    </tr>\n",
       "    <tr>\n",
       "      <th>2</th>\n",
       "      <td>i need to order one large vegetarian pizza with extra banana peppers</td>\n",
       "      <td>(ORDER i need to order (PIZZAORDER (NUMBER one ) (SIZE large ) (STYLE vegetarian ) pizza with (COMPLEX_TOPPING (QUANTITY extra ) (TOPPING banana peppers ) ) ) )</td>\n",
       "    </tr>\n",
       "    <tr>\n",
       "      <th>3</th>\n",
       "      <td>i'd like to order a large onion and pepper pizza</td>\n",
       "      <td>(ORDER i'd like to order (PIZZAORDER (NUMBER a ) (SIZE large ) (TOPPING onion ) and (TOPPING pepper ) pizza ) )</td>\n",
       "    </tr>\n",
       "    <tr>\n",
       "      <th>4</th>\n",
       "      <td>i'll have one pie along with pesto and ham but avoid olives</td>\n",
       "      <td>(ORDER i'll have (PIZZAORDER (NUMBER one ) pie along with (TOPPING pesto ) and (TOPPING ham ) but avoid (NOT (TOPPING olives ) ) ) )</td>\n",
       "    </tr>\n",
       "  </tbody>\n",
       "</table>\n",
       "</div>"
      ],
      "text/plain": [
       "                                                                                                                                                                   dev.SRC  \\\n",
       "0  i want to order two medium pizzas with sausage and black olives and two medium pizzas with pepperoni and extra cheese and three large pizzas with pepperoni and sausage   \n",
       "1                                                                                                                                 five medium pizzas with tomatoes and ham   \n",
       "2                                                                                                     i need to order one large vegetarian pizza with extra banana peppers   \n",
       "3                                                                                                                         i'd like to order a large onion and pepper pizza   \n",
       "4                                                                                                              i'll have one pie along with pesto and ham but avoid olives   \n",
       "\n",
       "                                                                                                                                                                                                                                                                                                                                                                             dev.TOP  \n",
       "0  (ORDER i want to order (PIZZAORDER (NUMBER two ) (SIZE medium ) pizzas with (TOPPING sausage ) and (TOPPING black olives ) ) and (PIZZAORDER (NUMBER two ) (SIZE medium ) pizzas with (TOPPING pepperoni ) and (COMPLEX_TOPPING (QUANTITY extra ) (TOPPING cheese ) ) ) and (PIZZAORDER (NUMBER three ) (SIZE large ) pizzas with (TOPPING pepperoni ) and (TOPPING sausage ) ) )  \n",
       "1                                                                                                                                                                                                                                                                            (ORDER (PIZZAORDER (NUMBER five ) (SIZE medium ) pizzas with (TOPPING tomatoes ) and (TOPPING ham ) ) )  \n",
       "2                                                                                                                                                                                                                   (ORDER i need to order (PIZZAORDER (NUMBER one ) (SIZE large ) (STYLE vegetarian ) pizza with (COMPLEX_TOPPING (QUANTITY extra ) (TOPPING banana peppers ) ) ) )  \n",
       "3                                                                                                                                                                                                                                                                    (ORDER i'd like to order (PIZZAORDER (NUMBER a ) (SIZE large ) (TOPPING onion ) and (TOPPING pepper ) pizza ) )  \n",
       "4                                                                                                                                                                                                                                               (ORDER i'll have (PIZZAORDER (NUMBER one ) pie along with (TOPPING pesto ) and (TOPPING ham ) but avoid (NOT (TOPPING olives ) ) ) )  "
      ]
     },
     "execution_count": 94,
     "metadata": {},
     "output_type": "execute_result"
    }
   ],
   "source": [
    "df_dev = pd.read_json(DATASET_PATH + '/PIZZA_dev.json', lines=True)[['dev.SRC', 'dev.TOP']]\n",
    "df_dev.head()"
   ]
  },
  {
   "cell_type": "code",
   "execution_count": 95,
   "metadata": {},
   "outputs": [
    {
     "data": {
      "text/plain": [
       "4239.59375"
      ]
     },
     "execution_count": 95,
     "metadata": {},
     "output_type": "execute_result"
    }
   ],
   "source": [
    "memory_usage()"
   ]
  },
  {
   "cell_type": "markdown",
   "metadata": {},
   "source": [
    "# EDA - Exploratory Data Analysis"
   ]
  },
  {
   "cell_type": "markdown",
   "metadata": {},
   "source": [
    "## Column names"
   ]
  },
  {
   "cell_type": "markdown",
   "metadata": {},
   "source": [
    "- **SRC** \n",
    "    - The source text of the pizza order as given by the user.\n",
    "- **EXR** \n",
    "    - The expected representation of the pizza order in a structured format (likely a parse tree or similar structure).\n",
    "- **TOP** \n",
    "    - The top-level representation of the pizza order, possibly a normalized or tokenized version of the source text.\n",
    "- **PCFG_ERR** \n",
    "    - A boolean indicating whether there was an error in parsing the pizza order using a Probabilistic Context-Free Grammar (PCFG)."
   ]
  },
  {
   "cell_type": "code",
   "execution_count": 96,
   "metadata": {
    "execution": {
     "iopub.execute_input": "2024-12-06T21:15:47.598691Z",
     "iopub.status.busy": "2024-12-06T21:15:47.598305Z",
     "iopub.status.idle": "2024-12-06T21:15:47.606423Z",
     "shell.execute_reply": "2024-12-06T21:15:47.605167Z",
     "shell.execute_reply.started": "2024-12-06T21:15:47.598655Z"
    },
    "trusted": true
   },
   "outputs": [],
   "source": [
    "df_dev.rename(columns={\n",
    "    'dev.SRC': 'src', \n",
    "    'dev.EXR': 'exr',\n",
    "    'dev.TOP': 'top',\n",
    "    'dev.PCFG_ERR': 'pcfg_err',\n",
    "}, inplace=True)\n",
    "df_train.rename(columns={\n",
    "    'train.SRC': 'src', \n",
    "    'train.EXR': 'exr',\n",
    "    'train.TOP': 'top',\n",
    "    'train.TOP-DECOUPLED': 'decoupled',\n",
    "}, inplace=True)"
   ]
  },
  {
   "cell_type": "markdown",
   "metadata": {},
   "source": [
    "## Check Duplicates & Missing Data"
   ]
  },
  {
   "cell_type": "code",
   "execution_count": 97,
   "metadata": {
    "execution": {
     "iopub.execute_input": "2024-12-06T21:15:47.637294Z",
     "iopub.status.busy": "2024-12-06T21:15:47.636801Z",
     "iopub.status.idle": "2024-12-06T21:16:03.646647Z",
     "shell.execute_reply": "2024-12-06T21:16:03.645342Z",
     "shell.execute_reply.started": "2024-12-06T21:15:47.637243Z"
    },
    "trusted": true
   },
   "outputs": [
    {
     "data": {
      "text/html": [
       "<div>\n",
       "<style scoped>\n",
       "    .dataframe tbody tr th:only-of-type {\n",
       "        vertical-align: middle;\n",
       "    }\n",
       "\n",
       "    .dataframe tbody tr th {\n",
       "        vertical-align: top;\n",
       "    }\n",
       "\n",
       "    .dataframe thead th {\n",
       "        text-align: right;\n",
       "    }\n",
       "</style>\n",
       "<table border=\"1\" class=\"dataframe\">\n",
       "  <thead>\n",
       "    <tr style=\"text-align: right;\">\n",
       "      <th></th>\n",
       "      <th>src</th>\n",
       "      <th>top</th>\n",
       "    </tr>\n",
       "  </thead>\n",
       "  <tbody>\n",
       "    <tr>\n",
       "      <th>count</th>\n",
       "      <td>2456446</td>\n",
       "      <td>2456446</td>\n",
       "    </tr>\n",
       "    <tr>\n",
       "      <th>unique</th>\n",
       "      <td>2456446</td>\n",
       "      <td>2456446</td>\n",
       "    </tr>\n",
       "    <tr>\n",
       "      <th>top</th>\n",
       "      <td>can i have a large bbq pulled pork</td>\n",
       "      <td>(ORDER can i have (PIZZAORDER (NUMBER a ) (SIZE large ) (TOPPING bbq pulled pork ) ) )</td>\n",
       "    </tr>\n",
       "    <tr>\n",
       "      <th>freq</th>\n",
       "      <td>1</td>\n",
       "      <td>1</td>\n",
       "    </tr>\n",
       "  </tbody>\n",
       "</table>\n",
       "</div>"
      ],
      "text/plain": [
       "                                       src  \\\n",
       "count                              2456446   \n",
       "unique                             2456446   \n",
       "top     can i have a large bbq pulled pork   \n",
       "freq                                     1   \n",
       "\n",
       "                                                                                           top  \n",
       "count                                                                                  2456446  \n",
       "unique                                                                                 2456446  \n",
       "top     (ORDER can i have (PIZZAORDER (NUMBER a ) (SIZE large ) (TOPPING bbq pulled pork ) ) )  \n",
       "freq                                                                                         1  "
      ]
     },
     "execution_count": 97,
     "metadata": {},
     "output_type": "execute_result"
    }
   ],
   "source": [
    "df_train.describe()"
   ]
  },
  {
   "cell_type": "code",
   "execution_count": 98,
   "metadata": {
    "execution": {
     "iopub.execute_input": "2024-12-06T21:15:47.608234Z",
     "iopub.status.busy": "2024-12-06T21:15:47.607885Z",
     "iopub.status.idle": "2024-12-06T21:15:47.634416Z",
     "shell.execute_reply": "2024-12-06T21:15:47.633246Z",
     "shell.execute_reply.started": "2024-12-06T21:15:47.608173Z"
    },
    "trusted": true
   },
   "outputs": [
    {
     "data": {
      "text/html": [
       "<div>\n",
       "<style scoped>\n",
       "    .dataframe tbody tr th:only-of-type {\n",
       "        vertical-align: middle;\n",
       "    }\n",
       "\n",
       "    .dataframe tbody tr th {\n",
       "        vertical-align: top;\n",
       "    }\n",
       "\n",
       "    .dataframe thead th {\n",
       "        text-align: right;\n",
       "    }\n",
       "</style>\n",
       "<table border=\"1\" class=\"dataframe\">\n",
       "  <thead>\n",
       "    <tr style=\"text-align: right;\">\n",
       "      <th></th>\n",
       "      <th>src</th>\n",
       "      <th>top</th>\n",
       "    </tr>\n",
       "  </thead>\n",
       "  <tbody>\n",
       "    <tr>\n",
       "      <th>count</th>\n",
       "      <td>348</td>\n",
       "      <td>348</td>\n",
       "    </tr>\n",
       "    <tr>\n",
       "      <th>unique</th>\n",
       "      <td>348</td>\n",
       "      <td>348</td>\n",
       "    </tr>\n",
       "    <tr>\n",
       "      <th>top</th>\n",
       "      <td>i want to order two medium pizzas with sausage and black olives and two medium pizzas with pepperoni and extra cheese and three large pizzas with pepperoni and sausage</td>\n",
       "      <td>(ORDER i want to order (PIZZAORDER (NUMBER two ) (SIZE medium ) pizzas with (TOPPING sausage ) and (TOPPING black olives ) ) and (PIZZAORDER (NUMBER two ) (SIZE medium ) pizzas with (TOPPING pepperoni ) and (COMPLEX_TOPPING (QUANTITY extra ) (TOPPING cheese ) ) ) and (PIZZAORDER (NUMBER three ) (SIZE large ) pizzas with (TOPPING pepperoni ) and (TOPPING sausage ) ) )</td>\n",
       "    </tr>\n",
       "    <tr>\n",
       "      <th>freq</th>\n",
       "      <td>1</td>\n",
       "      <td>1</td>\n",
       "    </tr>\n",
       "  </tbody>\n",
       "</table>\n",
       "</div>"
      ],
      "text/plain": [
       "                                                                                                                                                                            src  \\\n",
       "count                                                                                                                                                                       348   \n",
       "unique                                                                                                                                                                      348   \n",
       "top     i want to order two medium pizzas with sausage and black olives and two medium pizzas with pepperoni and extra cheese and three large pizzas with pepperoni and sausage   \n",
       "freq                                                                                                                                                                          1   \n",
       "\n",
       "                                                                                                                                                                                                                                                                                                                                                                                      top  \n",
       "count                                                                                                                                                                                                                                                                                                                                                                                 348  \n",
       "unique                                                                                                                                                                                                                                                                                                                                                                                348  \n",
       "top     (ORDER i want to order (PIZZAORDER (NUMBER two ) (SIZE medium ) pizzas with (TOPPING sausage ) and (TOPPING black olives ) ) and (PIZZAORDER (NUMBER two ) (SIZE medium ) pizzas with (TOPPING pepperoni ) and (COMPLEX_TOPPING (QUANTITY extra ) (TOPPING cheese ) ) ) and (PIZZAORDER (NUMBER three ) (SIZE large ) pizzas with (TOPPING pepperoni ) and (TOPPING sausage ) ) )  \n",
       "freq                                                                                                                                                                                                                                                                                                                                                                                    1  "
      ]
     },
     "execution_count": 98,
     "metadata": {},
     "output_type": "execute_result"
    }
   ],
   "source": [
    "df_dev.describe()"
   ]
  },
  {
   "cell_type": "code",
   "execution_count": 99,
   "metadata": {
    "execution": {
     "iopub.execute_input": "2024-12-06T21:16:03.664054Z",
     "iopub.status.busy": "2024-12-06T21:16:03.663621Z",
     "iopub.status.idle": "2024-12-06T21:16:03.678697Z",
     "shell.execute_reply": "2024-12-06T21:16:03.677309Z",
     "shell.execute_reply.started": "2024-12-06T21:16:03.664003Z"
    },
    "trusted": true
   },
   "outputs": [
    {
     "name": "stdout",
     "output_type": "stream",
     "text": [
      "<class 'pandas.core.frame.DataFrame'>\n",
      "RangeIndex: 2456446 entries, 0 to 2456445\n",
      "Data columns (total 2 columns):\n",
      " #   Column  Dtype \n",
      "---  ------  ----- \n",
      " 0   src     object\n",
      " 1   top     object\n",
      "dtypes: object(2)\n",
      "memory usage: 37.5+ MB\n"
     ]
    }
   ],
   "source": [
    "df_train.info()"
   ]
  },
  {
   "cell_type": "code",
   "execution_count": 100,
   "metadata": {
    "execution": {
     "iopub.execute_input": "2024-12-06T21:16:03.648692Z",
     "iopub.status.busy": "2024-12-06T21:16:03.648238Z",
     "iopub.status.idle": "2024-12-06T21:16:03.661804Z",
     "shell.execute_reply": "2024-12-06T21:16:03.660177Z",
     "shell.execute_reply.started": "2024-12-06T21:16:03.648644Z"
    },
    "trusted": true
   },
   "outputs": [
    {
     "name": "stdout",
     "output_type": "stream",
     "text": [
      "<class 'pandas.core.frame.DataFrame'>\n",
      "RangeIndex: 348 entries, 0 to 347\n",
      "Data columns (total 2 columns):\n",
      " #   Column  Non-Null Count  Dtype \n",
      "---  ------  --------------  ----- \n",
      " 0   src     348 non-null    object\n",
      " 1   top     348 non-null    object\n",
      "dtypes: object(2)\n",
      "memory usage: 5.6+ KB\n"
     ]
    }
   ],
   "source": [
    "df_dev.info()"
   ]
  },
  {
   "cell_type": "code",
   "execution_count": 101,
   "metadata": {
    "execution": {
     "iopub.execute_input": "2024-12-06T21:16:03.699284Z",
     "iopub.status.busy": "2024-12-06T21:16:03.698921Z",
     "iopub.status.idle": "2024-12-06T21:16:12.232248Z",
     "shell.execute_reply": "2024-12-06T21:16:12.230975Z",
     "shell.execute_reply.started": "2024-12-06T21:16:03.699249Z"
    },
    "trusted": true
   },
   "outputs": [
    {
     "data": {
      "text/plain": [
       "0"
      ]
     },
     "execution_count": 101,
     "metadata": {},
     "output_type": "execute_result"
    }
   ],
   "source": [
    "df_train.duplicated().sum()"
   ]
  },
  {
   "cell_type": "code",
   "execution_count": 102,
   "metadata": {
    "execution": {
     "iopub.execute_input": "2024-12-06T21:16:03.680781Z",
     "iopub.status.busy": "2024-12-06T21:16:03.680350Z",
     "iopub.status.idle": "2024-12-06T21:16:03.697356Z",
     "shell.execute_reply": "2024-12-06T21:16:03.695715Z",
     "shell.execute_reply.started": "2024-12-06T21:16:03.680715Z"
    },
    "trusted": true
   },
   "outputs": [
    {
     "data": {
      "text/plain": [
       "0"
      ]
     },
     "execution_count": 102,
     "metadata": {},
     "output_type": "execute_result"
    }
   ],
   "source": [
    "df_dev.duplicated().sum()"
   ]
  },
  {
   "cell_type": "code",
   "execution_count": 103,
   "metadata": {
    "execution": {
     "iopub.execute_input": "2024-12-06T21:16:12.245994Z",
     "iopub.status.busy": "2024-12-06T21:16:12.245550Z",
     "iopub.status.idle": "2024-12-06T21:16:13.339255Z",
     "shell.execute_reply": "2024-12-06T21:16:13.337712Z",
     "shell.execute_reply.started": "2024-12-06T21:16:12.245932Z"
    },
    "trusted": true
   },
   "outputs": [
    {
     "data": {
      "text/plain": [
       "src    0\n",
       "top    0\n",
       "dtype: int64"
      ]
     },
     "execution_count": 103,
     "metadata": {},
     "output_type": "execute_result"
    }
   ],
   "source": [
    "df_train.isna().sum()"
   ]
  },
  {
   "cell_type": "code",
   "execution_count": 104,
   "metadata": {
    "execution": {
     "iopub.execute_input": "2024-12-06T21:16:12.233952Z",
     "iopub.status.busy": "2024-12-06T21:16:12.233515Z",
     "iopub.status.idle": "2024-12-06T21:16:12.244041Z",
     "shell.execute_reply": "2024-12-06T21:16:12.242713Z",
     "shell.execute_reply.started": "2024-12-06T21:16:12.233916Z"
    },
    "trusted": true
   },
   "outputs": [
    {
     "data": {
      "text/plain": [
       "src    0\n",
       "top    0\n",
       "dtype: int64"
      ]
     },
     "execution_count": 104,
     "metadata": {},
     "output_type": "execute_result"
    }
   ],
   "source": [
    "df_dev.isna().sum()"
   ]
  },
  {
   "cell_type": "markdown",
   "metadata": {},
   "source": [
    "## Data Cleaning"
   ]
  },
  {
   "cell_type": "markdown",
   "metadata": {},
   "source": [
    "Masha2 allah: Data is clean (no punctuation | whitespace)"
   ]
  },
  {
   "cell_type": "code",
   "execution_count": 105,
   "metadata": {
    "execution": {
     "iopub.execute_input": "2024-12-06T21:16:13.340723Z",
     "iopub.status.busy": "2024-12-06T21:16:13.340385Z",
     "iopub.status.idle": "2024-12-06T21:16:13.348365Z",
     "shell.execute_reply": "2024-12-06T21:16:13.347190Z",
     "shell.execute_reply.started": "2024-12-06T21:16:13.340690Z"
    },
    "trusted": true
   },
   "outputs": [
    {
     "data": {
      "text/plain": [
       "'!\"#$%&\\'()*+,-./:;<=>?@[\\\\]^_`{|}~'"
      ]
     },
     "execution_count": 105,
     "metadata": {},
     "output_type": "execute_result"
    }
   ],
   "source": [
    "string.punctuation"
   ]
  },
  {
   "cell_type": "code",
   "execution_count": 106,
   "metadata": {},
   "outputs": [],
   "source": [
    "# Escape all punctuation(special) characters\n",
    "# Grouped for the pd.str.extract() function\n",
    "punctuation_regex = \"(\\\\\" + \"|\\\\\".join(string.punctuation) + \")\" "
   ]
  },
  {
   "cell_type": "code",
   "execution_count": 107,
   "metadata": {},
   "outputs": [
    {
     "data": {
      "text/plain": [
       "0\n",
       "'    737203\n",
       "-    310742\n",
       "Name: count, dtype: int64"
      ]
     },
     "execution_count": 107,
     "metadata": {},
     "output_type": "execute_result"
    }
   ],
   "source": [
    "puncs = df_train['src'].str.extract(punctuation_regex).dropna()\n",
    "puncs.value_counts()"
   ]
  },
  {
   "cell_type": "code",
   "execution_count": 108,
   "metadata": {
    "execution": {
     "iopub.execute_input": "2024-12-06T21:16:13.350403Z",
     "iopub.status.busy": "2024-12-06T21:16:13.349961Z",
     "iopub.status.idle": "2024-12-06T21:16:13.369039Z",
     "shell.execute_reply": "2024-12-06T21:16:13.367773Z",
     "shell.execute_reply.started": "2024-12-06T21:16:13.350355Z"
    },
    "trusted": true
   },
   "outputs": [
    {
     "data": {
      "text/plain": [
       "0\n",
       "'    69\n",
       "-     3\n",
       "Name: count, dtype: int64"
      ]
     },
     "execution_count": 108,
     "metadata": {},
     "output_type": "execute_result"
    }
   ],
   "source": [
    "puncs = df_dev['src'].str.extract(punctuation_regex).dropna()\n",
    "puncs.value_counts()"
   ]
  },
  {
   "cell_type": "code",
   "execution_count": 109,
   "metadata": {
    "execution": {
     "iopub.execute_input": "2024-12-06T21:16:13.395586Z",
     "iopub.status.busy": "2024-12-06T21:16:13.395119Z",
     "iopub.status.idle": "2024-12-06T21:16:22.195780Z",
     "shell.execute_reply": "2024-12-06T21:16:22.194466Z",
     "shell.execute_reply.started": "2024-12-06T21:16:13.395526Z"
    },
    "trusted": true
   },
   "outputs": [
    {
     "data": {
      "text/plain": [
       "Series([], Name: count, dtype: int64)"
      ]
     },
     "execution_count": 109,
     "metadata": {},
     "output_type": "execute_result"
    }
   ],
   "source": [
    "df_train['src'].str.extract(\"([A-Z]\\.)+\").dropna().value_counts() # No Abbreviations!"
   ]
  },
  {
   "cell_type": "code",
   "execution_count": 110,
   "metadata": {
    "execution": {
     "iopub.execute_input": "2024-12-06T21:16:13.370842Z",
     "iopub.status.busy": "2024-12-06T21:16:13.370396Z",
     "iopub.status.idle": "2024-12-06T21:16:13.393729Z",
     "shell.execute_reply": "2024-12-06T21:16:13.392234Z",
     "shell.execute_reply.started": "2024-12-06T21:16:13.370801Z"
    },
    "trusted": true
   },
   "outputs": [
    {
     "data": {
      "text/plain": [
       "Series([], Name: count, dtype: int64)"
      ]
     },
     "execution_count": 110,
     "metadata": {},
     "output_type": "execute_result"
    }
   ],
   "source": [
    "df_dev['src'].str.extract(\"([A-Z]\\.)+\").dropna().value_counts() # No Abbreviations!"
   ]
  },
  {
   "cell_type": "code",
   "execution_count": 111,
   "metadata": {
    "execution": {
     "iopub.execute_input": "2024-12-06T21:16:22.213969Z",
     "iopub.status.busy": "2024-12-06T21:16:22.213455Z",
     "iopub.status.idle": "2024-12-06T21:16:22.232136Z",
     "shell.execute_reply": "2024-12-06T21:16:22.230941Z",
     "shell.execute_reply.started": "2024-12-06T21:16:22.213931Z"
    },
    "trusted": true
   },
   "outputs": [
    {
     "data": {
      "text/plain": [
       "count                                                                                                                                              6\n",
       "unique                                                                                                                                             6\n",
       "top       how are you tonight my order is for a medium pizza and i'd like chicken on it as well as extra cheese but please no onions i appreciate it\n",
       "freq                                                                                                                                               1\n",
       "Name: src, dtype: object"
      ]
     },
     "execution_count": 111,
     "metadata": {},
     "output_type": "execute_result"
    }
   ],
   "source": [
    "df_dev['src'][df_dev['src'].str.find(\"i'd\") > 0].describe()"
   ]
  },
  {
   "cell_type": "code",
   "execution_count": 112,
   "metadata": {
    "execution": {
     "iopub.execute_input": "2024-12-06T21:16:22.234223Z",
     "iopub.status.busy": "2024-12-06T21:16:22.233684Z",
     "iopub.status.idle": "2024-12-06T21:16:24.539438Z",
     "shell.execute_reply": "2024-12-06T21:16:24.538171Z",
     "shell.execute_reply.started": "2024-12-06T21:16:22.234173Z"
    },
    "trusted": true
   },
   "outputs": [
    {
     "data": {
      "text/html": [
       "<div>\n",
       "<style scoped>\n",
       "    .dataframe tbody tr th:only-of-type {\n",
       "        vertical-align: middle;\n",
       "    }\n",
       "\n",
       "    .dataframe tbody tr th {\n",
       "        vertical-align: top;\n",
       "    }\n",
       "\n",
       "    .dataframe thead th {\n",
       "        text-align: right;\n",
       "    }\n",
       "</style>\n",
       "<table border=\"1\" class=\"dataframe\">\n",
       "  <thead>\n",
       "    <tr style=\"text-align: right;\">\n",
       "      <th></th>\n",
       "      <th>0</th>\n",
       "      <th>1</th>\n",
       "    </tr>\n",
       "  </thead>\n",
       "  <tbody>\n",
       "    <tr>\n",
       "      <th>2268941</th>\n",
       "      <td>PIZZAORDER</td>\n",
       "      <td>DRINKORDER</td>\n",
       "    </tr>\n",
       "    <tr>\n",
       "      <th>2268942</th>\n",
       "      <td>PIZZAORDER</td>\n",
       "      <td>DRINKORDER</td>\n",
       "    </tr>\n",
       "    <tr>\n",
       "      <th>2268943</th>\n",
       "      <td>PIZZAORDER</td>\n",
       "      <td>DRINKORDER</td>\n",
       "    </tr>\n",
       "    <tr>\n",
       "      <th>2268944</th>\n",
       "      <td>PIZZAORDER</td>\n",
       "      <td>DRINKORDER</td>\n",
       "    </tr>\n",
       "    <tr>\n",
       "      <th>2268945</th>\n",
       "      <td>PIZZAORDER</td>\n",
       "      <td>DRINKORDER</td>\n",
       "    </tr>\n",
       "  </tbody>\n",
       "</table>\n",
       "</div>"
      ],
      "text/plain": [
       "                  0           1\n",
       "2268941  PIZZAORDER  DRINKORDER\n",
       "2268942  PIZZAORDER  DRINKORDER\n",
       "2268943  PIZZAORDER  DRINKORDER\n",
       "2268944  PIZZAORDER  DRINKORDER\n",
       "2268945  PIZZAORDER  DRINKORDER"
      ]
     },
     "execution_count": 112,
     "metadata": {},
     "output_type": "execute_result"
    }
   ],
   "source": [
    "# Are there any orders containing both DRINKORDER and PIZZAORDER?\n",
    "df_train['top'].str.extract(rf\"(PIZZAORDER).*(DRINKORDER)\").dropna().tail()"
   ]
  },
  {
   "cell_type": "code",
   "execution_count": 113,
   "metadata": {
    "execution": {
     "iopub.execute_input": "2024-12-06T21:16:24.542165Z",
     "iopub.status.busy": "2024-12-06T21:16:24.541687Z",
     "iopub.status.idle": "2024-12-06T21:16:24.549957Z",
     "shell.execute_reply": "2024-12-06T21:16:24.548628Z",
     "shell.execute_reply.started": "2024-12-06T21:16:24.542117Z"
    },
    "trusted": true
   },
   "outputs": [
    {
     "data": {
      "text/plain": [
       "\"(ORDER i'd like (PIZZAORDER (NUMBER a ) pizza with (TOPPING roasted peppers ) ) and (DRINKORDER (NUMBER nine ) (DRINKTYPE seven up ) ) )\""
      ]
     },
     "execution_count": 113,
     "metadata": {},
     "output_type": "execute_result"
    }
   ],
   "source": [
    "df_train.iloc[2268941]['top']"
   ]
  },
  {
   "cell_type": "markdown",
   "metadata": {},
   "source": [
    "# Preprocessing"
   ]
  },
  {
   "cell_type": "markdown",
   "metadata": {},
   "source": [
    "## Targets"
   ]
  },
  {
   "cell_type": "markdown",
   "metadata": {},
   "source": [
    "We remove the leading *ORDER* constructor from the target output sequences since it is a **universal top-level constructor** and **there is nothing to be learned from it**."
   ]
  },
  {
   "cell_type": "code",
   "execution_count": 114,
   "metadata": {
    "execution": {
     "iopub.execute_input": "2024-12-06T21:16:24.552579Z",
     "iopub.status.busy": "2024-12-06T21:16:24.551639Z",
     "iopub.status.idle": "2024-12-06T21:16:56.426888Z",
     "shell.execute_reply": "2024-12-06T21:16:56.425617Z",
     "shell.execute_reply.started": "2024-12-06T21:16:24.552540Z"
    },
    "trusted": true
   },
   "outputs": [],
   "source": [
    "# train.SRC\ttrain.EXR\ttrain.TOP\ttrain.TOP-DECOUPLED\n",
    "def remove_order(df, cols):\n",
    "    \"\"\"\n",
    "    Remove the string '(ORDER' from the beginning of the columns in the DataFrame.\n",
    "    \n",
    "    df: pd.DataFrame\n",
    "        The DataFrame to remove the string from.\n",
    "    cols: list[str]\n",
    "        The columns to remove the string from.\n",
    "    \"\"\"\n",
    "    for col in cols:\n",
    "        df[col] = df[col].str.replace(r\"^\\(ORDER\\s?\", \"\", regex=True)\n",
    "        df[col] = df[col].str.replace(r\"\\)$\", \"\", regex=True)\n",
    "    \n",
    "    return df\n",
    "\n",
    "df_train = remove_order(df_train, ['top'])\n",
    "df_dev = remove_order(df_dev, ['top'])\n"
   ]
  },
  {
   "cell_type": "code",
   "execution_count": 115,
   "metadata": {
    "execution": {
     "iopub.execute_input": "2024-12-06T21:16:56.434366Z",
     "iopub.status.busy": "2024-12-06T21:16:56.433963Z",
     "iopub.status.idle": "2024-12-06T21:16:56.446016Z",
     "shell.execute_reply": "2024-12-06T21:16:56.444735Z",
     "shell.execute_reply.started": "2024-12-06T21:16:56.434330Z"
    },
    "trusted": true
   },
   "outputs": [
    {
     "data": {
      "text/html": [
       "<div>\n",
       "<style scoped>\n",
       "    .dataframe tbody tr th:only-of-type {\n",
       "        vertical-align: middle;\n",
       "    }\n",
       "\n",
       "    .dataframe tbody tr th {\n",
       "        vertical-align: top;\n",
       "    }\n",
       "\n",
       "    .dataframe thead th {\n",
       "        text-align: right;\n",
       "    }\n",
       "</style>\n",
       "<table border=\"1\" class=\"dataframe\">\n",
       "  <thead>\n",
       "    <tr style=\"text-align: right;\">\n",
       "      <th></th>\n",
       "      <th>src</th>\n",
       "      <th>top</th>\n",
       "    </tr>\n",
       "  </thead>\n",
       "  <tbody>\n",
       "    <tr>\n",
       "      <th>0</th>\n",
       "      <td>can i have a large bbq pulled pork</td>\n",
       "      <td>can i have (PIZZAORDER (NUMBER a ) (SIZE large ) (TOPPING bbq pulled pork ) )</td>\n",
       "    </tr>\n",
       "  </tbody>\n",
       "</table>\n",
       "</div>"
      ],
      "text/plain": [
       "                                  src  \\\n",
       "0  can i have a large bbq pulled pork   \n",
       "\n",
       "                                                                              top  \n",
       "0  can i have (PIZZAORDER (NUMBER a ) (SIZE large ) (TOPPING bbq pulled pork ) )   "
      ]
     },
     "execution_count": 115,
     "metadata": {},
     "output_type": "execute_result"
    }
   ],
   "source": [
    "df_train.head(1)"
   ]
  },
  {
   "cell_type": "code",
   "execution_count": 116,
   "metadata": {
    "execution": {
     "iopub.execute_input": "2024-12-06T21:16:56.447660Z",
     "iopub.status.busy": "2024-12-06T21:16:56.447341Z",
     "iopub.status.idle": "2024-12-06T21:16:56.466504Z",
     "shell.execute_reply": "2024-12-06T21:16:56.465247Z",
     "shell.execute_reply.started": "2024-12-06T21:16:56.447631Z"
    },
    "trusted": true
   },
   "outputs": [
    {
     "data": {
      "text/html": [
       "<div>\n",
       "<style scoped>\n",
       "    .dataframe tbody tr th:only-of-type {\n",
       "        vertical-align: middle;\n",
       "    }\n",
       "\n",
       "    .dataframe tbody tr th {\n",
       "        vertical-align: top;\n",
       "    }\n",
       "\n",
       "    .dataframe thead th {\n",
       "        text-align: right;\n",
       "    }\n",
       "</style>\n",
       "<table border=\"1\" class=\"dataframe\">\n",
       "  <thead>\n",
       "    <tr style=\"text-align: right;\">\n",
       "      <th></th>\n",
       "      <th>src</th>\n",
       "      <th>top</th>\n",
       "    </tr>\n",
       "  </thead>\n",
       "  <tbody>\n",
       "    <tr>\n",
       "      <th>0</th>\n",
       "      <td>i want to order two medium pizzas with sausage and black olives and two medium pizzas with pepperoni and extra cheese and three large pizzas with pepperoni and sausage</td>\n",
       "      <td>i want to order (PIZZAORDER (NUMBER two ) (SIZE medium ) pizzas with (TOPPING sausage ) and (TOPPING black olives ) ) and (PIZZAORDER (NUMBER two ) (SIZE medium ) pizzas with (TOPPING pepperoni ) and (COMPLEX_TOPPING (QUANTITY extra ) (TOPPING cheese ) ) ) and (PIZZAORDER (NUMBER three ) (SIZE large ) pizzas with (TOPPING pepperoni ) and (TOPPING sausage ) )</td>\n",
       "    </tr>\n",
       "  </tbody>\n",
       "</table>\n",
       "</div>"
      ],
      "text/plain": [
       "                                                                                                                                                                       src  \\\n",
       "0  i want to order two medium pizzas with sausage and black olives and two medium pizzas with pepperoni and extra cheese and three large pizzas with pepperoni and sausage   \n",
       "\n",
       "                                                                                                                                                                                                                                                                                                                                                                         top  \n",
       "0  i want to order (PIZZAORDER (NUMBER two ) (SIZE medium ) pizzas with (TOPPING sausage ) and (TOPPING black olives ) ) and (PIZZAORDER (NUMBER two ) (SIZE medium ) pizzas with (TOPPING pepperoni ) and (COMPLEX_TOPPING (QUANTITY extra ) (TOPPING cheese ) ) ) and (PIZZAORDER (NUMBER three ) (SIZE large ) pizzas with (TOPPING pepperoni ) and (TOPPING sausage ) )   "
      ]
     },
     "execution_count": 116,
     "metadata": {},
     "output_type": "execute_result"
    }
   ],
   "source": [
    "df_dev.head(1)"
   ]
  },
  {
   "cell_type": "markdown",
   "metadata": {},
   "source": [
    "## Features - Inputs"
   ]
  },
  {
   "cell_type": "markdown",
   "metadata": {},
   "source": [
    "### Lemmatize src"
   ]
  },
  {
   "cell_type": "markdown",
   "metadata": {},
   "source": [
    "- We compare the accuracy of **normal text** to that of **lemmatized text**.\n",
    "- This will provide insights into whether the models can use plural words to capture the meaning of quantities better or not.\n",
    "- **Note**\n",
    "  - lemma change the number of the words in a sentence\n",
    "    - Ex.: i'd -> i would\n",
    "    - Thus we won't consider the lemma"
   ]
  },
  {
   "cell_type": "code",
   "execution_count": 117,
   "metadata": {
    "execution": {
     "iopub.execute_input": "2024-12-06T21:16:56.468559Z",
     "iopub.status.busy": "2024-12-06T21:16:56.468204Z",
     "iopub.status.idle": "2024-12-06T21:16:59.495395Z",
     "shell.execute_reply": "2024-12-06T21:16:59.494185Z",
     "shell.execute_reply.started": "2024-12-06T21:16:56.468525Z"
    },
    "trusted": true
   },
   "outputs": [],
   "source": [
    "# # Initialize the WordNetLemmatizer\n",
    "# lemmatizer = WordNetLemmatizer()\n",
    "# def lemmatize_text(text):\n",
    "#     tokens = word_tokenize(text)\n",
    "#     lemma_tokenized = [lemmatizer.lemmatize(token.lower()) for token in tokens if token.isalnum()]\n",
    "#     return lemma_tokenized\n",
    "\n",
    "# # Apply lemmatization\n",
    "# # Used for the rest of embeddings\n",
    "# df_dev[\"tokenized_lemma\"] = df_dev[\"src\"].progress_apply(lemmatize_text)\n",
    "# # Used for tf-idf\n",
    "# df_dev[\"lemmatized\"] = df_dev[\"tokenized_lemma\"].progress_apply(lambda x: \" \".join(x))\n",
    "# df_dev.head()"
   ]
  },
  {
   "cell_type": "markdown",
   "metadata": {},
   "source": [
    "### Tokenization"
   ]
  },
  {
   "cell_type": "code",
   "execution_count": 118,
   "metadata": {},
   "outputs": [
    {
     "name": "stderr",
     "output_type": "stream",
     "text": [
      "100%|██████████| 2456446/2456446 [00:22<00:00, 110756.64it/s]\n",
      "100%|██████████| 348/348 [00:00<?, ?it/s]\n"
     ]
    }
   ],
   "source": [
    "df_train[\"tokenized\"] = df_train[\"src\"].progress_apply(lambda x: regexp_tokenize(x, token_pattern))\n",
    "df_dev[\"tokenized\"] = df_dev[\"src\"].progress_apply(lambda x: regexp_tokenize(x, token_pattern))"
   ]
  },
  {
   "cell_type": "code",
   "execution_count": 119,
   "metadata": {},
   "outputs": [
    {
     "data": {
      "text/plain": [
       "6740.3515625"
      ]
     },
     "execution_count": 119,
     "metadata": {},
     "output_type": "execute_result"
    }
   ],
   "source": [
    "memory_usage()"
   ]
  },
  {
   "cell_type": "markdown",
   "metadata": {},
   "source": [
    "### TF-IDF"
   ]
  },
  {
   "cell_type": "markdown",
   "metadata": {},
   "source": [
    "**Note:** (spacy) Converts i'd -> i would (2 tokens instead of 1!) -> Trade off between lemmatizing 'top' or use 'src'"
   ]
  },
  {
   "cell_type": "code",
   "execution_count": null,
   "metadata": {
    "execution": {
     "iopub.execute_input": "2024-12-06T21:16:59.497134Z",
     "iopub.status.busy": "2024-12-06T21:16:59.496761Z",
     "iopub.status.idle": "2024-12-06T21:16:59.516975Z",
     "shell.execute_reply": "2024-12-06T21:16:59.515691Z",
     "shell.execute_reply.started": "2024-12-06T21:16:59.497101Z"
    },
    "trusted": true
   },
   "outputs": [
    {
     "name": "stdout",
     "output_type": "stream",
     "text": [
      "304\n",
      "[0.         0.         0.         0.         0.         0.\n",
      " 0.         0.         0.         0.         0.         0.\n",
      " 0.         0.         0.         0.         0.         0.\n",
      " 0.         0.         0.         0.         0.14234776 0.\n",
      " 0.         0.         0.         0.         0.         0.\n",
      " 0.         0.         0.         0.         0.         0.\n",
      " 0.         0.         0.         0.         0.         0.\n",
      " 0.         0.         0.         0.         0.         0.\n",
      " 0.41417928 0.         0.         0.         0.         0.\n",
      " 0.         0.         0.         0.         0.         0.\n",
      " 0.35753269 0.         0.         0.         0.         0.\n",
      " 0.         0.         0.         0.         0.         0.\n",
      " 0.         0.         0.         0.         0.         0.\n",
      " 0.         0.         0.         0.         0.         0.\n",
      " 0.         0.         0.         0.         0.         0.\n",
      " 0.         0.         0.         0.         0.         0.\n",
      " 0.         0.         0.         0.         0.         0.\n",
      " 0.         0.         0.         0.         0.         0.\n",
      " 0.         0.         0.         0.         0.         0.\n",
      " 0.         0.         0.         0.         0.         0.\n",
      " 0.         0.         0.         0.36726848 0.         0.\n",
      " 0.         0.         0.25922207 0.         0.         0.\n",
      " 0.         0.         0.         0.         0.         0.\n",
      " 0.         0.27110514 0.         0.         0.         0.\n",
      " 0.         0.         0.         0.         0.         0.\n",
      " 0.         0.         0.         0.         0.         0.\n",
      " 0.         0.         0.         0.         0.         0.\n",
      " 0.         0.         0.         0.         0.         0.\n",
      " 0.         0.         0.         0.         0.         0.\n",
      " 0.         0.         0.         0.         0.         0.\n",
      " 0.         0.         0.         0.         0.         0.\n",
      " 0.         0.         0.         0.         0.         0.\n",
      " 0.         0.         0.         0.         0.         0.\n",
      " 0.         0.         0.         0.         0.         0.\n",
      " 0.         0.         0.         0.         0.         0.\n",
      " 0.         0.         0.         0.         0.         0.\n",
      " 0.         0.         0.         0.         0.         0.\n",
      " 0.         0.         0.         0.         0.         0.\n",
      " 0.         0.         0.44987932 0.         0.44987932 0.\n",
      " 0.         0.         0.         0.         0.         0.\n",
      " 0.         0.         0.         0.         0.         0.\n",
      " 0.         0.         0.         0.         0.         0.\n",
      " 0.         0.         0.         0.         0.         0.\n",
      " 0.         0.         0.         0.         0.         0.\n",
      " 0.         0.         0.         0.         0.         0.\n",
      " 0.         0.         0.         0.         0.         0.\n",
      " 0.         0.         0.         0.         0.         0.\n",
      " 0.         0.         0.         0.         0.         0.\n",
      " 0.         0.         0.         0.         0.         0.\n",
      " 0.         0.         0.         0.         0.         0.\n",
      " 0.         0.         0.         0.        ]\n",
      "1\n"
     ]
    }
   ],
   "source": [
    "update_feature = False\n",
    "if update_feature or not file_exists(FEATURES_PATH + \"/tfidf_features.npy\") or not file_exists(MODELS_PATH + \"/tfidf_vectorizer.pkl\"):\n",
    "    # TF-IDF feature extraction\n",
    "    vectorizer = TfidfVectorizer(analyzer=\"word\", ngram_range=(1, 1), token_pattern=token_pattern)\n",
    "    tfidf_features = vectorizer.fit_transform(df_train[\"src\"])\n",
    "    save_pickle(MODELS_PATH + \"/tfidf_vectorizer.pkl\", vectorizer)\n",
    "    save_np(\"tfidf_features.npy\", tfidf_features, type=\"feature\")\n",
    "else:\n",
    "    vectorizer = load_pickle(MODELS_PATH + \"/tfidf_vectorizer.pkl\")\n",
    "    tfidf_features = load_np(\"tfidf_features.npy\", type=\"feature\").tolist()\n",
    "\n",
    "print(len(tfidf_features.toarray()[5]))\n",
    "print(tfidf_features.toarray()[0])\n",
    "print(vectorizer.get_feature_names_out()[0])"
   ]
  },
  {
   "cell_type": "code",
   "execution_count": null,
   "metadata": {
    "execution": {
     "iopub.execute_input": "2024-12-06T21:16:59.519385Z",
     "iopub.status.busy": "2024-12-06T21:16:59.518905Z",
     "iopub.status.idle": "2024-12-06T21:16:59.527621Z",
     "shell.execute_reply": "2024-12-06T21:16:59.526400Z",
     "shell.execute_reply.started": "2024-12-06T21:16:59.519336Z"
    },
    "trusted": true
   },
   "outputs": [
    {
     "data": {
      "text/plain": [
       "(2456446, 304)"
      ]
     },
     "execution_count": 52,
     "metadata": {},
     "output_type": "execute_result"
    }
   ],
   "source": [
    "tfidf_features.shape"
   ]
  },
  {
   "cell_type": "code",
   "execution_count": null,
   "metadata": {
    "execution": {
     "iopub.execute_input": "2024-12-06T21:16:59.529430Z",
     "iopub.status.busy": "2024-12-06T21:16:59.529117Z",
     "iopub.status.idle": "2024-12-06T21:16:59.540905Z",
     "shell.execute_reply": "2024-12-06T21:16:59.539886Z",
     "shell.execute_reply.started": "2024-12-06T21:16:59.529399Z"
    },
    "trusted": true
   },
   "outputs": [],
   "source": [
    "# vocab = vectorizer.get_feature_names_out()\n",
    "# docterm = pd.DataFrame(tfidf_features.todense(), columns=vocab)"
   ]
  },
  {
   "cell_type": "code",
   "execution_count": null,
   "metadata": {
    "execution": {
     "iopub.execute_input": "2024-12-06T21:16:59.585814Z",
     "iopub.status.busy": "2024-12-06T21:16:59.585337Z",
     "iopub.status.idle": "2024-12-06T21:16:59.596870Z",
     "shell.execute_reply": "2024-12-06T21:16:59.595686Z",
     "shell.execute_reply.started": "2024-12-06T21:16:59.585758Z"
    },
    "trusted": true
   },
   "outputs": [
    {
     "data": {
      "text/plain": [
       "129"
      ]
     },
     "execution_count": 39,
     "metadata": {},
     "output_type": "execute_result"
    }
   ],
   "source": [
    "vectorizer.vocabulary_[\"i'd\"]"
   ]
  },
  {
   "cell_type": "code",
   "execution_count": null,
   "metadata": {
    "execution": {
     "iopub.execute_input": "2024-12-06T21:16:59.598947Z",
     "iopub.status.busy": "2024-12-06T21:16:59.598446Z",
     "iopub.status.idle": "2024-12-06T21:16:59.612845Z",
     "shell.execute_reply": "2024-12-06T21:16:59.611786Z",
     "shell.execute_reply.started": "2024-12-06T21:16:59.598911Z"
    },
    "trusted": true
   },
   "outputs": [
    {
     "data": {
      "text/plain": [
       "array([0., 0., 0., ..., 0., 0., 0.])"
      ]
     },
     "execution_count": 40,
     "metadata": {},
     "output_type": "execute_result"
    }
   ],
   "source": [
    "tfidf_features[:, vectorizer.vocabulary_.get(\"you\", 0)].toarray().reshape(-1)"
   ]
  },
  {
   "cell_type": "code",
   "execution_count": null,
   "metadata": {},
   "outputs": [
    {
     "data": {
      "text/plain": [
       "368.234375"
      ]
     },
     "execution_count": 44,
     "metadata": {},
     "output_type": "execute_result"
    }
   ],
   "source": [
    "memory_usage()"
   ]
  },
  {
   "cell_type": "markdown",
   "metadata": {},
   "source": [
    "### Word2Vec"
   ]
  },
  {
   "cell_type": "code",
   "execution_count": null,
   "metadata": {
    "execution": {
     "iopub.execute_input": "2024-12-06T21:16:59.615347Z",
     "iopub.status.busy": "2024-12-06T21:16:59.614501Z",
     "iopub.status.idle": "2024-12-06T21:16:59.673869Z",
     "shell.execute_reply": "2024-12-06T21:16:59.672719Z",
     "shell.execute_reply.started": "2024-12-06T21:16:59.615292Z"
    },
    "trusted": true
   },
   "outputs": [
    {
     "name": "stdout",
     "output_type": "stream",
     "text": [
      "Loading '/word2vec_model.bin'...\n"
     ]
    },
    {
     "data": {
      "text/plain": [
       "<gensim.models.word2vec.Word2Vec at 0x27ab2f42bf0>"
      ]
     },
     "execution_count": 127,
     "metadata": {},
     "output_type": "execute_result"
    }
   ],
   "source": [
    "model_name = \"/word2vec_model.bin\"\n",
    "update_model = False\n",
    "if update_model or not os.path.exists(MODELS_PATH + model_name):\n",
    "    print(f\"Creating '{model_name}'...\")\n",
    "    # Create a Word2Vec model\n",
    "    word2vec_model = Word2Vec(sentences=df_train[\"tokenized\"], vector_size=200, window=5, min_count=1, workers=4)\n",
    "    # Save the trained model\n",
    "    print(f\"Saving '{model_name}'...\")\n",
    "    word2vec_model.save(MODELS_PATH + model_name)\n",
    "else:\n",
    "    print(f\"Loading '{model_name}'...\")\n",
    "    # Load the trained model\n",
    "    word2vec_model = Word2Vec.load(MODELS_PATH + model_name)\n",
    "    \n",
    "word2vec_model"
   ]
  },
  {
   "cell_type": "code",
   "execution_count": null,
   "metadata": {
    "execution": {
     "iopub.execute_input": "2024-12-06T21:16:59.675873Z",
     "iopub.status.busy": "2024-12-06T21:16:59.675378Z",
     "iopub.status.idle": "2024-12-06T21:16:59.682666Z",
     "shell.execute_reply": "2024-12-06T21:16:59.681628Z",
     "shell.execute_reply.started": "2024-12-06T21:16:59.675822Z"
    },
    "trusted": true
   },
   "outputs": [],
   "source": [
    "word_embeddings = {word: word2vec_model.wv[word] for word in word2vec_model.wv.index_to_key}\n",
    "# word_embeddings"
   ]
  },
  {
   "cell_type": "code",
   "execution_count": 129,
   "metadata": {},
   "outputs": [
    {
     "data": {
      "text/plain": [
       "3086.80859375"
      ]
     },
     "execution_count": 129,
     "metadata": {},
     "output_type": "execute_result"
    }
   ],
   "source": [
    "memory_usage()"
   ]
  },
  {
   "cell_type": "markdown",
   "metadata": {},
   "source": [
    "## Word Vectorization"
   ]
  },
  {
   "cell_type": "markdown",
   "metadata": {},
   "source": [
    "Related Resources:\n",
    "- TF-IDF Matrix -> https://openclassrooms.com/en/courses/6532301-introduction-to-natural-language-processing/8081363-apply-the-tf-idf-vectorization-approach"
   ]
  },
  {
   "cell_type": "code",
   "execution_count": null,
   "metadata": {
    "execution": {
     "iopub.execute_input": "2024-12-06T21:18:33.418337Z",
     "iopub.status.busy": "2024-12-06T21:18:33.417911Z",
     "iopub.status.idle": "2024-12-06T21:18:34.019152Z",
     "shell.execute_reply": "2024-12-06T21:18:34.017875Z",
     "shell.execute_reply.started": "2024-12-06T21:18:33.418302Z"
    },
    "trusted": true
   },
   "outputs": [],
   "source": [
    "def vectorize_words(row):\n",
    "    tokens: list[str] = row[\"tokenized\"]\n",
    "    sentence_tfidfs = []\n",
    "    sentence_word2vec = []\n",
    "    for token in tokens:\n",
    "        tfidf_index = vectorizer.vocabulary_.get(token, 0) # Default index zero\n",
    "        sentence_tfidfs.append(tfidf_features[:, tfidf_index].toarray().reshape(-1))\n",
    "        sentence_word2vec.append(word_embeddings.get(token, [0] * 100)) # Default zero-vector\n",
    "    row['tfidf_features'], row['word2vec_features'] = sentence_tfidfs, sentence_word2vec\n",
    "    return row"
   ]
  },
  {
   "cell_type": "code",
   "execution_count": null,
   "metadata": {},
   "outputs": [
    {
     "name": "stderr",
     "output_type": "stream",
     "text": [
      "  0%|          | 58/2456446 [01:25<934:18:24,  1.37s/it] "
     ]
    }
   ],
   "source": [
    "df_train = df_train.progress_apply(vectorize_words, axis=1)\n",
    "df_train.head(1)"
   ]
  },
  {
   "cell_type": "code",
   "execution_count": null,
   "metadata": {},
   "outputs": [
    {
     "name": "stderr",
     "output_type": "stream",
     "text": [
      "100%|██████████| 348/348 [00:00<00:00, 499.51it/s]\n"
     ]
    },
    {
     "data": {
      "text/html": [
       "<div>\n",
       "<style scoped>\n",
       "    .dataframe tbody tr th:only-of-type {\n",
       "        vertical-align: middle;\n",
       "    }\n",
       "\n",
       "    .dataframe tbody tr th {\n",
       "        vertical-align: top;\n",
       "    }\n",
       "\n",
       "    .dataframe thead th {\n",
       "        text-align: right;\n",
       "    }\n",
       "</style>\n",
       "<table border=\"1\" class=\"dataframe\">\n",
       "  <thead>\n",
       "    <tr style=\"text-align: right;\">\n",
       "      <th></th>\n",
       "      <th>src</th>\n",
       "      <th>top</th>\n",
       "      <th>tokenized</th>\n",
       "      <th>tfidf_features</th>\n",
       "      <th>word2vec_features</th>\n",
       "    </tr>\n",
       "  </thead>\n",
       "  <tbody>\n",
       "    <tr>\n",
       "      <th>0</th>\n",
       "      <td>i want to order two medium pizzas with sausage and black olives and two medium pizzas with pepperoni and extra cheese and three large pizzas with pepperoni and sausage</td>\n",
       "      <td>i want to order (PIZZAORDER (NUMBER two ) (SIZE medium ) pizzas with (TOPPING sausage ) and (TOPPING black olives ) ) and (PIZZAORDER (NUMBER two ) (SIZE medium ) pizzas with (TOPPING pepperoni ) and (COMPLEX_TOPPING (QUANTITY extra ) (TOPPING cheese ) ) ) and (PIZZAORDER (NUMBER three ) (SIZE large ) pizzas with (TOPPING pepperoni ) and (TOPPING sausage ) )</td>\n",
       "      <td>[i, want, to, order, two, medium, pizzas, with, sausage, and, black, olives, and, two, medium, pizzas, with, pepperoni, and, extra, cheese, and, three, large, pizzas, with, pepperoni, and, sausage]</td>\n",
       "      <td>[[0.08430143723922251, 0.0, 0.13337969831862775, 0.0, 0.0, 0.10034713760427152, 0.17396375337864922, 0.17958770538428326, 0.14606531916873786, 0.17721922092796344, 0.19713448714781656, 0.0, 0.17288347347903418, 0.0, 0.0, 0.0, 0.1366724335010161, 0.0, 0.0, 0.1562794386914836, 0.19391225920436742, 0.0, 0.11286164475205294, 0.0, 0.12416543512769322, 0.0, 0.0, 0.19234760746279847, 0.12248119173361699, 0.0, 0.20664361011193244, 0.0, 0.18995951017233198, 0.2045777012433944, 0.1168537902697436, 0.0, 0.16890313266495663, 0.0, 0.0, 0.1335421575549344, 0.0, 0.19944260753166945, 0.0, 0.18473089869790738, 0.0, 0.19133428377261583, 0.20978968793267175, 0.14310616380645452, 0.17265659900612262, 0.0, 0.16817054006660384, 0.0, 0.14150333339868498, 0.17275472419101204, 0.22930989128613138, 0.0, 0.0, 0.20155267717081113, 0.1546082459604938, 0.15693159662581818, 0.1832160787506764, 0.0, 0.18729363892005363, 0.0, 0.20773045712657492, 0.0, 0.19346051503038109, 0.0, 0.16041910398343542, 0.09303061188182...</td>\n",
       "      <td>[[0.0677469, -0.041739315, -0.08083352, 0.12261514, 0.16721858, -0.05736017, 0.09708657, 0.28409472, -0.118705854, -0.027471012, -0.057421274, -0.14376749, 0.0473368, 0.14283921, -0.030394064, -0.031858526, 0.052781112, 0.07924095, 0.0069334647, -0.2780961, 0.09244968, -0.032641098, -0.026583068, 0.036451172, 0.03341323, -0.025228117, -0.07656543, -0.118221, -0.10734222, 0.03260397, 0.15275688, 0.05852104, 0.106173486, -0.05881508, -0.082549885, 0.1174997, 0.06174134, -0.08423522, -0.055344716, -0.16970553, -0.06645013, 0.006280372, -0.11624798, -0.00490635, 0.1332938, -0.05824645, -0.00758351, -0.1255734, 0.039873965, 0.07710664, 0.045426518, -0.18234527, -0.024939088, -0.10234514, 0.08368705, -0.06852132, -0.07534842, -0.15418817, -0.14619642, -0.003937893, -0.101910375, -0.030932281, 0.1487361, -0.090863645, -0.320359, 0.09530128, -0.022416687, 0.22749043, -0.17629756, 0.21058744, -0.03136628, 0.1173821, 0.12045498, 0.03843337, 0.11156459, 0.058297314, 0.104958236, -0.11261302, ...</td>\n",
       "    </tr>\n",
       "  </tbody>\n",
       "</table>\n",
       "</div>"
      ],
      "text/plain": [
       "                                                                                                                                                                       src  \\\n",
       "0  i want to order two medium pizzas with sausage and black olives and two medium pizzas with pepperoni and extra cheese and three large pizzas with pepperoni and sausage   \n",
       "\n",
       "                                                                                                                                                                                                                                                                                                                                                                         top  \\\n",
       "0  i want to order (PIZZAORDER (NUMBER two ) (SIZE medium ) pizzas with (TOPPING sausage ) and (TOPPING black olives ) ) and (PIZZAORDER (NUMBER two ) (SIZE medium ) pizzas with (TOPPING pepperoni ) and (COMPLEX_TOPPING (QUANTITY extra ) (TOPPING cheese ) ) ) and (PIZZAORDER (NUMBER three ) (SIZE large ) pizzas with (TOPPING pepperoni ) and (TOPPING sausage ) )    \n",
       "\n",
       "                                                                                                                                                                                               tokenized  \\\n",
       "0  [i, want, to, order, two, medium, pizzas, with, sausage, and, black, olives, and, two, medium, pizzas, with, pepperoni, and, extra, cheese, and, three, large, pizzas, with, pepperoni, and, sausage]   \n",
       "\n",
       "                                                                                                                                                                                                                                                                                                                                                                                                                                                                                                                                                                                                                                                                                                                                                                                                                                                                                                                                                                                                                            tfidf_features  \\\n",
       "0  [[0.08430143723922251, 0.0, 0.13337969831862775, 0.0, 0.0, 0.10034713760427152, 0.17396375337864922, 0.17958770538428326, 0.14606531916873786, 0.17721922092796344, 0.19713448714781656, 0.0, 0.17288347347903418, 0.0, 0.0, 0.0, 0.1366724335010161, 0.0, 0.0, 0.1562794386914836, 0.19391225920436742, 0.0, 0.11286164475205294, 0.0, 0.12416543512769322, 0.0, 0.0, 0.19234760746279847, 0.12248119173361699, 0.0, 0.20664361011193244, 0.0, 0.18995951017233198, 0.2045777012433944, 0.1168537902697436, 0.0, 0.16890313266495663, 0.0, 0.0, 0.1335421575549344, 0.0, 0.19944260753166945, 0.0, 0.18473089869790738, 0.0, 0.19133428377261583, 0.20978968793267175, 0.14310616380645452, 0.17265659900612262, 0.0, 0.16817054006660384, 0.0, 0.14150333339868498, 0.17275472419101204, 0.22930989128613138, 0.0, 0.0, 0.20155267717081113, 0.1546082459604938, 0.15693159662581818, 0.1832160787506764, 0.0, 0.18729363892005363, 0.0, 0.20773045712657492, 0.0, 0.19346051503038109, 0.0, 0.16041910398343542, 0.09303061188182...   \n",
       "\n",
       "                                                                                                                                                                                                                                                                                                                                                                                                                                                                                                                                                                                                                                                                                                                                                                                                                                                                                                                                                                                                                         word2vec_features  \n",
       "0  [[0.0677469, -0.041739315, -0.08083352, 0.12261514, 0.16721858, -0.05736017, 0.09708657, 0.28409472, -0.118705854, -0.027471012, -0.057421274, -0.14376749, 0.0473368, 0.14283921, -0.030394064, -0.031858526, 0.052781112, 0.07924095, 0.0069334647, -0.2780961, 0.09244968, -0.032641098, -0.026583068, 0.036451172, 0.03341323, -0.025228117, -0.07656543, -0.118221, -0.10734222, 0.03260397, 0.15275688, 0.05852104, 0.106173486, -0.05881508, -0.082549885, 0.1174997, 0.06174134, -0.08423522, -0.055344716, -0.16970553, -0.06645013, 0.006280372, -0.11624798, -0.00490635, 0.1332938, -0.05824645, -0.00758351, -0.1255734, 0.039873965, 0.07710664, 0.045426518, -0.18234527, -0.024939088, -0.10234514, 0.08368705, -0.06852132, -0.07534842, -0.15418817, -0.14619642, -0.003937893, -0.101910375, -0.030932281, 0.1487361, -0.090863645, -0.320359, 0.09530128, -0.022416687, 0.22749043, -0.17629756, 0.21058744, -0.03136628, 0.1173821, 0.12045498, 0.03843337, 0.11156459, 0.058297314, 0.104958236, -0.11261302, ...  "
      ]
     },
     "execution_count": 73,
     "metadata": {},
     "output_type": "execute_result"
    }
   ],
   "source": [
    "df_dev = df_dev.progress_apply(vectorize_words, axis=1)\n",
    "df_dev.head(1)"
   ]
  },
  {
   "cell_type": "code",
   "execution_count": null,
   "metadata": {},
   "outputs": [],
   "source": [
    "save_pickle(FEATURES_PATH + \"/df_train.pkl\", df_train)\n",
    "save_pickle(FEATURES_PATH + \"/df_dev.pkl\", df_dev)"
   ]
  },
  {
   "cell_type": "code",
   "execution_count": null,
   "metadata": {},
   "outputs": [],
   "source": [
    "memory_usage()"
   ]
  },
  {
   "cell_type": "markdown",
   "metadata": {},
   "source": [
    "## Extracting Entities"
   ]
  },
  {
   "cell_type": "markdown",
   "metadata": {},
   "source": [
    "We updated the token_pattern to tokenize words with at least 1 character instead of the default of min 2 chars, which will skip important tokens such as a, 7, etc. (used for NUMBER entity label)\n"
   ]
  },
  {
   "cell_type": "code",
   "execution_count": null,
   "metadata": {
    "execution": {
     "iopub.execute_input": "2024-12-06T21:17:00.662998Z",
     "iopub.status.busy": "2024-12-06T21:17:00.662500Z",
     "iopub.status.idle": "2024-12-06T21:17:13.543931Z",
     "shell.execute_reply": "2024-12-06T21:17:13.542694Z",
     "shell.execute_reply.started": "2024-12-06T21:17:00.662948Z"
    },
    "trusted": true
   },
   "outputs": [],
   "source": [
    "full_text = \" \".join(df_train['top'].to_list())\n",
    "entities = [x.group() for x in re.finditer(\"(?<=\\()[A-Z]+(_[A-Z]+)*\", full_text)]"
   ]
  },
  {
   "cell_type": "code",
   "execution_count": null,
   "metadata": {},
   "outputs": [
    {
     "data": {
      "text/plain": [
       "2680130"
      ]
     },
     "execution_count": 75,
     "metadata": {},
     "output_type": "execute_result"
    }
   ],
   "source": [
    "del full_text\n",
    "gc.collect()"
   ]
  },
  {
   "cell_type": "code",
   "execution_count": null,
   "metadata": {
    "execution": {
     "iopub.execute_input": "2024-12-06T21:17:13.546544Z",
     "iopub.status.busy": "2024-12-06T21:17:13.546083Z",
     "iopub.status.idle": "2024-12-06T21:17:14.642272Z",
     "shell.execute_reply": "2024-12-06T21:17:14.640820Z",
     "shell.execute_reply.started": "2024-12-06T21:17:13.546493Z"
    },
    "trusted": true
   },
   "outputs": [
    {
     "data": {
      "text/plain": [
       "['TOPPING',\n",
       " 'PIZZAORDER',\n",
       " 'DRINKTYPE',\n",
       " 'DRINKORDER',\n",
       " 'NUMBER',\n",
       " 'STYLE',\n",
       " 'SIZE',\n",
       " 'VOLUME',\n",
       " 'CONTAINERTYPE',\n",
       " 'COMPLEX_TOPPING',\n",
       " 'QUANTITY',\n",
       " 'NOT']"
      ]
     },
     "execution_count": 76,
     "metadata": {},
     "output_type": "execute_result"
    }
   ],
   "source": [
    "entities = list(set(entities)) # Unique\n",
    "entities"
   ]
  },
  {
   "cell_type": "code",
   "execution_count": null,
   "metadata": {
    "execution": {
     "iopub.execute_input": "2024-12-06T21:17:14.644059Z",
     "iopub.status.busy": "2024-12-06T21:17:14.643671Z",
     "iopub.status.idle": "2024-12-06T21:17:14.658413Z",
     "shell.execute_reply": "2024-12-06T21:17:14.657229Z",
     "shell.execute_reply.started": "2024-12-06T21:17:14.644024Z"
    },
    "trusted": true
   },
   "outputs": [
    {
     "data": {
      "text/plain": [
       "['B-TOPPING',\n",
       " 'I-TOPPING',\n",
       " 'B-PIZZAORDER',\n",
       " 'I-PIZZAORDER',\n",
       " 'B-DRINKTYPE',\n",
       " 'I-DRINKTYPE',\n",
       " 'B-DRINKORDER',\n",
       " 'I-DRINKORDER',\n",
       " 'B-NUMBER',\n",
       " 'I-NUMBER',\n",
       " 'B-STYLE',\n",
       " 'I-STYLE',\n",
       " 'B-SIZE',\n",
       " 'I-SIZE',\n",
       " 'B-VOLUME',\n",
       " 'I-VOLUME',\n",
       " 'B-CONTAINERTYPE',\n",
       " 'I-CONTAINERTYPE',\n",
       " 'B-COMPLEX_TOPPING',\n",
       " 'I-COMPLEX_TOPPING',\n",
       " 'B-QUANTITY',\n",
       " 'I-QUANTITY',\n",
       " 'B-NOT',\n",
       " 'I-NOT',\n",
       " 'O']"
      ]
     },
     "execution_count": 77,
     "metadata": {},
     "output_type": "execute_result"
    }
   ],
   "source": [
    "# Using BIO Tagging\n",
    "bio_entities = [f\"{letter}-{entity}\" for entity in entities for letter in \"BI\"]\n",
    "bio_entities.append('O')\n",
    "bio_entities"
   ]
  },
  {
   "cell_type": "code",
   "execution_count": null,
   "metadata": {
    "execution": {
     "iopub.execute_input": "2024-12-06T21:17:14.660301Z",
     "iopub.status.busy": "2024-12-06T21:17:14.659953Z",
     "iopub.status.idle": "2024-12-06T21:17:14.683128Z",
     "shell.execute_reply": "2024-12-06T21:17:14.681982Z",
     "shell.execute_reply.started": "2024-12-06T21:17:14.660267Z"
    },
    "trusted": true
   },
   "outputs": [
    {
     "data": {
      "text/html": [
       "<style>#sk-container-id-1 {\n",
       "  /* Definition of color scheme common for light and dark mode */\n",
       "  --sklearn-color-text: black;\n",
       "  --sklearn-color-line: gray;\n",
       "  /* Definition of color scheme for unfitted estimators */\n",
       "  --sklearn-color-unfitted-level-0: #fff5e6;\n",
       "  --sklearn-color-unfitted-level-1: #f6e4d2;\n",
       "  --sklearn-color-unfitted-level-2: #ffe0b3;\n",
       "  --sklearn-color-unfitted-level-3: chocolate;\n",
       "  /* Definition of color scheme for fitted estimators */\n",
       "  --sklearn-color-fitted-level-0: #f0f8ff;\n",
       "  --sklearn-color-fitted-level-1: #d4ebff;\n",
       "  --sklearn-color-fitted-level-2: #b3dbfd;\n",
       "  --sklearn-color-fitted-level-3: cornflowerblue;\n",
       "\n",
       "  /* Specific color for light theme */\n",
       "  --sklearn-color-text-on-default-background: var(--sg-text-color, var(--theme-code-foreground, var(--jp-content-font-color1, black)));\n",
       "  --sklearn-color-background: var(--sg-background-color, var(--theme-background, var(--jp-layout-color0, white)));\n",
       "  --sklearn-color-border-box: var(--sg-text-color, var(--theme-code-foreground, var(--jp-content-font-color1, black)));\n",
       "  --sklearn-color-icon: #696969;\n",
       "\n",
       "  @media (prefers-color-scheme: dark) {\n",
       "    /* Redefinition of color scheme for dark theme */\n",
       "    --sklearn-color-text-on-default-background: var(--sg-text-color, var(--theme-code-foreground, var(--jp-content-font-color1, white)));\n",
       "    --sklearn-color-background: var(--sg-background-color, var(--theme-background, var(--jp-layout-color0, #111)));\n",
       "    --sklearn-color-border-box: var(--sg-text-color, var(--theme-code-foreground, var(--jp-content-font-color1, white)));\n",
       "    --sklearn-color-icon: #878787;\n",
       "  }\n",
       "}\n",
       "\n",
       "#sk-container-id-1 {\n",
       "  color: var(--sklearn-color-text);\n",
       "}\n",
       "\n",
       "#sk-container-id-1 pre {\n",
       "  padding: 0;\n",
       "}\n",
       "\n",
       "#sk-container-id-1 input.sk-hidden--visually {\n",
       "  border: 0;\n",
       "  clip: rect(1px 1px 1px 1px);\n",
       "  clip: rect(1px, 1px, 1px, 1px);\n",
       "  height: 1px;\n",
       "  margin: -1px;\n",
       "  overflow: hidden;\n",
       "  padding: 0;\n",
       "  position: absolute;\n",
       "  width: 1px;\n",
       "}\n",
       "\n",
       "#sk-container-id-1 div.sk-dashed-wrapped {\n",
       "  border: 1px dashed var(--sklearn-color-line);\n",
       "  margin: 0 0.4em 0.5em 0.4em;\n",
       "  box-sizing: border-box;\n",
       "  padding-bottom: 0.4em;\n",
       "  background-color: var(--sklearn-color-background);\n",
       "}\n",
       "\n",
       "#sk-container-id-1 div.sk-container {\n",
       "  /* jupyter's `normalize.less` sets `[hidden] { display: none; }`\n",
       "     but bootstrap.min.css set `[hidden] { display: none !important; }`\n",
       "     so we also need the `!important` here to be able to override the\n",
       "     default hidden behavior on the sphinx rendered scikit-learn.org.\n",
       "     See: https://github.com/scikit-learn/scikit-learn/issues/21755 */\n",
       "  display: inline-block !important;\n",
       "  position: relative;\n",
       "}\n",
       "\n",
       "#sk-container-id-1 div.sk-text-repr-fallback {\n",
       "  display: none;\n",
       "}\n",
       "\n",
       "div.sk-parallel-item,\n",
       "div.sk-serial,\n",
       "div.sk-item {\n",
       "  /* draw centered vertical line to link estimators */\n",
       "  background-image: linear-gradient(var(--sklearn-color-text-on-default-background), var(--sklearn-color-text-on-default-background));\n",
       "  background-size: 2px 100%;\n",
       "  background-repeat: no-repeat;\n",
       "  background-position: center center;\n",
       "}\n",
       "\n",
       "/* Parallel-specific style estimator block */\n",
       "\n",
       "#sk-container-id-1 div.sk-parallel-item::after {\n",
       "  content: \"\";\n",
       "  width: 100%;\n",
       "  border-bottom: 2px solid var(--sklearn-color-text-on-default-background);\n",
       "  flex-grow: 1;\n",
       "}\n",
       "\n",
       "#sk-container-id-1 div.sk-parallel {\n",
       "  display: flex;\n",
       "  align-items: stretch;\n",
       "  justify-content: center;\n",
       "  background-color: var(--sklearn-color-background);\n",
       "  position: relative;\n",
       "}\n",
       "\n",
       "#sk-container-id-1 div.sk-parallel-item {\n",
       "  display: flex;\n",
       "  flex-direction: column;\n",
       "}\n",
       "\n",
       "#sk-container-id-1 div.sk-parallel-item:first-child::after {\n",
       "  align-self: flex-end;\n",
       "  width: 50%;\n",
       "}\n",
       "\n",
       "#sk-container-id-1 div.sk-parallel-item:last-child::after {\n",
       "  align-self: flex-start;\n",
       "  width: 50%;\n",
       "}\n",
       "\n",
       "#sk-container-id-1 div.sk-parallel-item:only-child::after {\n",
       "  width: 0;\n",
       "}\n",
       "\n",
       "/* Serial-specific style estimator block */\n",
       "\n",
       "#sk-container-id-1 div.sk-serial {\n",
       "  display: flex;\n",
       "  flex-direction: column;\n",
       "  align-items: center;\n",
       "  background-color: var(--sklearn-color-background);\n",
       "  padding-right: 1em;\n",
       "  padding-left: 1em;\n",
       "}\n",
       "\n",
       "\n",
       "/* Toggleable style: style used for estimator/Pipeline/ColumnTransformer box that is\n",
       "clickable and can be expanded/collapsed.\n",
       "- Pipeline and ColumnTransformer use this feature and define the default style\n",
       "- Estimators will overwrite some part of the style using the `sk-estimator` class\n",
       "*/\n",
       "\n",
       "/* Pipeline and ColumnTransformer style (default) */\n",
       "\n",
       "#sk-container-id-1 div.sk-toggleable {\n",
       "  /* Default theme specific background. It is overwritten whether we have a\n",
       "  specific estimator or a Pipeline/ColumnTransformer */\n",
       "  background-color: var(--sklearn-color-background);\n",
       "}\n",
       "\n",
       "/* Toggleable label */\n",
       "#sk-container-id-1 label.sk-toggleable__label {\n",
       "  cursor: pointer;\n",
       "  display: block;\n",
       "  width: 100%;\n",
       "  margin-bottom: 0;\n",
       "  padding: 0.5em;\n",
       "  box-sizing: border-box;\n",
       "  text-align: center;\n",
       "}\n",
       "\n",
       "#sk-container-id-1 label.sk-toggleable__label-arrow:before {\n",
       "  /* Arrow on the left of the label */\n",
       "  content: \"▸\";\n",
       "  float: left;\n",
       "  margin-right: 0.25em;\n",
       "  color: var(--sklearn-color-icon);\n",
       "}\n",
       "\n",
       "#sk-container-id-1 label.sk-toggleable__label-arrow:hover:before {\n",
       "  color: var(--sklearn-color-text);\n",
       "}\n",
       "\n",
       "/* Toggleable content - dropdown */\n",
       "\n",
       "#sk-container-id-1 div.sk-toggleable__content {\n",
       "  max-height: 0;\n",
       "  max-width: 0;\n",
       "  overflow: hidden;\n",
       "  text-align: left;\n",
       "  /* unfitted */\n",
       "  background-color: var(--sklearn-color-unfitted-level-0);\n",
       "}\n",
       "\n",
       "#sk-container-id-1 div.sk-toggleable__content.fitted {\n",
       "  /* fitted */\n",
       "  background-color: var(--sklearn-color-fitted-level-0);\n",
       "}\n",
       "\n",
       "#sk-container-id-1 div.sk-toggleable__content pre {\n",
       "  margin: 0.2em;\n",
       "  border-radius: 0.25em;\n",
       "  color: var(--sklearn-color-text);\n",
       "  /* unfitted */\n",
       "  background-color: var(--sklearn-color-unfitted-level-0);\n",
       "}\n",
       "\n",
       "#sk-container-id-1 div.sk-toggleable__content.fitted pre {\n",
       "  /* unfitted */\n",
       "  background-color: var(--sklearn-color-fitted-level-0);\n",
       "}\n",
       "\n",
       "#sk-container-id-1 input.sk-toggleable__control:checked~div.sk-toggleable__content {\n",
       "  /* Expand drop-down */\n",
       "  max-height: 200px;\n",
       "  max-width: 100%;\n",
       "  overflow: auto;\n",
       "}\n",
       "\n",
       "#sk-container-id-1 input.sk-toggleable__control:checked~label.sk-toggleable__label-arrow:before {\n",
       "  content: \"▾\";\n",
       "}\n",
       "\n",
       "/* Pipeline/ColumnTransformer-specific style */\n",
       "\n",
       "#sk-container-id-1 div.sk-label input.sk-toggleable__control:checked~label.sk-toggleable__label {\n",
       "  color: var(--sklearn-color-text);\n",
       "  background-color: var(--sklearn-color-unfitted-level-2);\n",
       "}\n",
       "\n",
       "#sk-container-id-1 div.sk-label.fitted input.sk-toggleable__control:checked~label.sk-toggleable__label {\n",
       "  background-color: var(--sklearn-color-fitted-level-2);\n",
       "}\n",
       "\n",
       "/* Estimator-specific style */\n",
       "\n",
       "/* Colorize estimator box */\n",
       "#sk-container-id-1 div.sk-estimator input.sk-toggleable__control:checked~label.sk-toggleable__label {\n",
       "  /* unfitted */\n",
       "  background-color: var(--sklearn-color-unfitted-level-2);\n",
       "}\n",
       "\n",
       "#sk-container-id-1 div.sk-estimator.fitted input.sk-toggleable__control:checked~label.sk-toggleable__label {\n",
       "  /* fitted */\n",
       "  background-color: var(--sklearn-color-fitted-level-2);\n",
       "}\n",
       "\n",
       "#sk-container-id-1 div.sk-label label.sk-toggleable__label,\n",
       "#sk-container-id-1 div.sk-label label {\n",
       "  /* The background is the default theme color */\n",
       "  color: var(--sklearn-color-text-on-default-background);\n",
       "}\n",
       "\n",
       "/* On hover, darken the color of the background */\n",
       "#sk-container-id-1 div.sk-label:hover label.sk-toggleable__label {\n",
       "  color: var(--sklearn-color-text);\n",
       "  background-color: var(--sklearn-color-unfitted-level-2);\n",
       "}\n",
       "\n",
       "/* Label box, darken color on hover, fitted */\n",
       "#sk-container-id-1 div.sk-label.fitted:hover label.sk-toggleable__label.fitted {\n",
       "  color: var(--sklearn-color-text);\n",
       "  background-color: var(--sklearn-color-fitted-level-2);\n",
       "}\n",
       "\n",
       "/* Estimator label */\n",
       "\n",
       "#sk-container-id-1 div.sk-label label {\n",
       "  font-family: monospace;\n",
       "  font-weight: bold;\n",
       "  display: inline-block;\n",
       "  line-height: 1.2em;\n",
       "}\n",
       "\n",
       "#sk-container-id-1 div.sk-label-container {\n",
       "  text-align: center;\n",
       "}\n",
       "\n",
       "/* Estimator-specific */\n",
       "#sk-container-id-1 div.sk-estimator {\n",
       "  font-family: monospace;\n",
       "  border: 1px dotted var(--sklearn-color-border-box);\n",
       "  border-radius: 0.25em;\n",
       "  box-sizing: border-box;\n",
       "  margin-bottom: 0.5em;\n",
       "  /* unfitted */\n",
       "  background-color: var(--sklearn-color-unfitted-level-0);\n",
       "}\n",
       "\n",
       "#sk-container-id-1 div.sk-estimator.fitted {\n",
       "  /* fitted */\n",
       "  background-color: var(--sklearn-color-fitted-level-0);\n",
       "}\n",
       "\n",
       "/* on hover */\n",
       "#sk-container-id-1 div.sk-estimator:hover {\n",
       "  /* unfitted */\n",
       "  background-color: var(--sklearn-color-unfitted-level-2);\n",
       "}\n",
       "\n",
       "#sk-container-id-1 div.sk-estimator.fitted:hover {\n",
       "  /* fitted */\n",
       "  background-color: var(--sklearn-color-fitted-level-2);\n",
       "}\n",
       "\n",
       "/* Specification for estimator info (e.g. \"i\" and \"?\") */\n",
       "\n",
       "/* Common style for \"i\" and \"?\" */\n",
       "\n",
       ".sk-estimator-doc-link,\n",
       "a:link.sk-estimator-doc-link,\n",
       "a:visited.sk-estimator-doc-link {\n",
       "  float: right;\n",
       "  font-size: smaller;\n",
       "  line-height: 1em;\n",
       "  font-family: monospace;\n",
       "  background-color: var(--sklearn-color-background);\n",
       "  border-radius: 1em;\n",
       "  height: 1em;\n",
       "  width: 1em;\n",
       "  text-decoration: none !important;\n",
       "  margin-left: 1ex;\n",
       "  /* unfitted */\n",
       "  border: var(--sklearn-color-unfitted-level-1) 1pt solid;\n",
       "  color: var(--sklearn-color-unfitted-level-1);\n",
       "}\n",
       "\n",
       ".sk-estimator-doc-link.fitted,\n",
       "a:link.sk-estimator-doc-link.fitted,\n",
       "a:visited.sk-estimator-doc-link.fitted {\n",
       "  /* fitted */\n",
       "  border: var(--sklearn-color-fitted-level-1) 1pt solid;\n",
       "  color: var(--sklearn-color-fitted-level-1);\n",
       "}\n",
       "\n",
       "/* On hover */\n",
       "div.sk-estimator:hover .sk-estimator-doc-link:hover,\n",
       ".sk-estimator-doc-link:hover,\n",
       "div.sk-label-container:hover .sk-estimator-doc-link:hover,\n",
       ".sk-estimator-doc-link:hover {\n",
       "  /* unfitted */\n",
       "  background-color: var(--sklearn-color-unfitted-level-3);\n",
       "  color: var(--sklearn-color-background);\n",
       "  text-decoration: none;\n",
       "}\n",
       "\n",
       "div.sk-estimator.fitted:hover .sk-estimator-doc-link.fitted:hover,\n",
       ".sk-estimator-doc-link.fitted:hover,\n",
       "div.sk-label-container:hover .sk-estimator-doc-link.fitted:hover,\n",
       ".sk-estimator-doc-link.fitted:hover {\n",
       "  /* fitted */\n",
       "  background-color: var(--sklearn-color-fitted-level-3);\n",
       "  color: var(--sklearn-color-background);\n",
       "  text-decoration: none;\n",
       "}\n",
       "\n",
       "/* Span, style for the box shown on hovering the info icon */\n",
       ".sk-estimator-doc-link span {\n",
       "  display: none;\n",
       "  z-index: 9999;\n",
       "  position: relative;\n",
       "  font-weight: normal;\n",
       "  right: .2ex;\n",
       "  padding: .5ex;\n",
       "  margin: .5ex;\n",
       "  width: min-content;\n",
       "  min-width: 20ex;\n",
       "  max-width: 50ex;\n",
       "  color: var(--sklearn-color-text);\n",
       "  box-shadow: 2pt 2pt 4pt #999;\n",
       "  /* unfitted */\n",
       "  background: var(--sklearn-color-unfitted-level-0);\n",
       "  border: .5pt solid var(--sklearn-color-unfitted-level-3);\n",
       "}\n",
       "\n",
       ".sk-estimator-doc-link.fitted span {\n",
       "  /* fitted */\n",
       "  background: var(--sklearn-color-fitted-level-0);\n",
       "  border: var(--sklearn-color-fitted-level-3);\n",
       "}\n",
       "\n",
       ".sk-estimator-doc-link:hover span {\n",
       "  display: block;\n",
       "}\n",
       "\n",
       "/* \"?\"-specific style due to the `<a>` HTML tag */\n",
       "\n",
       "#sk-container-id-1 a.estimator_doc_link {\n",
       "  float: right;\n",
       "  font-size: 1rem;\n",
       "  line-height: 1em;\n",
       "  font-family: monospace;\n",
       "  background-color: var(--sklearn-color-background);\n",
       "  border-radius: 1rem;\n",
       "  height: 1rem;\n",
       "  width: 1rem;\n",
       "  text-decoration: none;\n",
       "  /* unfitted */\n",
       "  color: var(--sklearn-color-unfitted-level-1);\n",
       "  border: var(--sklearn-color-unfitted-level-1) 1pt solid;\n",
       "}\n",
       "\n",
       "#sk-container-id-1 a.estimator_doc_link.fitted {\n",
       "  /* fitted */\n",
       "  border: var(--sklearn-color-fitted-level-1) 1pt solid;\n",
       "  color: var(--sklearn-color-fitted-level-1);\n",
       "}\n",
       "\n",
       "/* On hover */\n",
       "#sk-container-id-1 a.estimator_doc_link:hover {\n",
       "  /* unfitted */\n",
       "  background-color: var(--sklearn-color-unfitted-level-3);\n",
       "  color: var(--sklearn-color-background);\n",
       "  text-decoration: none;\n",
       "}\n",
       "\n",
       "#sk-container-id-1 a.estimator_doc_link.fitted:hover {\n",
       "  /* fitted */\n",
       "  background-color: var(--sklearn-color-fitted-level-3);\n",
       "}\n",
       "</style><div id=\"sk-container-id-1\" class=\"sk-top-container\"><div class=\"sk-text-repr-fallback\"><pre>LabelEncoder()</pre><b>In a Jupyter environment, please rerun this cell to show the HTML representation or trust the notebook. <br />On GitHub, the HTML representation is unable to render, please try loading this page with nbviewer.org.</b></div><div class=\"sk-container\" hidden><div class=\"sk-item\"><div class=\"sk-estimator fitted sk-toggleable\"><input class=\"sk-toggleable__control sk-hidden--visually\" id=\"sk-estimator-id-1\" type=\"checkbox\" checked><label for=\"sk-estimator-id-1\" class=\"sk-toggleable__label fitted sk-toggleable__label-arrow fitted\">&nbsp;&nbsp;LabelEncoder<a class=\"sk-estimator-doc-link fitted\" rel=\"noreferrer\" target=\"_blank\" href=\"https://scikit-learn.org/1.5/modules/generated/sklearn.preprocessing.LabelEncoder.html\">?<span>Documentation for LabelEncoder</span></a><span class=\"sk-estimator-doc-link fitted\">i<span>Fitted</span></span></label><div class=\"sk-toggleable__content fitted\"><pre>LabelEncoder()</pre></div> </div></div></div></div>"
      ],
      "text/plain": [
       "LabelEncoder()"
      ]
     },
     "execution_count": 78,
     "metadata": {},
     "output_type": "execute_result"
    }
   ],
   "source": [
    "label_encoder = LabelEncoder()\n",
    "label_encoder.fit(bio_entities)"
   ]
  },
  {
   "cell_type": "code",
   "execution_count": null,
   "metadata": {
    "execution": {
     "iopub.execute_input": "2024-12-06T21:17:14.685308Z",
     "iopub.status.busy": "2024-12-06T21:17:14.684910Z",
     "iopub.status.idle": "2024-12-06T21:17:14.700132Z",
     "shell.execute_reply": "2024-12-06T21:17:14.698862Z",
     "shell.execute_reply.started": "2024-12-06T21:17:14.685271Z"
    },
    "trusted": true
   },
   "outputs": [
    {
     "data": {
      "text/plain": [
       "array([6])"
      ]
     },
     "execution_count": 79,
     "metadata": {},
     "output_type": "execute_result"
    }
   ],
   "source": [
    "label_encoder.transform(['B-PIZZAORDER'])"
   ]
  },
  {
   "cell_type": "code",
   "execution_count": null,
   "metadata": {
    "execution": {
     "iopub.execute_input": "2024-12-06T21:17:14.701947Z",
     "iopub.status.busy": "2024-12-06T21:17:14.701569Z",
     "iopub.status.idle": "2024-12-06T21:17:14.713223Z",
     "shell.execute_reply": "2024-12-06T21:17:14.712151Z",
     "shell.execute_reply.started": "2024-12-06T21:17:14.701912Z"
    },
    "trusted": true
   },
   "outputs": [],
   "source": [
    "def encode_entities(entities):\n",
    "    return [label_encoder.transform(entity) for entity in entities]\n",
    "def decode_entities(encoded_entities):\n",
    "    return [label_encoder.inverse_transform(entity) for entity in encoded_entities]"
   ]
  },
  {
   "cell_type": "markdown",
   "metadata": {},
   "source": [
    "### Modification\n",
    "#### we used regexp_tokenize to handle cases like:\n",
    "- I'd \n",
    "- party - size"
   ]
  },
  {
   "cell_type": "code",
   "execution_count": null,
   "metadata": {
    "execution": {
     "iopub.execute_input": "2024-12-06T21:17:14.716107Z",
     "iopub.status.busy": "2024-12-06T21:17:14.714720Z",
     "iopub.status.idle": "2024-12-06T21:17:16.373695Z",
     "shell.execute_reply": "2024-12-06T21:17:16.372276Z",
     "shell.execute_reply.started": "2024-12-06T21:17:14.716052Z"
    },
    "trusted": true
   },
   "outputs": [
    {
     "data": {
      "text/html": [
       "<div>\n",
       "<style scoped>\n",
       "    .dataframe tbody tr th:only-of-type {\n",
       "        vertical-align: middle;\n",
       "    }\n",
       "\n",
       "    .dataframe tbody tr th {\n",
       "        vertical-align: top;\n",
       "    }\n",
       "\n",
       "    .dataframe thead th {\n",
       "        text-align: right;\n",
       "    }\n",
       "</style>\n",
       "<table border=\"1\" class=\"dataframe\">\n",
       "  <thead>\n",
       "    <tr style=\"text-align: right;\">\n",
       "      <th></th>\n",
       "      <th>src</th>\n",
       "      <th>top</th>\n",
       "    </tr>\n",
       "  </thead>\n",
       "  <tbody>\n",
       "    <tr>\n",
       "      <th>852235</th>\n",
       "      <td>three pizzas no american cheese and i'd like five personal size pies with no american cheese</td>\n",
       "      <td>(PIZZAORDER (NUMBER three ) pizzas no (NOT (TOPPING american cheese ) ) ) and i'd like (PIZZAORDER (NUMBER five ) (SIZE personal size ) pies with no (NOT (TOPPING american cheese ) ) )</td>\n",
       "    </tr>\n",
       "    <tr>\n",
       "      <th>852238</th>\n",
       "      <td>three pizzas no american cheese and i'd like three large pizzas with peperonni and without any vegan pepperoni</td>\n",
       "      <td>(PIZZAORDER (NUMBER three ) pizzas no (NOT (TOPPING american cheese ) ) ) and i'd like (PIZZAORDER (NUMBER three ) (SIZE large ) pizzas with (TOPPING peperonni ) and without any (NOT (TOPPING vegan pepperoni ) ) )</td>\n",
       "    </tr>\n",
       "    <tr>\n",
       "      <th>852270</th>\n",
       "      <td>four pizzas with balsamic glaze and i'd like three party size pies with peperonni and with no roasted pepper</td>\n",
       "      <td>(PIZZAORDER (NUMBER four ) pizzas with (TOPPING balsamic glaze ) ) and i'd like (PIZZAORDER (NUMBER three ) (SIZE party size ) pies with (TOPPING peperonni ) and with no (NOT (TOPPING roasted pepper ) ) )</td>\n",
       "    </tr>\n",
       "    <tr>\n",
       "      <th>852280</th>\n",
       "      <td>three large pizzas with balsamic glaze and i'd like four pies with peperonni and roasted green peppers</td>\n",
       "      <td>(PIZZAORDER (NUMBER three ) (SIZE large ) pizzas with (TOPPING balsamic glaze ) ) and i'd like (PIZZAORDER (NUMBER four ) pies with (TOPPING peperonni ) and (TOPPING roasted green peppers ) )</td>\n",
       "    </tr>\n",
       "    <tr>\n",
       "      <th>852287</th>\n",
       "      <td>four pizzas with balsamic glaze and i'd like three pies with pepper</td>\n",
       "      <td>(PIZZAORDER (NUMBER four ) pizzas with (TOPPING balsamic glaze ) ) and i'd like (PIZZAORDER (NUMBER three ) pies with (TOPPING pepper ) )</td>\n",
       "    </tr>\n",
       "    <tr>\n",
       "      <th>...</th>\n",
       "      <td>...</td>\n",
       "      <td>...</td>\n",
       "    </tr>\n",
       "    <tr>\n",
       "      <th>1251865</th>\n",
       "      <td>five pizzas no american cheese and i'd like three party sized pies with no banana peppers</td>\n",
       "      <td>(PIZZAORDER (NUMBER five ) pizzas no (NOT (TOPPING american cheese ) ) ) and i'd like (PIZZAORDER (NUMBER three ) (SIZE party sized ) pies with no (NOT (TOPPING banana peppers ) ) )</td>\n",
       "    </tr>\n",
       "    <tr>\n",
       "      <th>1251868</th>\n",
       "      <td>three party sized pizzas no american cheese and i'd like two regular pies no american cheese</td>\n",
       "      <td>(PIZZAORDER (NUMBER three ) (SIZE party sized ) pizzas no (NOT (TOPPING american cheese ) ) ) and i'd like (PIZZAORDER (NUMBER two ) (SIZE regular ) pies no (NOT (TOPPING american cheese ) ) )</td>\n",
       "    </tr>\n",
       "    <tr>\n",
       "      <th>1251870</th>\n",
       "      <td>five large pizzas with balsamic glaze and i'd like three pies with mozzarella and sauce</td>\n",
       "      <td>(PIZZAORDER (NUMBER five ) (SIZE large ) pizzas with (TOPPING balsamic glaze ) ) and i'd like (PIZZAORDER (NUMBER three ) pies with (TOPPING mozzarella ) and (TOPPING sauce ) )</td>\n",
       "    </tr>\n",
       "    <tr>\n",
       "      <th>1251871</th>\n",
       "      <td>three pizzas no american cheese and i'd like three party size pies with meatball and without roasted green pepper</td>\n",
       "      <td>(PIZZAORDER (NUMBER three ) pizzas no (NOT (TOPPING american cheese ) ) ) and i'd like (PIZZAORDER (NUMBER three ) (SIZE party size ) pies with (TOPPING meatball ) and without (NOT (TOPPING roasted green pepper ) ) )</td>\n",
       "    </tr>\n",
       "    <tr>\n",
       "      <th>1251883</th>\n",
       "      <td>four pizzas with balsamic glaze and i'd like three pies with pecorino cheese and no ricotta</td>\n",
       "      <td>(PIZZAORDER (NUMBER four ) pizzas with (TOPPING balsamic glaze ) ) and i'd like (PIZZAORDER (NUMBER three ) pies with (TOPPING pecorino cheese ) and no (NOT (TOPPING ricotta ) ) )</td>\n",
       "    </tr>\n",
       "  </tbody>\n",
       "</table>\n",
       "<p>38623 rows × 2 columns</p>\n",
       "</div>"
      ],
      "text/plain": [
       "                                                                                                                       src  \\\n",
       "852235                        three pizzas no american cheese and i'd like five personal size pies with no american cheese   \n",
       "852238      three pizzas no american cheese and i'd like three large pizzas with peperonni and without any vegan pepperoni   \n",
       "852270        four pizzas with balsamic glaze and i'd like three party size pies with peperonni and with no roasted pepper   \n",
       "852280              three large pizzas with balsamic glaze and i'd like four pies with peperonni and roasted green peppers   \n",
       "852287                                                 four pizzas with balsamic glaze and i'd like three pies with pepper   \n",
       "...                                                                                                                    ...   \n",
       "1251865                          five pizzas no american cheese and i'd like three party sized pies with no banana peppers   \n",
       "1251868                       three party sized pizzas no american cheese and i'd like two regular pies no american cheese   \n",
       "1251870                            five large pizzas with balsamic glaze and i'd like three pies with mozzarella and sauce   \n",
       "1251871  three pizzas no american cheese and i'd like three party size pies with meatball and without roasted green pepper   \n",
       "1251883                        four pizzas with balsamic glaze and i'd like three pies with pecorino cheese and no ricotta   \n",
       "\n",
       "                                                                                                                                                                                                                               top  \n",
       "852235                                   (PIZZAORDER (NUMBER three ) pizzas no (NOT (TOPPING american cheese ) ) ) and i'd like (PIZZAORDER (NUMBER five ) (SIZE personal size ) pies with no (NOT (TOPPING american cheese ) ) )   \n",
       "852238      (PIZZAORDER (NUMBER three ) pizzas no (NOT (TOPPING american cheese ) ) ) and i'd like (PIZZAORDER (NUMBER three ) (SIZE large ) pizzas with (TOPPING peperonni ) and without any (NOT (TOPPING vegan pepperoni ) ) )   \n",
       "852270               (PIZZAORDER (NUMBER four ) pizzas with (TOPPING balsamic glaze ) ) and i'd like (PIZZAORDER (NUMBER three ) (SIZE party size ) pies with (TOPPING peperonni ) and with no (NOT (TOPPING roasted pepper ) ) )   \n",
       "852280                            (PIZZAORDER (NUMBER three ) (SIZE large ) pizzas with (TOPPING balsamic glaze ) ) and i'd like (PIZZAORDER (NUMBER four ) pies with (TOPPING peperonni ) and (TOPPING roasted green peppers ) )   \n",
       "852287                                                                                  (PIZZAORDER (NUMBER four ) pizzas with (TOPPING balsamic glaze ) ) and i'd like (PIZZAORDER (NUMBER three ) pies with (TOPPING pepper ) )   \n",
       "...                                                                                                                                                                                                                            ...  \n",
       "1251865                                     (PIZZAORDER (NUMBER five ) pizzas no (NOT (TOPPING american cheese ) ) ) and i'd like (PIZZAORDER (NUMBER three ) (SIZE party sized ) pies with no (NOT (TOPPING banana peppers ) ) )   \n",
       "1251868                          (PIZZAORDER (NUMBER three ) (SIZE party sized ) pizzas no (NOT (TOPPING american cheese ) ) ) and i'd like (PIZZAORDER (NUMBER two ) (SIZE regular ) pies no (NOT (TOPPING american cheese ) ) )   \n",
       "1251870                                          (PIZZAORDER (NUMBER five ) (SIZE large ) pizzas with (TOPPING balsamic glaze ) ) and i'd like (PIZZAORDER (NUMBER three ) pies with (TOPPING mozzarella ) and (TOPPING sauce ) )   \n",
       "1251871  (PIZZAORDER (NUMBER three ) pizzas no (NOT (TOPPING american cheese ) ) ) and i'd like (PIZZAORDER (NUMBER three ) (SIZE party size ) pies with (TOPPING meatball ) and without (NOT (TOPPING roasted green pepper ) ) )   \n",
       "1251883                                       (PIZZAORDER (NUMBER four ) pizzas with (TOPPING balsamic glaze ) ) and i'd like (PIZZAORDER (NUMBER three ) pies with (TOPPING pecorino cheese ) and no (NOT (TOPPING ricotta ) ) )   \n",
       "\n",
       "[38623 rows x 2 columns]"
      ]
     },
     "execution_count": 81,
     "metadata": {},
     "output_type": "execute_result"
    }
   ],
   "source": [
    "quotes_sparated = df_train['src'].str.find(\"i'd\") > 0\n",
    "df_train[['src', 'top']][quotes_sparated]"
   ]
  },
  {
   "cell_type": "code",
   "execution_count": null,
   "metadata": {
    "execution": {
     "iopub.execute_input": "2024-12-06T21:17:16.375573Z",
     "iopub.status.busy": "2024-12-06T21:17:16.375224Z",
     "iopub.status.idle": "2024-12-06T21:17:18.055128Z",
     "shell.execute_reply": "2024-12-06T21:17:18.053954Z",
     "shell.execute_reply.started": "2024-12-06T21:17:16.375539Z"
    },
    "trusted": true
   },
   "outputs": [
    {
     "data": {
      "text/html": [
       "<div>\n",
       "<style scoped>\n",
       "    .dataframe tbody tr th:only-of-type {\n",
       "        vertical-align: middle;\n",
       "    }\n",
       "\n",
       "    .dataframe tbody tr th {\n",
       "        vertical-align: top;\n",
       "    }\n",
       "\n",
       "    .dataframe thead th {\n",
       "        text-align: right;\n",
       "    }\n",
       "</style>\n",
       "<table border=\"1\" class=\"dataframe\">\n",
       "  <thead>\n",
       "    <tr style=\"text-align: right;\">\n",
       "      <th></th>\n",
       "      <th>src</th>\n",
       "      <th>top</th>\n",
       "    </tr>\n",
       "  </thead>\n",
       "  <tbody>\n",
       "    <tr>\n",
       "      <th>8</th>\n",
       "      <td>can i have one party sized high rise dough pizza with american cheese and a lot of peperonni</td>\n",
       "      <td>can i have (PIZZAORDER (NUMBER one ) (SIZE party sized ) (STYLE high rise dough ) pizza with (TOPPING american cheese ) and (COMPLEX_TOPPING (QUANTITY a lot of ) (TOPPING peperonni ) ) )</td>\n",
       "    </tr>\n",
       "    <tr>\n",
       "      <th>11</th>\n",
       "      <td>i'd like one party sized pie with american cheese and with pesto sauce</td>\n",
       "      <td>i'd like (PIZZAORDER (NUMBER one ) (SIZE party sized ) pie with (TOPPING american cheese ) and with (TOPPING pesto sauce ) )</td>\n",
       "    </tr>\n",
       "    <tr>\n",
       "      <th>13</th>\n",
       "      <td>can i have a party - sized pie without any bean</td>\n",
       "      <td>can i have (PIZZAORDER (NUMBER a ) (SIZE party - sized ) pie without any (NOT (TOPPING bean ) ) )</td>\n",
       "    </tr>\n",
       "    <tr>\n",
       "      <th>15</th>\n",
       "      <td>i'd like a party sized high rise dough pie with a lot of banana pepper and pecorino cheese</td>\n",
       "      <td>i'd like (PIZZAORDER (NUMBER a ) (SIZE party sized ) (STYLE high rise dough ) pie with (COMPLEX_TOPPING (QUANTITY a lot of ) (TOPPING banana pepper ) ) and (TOPPING pecorino cheese ) )</td>\n",
       "    </tr>\n",
       "    <tr>\n",
       "      <th>16</th>\n",
       "      <td>i'd like a party sized pie with balsamic glaze and black olive</td>\n",
       "      <td>i'd like (PIZZAORDER (NUMBER a ) (SIZE party sized ) pie with (TOPPING balsamic glaze ) and (TOPPING black olive ) )</td>\n",
       "    </tr>\n",
       "    <tr>\n",
       "      <th>...</th>\n",
       "      <td>...</td>\n",
       "      <td>...</td>\n",
       "    </tr>\n",
       "    <tr>\n",
       "      <th>2081430</th>\n",
       "      <td>i'd like a party - sized pizza with red peppers salami and fried onions</td>\n",
       "      <td>i'd like (PIZZAORDER (NUMBER a ) (SIZE party - sized ) pizza with (TOPPING red peppers ) (TOPPING salami ) and (TOPPING fried onions ) )</td>\n",
       "    </tr>\n",
       "    <tr>\n",
       "      <th>2081432</th>\n",
       "      <td>i'd like a party - size pizza with vegan pepperoni bbq chicken and dried tomato</td>\n",
       "      <td>i'd like (PIZZAORDER (NUMBER a ) (SIZE party - size ) pizza with (TOPPING vegan pepperoni ) (TOPPING bbq chicken ) and (TOPPING dried tomato ) )</td>\n",
       "    </tr>\n",
       "    <tr>\n",
       "      <th>2081434</th>\n",
       "      <td>i'd like a party - size pizza with barbecue sauce peppperoni and white onion</td>\n",
       "      <td>i'd like (PIZZAORDER (NUMBER a ) (SIZE party - size ) pizza with (TOPPING barbecue sauce ) (TOPPING peppperoni ) and (TOPPING white onion ) )</td>\n",
       "    </tr>\n",
       "    <tr>\n",
       "      <th>2081439</th>\n",
       "      <td>i'd like a party size pizza with bacon yellow peppers and sausage</td>\n",
       "      <td>i'd like (PIZZAORDER (NUMBER a ) (SIZE party size ) pizza with (TOPPING bacon ) (TOPPING yellow peppers ) and (TOPPING sausage ) )</td>\n",
       "    </tr>\n",
       "    <tr>\n",
       "      <th>2081443</th>\n",
       "      <td>i'd like a party size pizza with white onion carrots and salami</td>\n",
       "      <td>i'd like (PIZZAORDER (NUMBER a ) (SIZE party size ) pizza with (TOPPING white onion ) (TOPPING carrots ) and (TOPPING salami ) )</td>\n",
       "    </tr>\n",
       "  </tbody>\n",
       "</table>\n",
       "<p>479854 rows × 2 columns</p>\n",
       "</div>"
      ],
      "text/plain": [
       "                                                                                                  src  \\\n",
       "8        can i have one party sized high rise dough pizza with american cheese and a lot of peperonni   \n",
       "11                             i'd like one party sized pie with american cheese and with pesto sauce   \n",
       "13                                                    can i have a party - sized pie without any bean   \n",
       "15         i'd like a party sized high rise dough pie with a lot of banana pepper and pecorino cheese   \n",
       "16                                     i'd like a party sized pie with balsamic glaze and black olive   \n",
       "...                                                                                               ...   \n",
       "2081430                       i'd like a party - sized pizza with red peppers salami and fried onions   \n",
       "2081432               i'd like a party - size pizza with vegan pepperoni bbq chicken and dried tomato   \n",
       "2081434                  i'd like a party - size pizza with barbecue sauce peppperoni and white onion   \n",
       "2081439                             i'd like a party size pizza with bacon yellow peppers and sausage   \n",
       "2081443                               i'd like a party size pizza with white onion carrots and salami   \n",
       "\n",
       "                                                                                                                                                                                                 top  \n",
       "8        can i have (PIZZAORDER (NUMBER one ) (SIZE party sized ) (STYLE high rise dough ) pizza with (TOPPING american cheese ) and (COMPLEX_TOPPING (QUANTITY a lot of ) (TOPPING peperonni ) ) )   \n",
       "11                                                                     i'd like (PIZZAORDER (NUMBER one ) (SIZE party sized ) pie with (TOPPING american cheese ) and with (TOPPING pesto sauce ) )   \n",
       "13                                                                                                can i have (PIZZAORDER (NUMBER a ) (SIZE party - sized ) pie without any (NOT (TOPPING bean ) ) )   \n",
       "15         i'd like (PIZZAORDER (NUMBER a ) (SIZE party sized ) (STYLE high rise dough ) pie with (COMPLEX_TOPPING (QUANTITY a lot of ) (TOPPING banana pepper ) ) and (TOPPING pecorino cheese ) )   \n",
       "16                                                                             i'd like (PIZZAORDER (NUMBER a ) (SIZE party sized ) pie with (TOPPING balsamic glaze ) and (TOPPING black olive ) )   \n",
       "...                                                                                                                                                                                              ...  \n",
       "2081430                                                    i'd like (PIZZAORDER (NUMBER a ) (SIZE party - sized ) pizza with (TOPPING red peppers ) (TOPPING salami ) and (TOPPING fried onions ) )   \n",
       "2081432                                            i'd like (PIZZAORDER (NUMBER a ) (SIZE party - size ) pizza with (TOPPING vegan pepperoni ) (TOPPING bbq chicken ) and (TOPPING dried tomato ) )   \n",
       "2081434                                               i'd like (PIZZAORDER (NUMBER a ) (SIZE party - size ) pizza with (TOPPING barbecue sauce ) (TOPPING peppperoni ) and (TOPPING white onion ) )   \n",
       "2081439                                                          i'd like (PIZZAORDER (NUMBER a ) (SIZE party size ) pizza with (TOPPING bacon ) (TOPPING yellow peppers ) and (TOPPING sausage ) )   \n",
       "2081443                                                            i'd like (PIZZAORDER (NUMBER a ) (SIZE party size ) pizza with (TOPPING white onion ) (TOPPING carrots ) and (TOPPING salami ) )   \n",
       "\n",
       "[479854 rows x 2 columns]"
      ]
     },
     "execution_count": 82,
     "metadata": {},
     "output_type": "execute_result"
    }
   ],
   "source": [
    "hyphen_separated = df_train['src'].str.find(\"party\") > 0\n",
    "df_train[['src', 'top']][hyphen_separated]"
   ]
  },
  {
   "cell_type": "code",
   "execution_count": null,
   "metadata": {
    "execution": {
     "iopub.execute_input": "2024-12-06T21:17:18.056937Z",
     "iopub.status.busy": "2024-12-06T21:17:18.056568Z",
     "iopub.status.idle": "2024-12-06T21:17:18.076308Z",
     "shell.execute_reply": "2024-12-06T21:17:18.075319Z",
     "shell.execute_reply.started": "2024-12-06T21:17:18.056902Z"
    },
    "trusted": true
   },
   "outputs": [],
   "source": [
    "def extract_labels(top: str, entities):\n",
    "    # Extract words and parenthesis\n",
    "    pattern = r\"\\b\\w+(?:'\\w+)?(?:-\\w+)*\\b|[()]\"\n",
    "    tokens = regexp_tokenize(top, pattern)\n",
    "    \n",
    "    labels: list[str] = []\n",
    "    count: int = 0\n",
    "    # print(tokens)\n",
    "    is_beginning = True\n",
    "    order_type = \"PIZZAORDER\"\n",
    "    for i, token in enumerate(tokens):\n",
    "        # print(token, count)\n",
    "        # Skip all entities except [\"PIZZAORDER\", \"DRINKORDER\"]\n",
    "        if token in entities and token not in [\"PIZZAORDER\", \"DRINKORDER\"]:\n",
    "            continue\n",
    "        elif token == \"(\":\n",
    "            count += 1\n",
    "        elif token == \")\":\n",
    "            count -= 1\n",
    "        elif token == \"PIZZAORDER\":\n",
    "            order_type = \"PIZZAORDER\"\n",
    "        elif token == \"DRINKORDER\":\n",
    "            order_type = \"DRINKORDER\"\n",
    "        \n",
    "        elif count == 0:\n",
    "            labels.append(\"O\")\n",
    "            is_beginning = True\n",
    "        else:\n",
    "            if is_beginning == True:\n",
    "                labels.append(\"B-\" + order_type)\n",
    "                is_beginning = False\n",
    "                continue\n",
    "            if is_beginning == False:\n",
    "                labels.append(\"I-\" + order_type)\n",
    "    return labels\n",
    "\n",
    "def encode_labels(labels: list[str]):\n",
    "    return label_encoder.transform(labels)\n",
    "def decode_labels(labels: list[str]):\n",
    "    return label_encoder.inverse_transform(labels)\n",
    "\n",
    "# index = 1251868\n",
    "# tokens = df_train['src'][index].split()\n",
    "# labels = extract_labels(df_train['top'][index], entities)\n",
    "# encoded_labels = encode_labels(labels)\n",
    "# print(len(tokens), len(labels))\n",
    "# print([(x, y) for x, y in zip(tokens, labels)])\n",
    "# df_train.iloc[index:index+1].head()"
   ]
  },
  {
   "cell_type": "code",
   "execution_count": null,
   "metadata": {
    "execution": {
     "iopub.execute_input": "2024-12-06T21:17:35.034946Z",
     "iopub.status.busy": "2024-12-06T21:17:35.034433Z",
     "iopub.status.idle": "2024-12-06T21:17:35.040162Z",
     "shell.execute_reply": "2024-12-06T21:17:35.038809Z",
     "shell.execute_reply.started": "2024-12-06T21:17:35.034904Z"
    },
    "trusted": true
   },
   "outputs": [],
   "source": [
    "df_train['labels'] = df_train['top'].progress_apply(lambda x: extract_labels(x, entities))\n",
    "df_train['encoded_labels'] = df_train['labels'].progress_apply(encode_labels)\n",
    "df_dev.head(1)"
   ]
  },
  {
   "cell_type": "code",
   "execution_count": null,
   "metadata": {
    "execution": {
     "iopub.execute_input": "2024-12-06T21:17:36.955438Z",
     "iopub.status.busy": "2024-12-06T21:17:36.955016Z",
     "iopub.status.idle": "2024-12-06T21:17:37.069791Z",
     "shell.execute_reply": "2024-12-06T21:17:37.068607Z",
     "shell.execute_reply.started": "2024-12-06T21:17:36.955402Z"
    },
    "trusted": true
   },
   "outputs": [
    {
     "name": "stderr",
     "output_type": "stream",
     "text": [
      "100%|██████████| 348/348 [00:00<00:00, 38664.35it/s]\n",
      "100%|██████████| 348/348 [00:00<00:00, 11999.09it/s]\n"
     ]
    },
    {
     "data": {
      "text/html": [
       "<div>\n",
       "<style scoped>\n",
       "    .dataframe tbody tr th:only-of-type {\n",
       "        vertical-align: middle;\n",
       "    }\n",
       "\n",
       "    .dataframe tbody tr th {\n",
       "        vertical-align: top;\n",
       "    }\n",
       "\n",
       "    .dataframe thead th {\n",
       "        text-align: right;\n",
       "    }\n",
       "</style>\n",
       "<table border=\"1\" class=\"dataframe\">\n",
       "  <thead>\n",
       "    <tr style=\"text-align: right;\">\n",
       "      <th></th>\n",
       "      <th>src</th>\n",
       "      <th>top</th>\n",
       "      <th>tokenized</th>\n",
       "      <th>tfidf_features</th>\n",
       "      <th>word2vec_features</th>\n",
       "      <th>labels</th>\n",
       "      <th>encoded_labels</th>\n",
       "    </tr>\n",
       "  </thead>\n",
       "  <tbody>\n",
       "    <tr>\n",
       "      <th>0</th>\n",
       "      <td>i want to order two medium pizzas with sausage and black olives and two medium pizzas with pepperoni and extra cheese and three large pizzas with pepperoni and sausage</td>\n",
       "      <td>i want to order (PIZZAORDER (NUMBER two ) (SIZE medium ) pizzas with (TOPPING sausage ) and (TOPPING black olives ) ) and (PIZZAORDER (NUMBER two ) (SIZE medium ) pizzas with (TOPPING pepperoni ) and (COMPLEX_TOPPING (QUANTITY extra ) (TOPPING cheese ) ) ) and (PIZZAORDER (NUMBER three ) (SIZE large ) pizzas with (TOPPING pepperoni ) and (TOPPING sausage ) )</td>\n",
       "      <td>[i, want, to, order, two, medium, pizzas, with, sausage, and, black, olives, and, two, medium, pizzas, with, pepperoni, and, extra, cheese, and, three, large, pizzas, with, pepperoni, and, sausage]</td>\n",
       "      <td>[[0.08430143723922251, 0.0, 0.13337969831862775, 0.0, 0.0, 0.10034713760427152, 0.17396375337864922, 0.17958770538428326, 0.14606531916873786, 0.17721922092796344, 0.19713448714781656, 0.0, 0.17288347347903418, 0.0, 0.0, 0.0, 0.1366724335010161, 0.0, 0.0, 0.1562794386914836, 0.19391225920436742, 0.0, 0.11286164475205294, 0.0, 0.12416543512769322, 0.0, 0.0, 0.19234760746279847, 0.12248119173361699, 0.0, 0.20664361011193244, 0.0, 0.18995951017233198, 0.2045777012433944, 0.1168537902697436, 0.0, 0.16890313266495663, 0.0, 0.0, 0.1335421575549344, 0.0, 0.19944260753166945, 0.0, 0.18473089869790738, 0.0, 0.19133428377261583, 0.20978968793267175, 0.14310616380645452, 0.17265659900612262, 0.0, 0.16817054006660384, 0.0, 0.14150333339868498, 0.17275472419101204, 0.22930989128613138, 0.0, 0.0, 0.20155267717081113, 0.1546082459604938, 0.15693159662581818, 0.1832160787506764, 0.0, 0.18729363892005363, 0.0, 0.20773045712657492, 0.0, 0.19346051503038109, 0.0, 0.16041910398343542, 0.09303061188182...</td>\n",
       "      <td>[[0.0677469, -0.041739315, -0.08083352, 0.12261514, 0.16721858, -0.05736017, 0.09708657, 0.28409472, -0.118705854, -0.027471012, -0.057421274, -0.14376749, 0.0473368, 0.14283921, -0.030394064, -0.031858526, 0.052781112, 0.07924095, 0.0069334647, -0.2780961, 0.09244968, -0.032641098, -0.026583068, 0.036451172, 0.03341323, -0.025228117, -0.07656543, -0.118221, -0.10734222, 0.03260397, 0.15275688, 0.05852104, 0.106173486, -0.05881508, -0.082549885, 0.1174997, 0.06174134, -0.08423522, -0.055344716, -0.16970553, -0.06645013, 0.006280372, -0.11624798, -0.00490635, 0.1332938, -0.05824645, -0.00758351, -0.1255734, 0.039873965, 0.07710664, 0.045426518, -0.18234527, -0.024939088, -0.10234514, 0.08368705, -0.06852132, -0.07534842, -0.15418817, -0.14619642, -0.003937893, -0.101910375, -0.030932281, 0.1487361, -0.090863645, -0.320359, 0.09530128, -0.022416687, 0.22749043, -0.17629756, 0.21058744, -0.03136628, 0.1173821, 0.12045498, 0.03843337, 0.11156459, 0.058297314, 0.104958236, -0.11261302, ...</td>\n",
       "      <td>[O, O, O, O, B-PIZZAORDER, I-PIZZAORDER, I-PIZZAORDER, I-PIZZAORDER, I-PIZZAORDER, I-PIZZAORDER, I-PIZZAORDER, I-PIZZAORDER, O, B-PIZZAORDER, I-PIZZAORDER, I-PIZZAORDER, I-PIZZAORDER, I-PIZZAORDER, I-PIZZAORDER, I-PIZZAORDER, I-PIZZAORDER, O, B-PIZZAORDER, I-PIZZAORDER, I-PIZZAORDER, I-PIZZAORDER, I-PIZZAORDER, I-PIZZAORDER, I-PIZZAORDER]</td>\n",
       "      <td>[24, 24, 24, 24, 6, 18, 18, 18, 18, 18, 18, 18, 24, 6, 18, 18, 18, 18, 18, 18, 18, 24, 6, 18, 18, 18, 18, 18, 18]</td>\n",
       "    </tr>\n",
       "  </tbody>\n",
       "</table>\n",
       "</div>"
      ],
      "text/plain": [
       "                                                                                                                                                                       src  \\\n",
       "0  i want to order two medium pizzas with sausage and black olives and two medium pizzas with pepperoni and extra cheese and three large pizzas with pepperoni and sausage   \n",
       "\n",
       "                                                                                                                                                                                                                                                                                                                                                                         top  \\\n",
       "0  i want to order (PIZZAORDER (NUMBER two ) (SIZE medium ) pizzas with (TOPPING sausage ) and (TOPPING black olives ) ) and (PIZZAORDER (NUMBER two ) (SIZE medium ) pizzas with (TOPPING pepperoni ) and (COMPLEX_TOPPING (QUANTITY extra ) (TOPPING cheese ) ) ) and (PIZZAORDER (NUMBER three ) (SIZE large ) pizzas with (TOPPING pepperoni ) and (TOPPING sausage ) )    \n",
       "\n",
       "                                                                                                                                                                                               tokenized  \\\n",
       "0  [i, want, to, order, two, medium, pizzas, with, sausage, and, black, olives, and, two, medium, pizzas, with, pepperoni, and, extra, cheese, and, three, large, pizzas, with, pepperoni, and, sausage]   \n",
       "\n",
       "                                                                                                                                                                                                                                                                                                                                                                                                                                                                                                                                                                                                                                                                                                                                                                                                                                                                                                                                                                                                                            tfidf_features  \\\n",
       "0  [[0.08430143723922251, 0.0, 0.13337969831862775, 0.0, 0.0, 0.10034713760427152, 0.17396375337864922, 0.17958770538428326, 0.14606531916873786, 0.17721922092796344, 0.19713448714781656, 0.0, 0.17288347347903418, 0.0, 0.0, 0.0, 0.1366724335010161, 0.0, 0.0, 0.1562794386914836, 0.19391225920436742, 0.0, 0.11286164475205294, 0.0, 0.12416543512769322, 0.0, 0.0, 0.19234760746279847, 0.12248119173361699, 0.0, 0.20664361011193244, 0.0, 0.18995951017233198, 0.2045777012433944, 0.1168537902697436, 0.0, 0.16890313266495663, 0.0, 0.0, 0.1335421575549344, 0.0, 0.19944260753166945, 0.0, 0.18473089869790738, 0.0, 0.19133428377261583, 0.20978968793267175, 0.14310616380645452, 0.17265659900612262, 0.0, 0.16817054006660384, 0.0, 0.14150333339868498, 0.17275472419101204, 0.22930989128613138, 0.0, 0.0, 0.20155267717081113, 0.1546082459604938, 0.15693159662581818, 0.1832160787506764, 0.0, 0.18729363892005363, 0.0, 0.20773045712657492, 0.0, 0.19346051503038109, 0.0, 0.16041910398343542, 0.09303061188182...   \n",
       "\n",
       "                                                                                                                                                                                                                                                                                                                                                                                                                                                                                                                                                                                                                                                                                                                                                                                                                                                                                                                                                                                                                         word2vec_features  \\\n",
       "0  [[0.0677469, -0.041739315, -0.08083352, 0.12261514, 0.16721858, -0.05736017, 0.09708657, 0.28409472, -0.118705854, -0.027471012, -0.057421274, -0.14376749, 0.0473368, 0.14283921, -0.030394064, -0.031858526, 0.052781112, 0.07924095, 0.0069334647, -0.2780961, 0.09244968, -0.032641098, -0.026583068, 0.036451172, 0.03341323, -0.025228117, -0.07656543, -0.118221, -0.10734222, 0.03260397, 0.15275688, 0.05852104, 0.106173486, -0.05881508, -0.082549885, 0.1174997, 0.06174134, -0.08423522, -0.055344716, -0.16970553, -0.06645013, 0.006280372, -0.11624798, -0.00490635, 0.1332938, -0.05824645, -0.00758351, -0.1255734, 0.039873965, 0.07710664, 0.045426518, -0.18234527, -0.024939088, -0.10234514, 0.08368705, -0.06852132, -0.07534842, -0.15418817, -0.14619642, -0.003937893, -0.101910375, -0.030932281, 0.1487361, -0.090863645, -0.320359, 0.09530128, -0.022416687, 0.22749043, -0.17629756, 0.21058744, -0.03136628, 0.1173821, 0.12045498, 0.03843337, 0.11156459, 0.058297314, 0.104958236, -0.11261302, ...   \n",
       "\n",
       "                                                                                                                                                                                                                                                                                                                                                 labels  \\\n",
       "0  [O, O, O, O, B-PIZZAORDER, I-PIZZAORDER, I-PIZZAORDER, I-PIZZAORDER, I-PIZZAORDER, I-PIZZAORDER, I-PIZZAORDER, I-PIZZAORDER, O, B-PIZZAORDER, I-PIZZAORDER, I-PIZZAORDER, I-PIZZAORDER, I-PIZZAORDER, I-PIZZAORDER, I-PIZZAORDER, I-PIZZAORDER, O, B-PIZZAORDER, I-PIZZAORDER, I-PIZZAORDER, I-PIZZAORDER, I-PIZZAORDER, I-PIZZAORDER, I-PIZZAORDER]   \n",
       "\n",
       "                                                                                                      encoded_labels  \n",
       "0  [24, 24, 24, 24, 6, 18, 18, 18, 18, 18, 18, 18, 24, 6, 18, 18, 18, 18, 18, 18, 18, 24, 6, 18, 18, 18, 18, 18, 18]  "
      ]
     },
     "execution_count": 85,
     "metadata": {},
     "output_type": "execute_result"
    }
   ],
   "source": [
    "df_dev['labels'] = df_dev['top'].progress_apply(lambda x: extract_labels(x, entities))\n",
    "df_dev['encoded_labels'] = df_dev['labels'].progress_apply(encode_labels)\n",
    "df_dev.head(1)"
   ]
  },
  {
   "cell_type": "code",
   "execution_count": null,
   "metadata": {
    "execution": {
     "iopub.execute_input": "2024-12-06T21:17:37.685690Z",
     "iopub.status.busy": "2024-12-06T21:17:37.685272Z",
     "iopub.status.idle": "2024-12-06T21:17:37.719928Z",
     "shell.execute_reply": "2024-12-06T21:17:37.718553Z",
     "shell.execute_reply.started": "2024-12-06T21:17:37.685651Z"
    },
    "trusted": true
   },
   "outputs": [
    {
     "data": {
      "text/html": [
       "<div>\n",
       "<style scoped>\n",
       "    .dataframe tbody tr th:only-of-type {\n",
       "        vertical-align: middle;\n",
       "    }\n",
       "\n",
       "    .dataframe tbody tr th {\n",
       "        vertical-align: top;\n",
       "    }\n",
       "\n",
       "    .dataframe thead th {\n",
       "        text-align: right;\n",
       "    }\n",
       "</style>\n",
       "<table border=\"1\" class=\"dataframe\">\n",
       "  <thead>\n",
       "    <tr style=\"text-align: right;\">\n",
       "      <th></th>\n",
       "      <th>src</th>\n",
       "      <th>top</th>\n",
       "      <th>tokenized</th>\n",
       "      <th>tfidf_features</th>\n",
       "      <th>word2vec_features</th>\n",
       "      <th>labels</th>\n",
       "      <th>encoded_labels</th>\n",
       "    </tr>\n",
       "  </thead>\n",
       "  <tbody>\n",
       "    <tr>\n",
       "      <th>3</th>\n",
       "      <td>i'd like to order a large onion and pepper pizza</td>\n",
       "      <td>i'd like to order (PIZZAORDER (NUMBER a ) (SIZE large ) (TOPPING onion ) and (TOPPING pepper ) pizza )</td>\n",
       "      <td>[i'd, like, to, order, a, large, onion, and, pepper, pizza]</td>\n",
       "      <td>[[0.0, 0.0, 0.0, 0.36456535031837345, 0.0, 0.0, 0.0, 0.0, 0.0, 0.0, 0.0, 0.0, 0.0, 0.0, 0.0, 0.0, 0.0, 0.0, 0.0, 0.0, 0.0, 0.3320179597028343, 0.0, 0.0, 0.0, 0.0, 0.0, 0.0, 0.0, 0.0, 0.0, 0.0, 0.0, 0.0, 0.0, 0.3810995381997384, 0.0, 0.0, 0.3675029239347814, 0.0, 0.0, 0.0, 0.0, 0.0, 0.0, 0.0, 0.0, 0.0, 0.0, 0.0, 0.0, 0.0, 0.0, 0.0, 0.0, 0.0, 0.0, 0.0, 0.0, 0.0, 0.0, 0.3285764791768002, 0.0, 0.3478991908698433, 0.0, 0.0, 0.0, 0.0, 0.0, 0.0, 0.0, 0.0, 0.0, 0.0, 0.0, 0.0, 0.0, 0.0, 0.0, 0.45154673327106754, 0.0, 0.0, 0.0, 0.0, 0.0, 0.0, 0.0, 0.0, 0.0, 0.0, 0.0, 0.0, 0.0, 0.0, 0.0, 0.0, 0.0, 0.0, 0.0, 0.0, ...], [0.0, 0.0, 0.0, 0.2978392690850122, 0.0, 0.0, 0.3057565112264578, 0.0, 0.0, 0.0, 0.0, 0.0, 0.3038578248228859, 0.0, 0.0, 0.0, 0.0, 0.0, 0.0, 0.0, 0.34081775488781035, 0.0, 0.0, 0.0, 0.0, 0.0, 0.0, 0.0, 0.0, 0.0, 0.0, 0.0, 0.0, 0.0, 0.2053807562929373, 0.31134721883722927, 0.0, 0.0, 0.30023918113927156, 0.0, 0.0, 0.0, 0.0, 0.0, 0.0, 0.0, 0.0, 0.25152159878515074, 0.0, 0.0, 0.0, 0...</td>\n",
       "      <td>[[0.034876496, -0.018838737, -0.03094462, 0.049610227, 0.07292387, -0.028232593, 0.0426675, 0.124641865, -0.046168078, -0.010289274, -0.022492006, -0.067076765, 0.026225913, 0.0594144, -0.013272378, -0.013796637, 0.0225329, 0.031439085, 0.005429208, -0.117336124, 0.04022778, -0.011933805, -0.014957658, 0.011053996, 0.01287688, -0.011281822, -0.03759305, -0.05268785, -0.04346962, 0.011879201, 0.067503154, 0.025923895, 0.046448585, -0.020964967, -0.03751059, 0.049969103, 0.02965557, -0.039529294, -0.01972989, -0.07808588, -0.027959775, 0.0023421464, -0.049128532, -0.0011981872, 0.061333265, -0.021473194, -0.0011677572, -0.050754834, 0.018149236, 0.034283537, 0.0179269, -0.08481379, -0.012953331, -0.04719673, 0.03888765, -0.02838799, -0.027466046, -0.06957505, -0.06718644, 0.0016567827, -0.044730537, -0.014175598, 0.06563012, -0.04024822, -0.1364846, 0.04118543, -0.010231526, 0.09637261, -0.07360343, 0.09349069, -0.014939378, 0.045573164, 0.051587228, 0.019778902, 0.044990543, 0.01990...</td>\n",
       "      <td>[O, O, O, O, B-PIZZAORDER, I-PIZZAORDER, I-PIZZAORDER, I-PIZZAORDER, I-PIZZAORDER, I-PIZZAORDER]</td>\n",
       "      <td>[24, 24, 24, 24, 6, 18, 18, 18, 18, 18]</td>\n",
       "    </tr>\n",
       "  </tbody>\n",
       "</table>\n",
       "</div>"
      ],
      "text/plain": [
       "                                                src  \\\n",
       "3  i'd like to order a large onion and pepper pizza   \n",
       "\n",
       "                                                                                                       top  \\\n",
       "3  i'd like to order (PIZZAORDER (NUMBER a ) (SIZE large ) (TOPPING onion ) and (TOPPING pepper ) pizza )    \n",
       "\n",
       "                                                     tokenized  \\\n",
       "3  [i'd, like, to, order, a, large, onion, and, pepper, pizza]   \n",
       "\n",
       "                                                                                                                                                                                                                                                                                                                                                                                                                                                                                                                                                                                                                                                                                                                                                                                                                                                                                                                                                                                                                            tfidf_features  \\\n",
       "3  [[0.0, 0.0, 0.0, 0.36456535031837345, 0.0, 0.0, 0.0, 0.0, 0.0, 0.0, 0.0, 0.0, 0.0, 0.0, 0.0, 0.0, 0.0, 0.0, 0.0, 0.0, 0.0, 0.3320179597028343, 0.0, 0.0, 0.0, 0.0, 0.0, 0.0, 0.0, 0.0, 0.0, 0.0, 0.0, 0.0, 0.0, 0.3810995381997384, 0.0, 0.0, 0.3675029239347814, 0.0, 0.0, 0.0, 0.0, 0.0, 0.0, 0.0, 0.0, 0.0, 0.0, 0.0, 0.0, 0.0, 0.0, 0.0, 0.0, 0.0, 0.0, 0.0, 0.0, 0.0, 0.0, 0.3285764791768002, 0.0, 0.3478991908698433, 0.0, 0.0, 0.0, 0.0, 0.0, 0.0, 0.0, 0.0, 0.0, 0.0, 0.0, 0.0, 0.0, 0.0, 0.0, 0.45154673327106754, 0.0, 0.0, 0.0, 0.0, 0.0, 0.0, 0.0, 0.0, 0.0, 0.0, 0.0, 0.0, 0.0, 0.0, 0.0, 0.0, 0.0, 0.0, 0.0, 0.0, ...], [0.0, 0.0, 0.0, 0.2978392690850122, 0.0, 0.0, 0.3057565112264578, 0.0, 0.0, 0.0, 0.0, 0.0, 0.3038578248228859, 0.0, 0.0, 0.0, 0.0, 0.0, 0.0, 0.0, 0.34081775488781035, 0.0, 0.0, 0.0, 0.0, 0.0, 0.0, 0.0, 0.0, 0.0, 0.0, 0.0, 0.0, 0.0, 0.2053807562929373, 0.31134721883722927, 0.0, 0.0, 0.30023918113927156, 0.0, 0.0, 0.0, 0.0, 0.0, 0.0, 0.0, 0.0, 0.25152159878515074, 0.0, 0.0, 0.0, 0...   \n",
       "\n",
       "                                                                                                                                                                                                                                                                                                                                                                                                                                                                                                                                                                                                                                                                                                                                                                                                                                                                                                                                                                                                                         word2vec_features  \\\n",
       "3  [[0.034876496, -0.018838737, -0.03094462, 0.049610227, 0.07292387, -0.028232593, 0.0426675, 0.124641865, -0.046168078, -0.010289274, -0.022492006, -0.067076765, 0.026225913, 0.0594144, -0.013272378, -0.013796637, 0.0225329, 0.031439085, 0.005429208, -0.117336124, 0.04022778, -0.011933805, -0.014957658, 0.011053996, 0.01287688, -0.011281822, -0.03759305, -0.05268785, -0.04346962, 0.011879201, 0.067503154, 0.025923895, 0.046448585, -0.020964967, -0.03751059, 0.049969103, 0.02965557, -0.039529294, -0.01972989, -0.07808588, -0.027959775, 0.0023421464, -0.049128532, -0.0011981872, 0.061333265, -0.021473194, -0.0011677572, -0.050754834, 0.018149236, 0.034283537, 0.0179269, -0.08481379, -0.012953331, -0.04719673, 0.03888765, -0.02838799, -0.027466046, -0.06957505, -0.06718644, 0.0016567827, -0.044730537, -0.014175598, 0.06563012, -0.04024822, -0.1364846, 0.04118543, -0.010231526, 0.09637261, -0.07360343, 0.09349069, -0.014939378, 0.045573164, 0.051587228, 0.019778902, 0.044990543, 0.01990...   \n",
       "\n",
       "                                                                                             labels  \\\n",
       "3  [O, O, O, O, B-PIZZAORDER, I-PIZZAORDER, I-PIZZAORDER, I-PIZZAORDER, I-PIZZAORDER, I-PIZZAORDER]   \n",
       "\n",
       "                            encoded_labels  \n",
       "3  [24, 24, 24, 24, 6, 18, 18, 18, 18, 18]  "
      ]
     },
     "execution_count": 86,
     "metadata": {},
     "output_type": "execute_result"
    }
   ],
   "source": [
    "df_dev.iloc[3:4].head()"
   ]
  },
  {
   "cell_type": "code",
   "execution_count": null,
   "metadata": {
    "execution": {
     "iopub.execute_input": "2024-12-06T21:18:47.395414Z",
     "iopub.status.busy": "2024-12-06T21:18:47.394954Z",
     "iopub.status.idle": "2024-12-06T21:18:47.404106Z",
     "shell.execute_reply": "2024-12-06T21:18:47.402822Z",
     "shell.execute_reply.started": "2024-12-06T21:18:47.395373Z"
    },
    "trusted": true
   },
   "outputs": [
    {
     "data": {
      "text/plain": [
       "(10, 10, 10)"
      ]
     },
     "execution_count": 87,
     "metadata": {},
     "output_type": "execute_result"
    }
   ],
   "source": [
    "len(df_dev[\"tfidf_features\"][3]), len(df_dev[\"word2vec_features\"][3]), len(df_dev[\"labels\"][3])"
   ]
  },
  {
   "cell_type": "code",
   "execution_count": null,
   "metadata": {
    "execution": {
     "iopub.status.busy": "2024-12-06T21:17:25.374807Z",
     "iopub.status.idle": "2024-12-06T21:17:25.375251Z",
     "shell.execute_reply": "2024-12-06T21:17:25.375078Z",
     "shell.execute_reply.started": "2024-12-06T21:17:25.375058Z"
    },
    "trusted": true
   },
   "outputs": [],
   "source": [
    "# def extract_labels(top: str, entities):\n",
    "#     # Extract words and parenthesis\n",
    "#     pattern = r\"\\b\\w+(?:'\\w+)?(?:-\\w+)*\\b|[()]\"\n",
    "#     tokens = regexp_tokenize(top, pattern)\n",
    "    \n",
    "#     IS_labels = []\n",
    "#     NER_labels = []\n",
    "#     # print(tokens)\n",
    "#     beginning_of_order = True\n",
    "#     order_type = \"PIZZAORDER\"\n",
    "#     beginning_of_ner = True\n",
    "#     ner_type = \"\"\n",
    "    \n",
    "#     count = 0 # Count the opened parenthesis (lower level in the hierarchy)\n",
    "#     for i, token in enumerate(tokens):\n",
    "#         # print(token, count)\n",
    "#         # # Skip all entities except [\"PIZZAORDER\", \"DRINKORDER\"]\n",
    "#         # if token in entities and token not in [\"PIZZAORDER\", \"DRINKORDER\"]:\n",
    "#         #     continue\n",
    "#         if token == \"(\":\n",
    "#             count += 1\n",
    "#         elif token == \")\":\n",
    "#             count -= 1\n",
    "#         elif token == \"PIZZAORDER\":\n",
    "#             order_type = \"PIZZAORDER\"\n",
    "#         elif token == \"DRINKORDER\":\n",
    "#             order_type = \"DRINKORDER\"\n",
    "#         elif token in entities:\n",
    "#             ner_type = token\n",
    "        \n",
    "#         elif count == 0:\n",
    "#             IS_labels.append(\"O\")\n",
    "#             NER_labels.append(\"O\")\n",
    "#             beginning_of_order = True\n",
    "#             beginning_of_ner = True\n",
    "#         # 2nd top-level are PIZZAORDER & DRINKORDER\n",
    "#         elif count >= 1:\n",
    "#             if beginning_of_order == True:\n",
    "#                 IS_labels.append(\"B-\" + order_type)\n",
    "#                 beginning_of_order = False\n",
    "#                 continue\n",
    "#             else:\n",
    "#                 IS_labels.append(\"I-\" + order_type)\n",
    "        \n",
    "#         # Other levels: Number, Size, etc...\n",
    "#         else:\n",
    "#             if beginning_of_ner == True:\n",
    "#                 NER_labels.append(\"B-\" + order_type)\n",
    "#                 beginning_of_ner = False\n",
    "#                 continue\n",
    "#             if beginning_of_ner == False:\n",
    "#                 NER_labels.append(\"I-\" + order_type)\n",
    "            \n",
    "\n",
    "#     return IS_labels\n",
    "\n",
    "# # index = 1251868\n",
    "# # tokens = df_train['src'][index].split()\n",
    "# # labels = extract_labels(df_train['top'][index], entities)\n",
    "# # print(len(tokens), len(labels))\n",
    "# # print([(x, y) for x, y in zip(tokens, labels)])\n",
    "# # df_train.iloc[index:index+1].head()"
   ]
  },
  {
   "cell_type": "code",
   "execution_count": null,
   "metadata": {},
   "outputs": [
    {
     "data": {
      "text/plain": [
       "'\\n(ORDER i want to order \\n    (PIZZAORDER \\n        (NUMBER two ) \\n        (SIZE medium ) pizzas with \\n        (TOPPING sausage ) and \\n        (TOPPING black olives ) \\n    ) and \\n    (PIZZAORDER \\n        (NUMBER two )\\n        (SIZE medium ) pizzas with \\n        (TOPPING pepperoni ) and \\n        (COMPLEX_TOPPING (QUANTITY extra ) (TOPPING cheese ) ) \\n        (COMPLEX_TOPPING (QUANTITY extra ) (TOPPING cheese ) ) \\n    ) and \\n    (PIZZAORDER \\n        (NUMBER three ) \\n        (SIZE large ) pizzas with \\n        (TOPPING pepperoni ) and \\n        (TOPPING sausage ) \\n    )\\n)\\n'"
      ]
     },
     "execution_count": 89,
     "metadata": {},
     "output_type": "execute_result"
    }
   ],
   "source": [
    "\"\"\"\n",
    "(ORDER i want to order \n",
    "    (PIZZAORDER \n",
    "        (NUMBER two ) \n",
    "        (SIZE medium ) pizzas with \n",
    "        (TOPPING sausage ) and \n",
    "        (TOPPING black olives ) \n",
    "    ) and \n",
    "    (PIZZAORDER \n",
    "        (NUMBER two )\n",
    "        (SIZE medium ) pizzas with \n",
    "        (TOPPING pepperoni ) and \n",
    "        (COMPLEX_TOPPING (QUANTITY extra ) (TOPPING cheese ) ) \n",
    "        (COMPLEX_TOPPING (QUANTITY extra ) (TOPPING cheese ) ) \n",
    "    ) and \n",
    "    (PIZZAORDER \n",
    "        (NUMBER three ) \n",
    "        (SIZE large ) pizzas with \n",
    "        (TOPPING pepperoni ) and \n",
    "        (TOPPING sausage ) \n",
    "    )\n",
    ")\n",
    "\"\"\""
   ]
  },
  {
   "cell_type": "markdown",
   "metadata": {},
   "source": [
    "# Models"
   ]
  },
  {
   "cell_type": "markdown",
   "metadata": {},
   "source": [
    "## CRF"
   ]
  },
  {
   "cell_type": "markdown",
   "metadata": {},
   "source": [
    "### CRF Features"
   ]
  },
  {
   "cell_type": "code",
   "execution_count": null,
   "metadata": {},
   "outputs": [],
   "source": [
    "def word2features(row):\n",
    "    sentence: list[str] = row[\"tokenized\"]\n",
    "    sentence_tfidf: list[np.ndarray] = row[\"tfidf_features\"]\n",
    "    sentence_word2vec: list[np.ndarray] = row[\"word2vec_features\"]\n",
    "\n",
    "    features = []\n",
    "    for i, word in enumerate(sentence):\n",
    "        tfidf = sentence_tfidf[i]\n",
    "        word2vec = sentence_word2vec[i]\n",
    "        features.append({\n",
    "            \"word\": word,\n",
    "            # \"tfidf\": f\"{tfidf}\",\n",
    "            # \"word2vec\": word2vec,\n",
    "            # \"is_numeric\": word.isnumeric(),\n",
    "            # \"is_capitalized\": word[0].isupper(),\n",
    "            # \"prev_word\": sentence[i-1] if i > 0 else \"\",\n",
    "            # \"next_word\": sentence[i+1] if i < len(sentence) - 1 else \"\",\n",
    "            # \"pos_tag\": nltk.pos_tag([word])[0][1],\n",
    "            # \"sentence_position\": \"start\" if i == 0 else \"middle\" if i < len(sentence) - 1 else \"end\",\n",
    "        })\n",
    "\n",
    "    return features"
   ]
  },
  {
   "cell_type": "code",
   "execution_count": null,
   "metadata": {},
   "outputs": [
    {
     "name": "stderr",
     "output_type": "stream",
     "text": [
      "100%|██████████| 348/348 [00:00<00:00, 43518.72it/s]\n"
     ]
    }
   ],
   "source": [
    "crf_features = df_dev.progress_apply(word2features, axis=1)"
   ]
  },
  {
   "cell_type": "code",
   "execution_count": null,
   "metadata": {},
   "outputs": [
    {
     "data": {
      "text/plain": [
       "{'word': 'i'}"
      ]
     },
     "execution_count": 145,
     "metadata": {},
     "output_type": "execute_result"
    }
   ],
   "source": [
    "crf_features[0][0]"
   ]
  },
  {
   "cell_type": "markdown",
   "metadata": {},
   "source": [
    "### CRF"
   ]
  },
  {
   "cell_type": "code",
   "execution_count": null,
   "metadata": {
    "execution": {
     "iopub.execute_input": "2024-12-06T21:19:47.475397Z",
     "iopub.status.busy": "2024-12-06T21:19:47.474952Z",
     "iopub.status.idle": "2024-12-06T21:19:47.482225Z",
     "shell.execute_reply": "2024-12-06T21:19:47.480773Z",
     "shell.execute_reply.started": "2024-12-06T21:19:47.475361Z"
    },
    "trusted": true
   },
   "outputs": [],
   "source": [
    "# CRF Model\n",
    "update_model = True\n",
    "if update_model or not os.path.exists(MODELS_PATH + \"/crf_model.pkl\"):\n",
    "    # Initialize the CRF model\n",
    "    crf = CRF(algorithm='lbfgs', c1=0.1, c2=0.1, max_iterations=100, verbose=True) # , all_possible_transitions=True\n",
    "else:\n",
    "    with open(MODELS_PATH + \"/crf_model.pkl\", \"rb\") as f:\n",
    "        crf = pickle.load(f)"
   ]
  },
  {
   "cell_type": "code",
   "execution_count": null,
   "metadata": {},
   "outputs": [],
   "source": [
    "# Format data for CRF training\n",
    "crf_train_tokens = crf_features.tolist()\n",
    "crf_train_labels = df_dev['labels'].tolist()"
   ]
  },
  {
   "cell_type": "code",
   "execution_count": null,
   "metadata": {
    "execution": {
     "iopub.execute_input": "2024-12-06T21:19:47.847920Z",
     "iopub.status.busy": "2024-12-06T21:19:47.847474Z",
     "iopub.status.idle": "2024-12-06T21:19:47.855677Z",
     "shell.execute_reply": "2024-12-06T21:19:47.854310Z",
     "shell.execute_reply.started": "2024-12-06T21:19:47.847882Z"
    },
    "trusted": true
   },
   "outputs": [
    {
     "name": "stdout",
     "output_type": "stream",
     "text": [
      "348\n",
      "348\n"
     ]
    }
   ],
   "source": [
    "# Will work only without vectorizing words! (Dimension of the word vector of course will be )\n",
    "print(len(crf_train_tokens))\n",
    "print(len(crf_train_labels))\n",
    "i = 0\n",
    "k = 0\n",
    "for token, label in zip(crf_train_tokens, crf_train_labels):\n",
    "    if len(token) != len(label):\n",
    "        print(f\"{len(token)}, {len(label)}, {i}\")\n",
    "        # print(f\"Mismatch found: {token}, {label}, {i}\")\n",
    "        k += 1\n",
    "    if k > 10: break\n",
    "    i += 1"
   ]
  },
  {
   "cell_type": "code",
   "execution_count": null,
   "metadata": {
    "execution": {
     "iopub.execute_input": "2024-12-06T21:19:49.107147Z",
     "iopub.status.busy": "2024-12-06T21:19:49.106678Z",
     "iopub.status.idle": "2024-12-06T21:19:49.197802Z",
     "shell.execute_reply": "2024-12-06T21:19:49.196207Z",
     "shell.execute_reply.started": "2024-12-06T21:19:49.107109Z"
    },
    "trusted": true
   },
   "outputs": [],
   "source": [
    "# Train CRF\n",
    "crf.fit(crf_train_tokens, crf_train_labels)\n",
    "\n",
    "# Save the trained model as a pickle file\n",
    "with open(MODELS_PATH + \"/crf_model.pkl\", 'wb') as f:\n",
    "    pickle.dump(crf, f)"
   ]
  },
  {
   "cell_type": "code",
   "execution_count": null,
   "metadata": {
    "execution": {
     "iopub.status.busy": "2024-12-06T21:17:25.383458Z",
     "iopub.status.idle": "2024-12-06T21:17:25.384057Z",
     "shell.execute_reply": "2024-12-06T21:17:25.383797Z",
     "shell.execute_reply.started": "2024-12-06T21:17:25.383757Z"
    },
    "trusted": true
   },
   "outputs": [
    {
     "data": {
      "text/plain": [
       "[('I', 'I-PIZZAORDER'),\n",
       " ('want', 'I-PIZZAORDER'),\n",
       " ('a', 'I-PIZZAORDER'),\n",
       " ('pizza', 'I-PIZZAORDER'),\n",
       " ('seafood', 'I-PIZZAORDER'),\n",
       " ('with', 'I-PIZZAORDER'),\n",
       " ('olives', 'I-PIZZAORDER'),\n",
       " ('and', 'I-PIZZAORDER'),\n",
       " ('a', 'I-PIZZAORDER'),\n",
       " ('can', 'I-PIZZAORDER'),\n",
       " ('of', 'I-PIZZAORDER'),\n",
       " ('coke', 'I-PIZZAORDER')]"
      ]
     },
     "execution_count": 162,
     "metadata": {},
     "output_type": "execute_result"
    }
   ],
   "source": [
    "# Predict using CRF\n",
    "test = \"I want a pizza seafood with olives and a can of coke\".split()\n",
    "crf_predictions = crf.predict([test])\n",
    "[(word, tag) for word, tag in zip(test, crf_predictions[0])]"
   ]
  },
  {
   "cell_type": "code",
   "execution_count": null,
   "metadata": {
    "execution": {
     "iopub.status.busy": "2024-12-06T21:17:25.387452Z",
     "iopub.status.idle": "2024-12-06T21:17:25.387942Z",
     "shell.execute_reply": "2024-12-06T21:17:25.387689Z",
     "shell.execute_reply.started": "2024-12-06T21:17:25.387659Z"
    },
    "trusted": true
   },
   "outputs": [],
   "source": [
    "true_dev_labels = []\n",
    "tokens_dev = []\n",
    "for i in range(len(df_dev['top'])):\n",
    "    true_dev_labels.append(extract_labels(df_dev['top'][i], entities))\n",
    "    tokens_dev.append(df_dev['src'][i].split())"
   ]
  },
  {
   "cell_type": "code",
   "execution_count": null,
   "metadata": {
    "execution": {
     "iopub.status.busy": "2024-12-06T21:17:25.389821Z",
     "iopub.status.idle": "2024-12-06T21:17:25.390217Z",
     "shell.execute_reply": "2024-12-06T21:17:25.390057Z",
     "shell.execute_reply.started": "2024-12-06T21:17:25.390038Z"
    },
    "trusted": true
   },
   "outputs": [],
   "source": [
    "crf_predictions = crf.predict(tokens_dev)"
   ]
  },
  {
   "cell_type": "markdown",
   "metadata": {},
   "source": [
    "## IS CRF Model Evaluation\n",
    "#### Calculate Exact Match (EM) accuracy, Compute Precision, Recall, F1-Score"
   ]
  },
  {
   "cell_type": "code",
   "execution_count": null,
   "metadata": {
    "execution": {
     "iopub.status.busy": "2024-12-06T21:17:25.391829Z",
     "iopub.status.idle": "2024-12-06T21:17:25.392217Z",
     "shell.execute_reply": "2024-12-06T21:17:25.392055Z",
     "shell.execute_reply.started": "2024-12-06T21:17:25.392036Z"
    },
    "trusted": true
   },
   "outputs": [
    {
     "name": "stdout",
     "output_type": "stream",
     "text": [
      "Exact Match Accuracy: 0.61521\n",
      "Precision: 0.12304\n",
      "Recall: 0.20000\n",
      "F1-Score: 0.15235\n"
     ]
    },
    {
     "name": "stderr",
     "output_type": "stream",
     "text": [
      "e:\\College\\4- Senior 2\\Semester 1\\NLP\\Project\\env\\lib\\site-packages\\sklearn\\metrics\\_classification.py:1531: UndefinedMetricWarning: Precision is ill-defined and being set to 0.0 in labels with no predicted samples. Use `zero_division` parameter to control this behavior.\n",
      "  _warn_prf(average, modifier, f\"{metric.capitalize()} is\", len(result))\n"
     ]
    }
   ],
   "source": [
    "# Flatten true labels and predictions\n",
    "flattened_true_labels = [label for sublist in true_dev_labels for label in sublist]\n",
    "flattened_pred_labels = [label for sublist in crf_predictions for label in sublist]\n",
    "\n",
    "em_accuracy = accuracy_score(flattened_true_labels, flattened_pred_labels)\n",
    "precision = precision_score(flattened_true_labels, flattened_pred_labels, average='macro')\n",
    "recall = recall_score(flattened_true_labels, flattened_pred_labels, average='macro')\n",
    "f1 = f1_score(flattened_true_labels, flattened_pred_labels, average='macro')\n",
    "\n",
    "print(f\"Exact Match Accuracy: {em_accuracy:.5f}\")\n",
    "print(f\"Precision: {precision:.5f}\")\n",
    "print(f\"Recall: {recall:.5f}\")\n",
    "print(f\"F1-Score: {f1:.5f}\")\n"
   ]
  },
  {
   "cell_type": "markdown",
   "metadata": {},
   "source": [
    "## LSTM"
   ]
  },
  {
   "cell_type": "code",
   "execution_count": null,
   "metadata": {
    "execution": {
     "iopub.status.busy": "2024-12-06T21:17:25.393939Z",
     "iopub.status.idle": "2024-12-06T21:17:25.394541Z",
     "shell.execute_reply": "2024-12-06T21:17:25.394261Z",
     "shell.execute_reply.started": "2024-12-06T21:17:25.394232Z"
    },
    "trusted": true
   },
   "outputs": [
    {
     "name": "stdout",
     "output_type": "stream",
     "text": [
      "Epoch [5/50], Loss: 0.9838\n",
      "Epoch [10/50], Loss: 0.9190\n",
      "Epoch [15/50], Loss: 0.8162\n",
      "Epoch [20/50], Loss: 0.7695\n",
      "Epoch [25/50], Loss: 0.7054\n",
      "Epoch [30/50], Loss: 0.6339\n",
      "Epoch [35/50], Loss: 0.5165\n",
      "Epoch [40/50], Loss: 0.3671\n",
      "Epoch [45/50], Loss: 0.2514\n",
      "Epoch [50/50], Loss: 0.1968\n"
     ]
    }
   ],
   "source": [
    "# Define the LSTM model\n",
    "class LSTMModel(torch.nn.Module):\n",
    "    def __init__(self, input_size, hidden_size, output_size, num_layers=1):\n",
    "        super(LSTMModel, self).__init__()\n",
    "        self.hidden_size = hidden_size\n",
    "        self.num_layers = num_layers\n",
    "        self.lstm = torch.nn.LSTM(input_size, hidden_size, num_layers, batch_first=True)\n",
    "        self.fc = torch.nn.Linear(hidden_size, output_size)\n",
    "\n",
    "    def forward(self, x):\n",
    "        h0 = torch.zeros(self.num_layers, x.size(0), self.hidden_size).to(device)\n",
    "        c0 = torch.zeros(self.num_layers, x.size(0), self.hidden_size).to(device)\n",
    "        out, _ = self.lstm(x, (h0, c0))\n",
    "        out = self.fc(out[:, -1, :])\n",
    "        return out\n",
    "\n",
    "# Hyperparameters\n",
    "input_size = 10  # Adjust based on your data\n",
    "hidden_size = 256\n",
    "output_size = 1  # Adjust based on your data\n",
    "num_layers = 4\n",
    "num_epochs = 50\n",
    "learning_rate = 0.001\n",
    "\n",
    "# Initialize the model, loss function, and optimizer\n",
    "model = LSTMModel(input_size, hidden_size, output_size, num_layers).to(device)\n",
    "criterion = torch.nn.MSELoss()  # Adjust based on your task\n",
    "optimizer = torch.optim.Adam(model.parameters(), lr=learning_rate)\n",
    "\n",
    "# Dummy data for illustration (replace with your actual data)\n",
    "x_train = torch.randn(100, 10, input_size).to(device)  # (batch_size, sequence_length, input_size)\n",
    "y_train = torch.randn(100, output_size).to(device)  # (batch_size, output_size)\n",
    "\n",
    "# Training loop\n",
    "for epoch in range(num_epochs):\n",
    "    model.train()\n",
    "    outputs = model(x_train)\n",
    "    optimizer.zero_grad()\n",
    "    loss = criterion(outputs, y_train)\n",
    "    loss.backward()\n",
    "    optimizer.step()\n",
    "    \n",
    "    if (epoch+1) % 5 == 0:\n",
    "        print(f'Epoch [{epoch+1}/{num_epochs}], Loss: {loss.item():.4f}')"
   ]
  },
  {
   "cell_type": "markdown",
   "metadata": {},
   "source": [
    "# Model Evaluation"
   ]
  },
  {
   "cell_type": "code",
   "execution_count": null,
   "metadata": {
    "trusted": true
   },
   "outputs": [],
   "source": []
  }
 ],
 "metadata": {
  "kaggle": {
   "accelerator": "none",
   "dataSources": [
    {
     "datasetId": 6200837,
     "sourceId": 10062018,
     "sourceType": "datasetVersion"
    }
   ],
   "dockerImageVersionId": 30787,
   "isGpuEnabled": false,
   "isInternetEnabled": true,
   "language": "python",
   "sourceType": "notebook"
  },
  "kernelspec": {
   "display_name": "env",
   "language": "python",
   "name": "python3"
  },
  "language_info": {
   "codemirror_mode": {
    "name": "ipython",
    "version": 3
   },
   "file_extension": ".py",
   "mimetype": "text/x-python",
   "name": "python",
   "nbconvert_exporter": "python",
   "pygments_lexer": "ipython3",
   "version": "3.10.6"
  }
 },
 "nbformat": 4,
 "nbformat_minor": 4
}
