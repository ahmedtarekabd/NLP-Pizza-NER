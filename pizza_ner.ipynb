{
 "cells": [
  {
   "cell_type": "markdown",
   "metadata": {},
   "source": [
    "# Setup"
   ]
  },
  {
   "cell_type": "markdown",
   "metadata": {},
   "source": [
    "## Imports"
   ]
  },
  {
   "cell_type": "code",
   "execution_count": null,
   "metadata": {
    "execution": {
     "iopub.execute_input": "2024-12-06T21:15:23.707922Z",
     "iopub.status.busy": "2024-12-06T21:15:23.707431Z",
     "iopub.status.idle": "2024-12-06T21:15:24.499569Z",
     "shell.execute_reply": "2024-12-06T21:15:24.498371Z",
     "shell.execute_reply.started": "2024-12-06T21:15:23.707878Z"
    },
    "trusted": true
   },
   "outputs": [
    {
     "name": "stderr",
     "output_type": "stream",
     "text": [
      "[nltk_data] Downloading package punkt to\n",
      "[nltk_data]     C:\\Users\\ahmed\\AppData\\Roaming\\nltk_data...\n",
      "[nltk_data]   Package punkt is already up-to-date!\n",
      "[nltk_data] Downloading package wordnet to\n",
      "[nltk_data]     C:\\Users\\ahmed\\AppData\\Roaming\\nltk_data...\n",
      "[nltk_data]   Package wordnet is already up-to-date!\n"
     ]
    }
   ],
   "source": [
    "# General\n",
    "import numpy as np\n",
    "import pandas as pd\n",
    "import matplotlib.pyplot as plt\n",
    "import seaborn as sns\n",
    "import string\n",
    "import re\n",
    "import os\n",
    "import json\n",
    "import tqdm\n",
    "import pickle\n",
    "\n",
    "# Preprocessing\n",
    "from sklearn.preprocessing import LabelEncoder\n",
    "from sklearn.feature_extraction.text import TfidfVectorizer\n",
    "from gensim.models import Word2Vec\n",
    "\n",
    "import nltk\n",
    "from nltk.stem import WordNetLemmatizer\n",
    "from nltk.tokenize import word_tokenize, regexp_tokenize\n",
    "# Download necessary NLTK data files\n",
    "nltk.download('punkt')\n",
    "nltk.download('wordnet')\n",
    "\n",
    "# Models\n",
    "from sklearn_crfsuite import CRF\n",
    "import torch\n",
    "\n",
    "# Evaluation metrics\n",
    "from sklearn.metrics import accuracy_score, precision_score, recall_score, f1_score"
   ]
  },
  {
   "cell_type": "code",
   "execution_count": 3,
   "metadata": {
    "execution": {
     "iopub.execute_input": "2024-12-06T21:15:24.501227Z",
     "iopub.status.busy": "2024-12-06T21:15:24.500901Z",
     "iopub.status.idle": "2024-12-06T21:15:24.508190Z",
     "shell.execute_reply": "2024-12-06T21:15:24.507183Z",
     "shell.execute_reply.started": "2024-12-06T21:15:24.501195Z"
    },
    "trusted": true
   },
   "outputs": [
    {
     "data": {
      "text/plain": [
       "device(type='cuda')"
      ]
     },
     "execution_count": 3,
     "metadata": {},
     "output_type": "execute_result"
    }
   ],
   "source": [
    "device = torch.device(\"cuda\" if torch.cuda.is_available() else \"cpu\")\n",
    "device"
   ]
  },
  {
   "cell_type": "markdown",
   "metadata": {},
   "source": [
    "## Config"
   ]
  },
  {
   "cell_type": "code",
   "execution_count": 4,
   "metadata": {
    "execution": {
     "iopub.execute_input": "2024-12-06T21:15:24.510775Z",
     "iopub.status.busy": "2024-12-06T21:15:24.510375Z",
     "iopub.status.idle": "2024-12-06T21:15:24.519935Z",
     "shell.execute_reply": "2024-12-06T21:15:24.518949Z",
     "shell.execute_reply.started": "2024-12-06T21:15:24.510724Z"
    },
    "trusted": true
   },
   "outputs": [],
   "source": [
    "pd.set_option('display.max_colwidth', 1000) # Show all content of the cells\n",
    "# # Undo with \n",
    "# pd.reset_option('display.max_colwidth')\n",
    "\n",
    "# config tqdm for pandas\n",
    "tqdm.tqdm.pandas()"
   ]
  },
  {
   "cell_type": "code",
   "execution_count": 5,
   "metadata": {
    "execution": {
     "iopub.execute_input": "2024-12-06T21:15:24.521946Z",
     "iopub.status.busy": "2024-12-06T21:15:24.521548Z",
     "iopub.status.idle": "2024-12-06T21:15:24.536599Z",
     "shell.execute_reply": "2024-12-06T21:15:24.535333Z",
     "shell.execute_reply.started": "2024-12-06T21:15:24.521912Z"
    },
    "trusted": true
   },
   "outputs": [],
   "source": [
    "DATASET_PATH = \"/kaggle/input/pizza-dataset\" # Kaggle\n",
    "DATASET_PATH = \"./data/dataset\" # Local\n",
    "\n",
    "OUTPUT_ROOT_PATH = \"/kaggle/working\" # Kaggle\n",
    "OUTPUT_ROOT_PATH = \"./data/output\" # Local\n",
    "\n",
    "MODELS_PATH = OUTPUT_ROOT_PATH + \"/stored\"\n",
    "MODELS_PATH = OUTPUT_ROOT_PATH + \"/models\"\n",
    "PYTORCH_MODELS_PATH = MODELS_PATH + \"/checkpoints\""
   ]
  },
  {
   "cell_type": "code",
   "execution_count": 33,
   "metadata": {
    "execution": {
     "iopub.execute_input": "2024-12-06T21:15:24.537932Z",
     "iopub.status.busy": "2024-12-06T21:15:24.537580Z",
     "iopub.status.idle": "2024-12-06T21:15:26.138775Z",
     "shell.execute_reply": "2024-12-06T21:15:26.137003Z",
     "shell.execute_reply.started": "2024-12-06T21:15:24.537899Z"
    },
    "trusted": true
   },
   "outputs": [],
   "source": [
    "os.makedirs(OUTPUT_ROOT_PATH, exist_ok=True)\n",
    "os.makedirs(MODELS_PATH, exist_ok=True)\n",
    "os.makedirs(PYTORCH_MODELS_PATH, exist_ok=True)\n",
    "# !rmdir {MODELS_PATH} {PYTORCH_MODELS_PATH}"
   ]
  },
  {
   "cell_type": "code",
   "execution_count": 34,
   "metadata": {
    "execution": {
     "iopub.execute_input": "2024-12-06T21:15:26.141168Z",
     "iopub.status.busy": "2024-12-06T21:15:26.140759Z",
     "iopub.status.idle": "2024-12-06T21:15:26.147194Z",
     "shell.execute_reply": "2024-12-06T21:15:26.145949Z",
     "shell.execute_reply.started": "2024-12-06T21:15:26.141125Z"
    },
    "trusted": true
   },
   "outputs": [],
   "source": [
    "# token_pattern=r\"(?u)\\b\\w+\\b\"\n",
    "token_pattern=r\"(?u)\\b\\w+(?:'\\w+)?(?:-\\w+)*\\b\""
   ]
  },
  {
   "cell_type": "markdown",
   "metadata": {},
   "source": [
    "# Load Dataset"
   ]
  },
  {
   "cell_type": "code",
   "execution_count": null,
   "metadata": {},
   "outputs": [
    {
     "data": {
      "text/html": [
       "<div>\n",
       "<style scoped>\n",
       "    .dataframe tbody tr th:only-of-type {\n",
       "        vertical-align: middle;\n",
       "    }\n",
       "\n",
       "    .dataframe tbody tr th {\n",
       "        vertical-align: top;\n",
       "    }\n",
       "\n",
       "    .dataframe thead th {\n",
       "        text-align: right;\n",
       "    }\n",
       "</style>\n",
       "<table border=\"1\" class=\"dataframe\">\n",
       "  <thead>\n",
       "    <tr style=\"text-align: right;\">\n",
       "      <th></th>\n",
       "      <th>train.SRC</th>\n",
       "      <th>train.EXR</th>\n",
       "      <th>train.TOP</th>\n",
       "      <th>train.TOP-DECOUPLED</th>\n",
       "    </tr>\n",
       "  </thead>\n",
       "  <tbody>\n",
       "    <tr>\n",
       "      <th>0</th>\n",
       "      <td>can i have a large bbq pulled pork</td>\n",
       "      <td>(ORDER (PIZZAORDER (NUMBER 1 ) (SIZE LARGE ) (TOPPING BBQ_PULLED_PORK ) ) )</td>\n",
       "      <td>(ORDER can i have (PIZZAORDER (NUMBER a ) (SIZE large ) (TOPPING bbq pulled pork ) ) )</td>\n",
       "      <td>(ORDER (PIZZAORDER (NUMBER a ) (SIZE large ) (TOPPING bbq pulled pork ) ) )</td>\n",
       "    </tr>\n",
       "    <tr>\n",
       "      <th>1</th>\n",
       "      <td>large pie with green pepper and with extra peperonni</td>\n",
       "      <td>(ORDER (PIZZAORDER (NUMBER 1 ) (SIZE LARGE ) (TOPPING GREEN_PEPPERS ) (COMPLEX_TOPPING (QUANTITY EXTRA ) (TOPPING PEPPERONI ) ) ) )</td>\n",
       "      <td>(ORDER (PIZZAORDER (SIZE large ) pie with (TOPPING green pepper ) and with (COMPLEX_TOPPING (QUANTITY extra ) (TOPPING peperonni ) ) ) )</td>\n",
       "      <td>(ORDER (PIZZAORDER (SIZE large ) (TOPPING green pepper ) (COMPLEX_TOPPING (QUANTITY extra ) (TOPPING peperonni ) ) ) )</td>\n",
       "    </tr>\n",
       "    <tr>\n",
       "      <th>2</th>\n",
       "      <td>i'd like a large vegetarian pizza</td>\n",
       "      <td>(ORDER (PIZZAORDER (NUMBER 1 ) (SIZE LARGE ) (STYLE VEGETARIAN ) ) )</td>\n",
       "      <td>(ORDER i'd like (PIZZAORDER (NUMBER a ) (SIZE large ) (STYLE vegetarian ) pizza ) )</td>\n",
       "      <td>(ORDER (PIZZAORDER (NUMBER a ) (SIZE large ) (STYLE vegetarian ) ) )</td>\n",
       "    </tr>\n",
       "    <tr>\n",
       "      <th>3</th>\n",
       "      <td>party size stuffed crust pie with american cheese and with mushroom</td>\n",
       "      <td>(ORDER (PIZZAORDER (NUMBER 1 ) (SIZE PARTY_SIZE ) (STYLE STUFFED_CRUST ) (TOPPING AMERICAN_CHEESE ) (TOPPING MUSHROOMS ) ) )</td>\n",
       "      <td>(ORDER (PIZZAORDER (SIZE party size ) (STYLE stuffed crust ) pie with (TOPPING american cheese ) and with (TOPPING mushroom ) ) )</td>\n",
       "      <td>(ORDER (PIZZAORDER (SIZE party size ) (STYLE stuffed crust ) (TOPPING american cheese ) (TOPPING mushroom ) ) )</td>\n",
       "    </tr>\n",
       "    <tr>\n",
       "      <th>4</th>\n",
       "      <td>can i have one personal sized artichoke</td>\n",
       "      <td>(ORDER (PIZZAORDER (NUMBER 1 ) (SIZE PERSONAL_SIZE ) (TOPPING ARTICHOKES ) ) )</td>\n",
       "      <td>(ORDER can i have (PIZZAORDER (NUMBER one ) (SIZE personal sized ) (TOPPING artichoke ) ) )</td>\n",
       "      <td>(ORDER (PIZZAORDER (NUMBER one ) (SIZE personal sized ) (TOPPING artichoke ) ) )</td>\n",
       "    </tr>\n",
       "  </tbody>\n",
       "</table>\n",
       "</div>"
      ],
      "text/plain": [
       "                                                             train.SRC  \\\n",
       "0                                   can i have a large bbq pulled pork   \n",
       "1                 large pie with green pepper and with extra peperonni   \n",
       "2                                    i'd like a large vegetarian pizza   \n",
       "3  party size stuffed crust pie with american cheese and with mushroom   \n",
       "4                              can i have one personal sized artichoke   \n",
       "\n",
       "                                                                                                                             train.EXR  \\\n",
       "0                                                          (ORDER (PIZZAORDER (NUMBER 1 ) (SIZE LARGE ) (TOPPING BBQ_PULLED_PORK ) ) )   \n",
       "1  (ORDER (PIZZAORDER (NUMBER 1 ) (SIZE LARGE ) (TOPPING GREEN_PEPPERS ) (COMPLEX_TOPPING (QUANTITY EXTRA ) (TOPPING PEPPERONI ) ) ) )   \n",
       "2                                                                 (ORDER (PIZZAORDER (NUMBER 1 ) (SIZE LARGE ) (STYLE VEGETARIAN ) ) )   \n",
       "3         (ORDER (PIZZAORDER (NUMBER 1 ) (SIZE PARTY_SIZE ) (STYLE STUFFED_CRUST ) (TOPPING AMERICAN_CHEESE ) (TOPPING MUSHROOMS ) ) )   \n",
       "4                                                       (ORDER (PIZZAORDER (NUMBER 1 ) (SIZE PERSONAL_SIZE ) (TOPPING ARTICHOKES ) ) )   \n",
       "\n",
       "                                                                                                                                  train.TOP  \\\n",
       "0                                                    (ORDER can i have (PIZZAORDER (NUMBER a ) (SIZE large ) (TOPPING bbq pulled pork ) ) )   \n",
       "1  (ORDER (PIZZAORDER (SIZE large ) pie with (TOPPING green pepper ) and with (COMPLEX_TOPPING (QUANTITY extra ) (TOPPING peperonni ) ) ) )   \n",
       "2                                                       (ORDER i'd like (PIZZAORDER (NUMBER a ) (SIZE large ) (STYLE vegetarian ) pizza ) )   \n",
       "3         (ORDER (PIZZAORDER (SIZE party size ) (STYLE stuffed crust ) pie with (TOPPING american cheese ) and with (TOPPING mushroom ) ) )   \n",
       "4                                               (ORDER can i have (PIZZAORDER (NUMBER one ) (SIZE personal sized ) (TOPPING artichoke ) ) )   \n",
       "\n",
       "                                                                                                      train.TOP-DECOUPLED  \n",
       "0                                             (ORDER (PIZZAORDER (NUMBER a ) (SIZE large ) (TOPPING bbq pulled pork ) ) )  \n",
       "1  (ORDER (PIZZAORDER (SIZE large ) (TOPPING green pepper ) (COMPLEX_TOPPING (QUANTITY extra ) (TOPPING peperonni ) ) ) )  \n",
       "2                                                    (ORDER (PIZZAORDER (NUMBER a ) (SIZE large ) (STYLE vegetarian ) ) )  \n",
       "3         (ORDER (PIZZAORDER (SIZE party size ) (STYLE stuffed crust ) (TOPPING american cheese ) (TOPPING mushroom ) ) )  \n",
       "4                                        (ORDER (PIZZAORDER (NUMBER one ) (SIZE personal sized ) (TOPPING artichoke ) ) )  "
      ]
     },
     "execution_count": 35,
     "metadata": {},
     "output_type": "execute_result"
    }
   ],
   "source": [
    "def load_json(filename: str, cols: list[str] | None = None):\n",
    "    \"\"\"\n",
    "    Load a json file into a pandas DataFrame.\n",
    "    * This function is useful (for some reason) for loading the large dataset files.\n",
    "    \n",
    "    filename: str\n",
    "        The name of the file to load.\n",
    "    cols: list[str] | None\n",
    "        The columns to load. If None, load all columns.\n",
    "    return: pd.DataFrame\n",
    "        The DataFrame containing the data from the json file.\n",
    "    \"\"\"\n",
    "    all_cols = True if cols is None else False\n",
    "    data = []\n",
    "\n",
    "    with open(filename, encoding='latin-1') as f:\n",
    "        line = f.readline()\n",
    "        f.seek(0) # Go back to the beginning of the file\n",
    "        doc = json.loads(line)\n",
    "        if all_cols:\n",
    "            cols = list(doc.keys())\n",
    "        \n",
    "        for line in f:\n",
    "            doc = json.loads(line)\n",
    "            lst = [doc[col] for col in cols]\n",
    "            data.append(lst)\n",
    "\n",
    "    df = pd.DataFrame(data=data, columns=cols)\n",
    "    return df\n",
    "\n",
    "train_filename = DATASET_PATH + 'PIZZA_train.json'\n",
    "df_train = load_json(train_filename)\n",
    "df_train.head()"
   ]
  },
  {
   "cell_type": "code",
   "execution_count": 38,
   "metadata": {
    "execution": {
     "iopub.execute_input": "2024-12-06T21:15:26.149347Z",
     "iopub.status.busy": "2024-12-06T21:15:26.148962Z",
     "iopub.status.idle": "2024-12-06T21:15:26.180314Z",
     "shell.execute_reply": "2024-12-06T21:15:26.179098Z",
     "shell.execute_reply.started": "2024-12-06T21:15:26.149312Z"
    },
    "trusted": true
   },
   "outputs": [
    {
     "data": {
      "text/html": [
       "<div>\n",
       "<style scoped>\n",
       "    .dataframe tbody tr th:only-of-type {\n",
       "        vertical-align: middle;\n",
       "    }\n",
       "\n",
       "    .dataframe tbody tr th {\n",
       "        vertical-align: top;\n",
       "    }\n",
       "\n",
       "    .dataframe thead th {\n",
       "        text-align: right;\n",
       "    }\n",
       "</style>\n",
       "<table border=\"1\" class=\"dataframe\">\n",
       "  <thead>\n",
       "    <tr style=\"text-align: right;\">\n",
       "      <th></th>\n",
       "      <th>dev.SRC</th>\n",
       "      <th>dev.EXR</th>\n",
       "      <th>dev.TOP</th>\n",
       "      <th>dev.PCFG_ERR</th>\n",
       "    </tr>\n",
       "  </thead>\n",
       "  <tbody>\n",
       "    <tr>\n",
       "      <th>0</th>\n",
       "      <td>i want to order two medium pizzas with sausage and black olives and two medium pizzas with pepperoni and extra cheese and three large pizzas with pepperoni and sausage</td>\n",
       "      <td>(ORDER (PIZZAORDER (NUMBER 2 ) (SIZE MEDIUM ) (COMPLEX_TOPPING (QUANTITY EXTRA ) (TOPPING CHEESE ) ) (TOPPING PEPPERONI ) ) (PIZZAORDER (NUMBER 2 ) (SIZE MEDIUM ) (TOPPING OLIVES ) (TOPPING SAUSAGE ) ) (PIZZAORDER (NUMBER 3 ) (SIZE LARGE ) (TOPPING PEPPERONI ) (TOPPING SAUSAGE ) ) )</td>\n",
       "      <td>(ORDER i want to order (PIZZAORDER (NUMBER two ) (SIZE medium ) pizzas with (TOPPING sausage ) and (TOPPING black olives ) ) and (PIZZAORDER (NUMBER two ) (SIZE medium ) pizzas with (TOPPING pepperoni ) and (COMPLEX_TOPPING (QUANTITY extra ) (TOPPING cheese ) ) ) and (PIZZAORDER (NUMBER three ) (SIZE large ) pizzas with (TOPPING pepperoni ) and (TOPPING sausage ) ) )</td>\n",
       "      <td>False</td>\n",
       "    </tr>\n",
       "    <tr>\n",
       "      <th>1</th>\n",
       "      <td>five medium pizzas with tomatoes and ham</td>\n",
       "      <td>(ORDER (PIZZAORDER (NUMBER 5 ) (SIZE MEDIUM ) (TOPPING HAM ) (TOPPING TOMATOES ) ) )</td>\n",
       "      <td>(ORDER (PIZZAORDER (NUMBER five ) (SIZE medium ) pizzas with (TOPPING tomatoes ) and (TOPPING ham ) ) )</td>\n",
       "      <td>False</td>\n",
       "    </tr>\n",
       "    <tr>\n",
       "      <th>2</th>\n",
       "      <td>i need to order one large vegetarian pizza with extra banana peppers</td>\n",
       "      <td>(ORDER (PIZZAORDER (NUMBER 1 ) (SIZE LARGE ) (STYLE VEGETARIAN ) (COMPLEX_TOPPING (QUANTITY EXTRA ) (TOPPING BANANA_PEPPERS ) ) ) )</td>\n",
       "      <td>(ORDER i need to order (PIZZAORDER (NUMBER one ) (SIZE large ) (STYLE vegetarian ) pizza with (COMPLEX_TOPPING (QUANTITY extra ) (TOPPING banana peppers ) ) ) )</td>\n",
       "      <td>False</td>\n",
       "    </tr>\n",
       "    <tr>\n",
       "      <th>3</th>\n",
       "      <td>i'd like to order a large onion and pepper pizza</td>\n",
       "      <td>(ORDER (PIZZAORDER (NUMBER 1 ) (SIZE LARGE ) (TOPPING ONIONS ) (TOPPING PEPPERS ) ) )</td>\n",
       "      <td>(ORDER i'd like to order (PIZZAORDER (NUMBER a ) (SIZE large ) (TOPPING onion ) and (TOPPING pepper ) pizza ) )</td>\n",
       "      <td>False</td>\n",
       "    </tr>\n",
       "    <tr>\n",
       "      <th>4</th>\n",
       "      <td>i'll have one pie along with pesto and ham but avoid olives</td>\n",
       "      <td>(ORDER (PIZZAORDER (NOT (TOPPING OLIVES ) ) (NUMBER 1 ) (TOPPING HAM ) (TOPPING PESTO ) ) )</td>\n",
       "      <td>(ORDER i'll have (PIZZAORDER (NUMBER one ) pie along with (TOPPING pesto ) and (TOPPING ham ) but avoid (NOT (TOPPING olives ) ) ) )</td>\n",
       "      <td>False</td>\n",
       "    </tr>\n",
       "  </tbody>\n",
       "</table>\n",
       "</div>"
      ],
      "text/plain": [
       "                                                                                                                                                                   dev.SRC  \\\n",
       "0  i want to order two medium pizzas with sausage and black olives and two medium pizzas with pepperoni and extra cheese and three large pizzas with pepperoni and sausage   \n",
       "1                                                                                                                                 five medium pizzas with tomatoes and ham   \n",
       "2                                                                                                     i need to order one large vegetarian pizza with extra banana peppers   \n",
       "3                                                                                                                         i'd like to order a large onion and pepper pizza   \n",
       "4                                                                                                              i'll have one pie along with pesto and ham but avoid olives   \n",
       "\n",
       "                                                                                                                                                                                                                                                                                       dev.EXR  \\\n",
       "0  (ORDER (PIZZAORDER (NUMBER 2 ) (SIZE MEDIUM ) (COMPLEX_TOPPING (QUANTITY EXTRA ) (TOPPING CHEESE ) ) (TOPPING PEPPERONI ) ) (PIZZAORDER (NUMBER 2 ) (SIZE MEDIUM ) (TOPPING OLIVES ) (TOPPING SAUSAGE ) ) (PIZZAORDER (NUMBER 3 ) (SIZE LARGE ) (TOPPING PEPPERONI ) (TOPPING SAUSAGE ) ) )   \n",
       "1                                                                                                                                                                                                         (ORDER (PIZZAORDER (NUMBER 5 ) (SIZE MEDIUM ) (TOPPING HAM ) (TOPPING TOMATOES ) ) )   \n",
       "2                                                                                                                                                          (ORDER (PIZZAORDER (NUMBER 1 ) (SIZE LARGE ) (STYLE VEGETARIAN ) (COMPLEX_TOPPING (QUANTITY EXTRA ) (TOPPING BANANA_PEPPERS ) ) ) )   \n",
       "3                                                                                                                                                                                                        (ORDER (PIZZAORDER (NUMBER 1 ) (SIZE LARGE ) (TOPPING ONIONS ) (TOPPING PEPPERS ) ) )   \n",
       "4                                                                                                                                                                                                  (ORDER (PIZZAORDER (NOT (TOPPING OLIVES ) ) (NUMBER 1 ) (TOPPING HAM ) (TOPPING PESTO ) ) )   \n",
       "\n",
       "                                                                                                                                                                                                                                                                                                                                                                             dev.TOP  \\\n",
       "0  (ORDER i want to order (PIZZAORDER (NUMBER two ) (SIZE medium ) pizzas with (TOPPING sausage ) and (TOPPING black olives ) ) and (PIZZAORDER (NUMBER two ) (SIZE medium ) pizzas with (TOPPING pepperoni ) and (COMPLEX_TOPPING (QUANTITY extra ) (TOPPING cheese ) ) ) and (PIZZAORDER (NUMBER three ) (SIZE large ) pizzas with (TOPPING pepperoni ) and (TOPPING sausage ) ) )   \n",
       "1                                                                                                                                                                                                                                                                            (ORDER (PIZZAORDER (NUMBER five ) (SIZE medium ) pizzas with (TOPPING tomatoes ) and (TOPPING ham ) ) )   \n",
       "2                                                                                                                                                                                                                   (ORDER i need to order (PIZZAORDER (NUMBER one ) (SIZE large ) (STYLE vegetarian ) pizza with (COMPLEX_TOPPING (QUANTITY extra ) (TOPPING banana peppers ) ) ) )   \n",
       "3                                                                                                                                                                                                                                                                    (ORDER i'd like to order (PIZZAORDER (NUMBER a ) (SIZE large ) (TOPPING onion ) and (TOPPING pepper ) pizza ) )   \n",
       "4                                                                                                                                                                                                                                               (ORDER i'll have (PIZZAORDER (NUMBER one ) pie along with (TOPPING pesto ) and (TOPPING ham ) but avoid (NOT (TOPPING olives ) ) ) )   \n",
       "\n",
       "  dev.PCFG_ERR  \n",
       "0        False  \n",
       "1        False  \n",
       "2        False  \n",
       "3        False  \n",
       "4        False  "
      ]
     },
     "execution_count": 38,
     "metadata": {},
     "output_type": "execute_result"
    }
   ],
   "source": [
    "df_dev = pd.read_json(DATASET_PATH + '/PIZZA_dev.json', lines=True)\n",
    "df_dev.head()"
   ]
  },
  {
   "cell_type": "markdown",
   "metadata": {},
   "source": [
    "# EDA - Exploratory Data Analysis"
   ]
  },
  {
   "cell_type": "markdown",
   "metadata": {},
   "source": [
    "## Column names"
   ]
  },
  {
   "cell_type": "markdown",
   "metadata": {},
   "source": [
    "- **SRC** \n",
    "    - The source text of the pizza order as given by the user.\n",
    "- **EXR** \n",
    "    - The expected representation of the pizza order in a structured format (likely a parse tree or similar structure).\n",
    "- **TOP** \n",
    "    - The top-level representation of the pizza order, possibly a normalized or tokenized version of the source text.\n",
    "- **PCFG_ERR** \n",
    "    - A boolean indicating whether there was an error in parsing the pizza order using a Probabilistic Context-Free Grammar (PCFG)."
   ]
  },
  {
   "cell_type": "code",
   "execution_count": 39,
   "metadata": {
    "execution": {
     "iopub.execute_input": "2024-12-06T21:15:47.598691Z",
     "iopub.status.busy": "2024-12-06T21:15:47.598305Z",
     "iopub.status.idle": "2024-12-06T21:15:47.606423Z",
     "shell.execute_reply": "2024-12-06T21:15:47.605167Z",
     "shell.execute_reply.started": "2024-12-06T21:15:47.598655Z"
    },
    "trusted": true
   },
   "outputs": [],
   "source": [
    "df_dev.rename(columns={\n",
    "    'dev.SRC': 'src', \n",
    "    'dev.EXR': 'exr',\n",
    "    'dev.TOP': 'top',\n",
    "    'dev.PCFG_ERR': 'pcfg_err',\n",
    "}, inplace=True)\n",
    "df_train.rename(columns={\n",
    "    'train.SRC': 'src', \n",
    "    'train.EXR': 'exr',\n",
    "    'train.TOP': 'top',\n",
    "    'train.TOP-DECOUPLED': 'decoupled',\n",
    "}, inplace=True)"
   ]
  },
  {
   "cell_type": "markdown",
   "metadata": {},
   "source": [
    "## Check Duplicates & Missing Data"
   ]
  },
  {
   "cell_type": "code",
   "execution_count": 41,
   "metadata": {
    "execution": {
     "iopub.execute_input": "2024-12-06T21:15:47.637294Z",
     "iopub.status.busy": "2024-12-06T21:15:47.636801Z",
     "iopub.status.idle": "2024-12-06T21:16:03.646647Z",
     "shell.execute_reply": "2024-12-06T21:16:03.645342Z",
     "shell.execute_reply.started": "2024-12-06T21:15:47.637243Z"
    },
    "trusted": true
   },
   "outputs": [
    {
     "data": {
      "text/html": [
       "<div>\n",
       "<style scoped>\n",
       "    .dataframe tbody tr th:only-of-type {\n",
       "        vertical-align: middle;\n",
       "    }\n",
       "\n",
       "    .dataframe tbody tr th {\n",
       "        vertical-align: top;\n",
       "    }\n",
       "\n",
       "    .dataframe thead th {\n",
       "        text-align: right;\n",
       "    }\n",
       "</style>\n",
       "<table border=\"1\" class=\"dataframe\">\n",
       "  <thead>\n",
       "    <tr style=\"text-align: right;\">\n",
       "      <th></th>\n",
       "      <th>src</th>\n",
       "      <th>exr</th>\n",
       "      <th>top</th>\n",
       "      <th>decoupled</th>\n",
       "    </tr>\n",
       "  </thead>\n",
       "  <tbody>\n",
       "    <tr>\n",
       "      <th>count</th>\n",
       "      <td>2456446</td>\n",
       "      <td>2456446</td>\n",
       "      <td>2456446</td>\n",
       "      <td>2456446</td>\n",
       "    </tr>\n",
       "    <tr>\n",
       "      <th>unique</th>\n",
       "      <td>2456446</td>\n",
       "      <td>694346</td>\n",
       "      <td>2456446</td>\n",
       "      <td>1425035</td>\n",
       "    </tr>\n",
       "    <tr>\n",
       "      <th>top</th>\n",
       "      <td>can i have a large bbq pulled pork</td>\n",
       "      <td>(ORDER (PIZZAORDER (NUMBER 1 ) (SIZE PARTY_SIZE ) (TOPPING BANANA_PEPPERS ) (TOPPING PEPPERONI ) (TOPPING YELLOW_PEPPERS ) ) )</td>\n",
       "      <td>(ORDER can i have (PIZZAORDER (NUMBER a ) (SIZE large ) (TOPPING bbq pulled pork ) ) )</td>\n",
       "      <td>(ORDER (PIZZAORDER (NUMBER three ) (NOT (TOPPING american cheese ) ) ) (PIZZAORDER (NUMBER three ) (NOT (TOPPING american cheese ) ) ) )</td>\n",
       "    </tr>\n",
       "    <tr>\n",
       "      <th>freq</th>\n",
       "      <td>1</td>\n",
       "      <td>1999</td>\n",
       "      <td>1</td>\n",
       "      <td>167</td>\n",
       "    </tr>\n",
       "  </tbody>\n",
       "</table>\n",
       "</div>"
      ],
      "text/plain": [
       "                                       src  \\\n",
       "count                              2456446   \n",
       "unique                             2456446   \n",
       "top     can i have a large bbq pulled pork   \n",
       "freq                                     1   \n",
       "\n",
       "                                                                                                                                   exr  \\\n",
       "count                                                                                                                          2456446   \n",
       "unique                                                                                                                          694346   \n",
       "top     (ORDER (PIZZAORDER (NUMBER 1 ) (SIZE PARTY_SIZE ) (TOPPING BANANA_PEPPERS ) (TOPPING PEPPERONI ) (TOPPING YELLOW_PEPPERS ) ) )   \n",
       "freq                                                                                                                              1999   \n",
       "\n",
       "                                                                                           top  \\\n",
       "count                                                                                  2456446   \n",
       "unique                                                                                 2456446   \n",
       "top     (ORDER can i have (PIZZAORDER (NUMBER a ) (SIZE large ) (TOPPING bbq pulled pork ) ) )   \n",
       "freq                                                                                         1   \n",
       "\n",
       "                                                                                                                                       decoupled  \n",
       "count                                                                                                                                    2456446  \n",
       "unique                                                                                                                                   1425035  \n",
       "top     (ORDER (PIZZAORDER (NUMBER three ) (NOT (TOPPING american cheese ) ) ) (PIZZAORDER (NUMBER three ) (NOT (TOPPING american cheese ) ) ) )  \n",
       "freq                                                                                                                                         167  "
      ]
     },
     "execution_count": 41,
     "metadata": {},
     "output_type": "execute_result"
    }
   ],
   "source": [
    "df_train.describe()"
   ]
  },
  {
   "cell_type": "code",
   "execution_count": 40,
   "metadata": {
    "execution": {
     "iopub.execute_input": "2024-12-06T21:15:47.608234Z",
     "iopub.status.busy": "2024-12-06T21:15:47.607885Z",
     "iopub.status.idle": "2024-12-06T21:15:47.634416Z",
     "shell.execute_reply": "2024-12-06T21:15:47.633246Z",
     "shell.execute_reply.started": "2024-12-06T21:15:47.608173Z"
    },
    "trusted": true
   },
   "outputs": [
    {
     "data": {
      "text/html": [
       "<div>\n",
       "<style scoped>\n",
       "    .dataframe tbody tr th:only-of-type {\n",
       "        vertical-align: middle;\n",
       "    }\n",
       "\n",
       "    .dataframe tbody tr th {\n",
       "        vertical-align: top;\n",
       "    }\n",
       "\n",
       "    .dataframe thead th {\n",
       "        text-align: right;\n",
       "    }\n",
       "</style>\n",
       "<table border=\"1\" class=\"dataframe\">\n",
       "  <thead>\n",
       "    <tr style=\"text-align: right;\">\n",
       "      <th></th>\n",
       "      <th>src</th>\n",
       "      <th>exr</th>\n",
       "      <th>top</th>\n",
       "      <th>pcfg_err</th>\n",
       "    </tr>\n",
       "  </thead>\n",
       "  <tbody>\n",
       "    <tr>\n",
       "      <th>count</th>\n",
       "      <td>348</td>\n",
       "      <td>348</td>\n",
       "      <td>348</td>\n",
       "      <td>348</td>\n",
       "    </tr>\n",
       "    <tr>\n",
       "      <th>unique</th>\n",
       "      <td>348</td>\n",
       "      <td>270</td>\n",
       "      <td>348</td>\n",
       "      <td>2</td>\n",
       "    </tr>\n",
       "    <tr>\n",
       "      <th>top</th>\n",
       "      <td>i want to order two medium pizzas with sausage and black olives and two medium pizzas with pepperoni and extra cheese and three large pizzas with pepperoni and sausage</td>\n",
       "      <td>(ORDER (PIZZAORDER (NOT (TOPPING PEPPERS ) ) (NUMBER 1 ) (SIZE SMALL ) (STYLE THIN_CRUST ) (TOPPING HAM ) ) )</td>\n",
       "      <td>(ORDER i want to order (PIZZAORDER (NUMBER two ) (SIZE medium ) pizzas with (TOPPING sausage ) and (TOPPING black olives ) ) and (PIZZAORDER (NUMBER two ) (SIZE medium ) pizzas with (TOPPING pepperoni ) and (COMPLEX_TOPPING (QUANTITY extra ) (TOPPING cheese ) ) ) and (PIZZAORDER (NUMBER three ) (SIZE large ) pizzas with (TOPPING pepperoni ) and (TOPPING sausage ) ) )</td>\n",
       "      <td>False</td>\n",
       "    </tr>\n",
       "    <tr>\n",
       "      <th>freq</th>\n",
       "      <td>1</td>\n",
       "      <td>5</td>\n",
       "      <td>1</td>\n",
       "      <td>242</td>\n",
       "    </tr>\n",
       "  </tbody>\n",
       "</table>\n",
       "</div>"
      ],
      "text/plain": [
       "                                                                                                                                                                            src  \\\n",
       "count                                                                                                                                                                       348   \n",
       "unique                                                                                                                                                                      348   \n",
       "top     i want to order two medium pizzas with sausage and black olives and two medium pizzas with pepperoni and extra cheese and three large pizzas with pepperoni and sausage   \n",
       "freq                                                                                                                                                                          1   \n",
       "\n",
       "                                                                                                                  exr  \\\n",
       "count                                                                                                             348   \n",
       "unique                                                                                                            270   \n",
       "top     (ORDER (PIZZAORDER (NOT (TOPPING PEPPERS ) ) (NUMBER 1 ) (SIZE SMALL ) (STYLE THIN_CRUST ) (TOPPING HAM ) ) )   \n",
       "freq                                                                                                                5   \n",
       "\n",
       "                                                                                                                                                                                                                                                                                                                                                                                      top  \\\n",
       "count                                                                                                                                                                                                                                                                                                                                                                                 348   \n",
       "unique                                                                                                                                                                                                                                                                                                                                                                                348   \n",
       "top     (ORDER i want to order (PIZZAORDER (NUMBER two ) (SIZE medium ) pizzas with (TOPPING sausage ) and (TOPPING black olives ) ) and (PIZZAORDER (NUMBER two ) (SIZE medium ) pizzas with (TOPPING pepperoni ) and (COMPLEX_TOPPING (QUANTITY extra ) (TOPPING cheese ) ) ) and (PIZZAORDER (NUMBER three ) (SIZE large ) pizzas with (TOPPING pepperoni ) and (TOPPING sausage ) ) )   \n",
       "freq                                                                                                                                                                                                                                                                                                                                                                                    1   \n",
       "\n",
       "       pcfg_err  \n",
       "count       348  \n",
       "unique        2  \n",
       "top       False  \n",
       "freq        242  "
      ]
     },
     "execution_count": 40,
     "metadata": {},
     "output_type": "execute_result"
    }
   ],
   "source": [
    "df_dev.describe()"
   ]
  },
  {
   "cell_type": "code",
   "execution_count": 43,
   "metadata": {
    "execution": {
     "iopub.execute_input": "2024-12-06T21:16:03.664054Z",
     "iopub.status.busy": "2024-12-06T21:16:03.663621Z",
     "iopub.status.idle": "2024-12-06T21:16:03.678697Z",
     "shell.execute_reply": "2024-12-06T21:16:03.677309Z",
     "shell.execute_reply.started": "2024-12-06T21:16:03.664003Z"
    },
    "trusted": true
   },
   "outputs": [
    {
     "name": "stdout",
     "output_type": "stream",
     "text": [
      "<class 'pandas.core.frame.DataFrame'>\n",
      "RangeIndex: 2456446 entries, 0 to 2456445\n",
      "Data columns (total 4 columns):\n",
      " #   Column     Dtype \n",
      "---  ------     ----- \n",
      " 0   src        object\n",
      " 1   exr        object\n",
      " 2   top        object\n",
      " 3   decoupled  object\n",
      "dtypes: object(4)\n",
      "memory usage: 75.0+ MB\n"
     ]
    }
   ],
   "source": [
    "df_train.info()"
   ]
  },
  {
   "cell_type": "code",
   "execution_count": 42,
   "metadata": {
    "execution": {
     "iopub.execute_input": "2024-12-06T21:16:03.648692Z",
     "iopub.status.busy": "2024-12-06T21:16:03.648238Z",
     "iopub.status.idle": "2024-12-06T21:16:03.661804Z",
     "shell.execute_reply": "2024-12-06T21:16:03.660177Z",
     "shell.execute_reply.started": "2024-12-06T21:16:03.648644Z"
    },
    "trusted": true
   },
   "outputs": [
    {
     "name": "stdout",
     "output_type": "stream",
     "text": [
      "<class 'pandas.core.frame.DataFrame'>\n",
      "RangeIndex: 348 entries, 0 to 347\n",
      "Data columns (total 4 columns):\n",
      " #   Column    Non-Null Count  Dtype \n",
      "---  ------    --------------  ----- \n",
      " 0   src       348 non-null    object\n",
      " 1   exr       348 non-null    object\n",
      " 2   top       348 non-null    object\n",
      " 3   pcfg_err  348 non-null    object\n",
      "dtypes: object(4)\n",
      "memory usage: 11.0+ KB\n"
     ]
    }
   ],
   "source": [
    "df_dev.info()"
   ]
  },
  {
   "cell_type": "code",
   "execution_count": 44,
   "metadata": {
    "execution": {
     "iopub.execute_input": "2024-12-06T21:16:03.699284Z",
     "iopub.status.busy": "2024-12-06T21:16:03.698921Z",
     "iopub.status.idle": "2024-12-06T21:16:12.232248Z",
     "shell.execute_reply": "2024-12-06T21:16:12.230975Z",
     "shell.execute_reply.started": "2024-12-06T21:16:03.699249Z"
    },
    "trusted": true
   },
   "outputs": [
    {
     "data": {
      "text/plain": [
       "0"
      ]
     },
     "execution_count": 44,
     "metadata": {},
     "output_type": "execute_result"
    }
   ],
   "source": [
    "df_train.duplicated().sum()"
   ]
  },
  {
   "cell_type": "code",
   "execution_count": 45,
   "metadata": {
    "execution": {
     "iopub.execute_input": "2024-12-06T21:16:03.680781Z",
     "iopub.status.busy": "2024-12-06T21:16:03.680350Z",
     "iopub.status.idle": "2024-12-06T21:16:03.697356Z",
     "shell.execute_reply": "2024-12-06T21:16:03.695715Z",
     "shell.execute_reply.started": "2024-12-06T21:16:03.680715Z"
    },
    "trusted": true
   },
   "outputs": [
    {
     "data": {
      "text/plain": [
       "0"
      ]
     },
     "execution_count": 45,
     "metadata": {},
     "output_type": "execute_result"
    }
   ],
   "source": [
    "df_dev.duplicated().sum()"
   ]
  },
  {
   "cell_type": "code",
   "execution_count": 46,
   "metadata": {
    "execution": {
     "iopub.execute_input": "2024-12-06T21:16:12.245994Z",
     "iopub.status.busy": "2024-12-06T21:16:12.245550Z",
     "iopub.status.idle": "2024-12-06T21:16:13.339255Z",
     "shell.execute_reply": "2024-12-06T21:16:13.337712Z",
     "shell.execute_reply.started": "2024-12-06T21:16:12.245932Z"
    },
    "trusted": true
   },
   "outputs": [
    {
     "data": {
      "text/plain": [
       "src          0\n",
       "exr          0\n",
       "top          0\n",
       "decoupled    0\n",
       "dtype: int64"
      ]
     },
     "execution_count": 46,
     "metadata": {},
     "output_type": "execute_result"
    }
   ],
   "source": [
    "df_train.isna().sum()"
   ]
  },
  {
   "cell_type": "code",
   "execution_count": 47,
   "metadata": {
    "execution": {
     "iopub.execute_input": "2024-12-06T21:16:12.233952Z",
     "iopub.status.busy": "2024-12-06T21:16:12.233515Z",
     "iopub.status.idle": "2024-12-06T21:16:12.244041Z",
     "shell.execute_reply": "2024-12-06T21:16:12.242713Z",
     "shell.execute_reply.started": "2024-12-06T21:16:12.233916Z"
    },
    "trusted": true
   },
   "outputs": [
    {
     "data": {
      "text/plain": [
       "src         0\n",
       "exr         0\n",
       "top         0\n",
       "pcfg_err    0\n",
       "dtype: int64"
      ]
     },
     "execution_count": 47,
     "metadata": {},
     "output_type": "execute_result"
    }
   ],
   "source": [
    "df_dev.isna().sum()"
   ]
  },
  {
   "cell_type": "markdown",
   "metadata": {},
   "source": [
    "## Data Cleaning"
   ]
  },
  {
   "cell_type": "markdown",
   "metadata": {},
   "source": [
    "Masha2 allah: Data is clean (no punctuation | whitespace)"
   ]
  },
  {
   "cell_type": "code",
   "execution_count": 48,
   "metadata": {
    "execution": {
     "iopub.execute_input": "2024-12-06T21:16:13.340723Z",
     "iopub.status.busy": "2024-12-06T21:16:13.340385Z",
     "iopub.status.idle": "2024-12-06T21:16:13.348365Z",
     "shell.execute_reply": "2024-12-06T21:16:13.347190Z",
     "shell.execute_reply.started": "2024-12-06T21:16:13.340690Z"
    },
    "trusted": true
   },
   "outputs": [
    {
     "data": {
      "text/plain": [
       "'!\"#$%&\\'()*+,-./:;<=>?@[\\\\]^_`{|}~'"
      ]
     },
     "execution_count": 48,
     "metadata": {},
     "output_type": "execute_result"
    }
   ],
   "source": [
    "string.punctuation"
   ]
  },
  {
   "cell_type": "code",
   "execution_count": 52,
   "metadata": {},
   "outputs": [
    {
     "data": {
      "text/plain": [
       "0"
      ]
     },
     "execution_count": 52,
     "metadata": {},
     "output_type": "execute_result"
    }
   ],
   "source": [
    "df_train['src'][df_train['src'].str.find(string.punctuation) > 0].sum()"
   ]
  },
  {
   "cell_type": "code",
   "execution_count": 51,
   "metadata": {
    "execution": {
     "iopub.execute_input": "2024-12-06T21:16:13.350403Z",
     "iopub.status.busy": "2024-12-06T21:16:13.349961Z",
     "iopub.status.idle": "2024-12-06T21:16:13.369039Z",
     "shell.execute_reply": "2024-12-06T21:16:13.367773Z",
     "shell.execute_reply.started": "2024-12-06T21:16:13.350355Z"
    },
    "trusted": true
   },
   "outputs": [
    {
     "data": {
      "text/plain": [
       "0"
      ]
     },
     "execution_count": 51,
     "metadata": {},
     "output_type": "execute_result"
    }
   ],
   "source": [
    "df_dev['src'][df_dev['src'].str.find(string.punctuation) > 0].sum()"
   ]
  },
  {
   "cell_type": "code",
   "execution_count": 53,
   "metadata": {
    "execution": {
     "iopub.execute_input": "2024-12-06T21:16:13.395586Z",
     "iopub.status.busy": "2024-12-06T21:16:13.395119Z",
     "iopub.status.idle": "2024-12-06T21:16:22.195780Z",
     "shell.execute_reply": "2024-12-06T21:16:22.194466Z",
     "shell.execute_reply.started": "2024-12-06T21:16:13.395526Z"
    },
    "trusted": true
   },
   "outputs": [
    {
     "data": {
      "text/html": [
       "<div>\n",
       "<style scoped>\n",
       "    .dataframe tbody tr th:only-of-type {\n",
       "        vertical-align: middle;\n",
       "    }\n",
       "\n",
       "    .dataframe tbody tr th {\n",
       "        vertical-align: top;\n",
       "    }\n",
       "\n",
       "    .dataframe thead th {\n",
       "        text-align: right;\n",
       "    }\n",
       "</style>\n",
       "<table border=\"1\" class=\"dataframe\">\n",
       "  <thead>\n",
       "    <tr style=\"text-align: right;\">\n",
       "      <th></th>\n",
       "      <th>0</th>\n",
       "    </tr>\n",
       "  </thead>\n",
       "  <tbody>\n",
       "    <tr>\n",
       "      <th>count</th>\n",
       "      <td>0</td>\n",
       "    </tr>\n",
       "    <tr>\n",
       "      <th>unique</th>\n",
       "      <td>0</td>\n",
       "    </tr>\n",
       "    <tr>\n",
       "      <th>top</th>\n",
       "      <td>NaN</td>\n",
       "    </tr>\n",
       "    <tr>\n",
       "      <th>freq</th>\n",
       "      <td>NaN</td>\n",
       "    </tr>\n",
       "  </tbody>\n",
       "</table>\n",
       "</div>"
      ],
      "text/plain": [
       "          0\n",
       "count     0\n",
       "unique    0\n",
       "top     NaN\n",
       "freq    NaN"
      ]
     },
     "execution_count": 53,
     "metadata": {},
     "output_type": "execute_result"
    }
   ],
   "source": [
    "df_train['src'].str.extract(\"([A-Z]\\.)+\").describe() # No Abbreviations!"
   ]
  },
  {
   "cell_type": "code",
   "execution_count": null,
   "metadata": {
    "execution": {
     "iopub.execute_input": "2024-12-06T21:16:22.197989Z",
     "iopub.status.busy": "2024-12-06T21:16:22.197480Z",
     "iopub.status.idle": "2024-12-06T21:16:22.211908Z",
     "shell.execute_reply": "2024-12-06T21:16:22.210765Z",
     "shell.execute_reply.started": "2024-12-06T21:16:22.197935Z"
    },
    "trusted": true
   },
   "outputs": [
    {
     "data": {
      "text/plain": [
       "count    348.0\n",
       "mean      -1.0\n",
       "std        0.0\n",
       "min       -1.0\n",
       "25%       -1.0\n",
       "50%       -1.0\n",
       "75%       -1.0\n",
       "max       -1.0\n",
       "Name: src, dtype: float64"
      ]
     },
     "execution_count": 293,
     "metadata": {},
     "output_type": "execute_result"
    }
   ],
   "source": [
    "df_dev['src'].str.find(string.whitespace).describe()"
   ]
  },
  {
   "cell_type": "code",
   "execution_count": 54,
   "metadata": {
    "execution": {
     "iopub.execute_input": "2024-12-06T21:16:13.370842Z",
     "iopub.status.busy": "2024-12-06T21:16:13.370396Z",
     "iopub.status.idle": "2024-12-06T21:16:13.393729Z",
     "shell.execute_reply": "2024-12-06T21:16:13.392234Z",
     "shell.execute_reply.started": "2024-12-06T21:16:13.370801Z"
    },
    "trusted": true
   },
   "outputs": [
    {
     "data": {
      "text/html": [
       "<div>\n",
       "<style scoped>\n",
       "    .dataframe tbody tr th:only-of-type {\n",
       "        vertical-align: middle;\n",
       "    }\n",
       "\n",
       "    .dataframe tbody tr th {\n",
       "        vertical-align: top;\n",
       "    }\n",
       "\n",
       "    .dataframe thead th {\n",
       "        text-align: right;\n",
       "    }\n",
       "</style>\n",
       "<table border=\"1\" class=\"dataframe\">\n",
       "  <thead>\n",
       "    <tr style=\"text-align: right;\">\n",
       "      <th></th>\n",
       "      <th>0</th>\n",
       "    </tr>\n",
       "  </thead>\n",
       "  <tbody>\n",
       "    <tr>\n",
       "      <th>count</th>\n",
       "      <td>0</td>\n",
       "    </tr>\n",
       "    <tr>\n",
       "      <th>unique</th>\n",
       "      <td>0</td>\n",
       "    </tr>\n",
       "    <tr>\n",
       "      <th>top</th>\n",
       "      <td>NaN</td>\n",
       "    </tr>\n",
       "    <tr>\n",
       "      <th>freq</th>\n",
       "      <td>NaN</td>\n",
       "    </tr>\n",
       "  </tbody>\n",
       "</table>\n",
       "</div>"
      ],
      "text/plain": [
       "          0\n",
       "count     0\n",
       "unique    0\n",
       "top     NaN\n",
       "freq    NaN"
      ]
     },
     "execution_count": 54,
     "metadata": {},
     "output_type": "execute_result"
    }
   ],
   "source": [
    "df_dev['src'].str.extract(\"([A-Z]\\.)+\").describe() # No Abbreviations!"
   ]
  },
  {
   "cell_type": "code",
   "execution_count": null,
   "metadata": {
    "execution": {
     "iopub.execute_input": "2024-12-06T21:16:22.213969Z",
     "iopub.status.busy": "2024-12-06T21:16:22.213455Z",
     "iopub.status.idle": "2024-12-06T21:16:22.232136Z",
     "shell.execute_reply": "2024-12-06T21:16:22.230941Z",
     "shell.execute_reply.started": "2024-12-06T21:16:22.213931Z"
    },
    "trusted": true
   },
   "outputs": [
    {
     "data": {
      "text/plain": [
       "count                                                                                                                                              6\n",
       "unique                                                                                                                                             6\n",
       "top       how are you tonight my order is for a medium pizza and i'd like chicken on it as well as extra cheese but please no onions i appreciate it\n",
       "freq                                                                                                                                               1\n",
       "Name: src, dtype: object"
      ]
     },
     "execution_count": 294,
     "metadata": {},
     "output_type": "execute_result"
    }
   ],
   "source": [
    "df_dev['src'][df_dev['src'].str.find(\"i'd\") > 0].describe()"
   ]
  },
  {
   "cell_type": "code",
   "execution_count": null,
   "metadata": {
    "execution": {
     "iopub.execute_input": "2024-12-06T21:16:22.234223Z",
     "iopub.status.busy": "2024-12-06T21:16:22.233684Z",
     "iopub.status.idle": "2024-12-06T21:16:24.539438Z",
     "shell.execute_reply": "2024-12-06T21:16:24.538171Z",
     "shell.execute_reply.started": "2024-12-06T21:16:22.234173Z"
    },
    "trusted": true
   },
   "outputs": [
    {
     "data": {
      "text/plain": [
       "1251888    -1\n",
       "1251889    -1\n",
       "1251890    -1\n",
       "1251891    -1\n",
       "1251892    -1\n",
       "           ..\n",
       "2268941    17\n",
       "2268942    17\n",
       "2268943    17\n",
       "2268944    17\n",
       "2268945    17\n",
       "Name: top, Length: 767058, dtype: int64"
      ]
     },
     "execution_count": 295,
     "metadata": {},
     "output_type": "execute_result"
    }
   ],
   "source": [
    "df_train['top'][df_train['top'].str.find(\"DRINKORDER\") > 0].str.find(\"PIZZAORDER\")"
   ]
  },
  {
   "cell_type": "code",
   "execution_count": null,
   "metadata": {
    "execution": {
     "iopub.execute_input": "2024-12-06T21:16:24.542165Z",
     "iopub.status.busy": "2024-12-06T21:16:24.541687Z",
     "iopub.status.idle": "2024-12-06T21:16:24.549957Z",
     "shell.execute_reply": "2024-12-06T21:16:24.548628Z",
     "shell.execute_reply.started": "2024-12-06T21:16:24.542117Z"
    },
    "trusted": true
   },
   "outputs": [
    {
     "data": {
      "text/plain": [
       "\"(ORDER i'd like (PIZZAORDER (NUMBER a ) pizza with (TOPPING roasted peppers ) ) and (DRINKORDER (NUMBER nine ) (DRINKTYPE seven up ) ) )\""
      ]
     },
     "execution_count": 296,
     "metadata": {},
     "output_type": "execute_result"
    }
   ],
   "source": [
    "df_train.iloc[2268941]['top']"
   ]
  },
  {
   "cell_type": "markdown",
   "metadata": {},
   "source": [
    "# Preprocessing"
   ]
  },
  {
   "cell_type": "markdown",
   "metadata": {},
   "source": [
    "## Targets"
   ]
  },
  {
   "cell_type": "markdown",
   "metadata": {},
   "source": [
    "We remove the leading *ORDER* constructor from the target output sequences since it is a **universal top-level constructor** and **there is nothing to be learned from it**."
   ]
  },
  {
   "cell_type": "code",
   "execution_count": 55,
   "metadata": {
    "execution": {
     "iopub.execute_input": "2024-12-06T21:16:24.552579Z",
     "iopub.status.busy": "2024-12-06T21:16:24.551639Z",
     "iopub.status.idle": "2024-12-06T21:16:56.426888Z",
     "shell.execute_reply": "2024-12-06T21:16:56.425617Z",
     "shell.execute_reply.started": "2024-12-06T21:16:24.552540Z"
    },
    "trusted": true
   },
   "outputs": [],
   "source": [
    "# train.SRC\ttrain.EXR\ttrain.TOP\ttrain.TOP-DECOUPLED\n",
    "df_train['src'] = df_train['src'].str.replace(r\"^\\(ORDER\\s?\", \"\", regex=True)\n",
    "df_train['exr'] = df_train['exr'].str.replace(r\"^\\(ORDER\\s?\", \"\", regex=True)\n",
    "df_train['top'] = df_train['top'].str.replace(r\"^\\(ORDER\\s?\", \"\", regex=True)\n",
    "df_train['decoupled'] = df_train['decoupled'].str.replace(r\"^\\(ORDER\\s?\", \"\", regex=True)\n",
    "df_train['src'] = df_train['src'].str.replace(r\"\\)$\", \"\", regex=True)\n",
    "df_train['exr'] = df_train['exr'].str.replace(r\"\\)$\", \"\", regex=True)\n",
    "df_train['top'] = df_train['top'].str.replace(r\"\\)$\", \"\", regex=True)\n",
    "df_train['decoupled'] = df_train['decoupled'].str.replace(r\"\\)$\", \"\", regex=True)\n",
    "\n",
    "df_dev['src'] = df_dev['src'].str.replace(r\"^\\(ORDER\\s?\", \"\", regex=True)\n",
    "df_dev['exr'] = df_dev['exr'].str.replace(r\"^\\(ORDER\\s?\", \"\", regex=True)\n",
    "df_dev['top'] = df_dev['top'].str.replace(r\"^\\(ORDER\\s?\", \"\", regex=True)\n",
    "df_dev['src'] = df_dev['src'].str.replace(r\"\\)$\", \"\", regex=True)\n",
    "df_dev['exr'] = df_dev['exr'].str.replace(r\"\\)$\", \"\", regex=True)\n",
    "df_dev['top'] = df_dev['top'].str.replace(r\"\\)$\", \"\", regex=True)"
   ]
  },
  {
   "cell_type": "code",
   "execution_count": 56,
   "metadata": {
    "execution": {
     "iopub.execute_input": "2024-12-06T21:16:56.434366Z",
     "iopub.status.busy": "2024-12-06T21:16:56.433963Z",
     "iopub.status.idle": "2024-12-06T21:16:56.446016Z",
     "shell.execute_reply": "2024-12-06T21:16:56.444735Z",
     "shell.execute_reply.started": "2024-12-06T21:16:56.434330Z"
    },
    "trusted": true
   },
   "outputs": [
    {
     "data": {
      "text/html": [
       "<div>\n",
       "<style scoped>\n",
       "    .dataframe tbody tr th:only-of-type {\n",
       "        vertical-align: middle;\n",
       "    }\n",
       "\n",
       "    .dataframe tbody tr th {\n",
       "        vertical-align: top;\n",
       "    }\n",
       "\n",
       "    .dataframe thead th {\n",
       "        text-align: right;\n",
       "    }\n",
       "</style>\n",
       "<table border=\"1\" class=\"dataframe\">\n",
       "  <thead>\n",
       "    <tr style=\"text-align: right;\">\n",
       "      <th></th>\n",
       "      <th>src</th>\n",
       "      <th>exr</th>\n",
       "      <th>top</th>\n",
       "      <th>decoupled</th>\n",
       "    </tr>\n",
       "  </thead>\n",
       "  <tbody>\n",
       "    <tr>\n",
       "      <th>0</th>\n",
       "      <td>can i have a large bbq pulled pork</td>\n",
       "      <td>(PIZZAORDER (NUMBER 1 ) (SIZE LARGE ) (TOPPING BBQ_PULLED_PORK ) )</td>\n",
       "      <td>can i have (PIZZAORDER (NUMBER a ) (SIZE large ) (TOPPING bbq pulled pork ) )</td>\n",
       "      <td>(PIZZAORDER (NUMBER a ) (SIZE large ) (TOPPING bbq pulled pork ) )</td>\n",
       "    </tr>\n",
       "  </tbody>\n",
       "</table>\n",
       "</div>"
      ],
      "text/plain": [
       "                                  src  \\\n",
       "0  can i have a large bbq pulled pork   \n",
       "\n",
       "                                                                   exr  \\\n",
       "0  (PIZZAORDER (NUMBER 1 ) (SIZE LARGE ) (TOPPING BBQ_PULLED_PORK ) )    \n",
       "\n",
       "                                                                              top  \\\n",
       "0  can i have (PIZZAORDER (NUMBER a ) (SIZE large ) (TOPPING bbq pulled pork ) )    \n",
       "\n",
       "                                                             decoupled  \n",
       "0  (PIZZAORDER (NUMBER a ) (SIZE large ) (TOPPING bbq pulled pork ) )   "
      ]
     },
     "execution_count": 56,
     "metadata": {},
     "output_type": "execute_result"
    }
   ],
   "source": [
    "df_train.head(1)"
   ]
  },
  {
   "cell_type": "code",
   "execution_count": 57,
   "metadata": {
    "execution": {
     "iopub.execute_input": "2024-12-06T21:16:56.447660Z",
     "iopub.status.busy": "2024-12-06T21:16:56.447341Z",
     "iopub.status.idle": "2024-12-06T21:16:56.466504Z",
     "shell.execute_reply": "2024-12-06T21:16:56.465247Z",
     "shell.execute_reply.started": "2024-12-06T21:16:56.447631Z"
    },
    "trusted": true
   },
   "outputs": [
    {
     "data": {
      "text/html": [
       "<div>\n",
       "<style scoped>\n",
       "    .dataframe tbody tr th:only-of-type {\n",
       "        vertical-align: middle;\n",
       "    }\n",
       "\n",
       "    .dataframe tbody tr th {\n",
       "        vertical-align: top;\n",
       "    }\n",
       "\n",
       "    .dataframe thead th {\n",
       "        text-align: right;\n",
       "    }\n",
       "</style>\n",
       "<table border=\"1\" class=\"dataframe\">\n",
       "  <thead>\n",
       "    <tr style=\"text-align: right;\">\n",
       "      <th></th>\n",
       "      <th>src</th>\n",
       "      <th>exr</th>\n",
       "      <th>top</th>\n",
       "      <th>pcfg_err</th>\n",
       "    </tr>\n",
       "  </thead>\n",
       "  <tbody>\n",
       "    <tr>\n",
       "      <th>0</th>\n",
       "      <td>i want to order two medium pizzas with sausage and black olives and two medium pizzas with pepperoni and extra cheese and three large pizzas with pepperoni and sausage</td>\n",
       "      <td>(PIZZAORDER (NUMBER 2 ) (SIZE MEDIUM ) (COMPLEX_TOPPING (QUANTITY EXTRA ) (TOPPING CHEESE ) ) (TOPPING PEPPERONI ) ) (PIZZAORDER (NUMBER 2 ) (SIZE MEDIUM ) (TOPPING OLIVES ) (TOPPING SAUSAGE ) ) (PIZZAORDER (NUMBER 3 ) (SIZE LARGE ) (TOPPING PEPPERONI ) (TOPPING SAUSAGE ) )</td>\n",
       "      <td>i want to order (PIZZAORDER (NUMBER two ) (SIZE medium ) pizzas with (TOPPING sausage ) and (TOPPING black olives ) ) and (PIZZAORDER (NUMBER two ) (SIZE medium ) pizzas with (TOPPING pepperoni ) and (COMPLEX_TOPPING (QUANTITY extra ) (TOPPING cheese ) ) ) and (PIZZAORDER (NUMBER three ) (SIZE large ) pizzas with (TOPPING pepperoni ) and (TOPPING sausage ) )</td>\n",
       "      <td>False</td>\n",
       "    </tr>\n",
       "  </tbody>\n",
       "</table>\n",
       "</div>"
      ],
      "text/plain": [
       "                                                                                                                                                                       src  \\\n",
       "0  i want to order two medium pizzas with sausage and black olives and two medium pizzas with pepperoni and extra cheese and three large pizzas with pepperoni and sausage   \n",
       "\n",
       "                                                                                                                                                                                                                                                                                   exr  \\\n",
       "0  (PIZZAORDER (NUMBER 2 ) (SIZE MEDIUM ) (COMPLEX_TOPPING (QUANTITY EXTRA ) (TOPPING CHEESE ) ) (TOPPING PEPPERONI ) ) (PIZZAORDER (NUMBER 2 ) (SIZE MEDIUM ) (TOPPING OLIVES ) (TOPPING SAUSAGE ) ) (PIZZAORDER (NUMBER 3 ) (SIZE LARGE ) (TOPPING PEPPERONI ) (TOPPING SAUSAGE ) )    \n",
       "\n",
       "                                                                                                                                                                                                                                                                                                                                                                         top  \\\n",
       "0  i want to order (PIZZAORDER (NUMBER two ) (SIZE medium ) pizzas with (TOPPING sausage ) and (TOPPING black olives ) ) and (PIZZAORDER (NUMBER two ) (SIZE medium ) pizzas with (TOPPING pepperoni ) and (COMPLEX_TOPPING (QUANTITY extra ) (TOPPING cheese ) ) ) and (PIZZAORDER (NUMBER three ) (SIZE large ) pizzas with (TOPPING pepperoni ) and (TOPPING sausage ) )    \n",
       "\n",
       "  pcfg_err  \n",
       "0    False  "
      ]
     },
     "execution_count": 57,
     "metadata": {},
     "output_type": "execute_result"
    }
   ],
   "source": [
    "df_dev.head(1)"
   ]
  },
  {
   "cell_type": "markdown",
   "metadata": {},
   "source": [
    "## Features - Inputs"
   ]
  },
  {
   "cell_type": "markdown",
   "metadata": {},
   "source": [
    "### Lemmatize src"
   ]
  },
  {
   "cell_type": "markdown",
   "metadata": {},
   "source": [
    "- We compare the accuracy of **normal text** to that of **lemmatized text**.\n",
    "- This will provide insights into whether the models can use plural words to capture the meaning of quantities better or not."
   ]
  },
  {
   "cell_type": "code",
   "execution_count": null,
   "metadata": {
    "execution": {
     "iopub.execute_input": "2024-12-06T21:16:56.468559Z",
     "iopub.status.busy": "2024-12-06T21:16:56.468204Z",
     "iopub.status.idle": "2024-12-06T21:16:59.495395Z",
     "shell.execute_reply": "2024-12-06T21:16:59.494185Z",
     "shell.execute_reply.started": "2024-12-06T21:16:56.468525Z"
    },
    "trusted": true
   },
   "outputs": [
    {
     "name": "stderr",
     "output_type": "stream",
     "text": [
      "100%|██████████| 348/348 [00:03<00:00, 91.85it/s]\n",
      "100%|██████████| 348/348 [00:00<00:00, 86964.84it/s]\n",
      "100%|██████████| 348/348 [00:00<?, ?it/s]\n"
     ]
    },
    {
     "data": {
      "text/html": [
       "<div>\n",
       "<style scoped>\n",
       "    .dataframe tbody tr th:only-of-type {\n",
       "        vertical-align: middle;\n",
       "    }\n",
       "\n",
       "    .dataframe tbody tr th {\n",
       "        vertical-align: top;\n",
       "    }\n",
       "\n",
       "    .dataframe thead th {\n",
       "        text-align: right;\n",
       "    }\n",
       "</style>\n",
       "<table border=\"1\" class=\"dataframe\">\n",
       "  <thead>\n",
       "    <tr style=\"text-align: right;\">\n",
       "      <th></th>\n",
       "      <th>src</th>\n",
       "      <th>exr</th>\n",
       "      <th>top</th>\n",
       "      <th>pcfg_err</th>\n",
       "      <th>tokenized_lemma</th>\n",
       "      <th>tokenized</th>\n",
       "      <th>lemmatized</th>\n",
       "    </tr>\n",
       "  </thead>\n",
       "  <tbody>\n",
       "    <tr>\n",
       "      <th>0</th>\n",
       "      <td>i want to order two medium pizzas with sausage and black olives and two medium pizzas with pepperoni and extra cheese and three large pizzas with pepperoni and sausage</td>\n",
       "      <td>(PIZZAORDER (NUMBER 2 ) (SIZE MEDIUM ) (COMPLEX_TOPPING (QUANTITY EXTRA ) (TOPPING CHEESE ) ) (TOPPING PEPPERONI ) ) (PIZZAORDER (NUMBER 2 ) (SIZE MEDIUM ) (TOPPING OLIVES ) (TOPPING SAUSAGE ) ) (PIZZAORDER (NUMBER 3 ) (SIZE LARGE ) (TOPPING PEPPERONI ) (TOPPING SAUSAGE ) )</td>\n",
       "      <td>i want to order (PIZZAORDER (NUMBER two ) (SIZE medium ) pizzas with (TOPPING sausage ) and (TOPPING black olives ) ) and (PIZZAORDER (NUMBER two ) (SIZE medium ) pizzas with (TOPPING pepperoni ) and (COMPLEX_TOPPING (QUANTITY extra ) (TOPPING cheese ) ) ) and (PIZZAORDER (NUMBER three ) (SIZE large ) pizzas with (TOPPING pepperoni ) and (TOPPING sausage ) )</td>\n",
       "      <td>False</td>\n",
       "      <td>[i, want, to, order, two, medium, pizza, with, sausage, and, black, olive, and, two, medium, pizza, with, pepperoni, and, extra, cheese, and, three, large, pizza, with, pepperoni, and, sausage]</td>\n",
       "      <td>[i, want, to, order, two, medium, pizzas, with, sausage, and, black, olives, and, two, medium, pizzas, with, pepperoni, and, extra, cheese, and, three, large, pizzas, with, pepperoni, and, sausage]</td>\n",
       "      <td>i want to order two medium pizza with sausage and black olive and two medium pizza with pepperoni and extra cheese and three large pizza with pepperoni and sausage</td>\n",
       "    </tr>\n",
       "    <tr>\n",
       "      <th>1</th>\n",
       "      <td>five medium pizzas with tomatoes and ham</td>\n",
       "      <td>(PIZZAORDER (NUMBER 5 ) (SIZE MEDIUM ) (TOPPING HAM ) (TOPPING TOMATOES ) )</td>\n",
       "      <td>(PIZZAORDER (NUMBER five ) (SIZE medium ) pizzas with (TOPPING tomatoes ) and (TOPPING ham ) )</td>\n",
       "      <td>False</td>\n",
       "      <td>[five, medium, pizza, with, tomato, and, ham]</td>\n",
       "      <td>[five, medium, pizzas, with, tomatoes, and, ham]</td>\n",
       "      <td>five medium pizza with tomato and ham</td>\n",
       "    </tr>\n",
       "    <tr>\n",
       "      <th>2</th>\n",
       "      <td>i need to order one large vegetarian pizza with extra banana peppers</td>\n",
       "      <td>(PIZZAORDER (NUMBER 1 ) (SIZE LARGE ) (STYLE VEGETARIAN ) (COMPLEX_TOPPING (QUANTITY EXTRA ) (TOPPING BANANA_PEPPERS ) ) )</td>\n",
       "      <td>i need to order (PIZZAORDER (NUMBER one ) (SIZE large ) (STYLE vegetarian ) pizza with (COMPLEX_TOPPING (QUANTITY extra ) (TOPPING banana peppers ) ) )</td>\n",
       "      <td>False</td>\n",
       "      <td>[i, need, to, order, one, large, vegetarian, pizza, with, extra, banana, pepper]</td>\n",
       "      <td>[i, need, to, order, one, large, vegetarian, pizza, with, extra, banana, peppers]</td>\n",
       "      <td>i need to order one large vegetarian pizza with extra banana pepper</td>\n",
       "    </tr>\n",
       "    <tr>\n",
       "      <th>3</th>\n",
       "      <td>i'd like to order a large onion and pepper pizza</td>\n",
       "      <td>(PIZZAORDER (NUMBER 1 ) (SIZE LARGE ) (TOPPING ONIONS ) (TOPPING PEPPERS ) )</td>\n",
       "      <td>i'd like to order (PIZZAORDER (NUMBER a ) (SIZE large ) (TOPPING onion ) and (TOPPING pepper ) pizza )</td>\n",
       "      <td>False</td>\n",
       "      <td>[i, like, to, order, a, large, onion, and, pepper, pizza]</td>\n",
       "      <td>[i'd, like, to, order, a, large, onion, and, pepper, pizza]</td>\n",
       "      <td>i like to order a large onion and pepper pizza</td>\n",
       "    </tr>\n",
       "    <tr>\n",
       "      <th>4</th>\n",
       "      <td>i'll have one pie along with pesto and ham but avoid olives</td>\n",
       "      <td>(PIZZAORDER (NOT (TOPPING OLIVES ) ) (NUMBER 1 ) (TOPPING HAM ) (TOPPING PESTO ) )</td>\n",
       "      <td>i'll have (PIZZAORDER (NUMBER one ) pie along with (TOPPING pesto ) and (TOPPING ham ) but avoid (NOT (TOPPING olives ) ) )</td>\n",
       "      <td>False</td>\n",
       "      <td>[i, have, one, pie, along, with, pesto, and, ham, but, avoid, olive]</td>\n",
       "      <td>[i'll, have, one, pie, along, with, pesto, and, ham, but, avoid, olives]</td>\n",
       "      <td>i have one pie along with pesto and ham but avoid olive</td>\n",
       "    </tr>\n",
       "  </tbody>\n",
       "</table>\n",
       "</div>"
      ],
      "text/plain": [
       "                                                                                                                                                                       src  \\\n",
       "0  i want to order two medium pizzas with sausage and black olives and two medium pizzas with pepperoni and extra cheese and three large pizzas with pepperoni and sausage   \n",
       "1                                                                                                                                 five medium pizzas with tomatoes and ham   \n",
       "2                                                                                                     i need to order one large vegetarian pizza with extra banana peppers   \n",
       "3                                                                                                                         i'd like to order a large onion and pepper pizza   \n",
       "4                                                                                                              i'll have one pie along with pesto and ham but avoid olives   \n",
       "\n",
       "                                                                                                                                                                                                                                                                                   exr  \\\n",
       "0  (PIZZAORDER (NUMBER 2 ) (SIZE MEDIUM ) (COMPLEX_TOPPING (QUANTITY EXTRA ) (TOPPING CHEESE ) ) (TOPPING PEPPERONI ) ) (PIZZAORDER (NUMBER 2 ) (SIZE MEDIUM ) (TOPPING OLIVES ) (TOPPING SAUSAGE ) ) (PIZZAORDER (NUMBER 3 ) (SIZE LARGE ) (TOPPING PEPPERONI ) (TOPPING SAUSAGE ) )    \n",
       "1                                                                                                                                                                                                         (PIZZAORDER (NUMBER 5 ) (SIZE MEDIUM ) (TOPPING HAM ) (TOPPING TOMATOES ) )    \n",
       "2                                                                                                                                                          (PIZZAORDER (NUMBER 1 ) (SIZE LARGE ) (STYLE VEGETARIAN ) (COMPLEX_TOPPING (QUANTITY EXTRA ) (TOPPING BANANA_PEPPERS ) ) )    \n",
       "3                                                                                                                                                                                                        (PIZZAORDER (NUMBER 1 ) (SIZE LARGE ) (TOPPING ONIONS ) (TOPPING PEPPERS ) )    \n",
       "4                                                                                                                                                                                                  (PIZZAORDER (NOT (TOPPING OLIVES ) ) (NUMBER 1 ) (TOPPING HAM ) (TOPPING PESTO ) )    \n",
       "\n",
       "                                                                                                                                                                                                                                                                                                                                                                         top  \\\n",
       "0  i want to order (PIZZAORDER (NUMBER two ) (SIZE medium ) pizzas with (TOPPING sausage ) and (TOPPING black olives ) ) and (PIZZAORDER (NUMBER two ) (SIZE medium ) pizzas with (TOPPING pepperoni ) and (COMPLEX_TOPPING (QUANTITY extra ) (TOPPING cheese ) ) ) and (PIZZAORDER (NUMBER three ) (SIZE large ) pizzas with (TOPPING pepperoni ) and (TOPPING sausage ) )    \n",
       "1                                                                                                                                                                                                                                                                            (PIZZAORDER (NUMBER five ) (SIZE medium ) pizzas with (TOPPING tomatoes ) and (TOPPING ham ) )    \n",
       "2                                                                                                                                                                                                                   i need to order (PIZZAORDER (NUMBER one ) (SIZE large ) (STYLE vegetarian ) pizza with (COMPLEX_TOPPING (QUANTITY extra ) (TOPPING banana peppers ) ) )    \n",
       "3                                                                                                                                                                                                                                                                    i'd like to order (PIZZAORDER (NUMBER a ) (SIZE large ) (TOPPING onion ) and (TOPPING pepper ) pizza )    \n",
       "4                                                                                                                                                                                                                                               i'll have (PIZZAORDER (NUMBER one ) pie along with (TOPPING pesto ) and (TOPPING ham ) but avoid (NOT (TOPPING olives ) ) )    \n",
       "\n",
       "  pcfg_err  \\\n",
       "0    False   \n",
       "1    False   \n",
       "2    False   \n",
       "3    False   \n",
       "4    False   \n",
       "\n",
       "                                                                                                                                                                                     tokenized_lemma  \\\n",
       "0  [i, want, to, order, two, medium, pizza, with, sausage, and, black, olive, and, two, medium, pizza, with, pepperoni, and, extra, cheese, and, three, large, pizza, with, pepperoni, and, sausage]   \n",
       "1                                                                                                                                                      [five, medium, pizza, with, tomato, and, ham]   \n",
       "2                                                                                                                   [i, need, to, order, one, large, vegetarian, pizza, with, extra, banana, pepper]   \n",
       "3                                                                                                                                          [i, like, to, order, a, large, onion, and, pepper, pizza]   \n",
       "4                                                                                                                               [i, have, one, pie, along, with, pesto, and, ham, but, avoid, olive]   \n",
       "\n",
       "                                                                                                                                                                                               tokenized  \\\n",
       "0  [i, want, to, order, two, medium, pizzas, with, sausage, and, black, olives, and, two, medium, pizzas, with, pepperoni, and, extra, cheese, and, three, large, pizzas, with, pepperoni, and, sausage]   \n",
       "1                                                                                                                                                       [five, medium, pizzas, with, tomatoes, and, ham]   \n",
       "2                                                                                                                      [i, need, to, order, one, large, vegetarian, pizza, with, extra, banana, peppers]   \n",
       "3                                                                                                                                            [i'd, like, to, order, a, large, onion, and, pepper, pizza]   \n",
       "4                                                                                                                               [i'll, have, one, pie, along, with, pesto, and, ham, but, avoid, olives]   \n",
       "\n",
       "                                                                                                                                                            lemmatized  \n",
       "0  i want to order two medium pizza with sausage and black olive and two medium pizza with pepperoni and extra cheese and three large pizza with pepperoni and sausage  \n",
       "1                                                                                                                                five medium pizza with tomato and ham  \n",
       "2                                                                                                  i need to order one large vegetarian pizza with extra banana pepper  \n",
       "3                                                                                                                       i like to order a large onion and pepper pizza  \n",
       "4                                                                                                              i have one pie along with pesto and ham but avoid olive  "
      ]
     },
     "execution_count": 58,
     "metadata": {},
     "output_type": "execute_result"
    }
   ],
   "source": [
    "# Initialize the WordNetLemmatizer\n",
    "lemmatizer = WordNetLemmatizer()\n",
    "def lemmatize_text(text):\n",
    "    tokens = word_tokenize(text)\n",
    "    lemma_tokenized = [lemmatizer.lemmatize(token.lower()) for token in tokens if token.isalnum()]\n",
    "    return lemma_tokenized\n",
    "\n",
    "# Apply lemmatization\n",
    "# Used for the rest of embeddings\n",
    "df_dev[\"tokenized_lemma\"] = df_dev[\"src\"].progress_apply(lemmatize_text)\n",
    "df_dev[\"tokenized\"] = df_dev[\"src\"].progress_apply(lambda x: regexp_tokenize(x, token_pattern))\n",
    "# Used for tf-idf\n",
    "df_dev[\"lemmatized\"] = df_dev[\"tokenized_lemma\"].progress_apply(lambda x: \" \".join(x))\n",
    "df_dev.head()"
   ]
  },
  {
   "cell_type": "markdown",
   "metadata": {},
   "source": [
    "### TF-IDF"
   ]
  },
  {
   "cell_type": "code",
   "execution_count": 68,
   "metadata": {
    "execution": {
     "iopub.execute_input": "2024-12-06T21:16:59.497134Z",
     "iopub.status.busy": "2024-12-06T21:16:59.496761Z",
     "iopub.status.idle": "2024-12-06T21:16:59.516975Z",
     "shell.execute_reply": "2024-12-06T21:16:59.515691Z",
     "shell.execute_reply.started": "2024-12-06T21:16:59.497101Z"
    },
    "trusted": true
   },
   "outputs": [
    {
     "name": "stdout",
     "output_type": "stream",
     "text": [
      "245\n",
      "[0.         0.         0.         0.         0.         0.\n",
      " 0.         0.         0.         0.         0.         0.\n",
      " 0.33419201 0.         0.         0.         0.         0.\n",
      " 0.         0.         0.         0.         0.         0.\n",
      " 0.         0.         0.         0.         0.         0.\n",
      " 0.27444242 0.         0.         0.         0.         0.\n",
      " 0.         0.         0.13552587 0.         0.         0.\n",
      " 0.         0.         0.         0.         0.         0.\n",
      " 0.         0.         0.         0.         0.         0.\n",
      " 0.         0.         0.         0.         0.         0.\n",
      " 0.         0.         0.         0.         0.13966882 0.\n",
      " 0.         0.         0.         0.         0.         0.\n",
      " 0.         0.         0.         0.         0.         0.\n",
      " 0.         0.         0.         0.         0.         0.\n",
      " 0.         0.         0.         0.         0.         0.\n",
      " 0.         0.         0.         0.08430144 0.         0.\n",
      " 0.         0.         0.         0.         0.         0.\n",
      " 0.         0.         0.         0.         0.         0.\n",
      " 0.         0.         0.         0.         0.11605409 0.\n",
      " 0.         0.         0.         0.         0.         0.\n",
      " 0.         0.         0.         0.         0.         0.\n",
      " 0.         0.         0.         0.         0.25381643 0.\n",
      " 0.         0.         0.         0.         0.         0.\n",
      " 0.         0.         0.         0.         0.         0.\n",
      " 0.         0.         0.         0.         0.         0.16681071\n",
      " 0.         0.         0.         0.         0.         0.1457184\n",
      " 0.         0.         0.         0.         0.         0.\n",
      " 0.3124626  0.         0.         0.         0.         0.\n",
      " 0.         0.         0.         0.         0.         0.45482547\n",
      " 0.         0.         0.         0.         0.         0.\n",
      " 0.         0.         0.30500595 0.         0.         0.\n",
      " 0.         0.         0.         0.         0.         0.\n",
      " 0.         0.         0.         0.         0.         0.\n",
      " 0.         0.         0.         0.         0.         0.\n",
      " 0.         0.         0.         0.         0.         0.\n",
      " 0.         0.         0.         0.         0.         0.22822767\n",
      " 0.13552587 0.         0.         0.         0.         0.\n",
      " 0.         0.         0.         0.         0.         0.\n",
      " 0.3204523  0.         0.         0.15160849 0.         0.\n",
      " 0.         0.         0.         0.         0.         0.21773158\n",
      " 0.         0.         0.         0.         0.        ]\n",
      "[0.         0.         0.         0.         0.         0.\n",
      " 0.         0.         0.         0.         0.         0.\n",
      " 0.33419201 0.         0.         0.         0.         0.\n",
      " 0.         0.         0.         0.         0.         0.\n",
      " 0.         0.         0.         0.         0.         0.\n",
      " 0.27444242 0.         0.         0.         0.         0.\n",
      " 0.         0.         0.13552587 0.         0.         0.\n",
      " 0.         0.         0.         0.         0.         0.\n",
      " 0.         0.         0.         0.         0.         0.\n",
      " 0.         0.         0.         0.         0.         0.\n",
      " 0.         0.         0.         0.         0.13966882 0.\n",
      " 0.         0.         0.         0.         0.         0.\n",
      " 0.         0.         0.         0.         0.         0.\n",
      " 0.         0.         0.         0.         0.         0.\n",
      " 0.         0.         0.         0.         0.         0.\n",
      " 0.         0.         0.         0.08430144 0.         0.\n",
      " 0.         0.         0.         0.         0.         0.\n",
      " 0.         0.         0.         0.         0.         0.\n",
      " 0.         0.         0.         0.         0.11605409 0.\n",
      " 0.         0.         0.         0.         0.         0.\n",
      " 0.         0.         0.         0.         0.         0.\n",
      " 0.         0.         0.         0.         0.25381643 0.\n",
      " 0.         0.         0.         0.         0.         0.\n",
      " 0.         0.         0.         0.         0.         0.\n",
      " 0.         0.         0.         0.         0.         0.16681071\n",
      " 0.         0.         0.         0.         0.         0.1457184\n",
      " 0.         0.         0.         0.         0.         0.\n",
      " 0.3124626  0.         0.         0.         0.         0.\n",
      " 0.         0.         0.         0.         0.         0.45482547\n",
      " 0.         0.         0.         0.         0.         0.\n",
      " 0.         0.         0.30500595 0.         0.         0.\n",
      " 0.         0.         0.         0.         0.         0.\n",
      " 0.         0.         0.         0.         0.         0.\n",
      " 0.         0.         0.         0.         0.         0.\n",
      " 0.         0.         0.         0.         0.         0.\n",
      " 0.         0.         0.         0.         0.         0.22822767\n",
      " 0.13552587 0.         0.         0.         0.         0.\n",
      " 0.         0.         0.         0.         0.         0.\n",
      " 0.3204523  0.         0.         0.15160849 0.         0.\n",
      " 0.         0.         0.         0.         0.         0.21773158\n",
      " 0.         0.         0.         0.         0.        ]\n",
      "7-up\n"
     ]
    }
   ],
   "source": [
    "# TF-IDF feature extraction\n",
    "vectorizer = TfidfVectorizer(analyzer=\"word\", ngram_range=(1, 1), token_pattern=token_pattern)\n",
    "\n",
    "# Transform lemmatized tokens into TF-IDF features\n",
    "# Converts i'd -> i would (2 tokens instead of 1!) -> Trade off between lemmatizing 'top' or use 'src'\n",
    "# tfidf_features = vectorizer.fit_transform(df_dev[\"lemmatized\"]) \n",
    "tfidf_features = vectorizer.fit_transform(df_dev[\"src\"])\n",
    "X = vectorizer.transform(df_dev[\"src\"])\n",
    "print(len(tfidf_features.toarray()[5]))\n",
    "print(tfidf_features.toarray()[0])\n",
    "print(X.toarray()[0])\n",
    "print(vectorizer.get_feature_names_out()[0])"
   ]
  },
  {
   "cell_type": "code",
   "execution_count": 69,
   "metadata": {
    "execution": {
     "iopub.execute_input": "2024-12-06T21:16:59.519385Z",
     "iopub.status.busy": "2024-12-06T21:16:59.518905Z",
     "iopub.status.idle": "2024-12-06T21:16:59.527621Z",
     "shell.execute_reply": "2024-12-06T21:16:59.526400Z",
     "shell.execute_reply.started": "2024-12-06T21:16:59.519336Z"
    },
    "trusted": true
   },
   "outputs": [
    {
     "data": {
      "text/plain": [
       "((348, 245), (348, 7))"
      ]
     },
     "execution_count": 69,
     "metadata": {},
     "output_type": "execute_result"
    }
   ],
   "source": [
    "tfidf_features.shape, df_dev.shape"
   ]
  },
  {
   "cell_type": "code",
   "execution_count": 73,
   "metadata": {},
   "outputs": [
    {
     "data": {
      "text/plain": [
       "False"
      ]
     },
     "execution_count": 73,
     "metadata": {},
     "output_type": "execute_result"
    }
   ],
   "source": [
    "(X.toarray() == tfidf_features.toarray()).sum() == tfidf_features.shape[0] * tfidf_features.shape[1]"
   ]
  },
  {
   "cell_type": "code",
   "execution_count": 74,
   "metadata": {
    "execution": {
     "iopub.execute_input": "2024-12-06T21:16:59.529430Z",
     "iopub.status.busy": "2024-12-06T21:16:59.529117Z",
     "iopub.status.idle": "2024-12-06T21:16:59.540905Z",
     "shell.execute_reply": "2024-12-06T21:16:59.539886Z",
     "shell.execute_reply.started": "2024-12-06T21:16:59.529399Z"
    },
    "trusted": true
   },
   "outputs": [],
   "source": [
    "vocab = vectorizer.get_feature_names_out()\n",
    "docterm = pd.DataFrame(tfidf_features.todense(), columns=vocab)"
   ]
  },
  {
   "cell_type": "code",
   "execution_count": 75,
   "metadata": {
    "execution": {
     "iopub.execute_input": "2024-12-06T21:16:59.542949Z",
     "iopub.status.busy": "2024-12-06T21:16:59.542443Z",
     "iopub.status.idle": "2024-12-06T21:16:59.575280Z",
     "shell.execute_reply": "2024-12-06T21:16:59.573943Z",
     "shell.execute_reply.started": "2024-12-06T21:16:59.542899Z"
    },
    "trusted": true
   },
   "outputs": [
    {
     "data": {
      "text/html": [
       "<div>\n",
       "<style scoped>\n",
       "    .dataframe tbody tr th:only-of-type {\n",
       "        vertical-align: middle;\n",
       "    }\n",
       "\n",
       "    .dataframe tbody tr th {\n",
       "        vertical-align: top;\n",
       "    }\n",
       "\n",
       "    .dataframe thead th {\n",
       "        text-align: right;\n",
       "    }\n",
       "</style>\n",
       "<table border=\"1\" class=\"dataframe\">\n",
       "  <thead>\n",
       "    <tr style=\"text-align: right;\">\n",
       "      <th></th>\n",
       "      <th>7-up</th>\n",
       "      <th>a</th>\n",
       "      <th>add</th>\n",
       "      <th>adding</th>\n",
       "      <th>additional</th>\n",
       "      <th>all</th>\n",
       "      <th>allergic</th>\n",
       "      <th>along</th>\n",
       "      <th>also</th>\n",
       "      <th>am</th>\n",
       "      <th>...</th>\n",
       "      <th>well</th>\n",
       "      <th>which</th>\n",
       "      <th>will</th>\n",
       "      <th>wish</th>\n",
       "      <th>with</th>\n",
       "      <th>without</th>\n",
       "      <th>won't</th>\n",
       "      <th>would</th>\n",
       "      <th>yellow</th>\n",
       "      <th>you</th>\n",
       "    </tr>\n",
       "  </thead>\n",
       "  <tbody>\n",
       "    <tr>\n",
       "      <th>0</th>\n",
       "      <td>0.0</td>\n",
       "      <td>0.000000</td>\n",
       "      <td>0.0</td>\n",
       "      <td>0.0</td>\n",
       "      <td>0.0</td>\n",
       "      <td>0.0</td>\n",
       "      <td>0.0</td>\n",
       "      <td>0.000000</td>\n",
       "      <td>0.0</td>\n",
       "      <td>0.0</td>\n",
       "      <td>...</td>\n",
       "      <td>0.0</td>\n",
       "      <td>0.0</td>\n",
       "      <td>0.0</td>\n",
       "      <td>0.0</td>\n",
       "      <td>0.217732</td>\n",
       "      <td>0.0</td>\n",
       "      <td>0.0</td>\n",
       "      <td>0.0</td>\n",
       "      <td>0.0</td>\n",
       "      <td>0.0</td>\n",
       "    </tr>\n",
       "    <tr>\n",
       "      <th>1</th>\n",
       "      <td>0.0</td>\n",
       "      <td>0.000000</td>\n",
       "      <td>0.0</td>\n",
       "      <td>0.0</td>\n",
       "      <td>0.0</td>\n",
       "      <td>0.0</td>\n",
       "      <td>0.0</td>\n",
       "      <td>0.000000</td>\n",
       "      <td>0.0</td>\n",
       "      <td>0.0</td>\n",
       "      <td>...</td>\n",
       "      <td>0.0</td>\n",
       "      <td>0.0</td>\n",
       "      <td>0.0</td>\n",
       "      <td>0.0</td>\n",
       "      <td>0.159152</td>\n",
       "      <td>0.0</td>\n",
       "      <td>0.0</td>\n",
       "      <td>0.0</td>\n",
       "      <td>0.0</td>\n",
       "      <td>0.0</td>\n",
       "    </tr>\n",
       "    <tr>\n",
       "      <th>2</th>\n",
       "      <td>0.0</td>\n",
       "      <td>0.000000</td>\n",
       "      <td>0.0</td>\n",
       "      <td>0.0</td>\n",
       "      <td>0.0</td>\n",
       "      <td>0.0</td>\n",
       "      <td>0.0</td>\n",
       "      <td>0.000000</td>\n",
       "      <td>0.0</td>\n",
       "      <td>0.0</td>\n",
       "      <td>...</td>\n",
       "      <td>0.0</td>\n",
       "      <td>0.0</td>\n",
       "      <td>0.0</td>\n",
       "      <td>0.0</td>\n",
       "      <td>0.114830</td>\n",
       "      <td>0.0</td>\n",
       "      <td>0.0</td>\n",
       "      <td>0.0</td>\n",
       "      <td>0.0</td>\n",
       "      <td>0.0</td>\n",
       "    </tr>\n",
       "    <tr>\n",
       "      <th>3</th>\n",
       "      <td>0.0</td>\n",
       "      <td>0.172717</td>\n",
       "      <td>0.0</td>\n",
       "      <td>0.0</td>\n",
       "      <td>0.0</td>\n",
       "      <td>0.0</td>\n",
       "      <td>0.0</td>\n",
       "      <td>0.000000</td>\n",
       "      <td>0.0</td>\n",
       "      <td>0.0</td>\n",
       "      <td>...</td>\n",
       "      <td>0.0</td>\n",
       "      <td>0.0</td>\n",
       "      <td>0.0</td>\n",
       "      <td>0.0</td>\n",
       "      <td>0.000000</td>\n",
       "      <td>0.0</td>\n",
       "      <td>0.0</td>\n",
       "      <td>0.0</td>\n",
       "      <td>0.0</td>\n",
       "      <td>0.0</td>\n",
       "    </tr>\n",
       "    <tr>\n",
       "      <th>4</th>\n",
       "      <td>0.0</td>\n",
       "      <td>0.000000</td>\n",
       "      <td>0.0</td>\n",
       "      <td>0.0</td>\n",
       "      <td>0.0</td>\n",
       "      <td>0.0</td>\n",
       "      <td>0.0</td>\n",
       "      <td>0.317027</td>\n",
       "      <td>0.0</td>\n",
       "      <td>0.0</td>\n",
       "      <td>...</td>\n",
       "      <td>0.0</td>\n",
       "      <td>0.0</td>\n",
       "      <td>0.0</td>\n",
       "      <td>0.0</td>\n",
       "      <td>0.135995</td>\n",
       "      <td>0.0</td>\n",
       "      <td>0.0</td>\n",
       "      <td>0.0</td>\n",
       "      <td>0.0</td>\n",
       "      <td>0.0</td>\n",
       "    </tr>\n",
       "  </tbody>\n",
       "</table>\n",
       "<p>5 rows × 245 columns</p>\n",
       "</div>"
      ],
      "text/plain": [
       "   7-up         a  add  adding  additional  all  allergic     along  also  \\\n",
       "0   0.0  0.000000  0.0     0.0         0.0  0.0       0.0  0.000000   0.0   \n",
       "1   0.0  0.000000  0.0     0.0         0.0  0.0       0.0  0.000000   0.0   \n",
       "2   0.0  0.000000  0.0     0.0         0.0  0.0       0.0  0.000000   0.0   \n",
       "3   0.0  0.172717  0.0     0.0         0.0  0.0       0.0  0.000000   0.0   \n",
       "4   0.0  0.000000  0.0     0.0         0.0  0.0       0.0  0.317027   0.0   \n",
       "\n",
       "    am  ...  well  which  will  wish      with  without  won't  would  yellow  \\\n",
       "0  0.0  ...   0.0    0.0   0.0   0.0  0.217732      0.0    0.0    0.0     0.0   \n",
       "1  0.0  ...   0.0    0.0   0.0   0.0  0.159152      0.0    0.0    0.0     0.0   \n",
       "2  0.0  ...   0.0    0.0   0.0   0.0  0.114830      0.0    0.0    0.0     0.0   \n",
       "3  0.0  ...   0.0    0.0   0.0   0.0  0.000000      0.0    0.0    0.0     0.0   \n",
       "4  0.0  ...   0.0    0.0   0.0   0.0  0.135995      0.0    0.0    0.0     0.0   \n",
       "\n",
       "   you  \n",
       "0  0.0  \n",
       "1  0.0  \n",
       "2  0.0  \n",
       "3  0.0  \n",
       "4  0.0  \n",
       "\n",
       "[5 rows x 245 columns]"
      ]
     },
     "execution_count": 75,
     "metadata": {},
     "output_type": "execute_result"
    }
   ],
   "source": [
    "docterm.head()"
   ]
  },
  {
   "cell_type": "code",
   "execution_count": null,
   "metadata": {
    "execution": {
     "iopub.execute_input": "2024-12-06T21:16:59.577676Z",
     "iopub.status.busy": "2024-12-06T21:16:59.577061Z",
     "iopub.status.idle": "2024-12-06T21:16:59.583846Z",
     "shell.execute_reply": "2024-12-06T21:16:59.582497Z",
     "shell.execute_reply.started": "2024-12-06T21:16:59.577622Z"
    },
    "trusted": true
   },
   "outputs": [],
   "source": [
    "# (docterm['7'].to_list() == tfidf_features.toarray().T[0]).all()"
   ]
  },
  {
   "cell_type": "code",
   "execution_count": 76,
   "metadata": {
    "execution": {
     "iopub.execute_input": "2024-12-06T21:16:59.585814Z",
     "iopub.status.busy": "2024-12-06T21:16:59.585337Z",
     "iopub.status.idle": "2024-12-06T21:16:59.596870Z",
     "shell.execute_reply": "2024-12-06T21:16:59.595686Z",
     "shell.execute_reply.started": "2024-12-06T21:16:59.585758Z"
    },
    "trusted": true
   },
   "outputs": [
    {
     "data": {
      "text/plain": [
       "94"
      ]
     },
     "execution_count": 76,
     "metadata": {},
     "output_type": "execute_result"
    }
   ],
   "source": [
    "vectorizer.vocabulary_[\"i'd\"]"
   ]
  },
  {
   "cell_type": "code",
   "execution_count": 77,
   "metadata": {
    "execution": {
     "iopub.execute_input": "2024-12-06T21:16:59.598947Z",
     "iopub.status.busy": "2024-12-06T21:16:59.598446Z",
     "iopub.status.idle": "2024-12-06T21:16:59.612845Z",
     "shell.execute_reply": "2024-12-06T21:16:59.611786Z",
     "shell.execute_reply.started": "2024-12-06T21:16:59.598911Z"
    },
    "trusted": true
   },
   "outputs": [
    {
     "data": {
      "text/plain": [
       "array([0.        , 0.18706812, 0.        , 0.        , 0.        ,\n",
       "       0.        , 0.        , 0.        , 0.        , 0.        ,\n",
       "       0.        , 0.        , 0.14551966, 0.        , 0.        ,\n",
       "       0.        , 0.        , 0.        , 0.        , 0.33806403,\n",
       "       0.        , 0.        , 0.        , 0.        , 0.        ,\n",
       "       0.        , 0.        , 0.        , 0.        , 0.        ,\n",
       "       0.        , 0.        , 0.        , 0.        , 0.34014466,\n",
       "       0.        , 0.        , 0.        , 0.        , 0.        ,\n",
       "       0.        , 0.        , 0.        , 0.        , 0.        ,\n",
       "       0.        , 0.        , 0.        , 0.        , 0.        ,\n",
       "       0.        , 0.        , 0.        , 0.        , 0.        ,\n",
       "       0.        , 0.        , 0.        , 0.        , 0.        ,\n",
       "       0.        , 0.        , 0.        , 0.        , 0.        ,\n",
       "       0.        , 0.        , 0.        , 0.        , 0.        ,\n",
       "       0.        , 0.        , 0.        , 0.        , 0.        ,\n",
       "       0.30724662, 0.        , 0.        , 0.        , 0.        ,\n",
       "       0.        , 0.        , 0.        , 0.        , 0.        ,\n",
       "       0.        , 0.        , 0.        , 0.        , 0.        ,\n",
       "       0.        , 0.        , 0.        , 0.18353994, 0.        ,\n",
       "       0.        , 0.        , 0.        , 0.        , 0.        ,\n",
       "       0.        , 0.        , 0.        , 0.        , 0.        ,\n",
       "       0.        , 0.        , 0.        , 0.        , 0.        ,\n",
       "       0.        , 0.        , 0.        , 0.        , 0.        ,\n",
       "       0.        , 0.        , 0.        , 0.        , 0.        ,\n",
       "       0.        , 0.        , 0.        , 0.        , 0.        ,\n",
       "       0.        , 0.        , 0.        , 0.        , 0.        ,\n",
       "       0.        , 0.        , 0.        , 0.        , 0.        ,\n",
       "       0.        , 0.        , 0.        , 0.        , 0.        ,\n",
       "       0.        , 0.        , 0.        , 0.        , 0.        ,\n",
       "       0.        , 0.        , 0.        , 0.        , 0.        ,\n",
       "       0.        , 0.        , 0.        , 0.        , 0.        ,\n",
       "       0.        , 0.        , 0.        , 0.        , 0.        ,\n",
       "       0.        , 0.        , 0.        , 0.        , 0.        ,\n",
       "       0.        , 0.        , 0.        , 0.        , 0.        ,\n",
       "       0.        , 0.        , 0.1925599 , 0.        , 0.        ,\n",
       "       0.        , 0.        , 0.        , 0.        , 0.        ,\n",
       "       0.66562521, 0.        , 0.        , 0.        , 0.        ,\n",
       "       0.        , 0.        , 0.        , 0.        , 0.28399258,\n",
       "       0.        , 0.        , 0.        , 0.        , 0.        ,\n",
       "       0.        , 0.        , 0.        , 0.        , 0.        ,\n",
       "       0.        , 0.        , 0.        , 0.        , 0.        ,\n",
       "       0.        , 0.        , 0.        , 0.        , 0.        ,\n",
       "       0.        , 0.        , 0.        , 0.        , 0.        ,\n",
       "       0.        , 0.        , 0.        , 0.        , 0.        ,\n",
       "       0.        , 0.        , 0.        , 0.        , 0.        ,\n",
       "       0.        , 0.        , 0.        , 0.        , 0.        ,\n",
       "       0.        , 0.        , 0.        , 0.        , 0.        ,\n",
       "       0.        , 0.        , 0.        , 0.        , 0.15801408,\n",
       "       0.        , 0.        , 0.        , 0.        , 0.        ])"
      ]
     },
     "execution_count": 77,
     "metadata": {},
     "output_type": "execute_result"
    }
   ],
   "source": [
    "tfidf_features[vectorizer.vocabulary_.get('i', 0)].toarray()[0]"
   ]
  },
  {
   "cell_type": "markdown",
   "metadata": {},
   "source": [
    "### Word2Vec"
   ]
  },
  {
   "cell_type": "code",
   "execution_count": null,
   "metadata": {
    "execution": {
     "iopub.execute_input": "2024-12-06T21:16:59.615347Z",
     "iopub.status.busy": "2024-12-06T21:16:59.614501Z",
     "iopub.status.idle": "2024-12-06T21:16:59.673869Z",
     "shell.execute_reply": "2024-12-06T21:16:59.672719Z",
     "shell.execute_reply.started": "2024-12-06T21:16:59.615292Z"
    },
    "trusted": true
   },
   "outputs": [
    {
     "name": "stdout",
     "output_type": "stream",
     "text": [
      "Creating /word2vec_model.bin...\n",
      "Saving /word2vec_model.bin...\n"
     ]
    },
    {
     "data": {
      "text/plain": [
       "<gensim.models.word2vec.Word2Vec at 0x7d4a27e1f940>"
      ]
     },
     "execution_count": 308,
     "metadata": {},
     "output_type": "execute_result"
    }
   ],
   "source": [
    "model_name = \"/word2vec_model.bin\"\n",
    "update_model = True\n",
    "if update_model and not os.path.exists(MODELS_PATH + model_name):\n",
    "    print(f\"Creating {model_name}...\")\n",
    "    # Create a Word2Vec model\n",
    "    # word2vec_model = Word2Vec(sentences=df_dev[\"tokenized_lemma\"], vector_size=200, window=5, min_count=1, workers=4)\n",
    "    word2vec_model = Word2Vec(sentences=df_dev[\"tokenized\"], vector_size=200, window=5, min_count=1, workers=4)\n",
    "    print(f\"Saving {model_name}...\")\n",
    "    # Save the trained model\n",
    "    word2vec_model.save(MODELS_PATH + model_name)\n",
    "else:\n",
    "    print(f\"Loading {model_name}...\")\n",
    "    # Load the trained model\n",
    "    Word2Vec.load(MODELS_PATH + model_name)\n",
    "    \n",
    "word2vec_model"
   ]
  },
  {
   "cell_type": "code",
   "execution_count": null,
   "metadata": {
    "execution": {
     "iopub.execute_input": "2024-12-06T21:16:59.675873Z",
     "iopub.status.busy": "2024-12-06T21:16:59.675378Z",
     "iopub.status.idle": "2024-12-06T21:16:59.682666Z",
     "shell.execute_reply": "2024-12-06T21:16:59.681628Z",
     "shell.execute_reply.started": "2024-12-06T21:16:59.675822Z"
    },
    "trusted": true
   },
   "outputs": [],
   "source": [
    "word_embeddings = {word: word2vec_model.wv[word] for word in word2vec_model.wv.index_to_key}\n",
    "# word_embeddings"
   ]
  },
  {
   "cell_type": "code",
   "execution_count": null,
   "metadata": {
    "execution": {
     "iopub.execute_input": "2024-12-06T21:16:59.684881Z",
     "iopub.status.busy": "2024-12-06T21:16:59.684507Z",
     "iopub.status.idle": "2024-12-06T21:16:59.696110Z",
     "shell.execute_reply": "2024-12-06T21:16:59.694969Z",
     "shell.execute_reply.started": "2024-12-06T21:16:59.684846Z"
    },
    "trusted": true
   },
   "outputs": [],
   "source": [
    "# # Step 2: Prepare CRF features by combining tokens with embeddings\n",
    "# def convert_to_crf_features(tokens, word_embeddings):\n",
    "#     features = []\n",
    "#     for sentence, embeddings in zip(tokens, word_embeddings):\n",
    "#         sentence_features = []\n",
    "#         for word, embedding in zip(sentence, embeddings):\n",
    "#             word_features = {\n",
    "#                 'word': word,  # Word token itself (useful for CRF)\n",
    "#                 'embedding': embedding,  # Word embedding (numerical vector)\n",
    "#             }\n",
    "#             sentence_features.append(word_features)\n",
    "#         features.append(sentence_features)\n",
    "#     return features\n"
   ]
  },
  {
   "cell_type": "code",
   "execution_count": null,
   "metadata": {
    "execution": {
     "iopub.execute_input": "2024-12-06T21:16:59.698141Z",
     "iopub.status.busy": "2024-12-06T21:16:59.697650Z",
     "iopub.status.idle": "2024-12-06T21:16:59.708249Z",
     "shell.execute_reply": "2024-12-06T21:16:59.707180Z",
     "shell.execute_reply.started": "2024-12-06T21:16:59.698091Z"
    },
    "trusted": true
   },
   "outputs": [],
   "source": [
    "# # Step 3: Get the embeddings for your tokens (train data)\n",
    "# word_embeddings = get_word_embeddings(tokens, word2vec_model)\n",
    "\n",
    "# # Step 4: Convert tokens and embeddings into CRF-friendly format\n",
    "# crf_train_features = convert_to_crf_features(tokens, word_embeddings)"
   ]
  },
  {
   "cell_type": "code",
   "execution_count": null,
   "metadata": {
    "execution": {
     "iopub.execute_input": "2024-12-06T21:16:59.709927Z",
     "iopub.status.busy": "2024-12-06T21:16:59.709523Z",
     "iopub.status.idle": "2024-12-06T21:16:59.720469Z",
     "shell.execute_reply": "2024-12-06T21:16:59.719476Z",
     "shell.execute_reply.started": "2024-12-06T21:16:59.709892Z"
    },
    "trusted": true
   },
   "outputs": [],
   "source": [
    "# len(word_embeddings)"
   ]
  },
  {
   "cell_type": "code",
   "execution_count": null,
   "metadata": {
    "execution": {
     "iopub.execute_input": "2024-12-06T21:16:59.722718Z",
     "iopub.status.busy": "2024-12-06T21:16:59.722124Z",
     "iopub.status.idle": "2024-12-06T21:16:59.733366Z",
     "shell.execute_reply": "2024-12-06T21:16:59.732282Z",
     "shell.execute_reply.started": "2024-12-06T21:16:59.722668Z"
    },
    "trusted": true
   },
   "outputs": [],
   "source": [
    "# word_embeddings[0]"
   ]
  },
  {
   "cell_type": "markdown",
   "metadata": {},
   "source": [
    "## Word Vectorization"
   ]
  },
  {
   "cell_type": "markdown",
   "metadata": {},
   "source": [
    "Related Resources:\n",
    "- TF-IDF Matrix -> https://openclassrooms.com/en/courses/6532301-introduction-to-natural-language-processing/8081363-apply-the-tf-idf-vectorization-approach"
   ]
  },
  {
   "cell_type": "code",
   "execution_count": null,
   "metadata": {
    "execution": {
     "iopub.execute_input": "2024-12-06T21:18:33.418337Z",
     "iopub.status.busy": "2024-12-06T21:18:33.417911Z",
     "iopub.status.idle": "2024-12-06T21:18:34.019152Z",
     "shell.execute_reply": "2024-12-06T21:18:34.017875Z",
     "shell.execute_reply.started": "2024-12-06T21:18:33.418302Z"
    },
    "trusted": true
   },
   "outputs": [
    {
     "name": "stderr",
     "output_type": "stream",
     "text": [
      "100%|██████████| 348/348 [00:00<00:00, 655.42it/s]\n"
     ]
    },
    {
     "data": {
      "text/html": [
       "<div>\n",
       "<style scoped>\n",
       "    .dataframe tbody tr th:only-of-type {\n",
       "        vertical-align: middle;\n",
       "    }\n",
       "\n",
       "    .dataframe tbody tr th {\n",
       "        vertical-align: top;\n",
       "    }\n",
       "\n",
       "    .dataframe thead th {\n",
       "        text-align: right;\n",
       "    }\n",
       "</style>\n",
       "<table border=\"1\" class=\"dataframe\">\n",
       "  <thead>\n",
       "    <tr style=\"text-align: right;\">\n",
       "      <th></th>\n",
       "      <th>src</th>\n",
       "      <th>exr</th>\n",
       "      <th>top</th>\n",
       "      <th>pcfg_err</th>\n",
       "      <th>tokenized_lemma</th>\n",
       "      <th>tokenized</th>\n",
       "      <th>lemmatized</th>\n",
       "      <th>tfidf_features</th>\n",
       "      <th>word2vec_features</th>\n",
       "      <th>labels</th>\n",
       "    </tr>\n",
       "  </thead>\n",
       "  <tbody>\n",
       "    <tr>\n",
       "      <th>0</th>\n",
       "      <td>i want to order two medium pizzas with sausage and black olives and two medium pizzas with pepperoni and extra cheese and three large pizzas with pepperoni and sausage</td>\n",
       "      <td>(PIZZAORDER (NUMBER 2 ) (SIZE MEDIUM ) (COMPLEX_TOPPING (QUANTITY EXTRA ) (TOPPING CHEESE ) ) (TOPPING PEPPERONI ) ) (PIZZAORDER (NUMBER 2 ) (SIZE MEDIUM ) (TOPPING OLIVES ) (TOPPING SAUSAGE ) ) (PIZZAORDER (NUMBER 3 ) (SIZE LARGE ) (TOPPING PEPPERONI ) (TOPPING SAUSAGE ) )</td>\n",
       "      <td>i want to order (PIZZAORDER (NUMBER two ) (SIZE medium ) pizzas with (TOPPING sausage ) and (TOPPING black olives ) ) and (PIZZAORDER (NUMBER two ) (SIZE medium ) pizzas with (TOPPING pepperoni ) and (COMPLEX_TOPPING (QUANTITY extra ) (TOPPING cheese ) ) ) and (PIZZAORDER (NUMBER three ) (SIZE large ) pizzas with (TOPPING pepperoni ) and (TOPPING sausage ) )</td>\n",
       "      <td>False</td>\n",
       "      <td>[i, want, to, order, two, medium, pizza, with, sausage, and, black, olive, and, two, medium, pizza, with, pepperoni, and, extra, cheese, and, three, large, pizza, with, pepperoni, and, sausage]</td>\n",
       "      <td>[i, want, to, order, two, medium, pizzas, with, sausage, and, black, olives, and, two, medium, pizzas, with, pepperoni, and, extra, cheese, and, three, large, pizzas, with, pepperoni, and, sausage]</td>\n",
       "      <td>i want to order two medium pizza with sausage and black olive and two medium pizza with pepperoni and extra cheese and three large pizza with pepperoni and sausage</td>\n",
       "      <td>[[0.0, 0.18706812373139206, 0.0, 0.0, 0.0, 0.0, 0.0, 0.0, 0.0, 0.0, 0.0, 0.0, 0.14551966070645694, 0.0, 0.0, 0.0, 0.0, 0.0, 0.0, 0.338064030414566, 0.0, 0.0, 0.0, 0.0, 0.0, 0.0, 0.0, 0.0, 0.0, 0.0, 0.0, 0.0, 0.0, 0.0, 0.34014465734620436, 0.0, 0.0, 0.0, 0.0, 0.0, 0.0, 0.0, 0.0, 0.0, 0.0, 0.0, 0.0, 0.0, 0.0, 0.0, 0.0, 0.0, 0.0, 0.0, 0.0, 0.0, 0.0, 0.0, 0.0, 0.0, 0.0, 0.0, 0.0, 0.0, 0.0, 0.0, 0.0, 0.0, 0.0, 0.0, 0.0, 0.0, 0.0, 0.0, 0.0, 0.30724661810746495, 0.0, 0.0, 0.0, 0.0, 0.0, 0.0, 0.0, 0.0, 0.0, 0.0, 0.0, 0.0, 0.0, 0.0, 0.0, 0.0, 0.0, 0.1835399430287813, 0.0, 0.0, 0.0, 0.0, 0.0, 0.0, ...], [0.0, 0.0, 0.36841804537972767, 0.0, 0.0, 0.0, 0.0, 0.0, 0.3769445313850932, 0.0, 0.0, 0.0, 0.19351042155584847, 0.0, 0.0, 0.0, 0.0, 0.0, 0.0, 0.0, 0.0, 0.0, 0.0, 0.0, 0.0, 0.0, 0.0, 0.0, 0.0, 0.0, 0.0, 0.0, 0.0, 0.0, 0.0, 0.0, 0.0, 0.0, 0.19618713190325923, 0.0, 0.0, 0.0, 0.0, 0.0, 0.0, 0.0, 0.0, 0.0, 0.0, 0.0, 0.0, 0.0, 0.0, 0.0, 0.0, 0.0, 0.0, 0.0, 0.0, 0.0, 0.0, 0.0, 0.0, 0.0, 0.202184450...</td>\n",
       "      <td>[[0.0677469, -0.041739315, -0.08083352, 0.12261514, 0.16721858, -0.05736017, 0.09708657, 0.28409472, -0.118705854, -0.027471012, -0.057421274, -0.14376749, 0.0473368, 0.14283921, -0.030394064, -0.031858526, 0.052781112, 0.07924095, 0.0069334647, -0.2780961, 0.09244968, -0.032641098, -0.026583068, 0.036451172, 0.03341323, -0.025228117, -0.07656543, -0.118221, -0.10734222, 0.03260397, 0.15275688, 0.05852104, 0.106173486, -0.05881508, -0.082549885, 0.1174997, 0.06174134, -0.08423522, -0.055344716, -0.16970553, -0.06645013, 0.006280372, -0.11624798, -0.00490635, 0.1332938, -0.05824645, -0.00758351, -0.1255734, 0.039873965, 0.07710664, 0.045426518, -0.18234527, -0.024939088, -0.10234514, 0.08368705, -0.06852132, -0.07534842, -0.15418817, -0.14619642, -0.003937893, -0.101910375, -0.030932281, 0.1487361, -0.090863645, -0.320359, 0.09530128, -0.022416687, 0.22749043, -0.17629756, 0.21058744, -0.03136628, 0.1173821, 0.12045498, 0.03843337, 0.11156459, 0.058297314, 0.104958236, -0.11261302, ...</td>\n",
       "      <td>[24, 24, 24, 24, 6, 18, 18, 18, 18, 18, 18, 18, 24, 6, 18, 18, 18, 18, 18, 18, 18, 24, 6, 18, 18, 18, 18, 18, 18]</td>\n",
       "    </tr>\n",
       "  </tbody>\n",
       "</table>\n",
       "</div>"
      ],
      "text/plain": [
       "                                                                                                                                                                       src  \\\n",
       "0  i want to order two medium pizzas with sausage and black olives and two medium pizzas with pepperoni and extra cheese and three large pizzas with pepperoni and sausage   \n",
       "\n",
       "                                                                                                                                                                                                                                                                                   exr  \\\n",
       "0  (PIZZAORDER (NUMBER 2 ) (SIZE MEDIUM ) (COMPLEX_TOPPING (QUANTITY EXTRA ) (TOPPING CHEESE ) ) (TOPPING PEPPERONI ) ) (PIZZAORDER (NUMBER 2 ) (SIZE MEDIUM ) (TOPPING OLIVES ) (TOPPING SAUSAGE ) ) (PIZZAORDER (NUMBER 3 ) (SIZE LARGE ) (TOPPING PEPPERONI ) (TOPPING SAUSAGE ) )    \n",
       "\n",
       "                                                                                                                                                                                                                                                                                                                                                                         top  \\\n",
       "0  i want to order (PIZZAORDER (NUMBER two ) (SIZE medium ) pizzas with (TOPPING sausage ) and (TOPPING black olives ) ) and (PIZZAORDER (NUMBER two ) (SIZE medium ) pizzas with (TOPPING pepperoni ) and (COMPLEX_TOPPING (QUANTITY extra ) (TOPPING cheese ) ) ) and (PIZZAORDER (NUMBER three ) (SIZE large ) pizzas with (TOPPING pepperoni ) and (TOPPING sausage ) )    \n",
       "\n",
       "  pcfg_err  \\\n",
       "0    False   \n",
       "\n",
       "                                                                                                                                                                                     tokenized_lemma  \\\n",
       "0  [i, want, to, order, two, medium, pizza, with, sausage, and, black, olive, and, two, medium, pizza, with, pepperoni, and, extra, cheese, and, three, large, pizza, with, pepperoni, and, sausage]   \n",
       "\n",
       "                                                                                                                                                                                               tokenized  \\\n",
       "0  [i, want, to, order, two, medium, pizzas, with, sausage, and, black, olives, and, two, medium, pizzas, with, pepperoni, and, extra, cheese, and, three, large, pizzas, with, pepperoni, and, sausage]   \n",
       "\n",
       "                                                                                                                                                            lemmatized  \\\n",
       "0  i want to order two medium pizza with sausage and black olive and two medium pizza with pepperoni and extra cheese and three large pizza with pepperoni and sausage   \n",
       "\n",
       "                                                                                                                                                                                                                                                                                                                                                                                                                                                                                                                                                                                                                                                                                                                                                                                                                                                                                                                                                                                                                            tfidf_features  \\\n",
       "0  [[0.0, 0.18706812373139206, 0.0, 0.0, 0.0, 0.0, 0.0, 0.0, 0.0, 0.0, 0.0, 0.0, 0.14551966070645694, 0.0, 0.0, 0.0, 0.0, 0.0, 0.0, 0.338064030414566, 0.0, 0.0, 0.0, 0.0, 0.0, 0.0, 0.0, 0.0, 0.0, 0.0, 0.0, 0.0, 0.0, 0.0, 0.34014465734620436, 0.0, 0.0, 0.0, 0.0, 0.0, 0.0, 0.0, 0.0, 0.0, 0.0, 0.0, 0.0, 0.0, 0.0, 0.0, 0.0, 0.0, 0.0, 0.0, 0.0, 0.0, 0.0, 0.0, 0.0, 0.0, 0.0, 0.0, 0.0, 0.0, 0.0, 0.0, 0.0, 0.0, 0.0, 0.0, 0.0, 0.0, 0.0, 0.0, 0.0, 0.30724661810746495, 0.0, 0.0, 0.0, 0.0, 0.0, 0.0, 0.0, 0.0, 0.0, 0.0, 0.0, 0.0, 0.0, 0.0, 0.0, 0.0, 0.0, 0.1835399430287813, 0.0, 0.0, 0.0, 0.0, 0.0, 0.0, ...], [0.0, 0.0, 0.36841804537972767, 0.0, 0.0, 0.0, 0.0, 0.0, 0.3769445313850932, 0.0, 0.0, 0.0, 0.19351042155584847, 0.0, 0.0, 0.0, 0.0, 0.0, 0.0, 0.0, 0.0, 0.0, 0.0, 0.0, 0.0, 0.0, 0.0, 0.0, 0.0, 0.0, 0.0, 0.0, 0.0, 0.0, 0.0, 0.0, 0.0, 0.0, 0.19618713190325923, 0.0, 0.0, 0.0, 0.0, 0.0, 0.0, 0.0, 0.0, 0.0, 0.0, 0.0, 0.0, 0.0, 0.0, 0.0, 0.0, 0.0, 0.0, 0.0, 0.0, 0.0, 0.0, 0.0, 0.0, 0.0, 0.202184450...   \n",
       "\n",
       "                                                                                                                                                                                                                                                                                                                                                                                                                                                                                                                                                                                                                                                                                                                                                                                                                                                                                                                                                                                                                         word2vec_features  \\\n",
       "0  [[0.0677469, -0.041739315, -0.08083352, 0.12261514, 0.16721858, -0.05736017, 0.09708657, 0.28409472, -0.118705854, -0.027471012, -0.057421274, -0.14376749, 0.0473368, 0.14283921, -0.030394064, -0.031858526, 0.052781112, 0.07924095, 0.0069334647, -0.2780961, 0.09244968, -0.032641098, -0.026583068, 0.036451172, 0.03341323, -0.025228117, -0.07656543, -0.118221, -0.10734222, 0.03260397, 0.15275688, 0.05852104, 0.106173486, -0.05881508, -0.082549885, 0.1174997, 0.06174134, -0.08423522, -0.055344716, -0.16970553, -0.06645013, 0.006280372, -0.11624798, -0.00490635, 0.1332938, -0.05824645, -0.00758351, -0.1255734, 0.039873965, 0.07710664, 0.045426518, -0.18234527, -0.024939088, -0.10234514, 0.08368705, -0.06852132, -0.07534842, -0.15418817, -0.14619642, -0.003937893, -0.101910375, -0.030932281, 0.1487361, -0.090863645, -0.320359, 0.09530128, -0.022416687, 0.22749043, -0.17629756, 0.21058744, -0.03136628, 0.1173821, 0.12045498, 0.03843337, 0.11156459, 0.058297314, 0.104958236, -0.11261302, ...   \n",
       "\n",
       "                                                                                                              labels  \n",
       "0  [24, 24, 24, 24, 6, 18, 18, 18, 18, 18, 18, 18, 24, 6, 18, 18, 18, 18, 18, 18, 18, 24, 6, 18, 18, 18, 18, 18, 18]  "
      ]
     },
     "execution_count": 330,
     "metadata": {},
     "output_type": "execute_result"
    }
   ],
   "source": [
    "def vectorize_words(row):\n",
    "    tokens: list[str] = row[\"tokenized\"]\n",
    "    sentence_tfidfs = []\n",
    "    sentence_word2vec = []\n",
    "    for token in tokens:\n",
    "        sentence_tfidfs.append(tfidf_features[vectorizer.vocabulary_.get(token, 0)].toarray()[0])\n",
    "        sentence_word2vec.append(word_embeddings.get(token, [0] * 100)) # Default zero-vector\n",
    "    row['tfidf_features'], row['word2vec_features'] = sentence_tfidfs, sentence_word2vec\n",
    "    return row\n",
    "\n",
    "df_dev = df_dev.progress_apply(vectorize_words, axis=1)\n",
    "df_dev.head(1)"
   ]
  },
  {
   "cell_type": "markdown",
   "metadata": {},
   "source": [
    "## Extracting Entities"
   ]
  },
  {
   "cell_type": "markdown",
   "metadata": {},
   "source": [
    "We updated the token_pattern to tokenize words with at least 1 character instead of the default of min 2 chars, which will skip important tokens such as a, 7, etc. (used for NUMBER entity label)\n"
   ]
  },
  {
   "cell_type": "code",
   "execution_count": null,
   "metadata": {
    "execution": {
     "iopub.execute_input": "2024-12-06T21:17:00.652899Z",
     "iopub.status.busy": "2024-12-06T21:17:00.652460Z",
     "iopub.status.idle": "2024-12-06T21:17:00.660965Z",
     "shell.execute_reply": "2024-12-06T21:17:00.659710Z",
     "shell.execute_reply.started": "2024-12-06T21:17:00.652863Z"
    },
    "trusted": true
   },
   "outputs": [
    {
     "data": {
      "text/plain": [
       "['(PIZZAORDER (NUMBER two )',\n",
       " '(PIZZAORDER (NUMBER two )',\n",
       " '(PIZZAORDER (NUMBER three )']"
      ]
     },
     "execution_count": 315,
     "metadata": {},
     "output_type": "execute_result"
    }
   ],
   "source": [
    "[x.group() for x in re.finditer(r\"\\(PIZZAORDER .+?\\)\", df_dev['top'][0])]"
   ]
  },
  {
   "cell_type": "code",
   "execution_count": null,
   "metadata": {
    "execution": {
     "iopub.execute_input": "2024-12-06T21:17:00.662998Z",
     "iopub.status.busy": "2024-12-06T21:17:00.662500Z",
     "iopub.status.idle": "2024-12-06T21:17:13.543931Z",
     "shell.execute_reply": "2024-12-06T21:17:13.542694Z",
     "shell.execute_reply.started": "2024-12-06T21:17:00.662948Z"
    },
    "trusted": true
   },
   "outputs": [],
   "source": [
    "full_text = \" \".join(df_train['top'].to_list())\n",
    "entities = [x.group() for x in re.finditer(\"(?<=\\()[A-Z]+(_[A-Z]+)*\", full_text)]"
   ]
  },
  {
   "cell_type": "code",
   "execution_count": null,
   "metadata": {
    "execution": {
     "iopub.execute_input": "2024-12-06T21:17:13.546544Z",
     "iopub.status.busy": "2024-12-06T21:17:13.546083Z",
     "iopub.status.idle": "2024-12-06T21:17:14.642272Z",
     "shell.execute_reply": "2024-12-06T21:17:14.640820Z",
     "shell.execute_reply.started": "2024-12-06T21:17:13.546493Z"
    },
    "trusted": true
   },
   "outputs": [
    {
     "data": {
      "text/plain": [
       "['QUANTITY',\n",
       " 'TOPPING',\n",
       " 'SIZE',\n",
       " 'NOT',\n",
       " 'PIZZAORDER',\n",
       " 'DRINKORDER',\n",
       " 'CONTAINERTYPE',\n",
       " 'DRINKTYPE',\n",
       " 'NUMBER',\n",
       " 'COMPLEX_TOPPING',\n",
       " 'STYLE',\n",
       " 'VOLUME']"
      ]
     },
     "execution_count": 317,
     "metadata": {},
     "output_type": "execute_result"
    }
   ],
   "source": [
    "entities = list(set(entities)) # Unique\n",
    "entities"
   ]
  },
  {
   "cell_type": "code",
   "execution_count": null,
   "metadata": {
    "execution": {
     "iopub.execute_input": "2024-12-06T21:17:14.644059Z",
     "iopub.status.busy": "2024-12-06T21:17:14.643671Z",
     "iopub.status.idle": "2024-12-06T21:17:14.658413Z",
     "shell.execute_reply": "2024-12-06T21:17:14.657229Z",
     "shell.execute_reply.started": "2024-12-06T21:17:14.644024Z"
    },
    "trusted": true
   },
   "outputs": [
    {
     "data": {
      "text/plain": [
       "['B-QUANTITY',\n",
       " 'I-QUANTITY',\n",
       " 'B-TOPPING',\n",
       " 'I-TOPPING',\n",
       " 'B-SIZE',\n",
       " 'I-SIZE',\n",
       " 'B-NOT',\n",
       " 'I-NOT',\n",
       " 'B-PIZZAORDER',\n",
       " 'I-PIZZAORDER',\n",
       " 'B-DRINKORDER',\n",
       " 'I-DRINKORDER',\n",
       " 'B-CONTAINERTYPE',\n",
       " 'I-CONTAINERTYPE',\n",
       " 'B-DRINKTYPE',\n",
       " 'I-DRINKTYPE',\n",
       " 'B-NUMBER',\n",
       " 'I-NUMBER',\n",
       " 'B-COMPLEX_TOPPING',\n",
       " 'I-COMPLEX_TOPPING',\n",
       " 'B-STYLE',\n",
       " 'I-STYLE',\n",
       " 'B-VOLUME',\n",
       " 'I-VOLUME',\n",
       " 'O']"
      ]
     },
     "execution_count": 318,
     "metadata": {},
     "output_type": "execute_result"
    }
   ],
   "source": [
    "# Using BIO Tagging\n",
    "bio_entities = [f\"{letter}-{entity}\" for entity in entities for letter in \"BI\"]\n",
    "bio_entities.append('O')\n",
    "bio_entities"
   ]
  },
  {
   "cell_type": "code",
   "execution_count": null,
   "metadata": {
    "execution": {
     "iopub.execute_input": "2024-12-06T21:17:14.660301Z",
     "iopub.status.busy": "2024-12-06T21:17:14.659953Z",
     "iopub.status.idle": "2024-12-06T21:17:14.683128Z",
     "shell.execute_reply": "2024-12-06T21:17:14.681982Z",
     "shell.execute_reply.started": "2024-12-06T21:17:14.660267Z"
    },
    "trusted": true
   },
   "outputs": [
    {
     "data": {
      "text/html": [
       "<style>#sk-container-id-4 {color: black;background-color: white;}#sk-container-id-4 pre{padding: 0;}#sk-container-id-4 div.sk-toggleable {background-color: white;}#sk-container-id-4 label.sk-toggleable__label {cursor: pointer;display: block;width: 100%;margin-bottom: 0;padding: 0.3em;box-sizing: border-box;text-align: center;}#sk-container-id-4 label.sk-toggleable__label-arrow:before {content: \"▸\";float: left;margin-right: 0.25em;color: #696969;}#sk-container-id-4 label.sk-toggleable__label-arrow:hover:before {color: black;}#sk-container-id-4 div.sk-estimator:hover label.sk-toggleable__label-arrow:before {color: black;}#sk-container-id-4 div.sk-toggleable__content {max-height: 0;max-width: 0;overflow: hidden;text-align: left;background-color: #f0f8ff;}#sk-container-id-4 div.sk-toggleable__content pre {margin: 0.2em;color: black;border-radius: 0.25em;background-color: #f0f8ff;}#sk-container-id-4 input.sk-toggleable__control:checked~div.sk-toggleable__content {max-height: 200px;max-width: 100%;overflow: auto;}#sk-container-id-4 input.sk-toggleable__control:checked~label.sk-toggleable__label-arrow:before {content: \"▾\";}#sk-container-id-4 div.sk-estimator input.sk-toggleable__control:checked~label.sk-toggleable__label {background-color: #d4ebff;}#sk-container-id-4 div.sk-label input.sk-toggleable__control:checked~label.sk-toggleable__label {background-color: #d4ebff;}#sk-container-id-4 input.sk-hidden--visually {border: 0;clip: rect(1px 1px 1px 1px);clip: rect(1px, 1px, 1px, 1px);height: 1px;margin: -1px;overflow: hidden;padding: 0;position: absolute;width: 1px;}#sk-container-id-4 div.sk-estimator {font-family: monospace;background-color: #f0f8ff;border: 1px dotted black;border-radius: 0.25em;box-sizing: border-box;margin-bottom: 0.5em;}#sk-container-id-4 div.sk-estimator:hover {background-color: #d4ebff;}#sk-container-id-4 div.sk-parallel-item::after {content: \"\";width: 100%;border-bottom: 1px solid gray;flex-grow: 1;}#sk-container-id-4 div.sk-label:hover label.sk-toggleable__label {background-color: #d4ebff;}#sk-container-id-4 div.sk-serial::before {content: \"\";position: absolute;border-left: 1px solid gray;box-sizing: border-box;top: 0;bottom: 0;left: 50%;z-index: 0;}#sk-container-id-4 div.sk-serial {display: flex;flex-direction: column;align-items: center;background-color: white;padding-right: 0.2em;padding-left: 0.2em;position: relative;}#sk-container-id-4 div.sk-item {position: relative;z-index: 1;}#sk-container-id-4 div.sk-parallel {display: flex;align-items: stretch;justify-content: center;background-color: white;position: relative;}#sk-container-id-4 div.sk-item::before, #sk-container-id-4 div.sk-parallel-item::before {content: \"\";position: absolute;border-left: 1px solid gray;box-sizing: border-box;top: 0;bottom: 0;left: 50%;z-index: -1;}#sk-container-id-4 div.sk-parallel-item {display: flex;flex-direction: column;z-index: 1;position: relative;background-color: white;}#sk-container-id-4 div.sk-parallel-item:first-child::after {align-self: flex-end;width: 50%;}#sk-container-id-4 div.sk-parallel-item:last-child::after {align-self: flex-start;width: 50%;}#sk-container-id-4 div.sk-parallel-item:only-child::after {width: 0;}#sk-container-id-4 div.sk-dashed-wrapped {border: 1px dashed gray;margin: 0 0.4em 0.5em 0.4em;box-sizing: border-box;padding-bottom: 0.4em;background-color: white;}#sk-container-id-4 div.sk-label label {font-family: monospace;font-weight: bold;display: inline-block;line-height: 1.2em;}#sk-container-id-4 div.sk-label-container {text-align: center;}#sk-container-id-4 div.sk-container {/* jupyter's `normalize.less` sets `[hidden] { display: none; }` but bootstrap.min.css set `[hidden] { display: none !important; }` so we also need the `!important` here to be able to override the default hidden behavior on the sphinx rendered scikit-learn.org. See: https://github.com/scikit-learn/scikit-learn/issues/21755 */display: inline-block !important;position: relative;}#sk-container-id-4 div.sk-text-repr-fallback {display: none;}</style><div id=\"sk-container-id-4\" class=\"sk-top-container\"><div class=\"sk-text-repr-fallback\"><pre>LabelEncoder()</pre><b>In a Jupyter environment, please rerun this cell to show the HTML representation or trust the notebook. <br />On GitHub, the HTML representation is unable to render, please try loading this page with nbviewer.org.</b></div><div class=\"sk-container\" hidden><div class=\"sk-item\"><div class=\"sk-estimator sk-toggleable\"><input class=\"sk-toggleable__control sk-hidden--visually\" id=\"sk-estimator-id-4\" type=\"checkbox\" checked><label for=\"sk-estimator-id-4\" class=\"sk-toggleable__label sk-toggleable__label-arrow\">LabelEncoder</label><div class=\"sk-toggleable__content\"><pre>LabelEncoder()</pre></div></div></div></div></div>"
      ],
      "text/plain": [
       "LabelEncoder()"
      ]
     },
     "execution_count": 319,
     "metadata": {},
     "output_type": "execute_result"
    }
   ],
   "source": [
    "label_encoder = LabelEncoder()\n",
    "label_encoder.fit(bio_entities)"
   ]
  },
  {
   "cell_type": "code",
   "execution_count": null,
   "metadata": {
    "execution": {
     "iopub.execute_input": "2024-12-06T21:17:14.685308Z",
     "iopub.status.busy": "2024-12-06T21:17:14.684910Z",
     "iopub.status.idle": "2024-12-06T21:17:14.700132Z",
     "shell.execute_reply": "2024-12-06T21:17:14.698862Z",
     "shell.execute_reply.started": "2024-12-06T21:17:14.685271Z"
    },
    "trusted": true
   },
   "outputs": [
    {
     "data": {
      "text/plain": [
       "array([6])"
      ]
     },
     "execution_count": 320,
     "metadata": {},
     "output_type": "execute_result"
    }
   ],
   "source": [
    "label_encoder.transform(['B-PIZZAORDER'])"
   ]
  },
  {
   "cell_type": "code",
   "execution_count": null,
   "metadata": {
    "execution": {
     "iopub.execute_input": "2024-12-06T21:17:14.701947Z",
     "iopub.status.busy": "2024-12-06T21:17:14.701569Z",
     "iopub.status.idle": "2024-12-06T21:17:14.713223Z",
     "shell.execute_reply": "2024-12-06T21:17:14.712151Z",
     "shell.execute_reply.started": "2024-12-06T21:17:14.701912Z"
    },
    "trusted": true
   },
   "outputs": [],
   "source": [
    "def encode_entities(entities):\n",
    "    return [label_encoder.transform(entity) for entity in entities]\n",
    "def decode_entities(encoded_entities):\n",
    "    return [label_encoder.inverse_transform(entity) for entity in encoded_entities]"
   ]
  },
  {
   "cell_type": "markdown",
   "metadata": {},
   "source": [
    "### Modification\n",
    "#### we used regexp_tokenize to handle cases like:\n",
    "- I'd \n",
    "- party - size"
   ]
  },
  {
   "cell_type": "code",
   "execution_count": null,
   "metadata": {
    "execution": {
     "iopub.execute_input": "2024-12-06T21:17:14.716107Z",
     "iopub.status.busy": "2024-12-06T21:17:14.714720Z",
     "iopub.status.idle": "2024-12-06T21:17:16.373695Z",
     "shell.execute_reply": "2024-12-06T21:17:16.372276Z",
     "shell.execute_reply.started": "2024-12-06T21:17:14.716052Z"
    },
    "trusted": true
   },
   "outputs": [
    {
     "data": {
      "text/html": [
       "<div>\n",
       "<style scoped>\n",
       "    .dataframe tbody tr th:only-of-type {\n",
       "        vertical-align: middle;\n",
       "    }\n",
       "\n",
       "    .dataframe tbody tr th {\n",
       "        vertical-align: top;\n",
       "    }\n",
       "\n",
       "    .dataframe thead th {\n",
       "        text-align: right;\n",
       "    }\n",
       "</style>\n",
       "<table border=\"1\" class=\"dataframe\">\n",
       "  <thead>\n",
       "    <tr style=\"text-align: right;\">\n",
       "      <th></th>\n",
       "      <th>src</th>\n",
       "      <th>top</th>\n",
       "    </tr>\n",
       "  </thead>\n",
       "  <tbody>\n",
       "    <tr>\n",
       "      <th>852235</th>\n",
       "      <td>three pizzas no american cheese and i'd like five personal size pies with no american cheese</td>\n",
       "      <td>(PIZZAORDER (NUMBER three ) pizzas no (NOT (TOPPING american cheese ) ) ) and i'd like (PIZZAORDER (NUMBER five ) (SIZE personal size ) pies with no (NOT (TOPPING american cheese ) ) )</td>\n",
       "    </tr>\n",
       "    <tr>\n",
       "      <th>852238</th>\n",
       "      <td>three pizzas no american cheese and i'd like three large pizzas with peperonni and without any vegan pepperoni</td>\n",
       "      <td>(PIZZAORDER (NUMBER three ) pizzas no (NOT (TOPPING american cheese ) ) ) and i'd like (PIZZAORDER (NUMBER three ) (SIZE large ) pizzas with (TOPPING peperonni ) and without any (NOT (TOPPING vegan pepperoni ) ) )</td>\n",
       "    </tr>\n",
       "    <tr>\n",
       "      <th>852270</th>\n",
       "      <td>four pizzas with balsamic glaze and i'd like three party size pies with peperonni and with no roasted pepper</td>\n",
       "      <td>(PIZZAORDER (NUMBER four ) pizzas with (TOPPING balsamic glaze ) ) and i'd like (PIZZAORDER (NUMBER three ) (SIZE party size ) pies with (TOPPING peperonni ) and with no (NOT (TOPPING roasted pepper ) ) )</td>\n",
       "    </tr>\n",
       "    <tr>\n",
       "      <th>852280</th>\n",
       "      <td>three large pizzas with balsamic glaze and i'd like four pies with peperonni and roasted green peppers</td>\n",
       "      <td>(PIZZAORDER (NUMBER three ) (SIZE large ) pizzas with (TOPPING balsamic glaze ) ) and i'd like (PIZZAORDER (NUMBER four ) pies with (TOPPING peperonni ) and (TOPPING roasted green peppers ) )</td>\n",
       "    </tr>\n",
       "    <tr>\n",
       "      <th>852287</th>\n",
       "      <td>four pizzas with balsamic glaze and i'd like three pies with pepper</td>\n",
       "      <td>(PIZZAORDER (NUMBER four ) pizzas with (TOPPING balsamic glaze ) ) and i'd like (PIZZAORDER (NUMBER three ) pies with (TOPPING pepper ) )</td>\n",
       "    </tr>\n",
       "    <tr>\n",
       "      <th>...</th>\n",
       "      <td>...</td>\n",
       "      <td>...</td>\n",
       "    </tr>\n",
       "    <tr>\n",
       "      <th>1251865</th>\n",
       "      <td>five pizzas no american cheese and i'd like three party sized pies with no banana peppers</td>\n",
       "      <td>(PIZZAORDER (NUMBER five ) pizzas no (NOT (TOPPING american cheese ) ) ) and i'd like (PIZZAORDER (NUMBER three ) (SIZE party sized ) pies with no (NOT (TOPPING banana peppers ) ) )</td>\n",
       "    </tr>\n",
       "    <tr>\n",
       "      <th>1251868</th>\n",
       "      <td>three party sized pizzas no american cheese and i'd like two regular pies no american cheese</td>\n",
       "      <td>(PIZZAORDER (NUMBER three ) (SIZE party sized ) pizzas no (NOT (TOPPING american cheese ) ) ) and i'd like (PIZZAORDER (NUMBER two ) (SIZE regular ) pies no (NOT (TOPPING american cheese ) ) )</td>\n",
       "    </tr>\n",
       "    <tr>\n",
       "      <th>1251870</th>\n",
       "      <td>five large pizzas with balsamic glaze and i'd like three pies with mozzarella and sauce</td>\n",
       "      <td>(PIZZAORDER (NUMBER five ) (SIZE large ) pizzas with (TOPPING balsamic glaze ) ) and i'd like (PIZZAORDER (NUMBER three ) pies with (TOPPING mozzarella ) and (TOPPING sauce ) )</td>\n",
       "    </tr>\n",
       "    <tr>\n",
       "      <th>1251871</th>\n",
       "      <td>three pizzas no american cheese and i'd like three party size pies with meatball and without roasted green pepper</td>\n",
       "      <td>(PIZZAORDER (NUMBER three ) pizzas no (NOT (TOPPING american cheese ) ) ) and i'd like (PIZZAORDER (NUMBER three ) (SIZE party size ) pies with (TOPPING meatball ) and without (NOT (TOPPING roasted green pepper ) ) )</td>\n",
       "    </tr>\n",
       "    <tr>\n",
       "      <th>1251883</th>\n",
       "      <td>four pizzas with balsamic glaze and i'd like three pies with pecorino cheese and no ricotta</td>\n",
       "      <td>(PIZZAORDER (NUMBER four ) pizzas with (TOPPING balsamic glaze ) ) and i'd like (PIZZAORDER (NUMBER three ) pies with (TOPPING pecorino cheese ) and no (NOT (TOPPING ricotta ) ) )</td>\n",
       "    </tr>\n",
       "  </tbody>\n",
       "</table>\n",
       "<p>38623 rows × 2 columns</p>\n",
       "</div>"
      ],
      "text/plain": [
       "                                                                                                                       src  \\\n",
       "852235                        three pizzas no american cheese and i'd like five personal size pies with no american cheese   \n",
       "852238      three pizzas no american cheese and i'd like three large pizzas with peperonni and without any vegan pepperoni   \n",
       "852270        four pizzas with balsamic glaze and i'd like three party size pies with peperonni and with no roasted pepper   \n",
       "852280              three large pizzas with balsamic glaze and i'd like four pies with peperonni and roasted green peppers   \n",
       "852287                                                 four pizzas with balsamic glaze and i'd like three pies with pepper   \n",
       "...                                                                                                                    ...   \n",
       "1251865                          five pizzas no american cheese and i'd like three party sized pies with no banana peppers   \n",
       "1251868                       three party sized pizzas no american cheese and i'd like two regular pies no american cheese   \n",
       "1251870                            five large pizzas with balsamic glaze and i'd like three pies with mozzarella and sauce   \n",
       "1251871  three pizzas no american cheese and i'd like three party size pies with meatball and without roasted green pepper   \n",
       "1251883                        four pizzas with balsamic glaze and i'd like three pies with pecorino cheese and no ricotta   \n",
       "\n",
       "                                                                                                                                                                                                                               top  \n",
       "852235                                   (PIZZAORDER (NUMBER three ) pizzas no (NOT (TOPPING american cheese ) ) ) and i'd like (PIZZAORDER (NUMBER five ) (SIZE personal size ) pies with no (NOT (TOPPING american cheese ) ) )   \n",
       "852238      (PIZZAORDER (NUMBER three ) pizzas no (NOT (TOPPING american cheese ) ) ) and i'd like (PIZZAORDER (NUMBER three ) (SIZE large ) pizzas with (TOPPING peperonni ) and without any (NOT (TOPPING vegan pepperoni ) ) )   \n",
       "852270               (PIZZAORDER (NUMBER four ) pizzas with (TOPPING balsamic glaze ) ) and i'd like (PIZZAORDER (NUMBER three ) (SIZE party size ) pies with (TOPPING peperonni ) and with no (NOT (TOPPING roasted pepper ) ) )   \n",
       "852280                            (PIZZAORDER (NUMBER three ) (SIZE large ) pizzas with (TOPPING balsamic glaze ) ) and i'd like (PIZZAORDER (NUMBER four ) pies with (TOPPING peperonni ) and (TOPPING roasted green peppers ) )   \n",
       "852287                                                                                  (PIZZAORDER (NUMBER four ) pizzas with (TOPPING balsamic glaze ) ) and i'd like (PIZZAORDER (NUMBER three ) pies with (TOPPING pepper ) )   \n",
       "...                                                                                                                                                                                                                            ...  \n",
       "1251865                                     (PIZZAORDER (NUMBER five ) pizzas no (NOT (TOPPING american cheese ) ) ) and i'd like (PIZZAORDER (NUMBER three ) (SIZE party sized ) pies with no (NOT (TOPPING banana peppers ) ) )   \n",
       "1251868                          (PIZZAORDER (NUMBER three ) (SIZE party sized ) pizzas no (NOT (TOPPING american cheese ) ) ) and i'd like (PIZZAORDER (NUMBER two ) (SIZE regular ) pies no (NOT (TOPPING american cheese ) ) )   \n",
       "1251870                                          (PIZZAORDER (NUMBER five ) (SIZE large ) pizzas with (TOPPING balsamic glaze ) ) and i'd like (PIZZAORDER (NUMBER three ) pies with (TOPPING mozzarella ) and (TOPPING sauce ) )   \n",
       "1251871  (PIZZAORDER (NUMBER three ) pizzas no (NOT (TOPPING american cheese ) ) ) and i'd like (PIZZAORDER (NUMBER three ) (SIZE party size ) pies with (TOPPING meatball ) and without (NOT (TOPPING roasted green pepper ) ) )   \n",
       "1251883                                       (PIZZAORDER (NUMBER four ) pizzas with (TOPPING balsamic glaze ) ) and i'd like (PIZZAORDER (NUMBER three ) pies with (TOPPING pecorino cheese ) and no (NOT (TOPPING ricotta ) ) )   \n",
       "\n",
       "[38623 rows x 2 columns]"
      ]
     },
     "execution_count": 322,
     "metadata": {},
     "output_type": "execute_result"
    }
   ],
   "source": [
    "quotes_sparated = df_train['src'].str.find(\"i'd\") > 0\n",
    "df_train[['src', 'top']][quotes_sparated]"
   ]
  },
  {
   "cell_type": "code",
   "execution_count": null,
   "metadata": {
    "execution": {
     "iopub.execute_input": "2024-12-06T21:17:16.375573Z",
     "iopub.status.busy": "2024-12-06T21:17:16.375224Z",
     "iopub.status.idle": "2024-12-06T21:17:18.055128Z",
     "shell.execute_reply": "2024-12-06T21:17:18.053954Z",
     "shell.execute_reply.started": "2024-12-06T21:17:16.375539Z"
    },
    "trusted": true
   },
   "outputs": [
    {
     "data": {
      "text/html": [
       "<div>\n",
       "<style scoped>\n",
       "    .dataframe tbody tr th:only-of-type {\n",
       "        vertical-align: middle;\n",
       "    }\n",
       "\n",
       "    .dataframe tbody tr th {\n",
       "        vertical-align: top;\n",
       "    }\n",
       "\n",
       "    .dataframe thead th {\n",
       "        text-align: right;\n",
       "    }\n",
       "</style>\n",
       "<table border=\"1\" class=\"dataframe\">\n",
       "  <thead>\n",
       "    <tr style=\"text-align: right;\">\n",
       "      <th></th>\n",
       "      <th>src</th>\n",
       "      <th>top</th>\n",
       "    </tr>\n",
       "  </thead>\n",
       "  <tbody>\n",
       "    <tr>\n",
       "      <th>8</th>\n",
       "      <td>can i have one party sized high rise dough pizza with american cheese and a lot of peperonni</td>\n",
       "      <td>can i have (PIZZAORDER (NUMBER one ) (SIZE party sized ) (STYLE high rise dough ) pizza with (TOPPING american cheese ) and (COMPLEX_TOPPING (QUANTITY a lot of ) (TOPPING peperonni ) ) )</td>\n",
       "    </tr>\n",
       "    <tr>\n",
       "      <th>11</th>\n",
       "      <td>i'd like one party sized pie with american cheese and with pesto sauce</td>\n",
       "      <td>i'd like (PIZZAORDER (NUMBER one ) (SIZE party sized ) pie with (TOPPING american cheese ) and with (TOPPING pesto sauce ) )</td>\n",
       "    </tr>\n",
       "    <tr>\n",
       "      <th>13</th>\n",
       "      <td>can i have a party - sized pie without any bean</td>\n",
       "      <td>can i have (PIZZAORDER (NUMBER a ) (SIZE party - sized ) pie without any (NOT (TOPPING bean ) ) )</td>\n",
       "    </tr>\n",
       "    <tr>\n",
       "      <th>15</th>\n",
       "      <td>i'd like a party sized high rise dough pie with a lot of banana pepper and pecorino cheese</td>\n",
       "      <td>i'd like (PIZZAORDER (NUMBER a ) (SIZE party sized ) (STYLE high rise dough ) pie with (COMPLEX_TOPPING (QUANTITY a lot of ) (TOPPING banana pepper ) ) and (TOPPING pecorino cheese ) )</td>\n",
       "    </tr>\n",
       "    <tr>\n",
       "      <th>16</th>\n",
       "      <td>i'd like a party sized pie with balsamic glaze and black olive</td>\n",
       "      <td>i'd like (PIZZAORDER (NUMBER a ) (SIZE party sized ) pie with (TOPPING balsamic glaze ) and (TOPPING black olive ) )</td>\n",
       "    </tr>\n",
       "    <tr>\n",
       "      <th>...</th>\n",
       "      <td>...</td>\n",
       "      <td>...</td>\n",
       "    </tr>\n",
       "    <tr>\n",
       "      <th>2081430</th>\n",
       "      <td>i'd like a party - sized pizza with red peppers salami and fried onions</td>\n",
       "      <td>i'd like (PIZZAORDER (NUMBER a ) (SIZE party - sized ) pizza with (TOPPING red peppers ) (TOPPING salami ) and (TOPPING fried onions ) )</td>\n",
       "    </tr>\n",
       "    <tr>\n",
       "      <th>2081432</th>\n",
       "      <td>i'd like a party - size pizza with vegan pepperoni bbq chicken and dried tomato</td>\n",
       "      <td>i'd like (PIZZAORDER (NUMBER a ) (SIZE party - size ) pizza with (TOPPING vegan pepperoni ) (TOPPING bbq chicken ) and (TOPPING dried tomato ) )</td>\n",
       "    </tr>\n",
       "    <tr>\n",
       "      <th>2081434</th>\n",
       "      <td>i'd like a party - size pizza with barbecue sauce peppperoni and white onion</td>\n",
       "      <td>i'd like (PIZZAORDER (NUMBER a ) (SIZE party - size ) pizza with (TOPPING barbecue sauce ) (TOPPING peppperoni ) and (TOPPING white onion ) )</td>\n",
       "    </tr>\n",
       "    <tr>\n",
       "      <th>2081439</th>\n",
       "      <td>i'd like a party size pizza with bacon yellow peppers and sausage</td>\n",
       "      <td>i'd like (PIZZAORDER (NUMBER a ) (SIZE party size ) pizza with (TOPPING bacon ) (TOPPING yellow peppers ) and (TOPPING sausage ) )</td>\n",
       "    </tr>\n",
       "    <tr>\n",
       "      <th>2081443</th>\n",
       "      <td>i'd like a party size pizza with white onion carrots and salami</td>\n",
       "      <td>i'd like (PIZZAORDER (NUMBER a ) (SIZE party size ) pizza with (TOPPING white onion ) (TOPPING carrots ) and (TOPPING salami ) )</td>\n",
       "    </tr>\n",
       "  </tbody>\n",
       "</table>\n",
       "<p>479854 rows × 2 columns</p>\n",
       "</div>"
      ],
      "text/plain": [
       "                                                                                                  src  \\\n",
       "8        can i have one party sized high rise dough pizza with american cheese and a lot of peperonni   \n",
       "11                             i'd like one party sized pie with american cheese and with pesto sauce   \n",
       "13                                                    can i have a party - sized pie without any bean   \n",
       "15         i'd like a party sized high rise dough pie with a lot of banana pepper and pecorino cheese   \n",
       "16                                     i'd like a party sized pie with balsamic glaze and black olive   \n",
       "...                                                                                               ...   \n",
       "2081430                       i'd like a party - sized pizza with red peppers salami and fried onions   \n",
       "2081432               i'd like a party - size pizza with vegan pepperoni bbq chicken and dried tomato   \n",
       "2081434                  i'd like a party - size pizza with barbecue sauce peppperoni and white onion   \n",
       "2081439                             i'd like a party size pizza with bacon yellow peppers and sausage   \n",
       "2081443                               i'd like a party size pizza with white onion carrots and salami   \n",
       "\n",
       "                                                                                                                                                                                                 top  \n",
       "8        can i have (PIZZAORDER (NUMBER one ) (SIZE party sized ) (STYLE high rise dough ) pizza with (TOPPING american cheese ) and (COMPLEX_TOPPING (QUANTITY a lot of ) (TOPPING peperonni ) ) )   \n",
       "11                                                                     i'd like (PIZZAORDER (NUMBER one ) (SIZE party sized ) pie with (TOPPING american cheese ) and with (TOPPING pesto sauce ) )   \n",
       "13                                                                                                can i have (PIZZAORDER (NUMBER a ) (SIZE party - sized ) pie without any (NOT (TOPPING bean ) ) )   \n",
       "15         i'd like (PIZZAORDER (NUMBER a ) (SIZE party sized ) (STYLE high rise dough ) pie with (COMPLEX_TOPPING (QUANTITY a lot of ) (TOPPING banana pepper ) ) and (TOPPING pecorino cheese ) )   \n",
       "16                                                                             i'd like (PIZZAORDER (NUMBER a ) (SIZE party sized ) pie with (TOPPING balsamic glaze ) and (TOPPING black olive ) )   \n",
       "...                                                                                                                                                                                              ...  \n",
       "2081430                                                    i'd like (PIZZAORDER (NUMBER a ) (SIZE party - sized ) pizza with (TOPPING red peppers ) (TOPPING salami ) and (TOPPING fried onions ) )   \n",
       "2081432                                            i'd like (PIZZAORDER (NUMBER a ) (SIZE party - size ) pizza with (TOPPING vegan pepperoni ) (TOPPING bbq chicken ) and (TOPPING dried tomato ) )   \n",
       "2081434                                               i'd like (PIZZAORDER (NUMBER a ) (SIZE party - size ) pizza with (TOPPING barbecue sauce ) (TOPPING peppperoni ) and (TOPPING white onion ) )   \n",
       "2081439                                                          i'd like (PIZZAORDER (NUMBER a ) (SIZE party size ) pizza with (TOPPING bacon ) (TOPPING yellow peppers ) and (TOPPING sausage ) )   \n",
       "2081443                                                            i'd like (PIZZAORDER (NUMBER a ) (SIZE party size ) pizza with (TOPPING white onion ) (TOPPING carrots ) and (TOPPING salami ) )   \n",
       "\n",
       "[479854 rows x 2 columns]"
      ]
     },
     "execution_count": 323,
     "metadata": {},
     "output_type": "execute_result"
    }
   ],
   "source": [
    "hyphen_separated = df_train['src'].str.find(\"party\") > 0\n",
    "df_train[['src', 'top']][hyphen_separated]"
   ]
  },
  {
   "cell_type": "code",
   "execution_count": null,
   "metadata": {
    "execution": {
     "iopub.execute_input": "2024-12-06T21:17:18.056937Z",
     "iopub.status.busy": "2024-12-06T21:17:18.056568Z",
     "iopub.status.idle": "2024-12-06T21:17:18.076308Z",
     "shell.execute_reply": "2024-12-06T21:17:18.075319Z",
     "shell.execute_reply.started": "2024-12-06T21:17:18.056902Z"
    },
    "trusted": true
   },
   "outputs": [
    {
     "name": "stdout",
     "output_type": "stream",
     "text": [
      "16 16\n",
      "[('three', 6), ('party', 18), ('sized', 18), ('pizzas', 18), ('no', 18), ('american', 18), ('cheese', 18), ('and', 24), (\"i'd\", 24), ('like', 24), ('two', 6), ('regular', 18), ('pies', 18), ('no', 18), ('american', 18), ('cheese', 18)]\n"
     ]
    },
    {
     "data": {
      "text/html": [
       "<div>\n",
       "<style scoped>\n",
       "    .dataframe tbody tr th:only-of-type {\n",
       "        vertical-align: middle;\n",
       "    }\n",
       "\n",
       "    .dataframe tbody tr th {\n",
       "        vertical-align: top;\n",
       "    }\n",
       "\n",
       "    .dataframe thead th {\n",
       "        text-align: right;\n",
       "    }\n",
       "</style>\n",
       "<table border=\"1\" class=\"dataframe\">\n",
       "  <thead>\n",
       "    <tr style=\"text-align: right;\">\n",
       "      <th></th>\n",
       "      <th>src</th>\n",
       "      <th>exr</th>\n",
       "      <th>top</th>\n",
       "      <th>decoupled</th>\n",
       "    </tr>\n",
       "  </thead>\n",
       "  <tbody>\n",
       "    <tr>\n",
       "      <th>1251868</th>\n",
       "      <td>three party sized pizzas no american cheese and i'd like two regular pies no american cheese</td>\n",
       "      <td>(PIZZAORDER (NUMBER 2 ) (SIZE REGULARSIZE ) (NOT (TOPPING AMERICAN_CHEESE ) ) ) (PIZZAORDER (NUMBER 3 ) (SIZE PARTY_SIZE ) (NOT (TOPPING AMERICAN_CHEESE ) ) )</td>\n",
       "      <td>(PIZZAORDER (NUMBER three ) (SIZE party sized ) pizzas no (NOT (TOPPING american cheese ) ) ) and i'd like (PIZZAORDER (NUMBER two ) (SIZE regular ) pies no (NOT (TOPPING american cheese ) ) )</td>\n",
       "      <td>(PIZZAORDER (NUMBER three ) (SIZE party sized ) (NOT (TOPPING american cheese ) ) ) (PIZZAORDER (NUMBER two ) (SIZE regular ) (NOT (TOPPING american cheese ) ) )</td>\n",
       "    </tr>\n",
       "  </tbody>\n",
       "</table>\n",
       "</div>"
      ],
      "text/plain": [
       "                                                                                                  src  \\\n",
       "1251868  three party sized pizzas no american cheese and i'd like two regular pies no american cheese   \n",
       "\n",
       "                                                                                                                                                                     exr  \\\n",
       "1251868  (PIZZAORDER (NUMBER 2 ) (SIZE REGULARSIZE ) (NOT (TOPPING AMERICAN_CHEESE ) ) ) (PIZZAORDER (NUMBER 3 ) (SIZE PARTY_SIZE ) (NOT (TOPPING AMERICAN_CHEESE ) ) )    \n",
       "\n",
       "                                                                                                                                                                                                       top  \\\n",
       "1251868  (PIZZAORDER (NUMBER three ) (SIZE party sized ) pizzas no (NOT (TOPPING american cheese ) ) ) and i'd like (PIZZAORDER (NUMBER two ) (SIZE regular ) pies no (NOT (TOPPING american cheese ) ) )    \n",
       "\n",
       "                                                                                                                                                                  decoupled  \n",
       "1251868  (PIZZAORDER (NUMBER three ) (SIZE party sized ) (NOT (TOPPING american cheese ) ) ) (PIZZAORDER (NUMBER two ) (SIZE regular ) (NOT (TOPPING american cheese ) ) )   "
      ]
     },
     "execution_count": 324,
     "metadata": {},
     "output_type": "execute_result"
    }
   ],
   "source": [
    "def extract_labels(top: str, entities):\n",
    "    # Extract words and parenthesis\n",
    "    pattern = r\"\\b\\w+(?:'\\w+)?(?:-\\w+)*\\b|[()]\"\n",
    "    tokens = regexp_tokenize(top, pattern)\n",
    "    \n",
    "    labels: list[str] = []\n",
    "    count: int = 0\n",
    "    # print(tokens)\n",
    "    is_beginning = True\n",
    "    order_type = \"PIZZAORDER\"\n",
    "    for i, token in enumerate(tokens):\n",
    "        # print(token, count)\n",
    "        # Skip all entities except [\"PIZZAORDER\", \"DRINKORDER\"]\n",
    "        if token in entities and token not in [\"PIZZAORDER\", \"DRINKORDER\"]:\n",
    "            continue\n",
    "        # if token == \"'\":\n",
    "        #     i += 1\n",
    "        elif token == \"(\":\n",
    "            count += 1\n",
    "        elif token == \")\":\n",
    "            count -= 1\n",
    "        elif token == \"PIZZAORDER\":\n",
    "            order_type = \"PIZZAORDER\"\n",
    "        elif token == \"DRINKORDER\":\n",
    "            order_type = \"DRINKORDER\"\n",
    "        \n",
    "        elif count == 0:\n",
    "            labels.append(\"O\")\n",
    "            is_beginning = True\n",
    "        else:\n",
    "            if is_beginning == True:\n",
    "                labels.append(\"B-\" + order_type)\n",
    "                is_beginning = False\n",
    "                continue\n",
    "            if is_beginning == False:\n",
    "                labels.append(\"I-\" + order_type)\n",
    "    labels = label_encoder.transform(labels)\n",
    "    return labels\n",
    "\n",
    "def encode_labels(labels: list[str]):\n",
    "    return label_encoder.transform(labels)\n",
    "\n",
    "index = 1251868\n",
    "tokens = df_train['src'][index].split()\n",
    "labels = extract_labels(df_train['top'][index], entities)\n",
    "labels = extract_labels(df_train['top'][index], entities)\n",
    "print(len(tokens), len(labels))\n",
    "print([(x, y) for x, y in zip(tokens, labels)])\n",
    "df_train.iloc[index:index+1].head()"
   ]
  },
  {
   "cell_type": "code",
   "execution_count": null,
   "metadata": {
    "execution": {
     "iopub.execute_input": "2024-12-06T21:17:35.034946Z",
     "iopub.status.busy": "2024-12-06T21:17:35.034433Z",
     "iopub.status.idle": "2024-12-06T21:17:35.040162Z",
     "shell.execute_reply": "2024-12-06T21:17:35.038809Z",
     "shell.execute_reply.started": "2024-12-06T21:17:35.034904Z"
    },
    "trusted": true
   },
   "outputs": [],
   "source": [
    "# df_train['labels'] = df_train['top'].progress_apply(lambda x: extract_labels(x, entities))\n",
    "# df_train.head(1)"
   ]
  },
  {
   "cell_type": "code",
   "execution_count": null,
   "metadata": {
    "execution": {
     "iopub.execute_input": "2024-12-06T21:17:36.955438Z",
     "iopub.status.busy": "2024-12-06T21:17:36.955016Z",
     "iopub.status.idle": "2024-12-06T21:17:37.069791Z",
     "shell.execute_reply": "2024-12-06T21:17:37.068607Z",
     "shell.execute_reply.started": "2024-12-06T21:17:36.955402Z"
    },
    "trusted": true
   },
   "outputs": [
    {
     "name": "stderr",
     "output_type": "stream",
     "text": [
      "100%|██████████| 348/348 [00:00<00:00, 7540.20it/s]\n"
     ]
    },
    {
     "data": {
      "text/html": [
       "<div>\n",
       "<style scoped>\n",
       "    .dataframe tbody tr th:only-of-type {\n",
       "        vertical-align: middle;\n",
       "    }\n",
       "\n",
       "    .dataframe tbody tr th {\n",
       "        vertical-align: top;\n",
       "    }\n",
       "\n",
       "    .dataframe thead th {\n",
       "        text-align: right;\n",
       "    }\n",
       "</style>\n",
       "<table border=\"1\" class=\"dataframe\">\n",
       "  <thead>\n",
       "    <tr style=\"text-align: right;\">\n",
       "      <th></th>\n",
       "      <th>src</th>\n",
       "      <th>exr</th>\n",
       "      <th>top</th>\n",
       "      <th>pcfg_err</th>\n",
       "      <th>tokenized_lemma</th>\n",
       "      <th>tokenized</th>\n",
       "      <th>lemmatized</th>\n",
       "      <th>tfidf_features</th>\n",
       "      <th>word2vec_features</th>\n",
       "      <th>labels</th>\n",
       "    </tr>\n",
       "  </thead>\n",
       "  <tbody>\n",
       "    <tr>\n",
       "      <th>0</th>\n",
       "      <td>i want to order two medium pizzas with sausage and black olives and two medium pizzas with pepperoni and extra cheese and three large pizzas with pepperoni and sausage</td>\n",
       "      <td>(PIZZAORDER (NUMBER 2 ) (SIZE MEDIUM ) (COMPLEX_TOPPING (QUANTITY EXTRA ) (TOPPING CHEESE ) ) (TOPPING PEPPERONI ) ) (PIZZAORDER (NUMBER 2 ) (SIZE MEDIUM ) (TOPPING OLIVES ) (TOPPING SAUSAGE ) ) (PIZZAORDER (NUMBER 3 ) (SIZE LARGE ) (TOPPING PEPPERONI ) (TOPPING SAUSAGE ) )</td>\n",
       "      <td>i want to order (PIZZAORDER (NUMBER two ) (SIZE medium ) pizzas with (TOPPING sausage ) and (TOPPING black olives ) ) and (PIZZAORDER (NUMBER two ) (SIZE medium ) pizzas with (TOPPING pepperoni ) and (COMPLEX_TOPPING (QUANTITY extra ) (TOPPING cheese ) ) ) and (PIZZAORDER (NUMBER three ) (SIZE large ) pizzas with (TOPPING pepperoni ) and (TOPPING sausage ) )</td>\n",
       "      <td>False</td>\n",
       "      <td>[i, want, to, order, two, medium, pizza, with, sausage, and, black, olive, and, two, medium, pizza, with, pepperoni, and, extra, cheese, and, three, large, pizza, with, pepperoni, and, sausage]</td>\n",
       "      <td>[i, want, to, order, two, medium, pizzas, with, sausage, and, black, olives, and, two, medium, pizzas, with, pepperoni, and, extra, cheese, and, three, large, pizzas, with, pepperoni, and, sausage]</td>\n",
       "      <td>i want to order two medium pizza with sausage and black olive and two medium pizza with pepperoni and extra cheese and three large pizza with pepperoni and sausage</td>\n",
       "      <td>[[0.0, 0.18706812373139206, 0.0, 0.0, 0.0, 0.0, 0.0, 0.0, 0.0, 0.0, 0.0, 0.0, 0.14551966070645694, 0.0, 0.0, 0.0, 0.0, 0.0, 0.0, 0.338064030414566, 0.0, 0.0, 0.0, 0.0, 0.0, 0.0, 0.0, 0.0, 0.0, 0.0, 0.0, 0.0, 0.0, 0.0, 0.34014465734620436, 0.0, 0.0, 0.0, 0.0, 0.0, 0.0, 0.0, 0.0, 0.0, 0.0, 0.0, 0.0, 0.0, 0.0, 0.0, 0.0, 0.0, 0.0, 0.0, 0.0, 0.0, 0.0, 0.0, 0.0, 0.0, 0.0, 0.0, 0.0, 0.0, 0.0, 0.0, 0.0, 0.0, 0.0, 0.0, 0.0, 0.0, 0.0, 0.0, 0.0, 0.30724661810746495, 0.0, 0.0, 0.0, 0.0, 0.0, 0.0, 0.0, 0.0, 0.0, 0.0, 0.0, 0.0, 0.0, 0.0, 0.0, 0.0, 0.0, 0.1835399430287813, 0.0, 0.0, 0.0, 0.0, 0.0, 0.0, ...], [0.0, 0.0, 0.36841804537972767, 0.0, 0.0, 0.0, 0.0, 0.0, 0.3769445313850932, 0.0, 0.0, 0.0, 0.19351042155584847, 0.0, 0.0, 0.0, 0.0, 0.0, 0.0, 0.0, 0.0, 0.0, 0.0, 0.0, 0.0, 0.0, 0.0, 0.0, 0.0, 0.0, 0.0, 0.0, 0.0, 0.0, 0.0, 0.0, 0.0, 0.0, 0.19618713190325923, 0.0, 0.0, 0.0, 0.0, 0.0, 0.0, 0.0, 0.0, 0.0, 0.0, 0.0, 0.0, 0.0, 0.0, 0.0, 0.0, 0.0, 0.0, 0.0, 0.0, 0.0, 0.0, 0.0, 0.0, 0.0, 0.202184450...</td>\n",
       "      <td>[[0.0677469, -0.041739315, -0.08083352, 0.12261514, 0.16721858, -0.05736017, 0.09708657, 0.28409472, -0.118705854, -0.027471012, -0.057421274, -0.14376749, 0.0473368, 0.14283921, -0.030394064, -0.031858526, 0.052781112, 0.07924095, 0.0069334647, -0.2780961, 0.09244968, -0.032641098, -0.026583068, 0.036451172, 0.03341323, -0.025228117, -0.07656543, -0.118221, -0.10734222, 0.03260397, 0.15275688, 0.05852104, 0.106173486, -0.05881508, -0.082549885, 0.1174997, 0.06174134, -0.08423522, -0.055344716, -0.16970553, -0.06645013, 0.006280372, -0.11624798, -0.00490635, 0.1332938, -0.05824645, -0.00758351, -0.1255734, 0.039873965, 0.07710664, 0.045426518, -0.18234527, -0.024939088, -0.10234514, 0.08368705, -0.06852132, -0.07534842, -0.15418817, -0.14619642, -0.003937893, -0.101910375, -0.030932281, 0.1487361, -0.090863645, -0.320359, 0.09530128, -0.022416687, 0.22749043, -0.17629756, 0.21058744, -0.03136628, 0.1173821, 0.12045498, 0.03843337, 0.11156459, 0.058297314, 0.104958236, -0.11261302, ...</td>\n",
       "      <td>[24, 24, 24, 24, 6, 18, 18, 18, 18, 18, 18, 18, 24, 6, 18, 18, 18, 18, 18, 18, 18, 24, 6, 18, 18, 18, 18, 18, 18]</td>\n",
       "    </tr>\n",
       "  </tbody>\n",
       "</table>\n",
       "</div>"
      ],
      "text/plain": [
       "                                                                                                                                                                       src  \\\n",
       "0  i want to order two medium pizzas with sausage and black olives and two medium pizzas with pepperoni and extra cheese and three large pizzas with pepperoni and sausage   \n",
       "\n",
       "                                                                                                                                                                                                                                                                                   exr  \\\n",
       "0  (PIZZAORDER (NUMBER 2 ) (SIZE MEDIUM ) (COMPLEX_TOPPING (QUANTITY EXTRA ) (TOPPING CHEESE ) ) (TOPPING PEPPERONI ) ) (PIZZAORDER (NUMBER 2 ) (SIZE MEDIUM ) (TOPPING OLIVES ) (TOPPING SAUSAGE ) ) (PIZZAORDER (NUMBER 3 ) (SIZE LARGE ) (TOPPING PEPPERONI ) (TOPPING SAUSAGE ) )    \n",
       "\n",
       "                                                                                                                                                                                                                                                                                                                                                                         top  \\\n",
       "0  i want to order (PIZZAORDER (NUMBER two ) (SIZE medium ) pizzas with (TOPPING sausage ) and (TOPPING black olives ) ) and (PIZZAORDER (NUMBER two ) (SIZE medium ) pizzas with (TOPPING pepperoni ) and (COMPLEX_TOPPING (QUANTITY extra ) (TOPPING cheese ) ) ) and (PIZZAORDER (NUMBER three ) (SIZE large ) pizzas with (TOPPING pepperoni ) and (TOPPING sausage ) )    \n",
       "\n",
       "  pcfg_err  \\\n",
       "0    False   \n",
       "\n",
       "                                                                                                                                                                                     tokenized_lemma  \\\n",
       "0  [i, want, to, order, two, medium, pizza, with, sausage, and, black, olive, and, two, medium, pizza, with, pepperoni, and, extra, cheese, and, three, large, pizza, with, pepperoni, and, sausage]   \n",
       "\n",
       "                                                                                                                                                                                               tokenized  \\\n",
       "0  [i, want, to, order, two, medium, pizzas, with, sausage, and, black, olives, and, two, medium, pizzas, with, pepperoni, and, extra, cheese, and, three, large, pizzas, with, pepperoni, and, sausage]   \n",
       "\n",
       "                                                                                                                                                            lemmatized  \\\n",
       "0  i want to order two medium pizza with sausage and black olive and two medium pizza with pepperoni and extra cheese and three large pizza with pepperoni and sausage   \n",
       "\n",
       "                                                                                                                                                                                                                                                                                                                                                                                                                                                                                                                                                                                                                                                                                                                                                                                                                                                                                                                                                                                                                            tfidf_features  \\\n",
       "0  [[0.0, 0.18706812373139206, 0.0, 0.0, 0.0, 0.0, 0.0, 0.0, 0.0, 0.0, 0.0, 0.0, 0.14551966070645694, 0.0, 0.0, 0.0, 0.0, 0.0, 0.0, 0.338064030414566, 0.0, 0.0, 0.0, 0.0, 0.0, 0.0, 0.0, 0.0, 0.0, 0.0, 0.0, 0.0, 0.0, 0.0, 0.34014465734620436, 0.0, 0.0, 0.0, 0.0, 0.0, 0.0, 0.0, 0.0, 0.0, 0.0, 0.0, 0.0, 0.0, 0.0, 0.0, 0.0, 0.0, 0.0, 0.0, 0.0, 0.0, 0.0, 0.0, 0.0, 0.0, 0.0, 0.0, 0.0, 0.0, 0.0, 0.0, 0.0, 0.0, 0.0, 0.0, 0.0, 0.0, 0.0, 0.0, 0.0, 0.30724661810746495, 0.0, 0.0, 0.0, 0.0, 0.0, 0.0, 0.0, 0.0, 0.0, 0.0, 0.0, 0.0, 0.0, 0.0, 0.0, 0.0, 0.0, 0.1835399430287813, 0.0, 0.0, 0.0, 0.0, 0.0, 0.0, ...], [0.0, 0.0, 0.36841804537972767, 0.0, 0.0, 0.0, 0.0, 0.0, 0.3769445313850932, 0.0, 0.0, 0.0, 0.19351042155584847, 0.0, 0.0, 0.0, 0.0, 0.0, 0.0, 0.0, 0.0, 0.0, 0.0, 0.0, 0.0, 0.0, 0.0, 0.0, 0.0, 0.0, 0.0, 0.0, 0.0, 0.0, 0.0, 0.0, 0.0, 0.0, 0.19618713190325923, 0.0, 0.0, 0.0, 0.0, 0.0, 0.0, 0.0, 0.0, 0.0, 0.0, 0.0, 0.0, 0.0, 0.0, 0.0, 0.0, 0.0, 0.0, 0.0, 0.0, 0.0, 0.0, 0.0, 0.0, 0.0, 0.202184450...   \n",
       "\n",
       "                                                                                                                                                                                                                                                                                                                                                                                                                                                                                                                                                                                                                                                                                                                                                                                                                                                                                                                                                                                                                         word2vec_features  \\\n",
       "0  [[0.0677469, -0.041739315, -0.08083352, 0.12261514, 0.16721858, -0.05736017, 0.09708657, 0.28409472, -0.118705854, -0.027471012, -0.057421274, -0.14376749, 0.0473368, 0.14283921, -0.030394064, -0.031858526, 0.052781112, 0.07924095, 0.0069334647, -0.2780961, 0.09244968, -0.032641098, -0.026583068, 0.036451172, 0.03341323, -0.025228117, -0.07656543, -0.118221, -0.10734222, 0.03260397, 0.15275688, 0.05852104, 0.106173486, -0.05881508, -0.082549885, 0.1174997, 0.06174134, -0.08423522, -0.055344716, -0.16970553, -0.06645013, 0.006280372, -0.11624798, -0.00490635, 0.1332938, -0.05824645, -0.00758351, -0.1255734, 0.039873965, 0.07710664, 0.045426518, -0.18234527, -0.024939088, -0.10234514, 0.08368705, -0.06852132, -0.07534842, -0.15418817, -0.14619642, -0.003937893, -0.101910375, -0.030932281, 0.1487361, -0.090863645, -0.320359, 0.09530128, -0.022416687, 0.22749043, -0.17629756, 0.21058744, -0.03136628, 0.1173821, 0.12045498, 0.03843337, 0.11156459, 0.058297314, 0.104958236, -0.11261302, ...   \n",
       "\n",
       "                                                                                                              labels  \n",
       "0  [24, 24, 24, 24, 6, 18, 18, 18, 18, 18, 18, 18, 24, 6, 18, 18, 18, 18, 18, 18, 18, 24, 6, 18, 18, 18, 18, 18, 18]  "
      ]
     },
     "execution_count": 327,
     "metadata": {},
     "output_type": "execute_result"
    }
   ],
   "source": [
    "df_dev['labels'] = df_dev['top'].progress_apply(lambda x: extract_labels(x, entities))\n",
    "df_dev.head(1)"
   ]
  },
  {
   "cell_type": "code",
   "execution_count": null,
   "metadata": {
    "execution": {
     "iopub.execute_input": "2024-12-06T21:17:37.685690Z",
     "iopub.status.busy": "2024-12-06T21:17:37.685272Z",
     "iopub.status.idle": "2024-12-06T21:17:37.719928Z",
     "shell.execute_reply": "2024-12-06T21:17:37.718553Z",
     "shell.execute_reply.started": "2024-12-06T21:17:37.685651Z"
    },
    "trusted": true
   },
   "outputs": [
    {
     "data": {
      "text/html": [
       "<div>\n",
       "<style scoped>\n",
       "    .dataframe tbody tr th:only-of-type {\n",
       "        vertical-align: middle;\n",
       "    }\n",
       "\n",
       "    .dataframe tbody tr th {\n",
       "        vertical-align: top;\n",
       "    }\n",
       "\n",
       "    .dataframe thead th {\n",
       "        text-align: right;\n",
       "    }\n",
       "</style>\n",
       "<table border=\"1\" class=\"dataframe\">\n",
       "  <thead>\n",
       "    <tr style=\"text-align: right;\">\n",
       "      <th></th>\n",
       "      <th>src</th>\n",
       "      <th>exr</th>\n",
       "      <th>top</th>\n",
       "      <th>pcfg_err</th>\n",
       "      <th>tokenized_lemma</th>\n",
       "      <th>tokenized</th>\n",
       "      <th>lemmatized</th>\n",
       "      <th>tfidf_features</th>\n",
       "      <th>word2vec_features</th>\n",
       "      <th>labels</th>\n",
       "    </tr>\n",
       "  </thead>\n",
       "  <tbody>\n",
       "    <tr>\n",
       "      <th>3</th>\n",
       "      <td>i'd like to order a large onion and pepper pizza</td>\n",
       "      <td>(PIZZAORDER (NUMBER 1 ) (SIZE LARGE ) (TOPPING ONIONS ) (TOPPING PEPPERS ) )</td>\n",
       "      <td>i'd like to order (PIZZAORDER (NUMBER a ) (SIZE large ) (TOPPING onion ) and (TOPPING pepper ) pizza )</td>\n",
       "      <td>False</td>\n",
       "      <td>[i, would, like, to, order, a, large, onion, and, pepper, pizza]</td>\n",
       "      <td>[i'd, like, to, order, a, large, onion, and, pepper, pizza]</td>\n",
       "      <td>i would like to order a large onion and pepper pizza</td>\n",
       "      <td>[[0.0, 0.18706812373139206, 0.0, 0.0, 0.0, 0.0, 0.0, 0.0, 0.0, 0.0, 0.0, 0.0, 0.14551966070645694, 0.0, 0.0, 0.0, 0.0, 0.0, 0.0, 0.338064030414566, 0.0, 0.0, 0.0, 0.0, 0.0, 0.0, 0.0, 0.0, 0.0, 0.0, 0.0, 0.0, 0.0, 0.0, 0.34014465734620436, 0.0, 0.0, 0.0, 0.0, 0.0, 0.0, 0.0, 0.0, 0.0, 0.0, 0.0, 0.0, 0.0, 0.0, 0.0, 0.0, 0.0, 0.0, 0.0, 0.0, 0.0, 0.0, 0.0, 0.0, 0.0, 0.0, 0.0, 0.0, 0.0, 0.0, 0.0, 0.0, 0.0, 0.0, 0.0, 0.0, 0.0, 0.0, 0.0, 0.0, 0.30724661810746495, 0.0, 0.0, 0.0, 0.0, 0.0, 0.0, 0.0, 0.0, 0.0, 0.0, 0.0, 0.0, 0.0, 0.0, 0.0, 0.0, 0.0, 0.1835399430287813, 0.0, 0.0, 0.0, 0.0, 0.0, 0.0, ...], [0.0, 0.0, 0.0, 0.0, 0.0, 0.4158726307055222, 0.0, 0.0, 0.4432489638232948, 0.0, 0.0, 0.0, 0.1137744239563079, 0.0, 0.0, 0.0, 0.0, 0.0, 0.0, 0.0, 0.0, 0.0, 0.0, 0.0, 0.0, 0.0, 0.0, 0.0, 0.0, 0.0, 0.0, 0.0, 0.0, 0.0, 0.0, 0.0, 0.0, 0.0, 0.0, 0.0, 0.0, 0.0, 0.0, 0.0, 0.0, 0.0, 0.0, 0.0, 0.0, 0.0, 0.0, 0.0, 0.0, 0.0, 0.0, 0.0, 0.0, 0.0, 0.0, 0.0, 0.0, 0.0, 0.0, 0.0, 0.0, 0.0, 0.0, 0.0, 0.0, 0.0,...</td>\n",
       "      <td>[[0.0677469, -0.041739315, -0.08083352, 0.12261514, 0.16721858, -0.05736017, 0.09708657, 0.28409472, -0.118705854, -0.027471012, -0.057421274, -0.14376749, 0.0473368, 0.14283921, -0.030394064, -0.031858526, 0.052781112, 0.07924095, 0.0069334647, -0.2780961, 0.09244968, -0.032641098, -0.026583068, 0.036451172, 0.03341323, -0.025228117, -0.07656543, -0.118221, -0.10734222, 0.03260397, 0.15275688, 0.05852104, 0.106173486, -0.05881508, -0.082549885, 0.1174997, 0.06174134, -0.08423522, -0.055344716, -0.16970553, -0.06645013, 0.006280372, -0.11624798, -0.00490635, 0.1332938, -0.05824645, -0.00758351, -0.1255734, 0.039873965, 0.07710664, 0.045426518, -0.18234527, -0.024939088, -0.10234514, 0.08368705, -0.06852132, -0.07534842, -0.15418817, -0.14619642, -0.003937893, -0.101910375, -0.030932281, 0.1487361, -0.090863645, -0.320359, 0.09530128, -0.022416687, 0.22749043, -0.17629756, 0.21058744, -0.03136628, 0.1173821, 0.12045498, 0.03843337, 0.11156459, 0.058297314, 0.104958236, -0.11261302, ...</td>\n",
       "      <td>[24, 24, 24, 24, 6, 18, 18, 18, 18, 18]</td>\n",
       "    </tr>\n",
       "  </tbody>\n",
       "</table>\n",
       "</div>"
      ],
      "text/plain": [
       "                                                src  \\\n",
       "3  i'd like to order a large onion and pepper pizza   \n",
       "\n",
       "                                                                             exr  \\\n",
       "3  (PIZZAORDER (NUMBER 1 ) (SIZE LARGE ) (TOPPING ONIONS ) (TOPPING PEPPERS ) )    \n",
       "\n",
       "                                                                                                       top  \\\n",
       "3  i'd like to order (PIZZAORDER (NUMBER a ) (SIZE large ) (TOPPING onion ) and (TOPPING pepper ) pizza )    \n",
       "\n",
       "  pcfg_err                                                   tokenized_lemma  \\\n",
       "3    False  [i, would, like, to, order, a, large, onion, and, pepper, pizza]   \n",
       "\n",
       "                                                     tokenized  \\\n",
       "3  [i'd, like, to, order, a, large, onion, and, pepper, pizza]   \n",
       "\n",
       "                                             lemmatized  \\\n",
       "3  i would like to order a large onion and pepper pizza   \n",
       "\n",
       "                                                                                                                                                                                                                                                                                                                                                                                                                                                                                                                                                                                                                                                                                                                                                                                                                                                                                                                                                                                                                            tfidf_features  \\\n",
       "3  [[0.0, 0.18706812373139206, 0.0, 0.0, 0.0, 0.0, 0.0, 0.0, 0.0, 0.0, 0.0, 0.0, 0.14551966070645694, 0.0, 0.0, 0.0, 0.0, 0.0, 0.0, 0.338064030414566, 0.0, 0.0, 0.0, 0.0, 0.0, 0.0, 0.0, 0.0, 0.0, 0.0, 0.0, 0.0, 0.0, 0.0, 0.34014465734620436, 0.0, 0.0, 0.0, 0.0, 0.0, 0.0, 0.0, 0.0, 0.0, 0.0, 0.0, 0.0, 0.0, 0.0, 0.0, 0.0, 0.0, 0.0, 0.0, 0.0, 0.0, 0.0, 0.0, 0.0, 0.0, 0.0, 0.0, 0.0, 0.0, 0.0, 0.0, 0.0, 0.0, 0.0, 0.0, 0.0, 0.0, 0.0, 0.0, 0.0, 0.30724661810746495, 0.0, 0.0, 0.0, 0.0, 0.0, 0.0, 0.0, 0.0, 0.0, 0.0, 0.0, 0.0, 0.0, 0.0, 0.0, 0.0, 0.0, 0.1835399430287813, 0.0, 0.0, 0.0, 0.0, 0.0, 0.0, ...], [0.0, 0.0, 0.0, 0.0, 0.0, 0.4158726307055222, 0.0, 0.0, 0.4432489638232948, 0.0, 0.0, 0.0, 0.1137744239563079, 0.0, 0.0, 0.0, 0.0, 0.0, 0.0, 0.0, 0.0, 0.0, 0.0, 0.0, 0.0, 0.0, 0.0, 0.0, 0.0, 0.0, 0.0, 0.0, 0.0, 0.0, 0.0, 0.0, 0.0, 0.0, 0.0, 0.0, 0.0, 0.0, 0.0, 0.0, 0.0, 0.0, 0.0, 0.0, 0.0, 0.0, 0.0, 0.0, 0.0, 0.0, 0.0, 0.0, 0.0, 0.0, 0.0, 0.0, 0.0, 0.0, 0.0, 0.0, 0.0, 0.0, 0.0, 0.0, 0.0, 0.0,...   \n",
       "\n",
       "                                                                                                                                                                                                                                                                                                                                                                                                                                                                                                                                                                                                                                                                                                                                                                                                                                                                                                                                                                                                                         word2vec_features  \\\n",
       "3  [[0.0677469, -0.041739315, -0.08083352, 0.12261514, 0.16721858, -0.05736017, 0.09708657, 0.28409472, -0.118705854, -0.027471012, -0.057421274, -0.14376749, 0.0473368, 0.14283921, -0.030394064, -0.031858526, 0.052781112, 0.07924095, 0.0069334647, -0.2780961, 0.09244968, -0.032641098, -0.026583068, 0.036451172, 0.03341323, -0.025228117, -0.07656543, -0.118221, -0.10734222, 0.03260397, 0.15275688, 0.05852104, 0.106173486, -0.05881508, -0.082549885, 0.1174997, 0.06174134, -0.08423522, -0.055344716, -0.16970553, -0.06645013, 0.006280372, -0.11624798, -0.00490635, 0.1332938, -0.05824645, -0.00758351, -0.1255734, 0.039873965, 0.07710664, 0.045426518, -0.18234527, -0.024939088, -0.10234514, 0.08368705, -0.06852132, -0.07534842, -0.15418817, -0.14619642, -0.003937893, -0.101910375, -0.030932281, 0.1487361, -0.090863645, -0.320359, 0.09530128, -0.022416687, 0.22749043, -0.17629756, 0.21058744, -0.03136628, 0.1173821, 0.12045498, 0.03843337, 0.11156459, 0.058297314, 0.104958236, -0.11261302, ...   \n",
       "\n",
       "                                    labels  \n",
       "3  [24, 24, 24, 24, 6, 18, 18, 18, 18, 18]  "
      ]
     },
     "execution_count": 328,
     "metadata": {},
     "output_type": "execute_result"
    }
   ],
   "source": [
    "df_dev.iloc[3:4].head()"
   ]
  },
  {
   "cell_type": "code",
   "execution_count": null,
   "metadata": {
    "execution": {
     "iopub.execute_input": "2024-12-06T21:18:47.395414Z",
     "iopub.status.busy": "2024-12-06T21:18:47.394954Z",
     "iopub.status.idle": "2024-12-06T21:18:47.404106Z",
     "shell.execute_reply": "2024-12-06T21:18:47.402822Z",
     "shell.execute_reply.started": "2024-12-06T21:18:47.395373Z"
    },
    "trusted": true
   },
   "outputs": [
    {
     "data": {
      "text/plain": [
       "(10, 10, 10)"
      ]
     },
     "execution_count": 331,
     "metadata": {},
     "output_type": "execute_result"
    }
   ],
   "source": [
    "# df_dev[[\"tfidf_features\", \"word2vec_features\", \"labels\"]]\n",
    "len(df_dev[\"tfidf_features\"][3]), len(df_dev[\"word2vec_features\"][3]), len(df_dev[\"labels\"][3])"
   ]
  },
  {
   "cell_type": "code",
   "execution_count": null,
   "metadata": {
    "execution": {
     "iopub.status.busy": "2024-12-06T21:17:25.374807Z",
     "iopub.status.idle": "2024-12-06T21:17:25.375251Z",
     "shell.execute_reply": "2024-12-06T21:17:25.375078Z",
     "shell.execute_reply.started": "2024-12-06T21:17:25.375058Z"
    },
    "trusted": true
   },
   "outputs": [],
   "source": [
    "# def extract_labels(top: str, entities):\n",
    "#     # Extract words and parenthesis\n",
    "#     pattern = r\"\\b\\w+(?:'\\w+)?(?:-\\w+)*\\b|[()]\"\n",
    "#     tokens = regexp_tokenize(top, pattern)\n",
    "    \n",
    "#     IS_labels = []\n",
    "#     NER_labels = []\n",
    "#     # print(tokens)\n",
    "#     beginning_of_order = True\n",
    "#     order_type = \"PIZZAORDER\"\n",
    "#     beginning_of_ner = True\n",
    "#     ner_type = \"\"\n",
    "    \n",
    "#     count = 0 # Count the opened parenthesis (lower level in the hierarchy)\n",
    "#     for i, token in enumerate(tokens):\n",
    "#         # print(token, count)\n",
    "#         # Skip all entities except [\"PIZZAORDER\", \"DRINKORDER\"]\n",
    "#         if token in entities and token not in [\"PIZZAORDER\", \"DRINKORDER\"]:\n",
    "#             continue\n",
    "#         elif token == \"(\":\n",
    "#             count += 1\n",
    "#         elif token == \")\":\n",
    "#             count -= 1\n",
    "#         elif token == \"PIZZAORDER\":\n",
    "#             order_type = \"PIZZAORDER\"\n",
    "#         elif token == \"DRINKORDER\":\n",
    "#             order_type = \"DRINKORDER\"\n",
    "        \n",
    "#         elif count == 0:\n",
    "#             IS_labels.append(\"O\")\n",
    "#             NER_labels.append(\"O\")\n",
    "#             beginning_of_order = True\n",
    "#             beginning_of_ner = True\n",
    "#         # 2nd top-level are PIZZAORDER & DRINKORDER\n",
    "#         elif count >= 1:\n",
    "#             if beginning_of_order == True:\n",
    "#                 IS_labels.append(\"B-\" + order_type)\n",
    "#                 beginning_of_order = False\n",
    "#                 continue\n",
    "#             if beginning_of_order == False:\n",
    "#                 IS_labels.append(\"I-\" + order_type)\n",
    "        \n",
    "#         # Other levels: Number, Size, etc...\n",
    "#         else:\n",
    "#             if beginning_of_ner == True:\n",
    "#                 NER_labels.append(\"B-\" + order_type)\n",
    "#                 beginning_of_ner = False\n",
    "#                 continue\n",
    "#             if beginning_of_ner == False:\n",
    "#                 NER_labels.append(\"I-\" + order_type)\n",
    "            \n",
    "\n",
    "#     return IS_labels\n",
    "\n",
    "# # index = 1251868\n",
    "# # tokens = df_train['src'][index].split()\n",
    "# # labels = extract_labels(df_train['top'][index], entities)\n",
    "# # print(len(tokens), len(labels))\n",
    "# # print([(x, y) for x, y in zip(tokens, labels)])\n",
    "# # df_train.iloc[index:index+1].head()"
   ]
  },
  {
   "cell_type": "markdown",
   "metadata": {},
   "source": [
    "# Models"
   ]
  },
  {
   "cell_type": "markdown",
   "metadata": {},
   "source": [
    "## CRF"
   ]
  },
  {
   "cell_type": "markdown",
   "metadata": {},
   "source": [
    "### CRF Features"
   ]
  },
  {
   "cell_type": "code",
   "execution_count": null,
   "metadata": {
    "trusted": true
   },
   "outputs": [],
   "source": [
    "def embeddings2features(sent, i):\n",
    "    word = sent[i][0]\n",
    "    postag = sent[i][1]\n",
    "\n",
    "    features = {\n",
    "        'bias': 1.0,\n",
    "        'word.lower()': word.lower(),\n",
    "        'word[-3:]': word[-3:],\n",
    "        'word[-2:]': word[-2:],\n",
    "        'word.isupper()': word.isupper(),\n",
    "        'word.istitle()': word.istitle(),\n",
    "        'word.isdigit()': word.isdigit(),\n",
    "        'postag': postag,\n",
    "        'postag[:2]': postag[:2],\n",
    "    }\n",
    "    if i > 0:\n",
    "        word1 = sent[i-1][0]\n",
    "        postag1 = sent[i-1][1]\n",
    "        features.update({\n",
    "            '-1:word.lower()': word1.lower(),\n",
    "            '-1:word.istitle()': word1.istitle(),\n",
    "            '-1:word.isupper()': word1.isupper(),\n",
    "            '-1:postag': postag1,\n",
    "            '-1:postag[:2]': postag1[:2],\n",
    "        })\n",
    "    else:\n",
    "        features['BOS'] = True\n",
    "\n",
    "    if i < len(sent)-1:\n",
    "        word1 = sent[i+1][0]\n",
    "        postag1 = sent[i+1][1]\n",
    "        features.update({\n",
    "            '+1:word.lower()': word1.lower(),\n",
    "            '+1:word.istitle()': word1.istitle(),\n",
    "            '+1:word.isupper()': word1.isupper(),\n",
    "            '+1:postag': postag1,\n",
    "            '+1:postag[:2]': postag1[:2],\n",
    "        })\n",
    "    else:\n",
    "        features['EOS'] = True\n",
    "\n",
    "    return features\n",
    "\n",
    "def sent2features(sent):\n",
    "    return [word2features(sent, i) for i in range(len(sent))]\n",
    "\n",
    "def sent2labels(sent):\n",
    "    return [label for token, postag, label in sent]"
   ]
  },
  {
   "cell_type": "markdown",
   "metadata": {},
   "source": [
    "### CRF"
   ]
  },
  {
   "cell_type": "code",
   "execution_count": null,
   "metadata": {
    "execution": {
     "iopub.execute_input": "2024-12-06T21:19:47.475397Z",
     "iopub.status.busy": "2024-12-06T21:19:47.474952Z",
     "iopub.status.idle": "2024-12-06T21:19:47.482225Z",
     "shell.execute_reply": "2024-12-06T21:19:47.480773Z",
     "shell.execute_reply.started": "2024-12-06T21:19:47.475361Z"
    },
    "trusted": true
   },
   "outputs": [],
   "source": [
    "# CRF Model\n",
    "crf = CRF(algorithm=\"lbfgs\", max_iterations=100)\n",
    "\n",
    "# Format data for CRF training\n",
    "crf_train_tokens = df_dev['word2vec_features']\n",
    "crf_train_tokens = df_dev['tfidf_features'].to_list()\n",
    "crf_train_labels = df_dev['labels']"
   ]
  },
  {
   "cell_type": "code",
   "execution_count": null,
   "metadata": {
    "execution": {
     "iopub.execute_input": "2024-12-06T21:19:47.847920Z",
     "iopub.status.busy": "2024-12-06T21:19:47.847474Z",
     "iopub.status.idle": "2024-12-06T21:19:47.855677Z",
     "shell.execute_reply": "2024-12-06T21:19:47.854310Z",
     "shell.execute_reply.started": "2024-12-06T21:19:47.847882Z"
    },
    "trusted": true
   },
   "outputs": [
    {
     "name": "stdout",
     "output_type": "stream",
     "text": [
      "348\n",
      "348\n"
     ]
    }
   ],
   "source": [
    "# Will work only without vectorizing words! (Dimension of the word vector of course will be )\n",
    "print(len(crf_train_tokens))\n",
    "print(len(crf_train_labels))\n",
    "i = 0\n",
    "k = 0\n",
    "for token, label in zip(crf_train_tokens, crf_train_labels):\n",
    "    if len(token) != len(label):\n",
    "        print(f\"{len(token)}, {len(label)}, {i}\")\n",
    "        # print(f\"Mismatch found: {token}, {label}, {i}\")\n",
    "        k += 1\n",
    "    if k > 10: break\n",
    "    i += 1"
   ]
  },
  {
   "cell_type": "code",
   "execution_count": null,
   "metadata": {
    "execution": {
     "iopub.execute_input": "2024-12-06T21:19:49.107147Z",
     "iopub.status.busy": "2024-12-06T21:19:49.106678Z",
     "iopub.status.idle": "2024-12-06T21:19:49.197802Z",
     "shell.execute_reply": "2024-12-06T21:19:49.196207Z",
     "shell.execute_reply.started": "2024-12-06T21:19:49.107109Z"
    },
    "trusted": true
   },
   "outputs": [
    {
     "ename": "TypeError",
     "evalue": "expected bytes, numpy.int64 found",
     "output_type": "error",
     "traceback": [
      "\u001b[0;31m---------------------------------------------------------------------------\u001b[0m",
      "\u001b[0;31mTypeError\u001b[0m                                 Traceback (most recent call last)",
      "Cell \u001b[0;32mIn[339], line 2\u001b[0m\n\u001b[1;32m      1\u001b[0m \u001b[38;5;66;03m# Train CRF\u001b[39;00m\n\u001b[0;32m----> 2\u001b[0m \u001b[43mcrf\u001b[49m\u001b[38;5;241;43m.\u001b[39;49m\u001b[43mfit\u001b[49m\u001b[43m(\u001b[49m\u001b[43mcrf_train_tokens\u001b[49m\u001b[43m,\u001b[49m\u001b[43m \u001b[49m\u001b[43mcrf_train_labels\u001b[49m\u001b[43m)\u001b[49m\n\u001b[1;32m      3\u001b[0m \u001b[38;5;66;03m# Save the trained model\u001b[39;00m\n\u001b[1;32m      4\u001b[0m crf\u001b[38;5;241m.\u001b[39msave(MODELS_PATH \u001b[38;5;241m+\u001b[39m \u001b[38;5;124m\"\u001b[39m\u001b[38;5;124m/crf_model.bin\u001b[39m\u001b[38;5;124m\"\u001b[39m)\n",
      "File \u001b[0;32m/opt/conda/lib/python3.10/site-packages/sklearn_crfsuite/estimator.py:318\u001b[0m, in \u001b[0;36mCRF.fit\u001b[0;34m(self, X, y, X_dev, y_dev)\u001b[0m\n\u001b[1;32m    313\u001b[0m     train_data \u001b[38;5;241m=\u001b[39m tqdm(\n\u001b[1;32m    314\u001b[0m         train_data, \u001b[38;5;124m\"\u001b[39m\u001b[38;5;124mloading training data to CRFsuite\u001b[39m\u001b[38;5;124m\"\u001b[39m, \u001b[38;5;28mlen\u001b[39m(X), leave\u001b[38;5;241m=\u001b[39m\u001b[38;5;28;01mTrue\u001b[39;00m\n\u001b[1;32m    315\u001b[0m     )\n\u001b[1;32m    317\u001b[0m \u001b[38;5;28;01mfor\u001b[39;00m xseq, yseq \u001b[38;5;129;01min\u001b[39;00m train_data:\n\u001b[0;32m--> 318\u001b[0m     \u001b[43mtrainer\u001b[49m\u001b[38;5;241;43m.\u001b[39;49m\u001b[43mappend\u001b[49m\u001b[43m(\u001b[49m\u001b[43mxseq\u001b[49m\u001b[43m,\u001b[49m\u001b[43m \u001b[49m\u001b[43myseq\u001b[49m\u001b[43m)\u001b[49m\n\u001b[1;32m    320\u001b[0m \u001b[38;5;28;01mif\u001b[39;00m \u001b[38;5;28mself\u001b[39m\u001b[38;5;241m.\u001b[39mverbose:\n\u001b[1;32m    321\u001b[0m     \u001b[38;5;28mprint\u001b[39m(\u001b[38;5;124m\"\u001b[39m\u001b[38;5;124m\"\u001b[39m)\n",
      "File \u001b[0;32m/opt/conda/lib/python3.10/site-packages/pycrfsuite/_pycrfsuite.pyx:312\u001b[0m, in \u001b[0;36mpycrfsuite._pycrfsuite.BaseTrainer.append\u001b[0;34m()\u001b[0m\n",
      "File \u001b[0;32m<stringsource>:48\u001b[0m, in \u001b[0;36mvector.from_py.__pyx_convert_vector_from_py_std_3a__3a_string\u001b[0;34m()\u001b[0m\n",
      "File \u001b[0;32m<stringsource>:15\u001b[0m, in \u001b[0;36mstring.from_py.__pyx_convert_string_from_py_6libcpp_6string_std__in_string\u001b[0;34m()\u001b[0m\n",
      "\u001b[0;31mTypeError\u001b[0m: expected bytes, numpy.int64 found"
     ]
    }
   ],
   "source": [
    "# Train CRF\n",
    "crf.fit(crf_train_tokens, crf_train_labels)\n",
    "# Save the trained model\n",
    "crf.save(MODELS_PATH + \"/crf_model.bin\")"
   ]
  },
  {
   "cell_type": "code",
   "execution_count": null,
   "metadata": {
    "execution": {
     "iopub.status.busy": "2024-12-06T21:17:25.383458Z",
     "iopub.status.idle": "2024-12-06T21:17:25.384057Z",
     "shell.execute_reply": "2024-12-06T21:17:25.383797Z",
     "shell.execute_reply.started": "2024-12-06T21:17:25.383757Z"
    },
    "trusted": true
   },
   "outputs": [],
   "source": [
    "# Predict using CRF\n",
    "test = \"I want a pizza seafood with olives and a can of coke\".split()\n",
    "print(test)\n",
    "crf_predictions = crf.predict([test])\n",
    "print(crf_predictions)"
   ]
  },
  {
   "cell_type": "code",
   "execution_count": null,
   "metadata": {
    "execution": {
     "iopub.status.busy": "2024-12-06T21:17:25.385518Z",
     "iopub.status.idle": "2024-12-06T21:17:25.385983Z",
     "shell.execute_reply": "2024-12-06T21:17:25.385811Z",
     "shell.execute_reply.started": "2024-12-06T21:17:25.385782Z"
    },
    "trusted": true
   },
   "outputs": [],
   "source": [
    "# Predict using CRF\n",
    "# crf_predictions = crf.predict(crf_train_tokens)"
   ]
  },
  {
   "cell_type": "code",
   "execution_count": null,
   "metadata": {
    "execution": {
     "iopub.status.busy": "2024-12-06T21:17:25.387452Z",
     "iopub.status.idle": "2024-12-06T21:17:25.387942Z",
     "shell.execute_reply": "2024-12-06T21:17:25.387689Z",
     "shell.execute_reply.started": "2024-12-06T21:17:25.387659Z"
    },
    "trusted": true
   },
   "outputs": [],
   "source": [
    "true_dev_labels = []\n",
    "tokens_dev = []\n",
    "for i in range(len(df_dev['top'])):\n",
    "    true_dev_labels.append(extract_labels(df_dev['top'][i], entities))\n",
    "    tokens_dev.append(df_dev['src'][i].split())"
   ]
  },
  {
   "cell_type": "code",
   "execution_count": null,
   "metadata": {
    "execution": {
     "iopub.status.busy": "2024-12-06T21:17:25.389821Z",
     "iopub.status.idle": "2024-12-06T21:17:25.390217Z",
     "shell.execute_reply": "2024-12-06T21:17:25.390057Z",
     "shell.execute_reply.started": "2024-12-06T21:17:25.390038Z"
    },
    "trusted": true
   },
   "outputs": [],
   "source": [
    "crf_predictions = crf.predict(tokens_dev)"
   ]
  },
  {
   "cell_type": "markdown",
   "metadata": {},
   "source": [
    "## IS CRF Model Evaluation\n",
    "#### Calculate Exact Match (EM) accuracy, Compute Precision, Recall, F1-Score"
   ]
  },
  {
   "cell_type": "code",
   "execution_count": null,
   "metadata": {
    "execution": {
     "iopub.status.busy": "2024-12-06T21:17:25.391829Z",
     "iopub.status.idle": "2024-12-06T21:17:25.392217Z",
     "shell.execute_reply": "2024-12-06T21:17:25.392055Z",
     "shell.execute_reply.started": "2024-12-06T21:17:25.392036Z"
    },
    "trusted": true
   },
   "outputs": [],
   "source": [
    "# Flatten true labels and predictions\n",
    "flattened_true_labels = [label for sublist in true_dev_labels for label in sublist]\n",
    "flattened_pred_labels = [label for sublist in crf_predictions for label in sublist]\n",
    "\n",
    "em_accuracy = accuracy_score(flattened_true_labels, flattened_pred_labels)\n",
    "precision = precision_score(flattened_true_labels, flattened_pred_labels, average='macro')\n",
    "recall = recall_score(flattened_true_labels, flattened_pred_labels, average='macro')\n",
    "f1 = f1_score(flattened_true_labels, flattened_pred_labels, average='macro')\n",
    "\n",
    "print(f\"Exact Match Accuracy: {em_accuracy:.5f}\")\n",
    "print(f\"Precision: {precision:.5f}\")\n",
    "print(f\"Recall: {recall:.5f}\")\n",
    "print(f\"F1-Score: {f1:.5f}\")\n"
   ]
  },
  {
   "cell_type": "markdown",
   "metadata": {},
   "source": [
    "## LSTM"
   ]
  },
  {
   "cell_type": "code",
   "execution_count": null,
   "metadata": {
    "execution": {
     "iopub.status.busy": "2024-12-06T21:17:25.393939Z",
     "iopub.status.idle": "2024-12-06T21:17:25.394541Z",
     "shell.execute_reply": "2024-12-06T21:17:25.394261Z",
     "shell.execute_reply.started": "2024-12-06T21:17:25.394232Z"
    },
    "trusted": true
   },
   "outputs": [],
   "source": [
    "# Define the LSTM model\n",
    "class LSTMModel(torch.nn.Module):\n",
    "    def __init__(self, input_size, hidden_size, output_size, num_layers=1):\n",
    "        super(LSTMModel, self).__init__()\n",
    "        self.hidden_size = hidden_size\n",
    "        self.num_layers = num_layers\n",
    "        self.lstm = torch.nn.LSTM(input_size, hidden_size, num_layers, batch_first=True)\n",
    "        self.fc = torch.nn.Linear(hidden_size, output_size)\n",
    "\n",
    "    def forward(self, x):\n",
    "        h0 = torch.zeros(self.num_layers, x.size(0), self.hidden_size).to(device)\n",
    "        c0 = torch.zeros(self.num_layers, x.size(0), self.hidden_size).to(device)\n",
    "        out, _ = self.lstm(x, (h0, c0))\n",
    "        out = self.fc(out[:, -1, :])\n",
    "        return out\n",
    "\n",
    "# Hyperparameters\n",
    "input_size = 10  # Adjust based on your data\n",
    "hidden_size = 256\n",
    "output_size = 1  # Adjust based on your data\n",
    "num_layers = 4\n",
    "num_epochs = 50\n",
    "learning_rate = 0.001\n",
    "\n",
    "# Initialize the model, loss function, and optimizer\n",
    "model = LSTMModel(input_size, hidden_size, output_size, num_layers).to(device)\n",
    "criterion = torch.nn.MSELoss()  # Adjust based on your task\n",
    "optimizer = torch.optim.Adam(model.parameters(), lr=learning_rate)\n",
    "\n",
    "# Dummy data for illustration (replace with your actual data)\n",
    "x_train = torch.randn(100, 10, input_size).to(device)  # (batch_size, sequence_length, input_size)\n",
    "y_train = torch.randn(100, output_size).to(device)  # (batch_size, output_size)\n",
    "\n",
    "# Training loop\n",
    "for epoch in range(num_epochs):\n",
    "    model.train()\n",
    "    outputs = model(x_train)\n",
    "    optimizer.zero_grad()\n",
    "    loss = criterion(outputs, y_train)\n",
    "    loss.backward()\n",
    "    optimizer.step()\n",
    "    \n",
    "    if (epoch+1) % 5 == 0:\n",
    "        print(f'Epoch [{epoch+1}/{num_epochs}], Loss: {loss.item():.4f}')"
   ]
  },
  {
   "cell_type": "markdown",
   "metadata": {},
   "source": [
    "# Model Evaluation"
   ]
  },
  {
   "cell_type": "code",
   "execution_count": null,
   "metadata": {
    "trusted": true
   },
   "outputs": [],
   "source": []
  }
 ],
 "metadata": {
  "kaggle": {
   "accelerator": "none",
   "dataSources": [
    {
     "datasetId": 6200837,
     "sourceId": 10062018,
     "sourceType": "datasetVersion"
    }
   ],
   "dockerImageVersionId": 30787,
   "isGpuEnabled": false,
   "isInternetEnabled": true,
   "language": "python",
   "sourceType": "notebook"
  },
  "kernelspec": {
   "display_name": "env",
   "language": "python",
   "name": "python3"
  },
  "language_info": {
   "codemirror_mode": {
    "name": "ipython",
    "version": 3
   },
   "file_extension": ".py",
   "mimetype": "text/x-python",
   "name": "python",
   "nbconvert_exporter": "python",
   "pygments_lexer": "ipython3",
   "version": "3.10.6"
  }
 },
 "nbformat": 4,
 "nbformat_minor": 4
}
