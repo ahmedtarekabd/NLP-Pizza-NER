{
 "cells": [
  {
   "cell_type": "markdown",
   "metadata": {},
   "source": [
    "# Imports"
   ]
  },
  {
   "cell_type": "code",
   "execution_count": null,
   "metadata": {},
   "outputs": [],
   "source": [
    "# General\n",
    "import numpy as np\n",
    "import pandas as pd\n",
    "import matplotlib.pyplot as plt\n",
    "import seaborn as sns\n",
    "import string\n",
    "import re\n",
    "import os\n",
    "import tqdm\n",
    "\n",
    "import spacy\n",
    "# Load spacy model for lemmatization\n",
    "nlp = spacy.load(\"en_core_web_sm\")\n",
    "\n",
    "# Preprocessing\n",
    "from sklearn.preprocessing import LabelEncoder\n",
    "\n",
    "from sklearn.feature_extraction.text import TfidfVectorizer\n",
    "from gensim.models import Word2Vec\n",
    "from nltk.tokenize import regexp_tokenize\n",
    "\n",
    "# Models\n",
    "\n",
    "import torch\n",
    "\n",
    "# Evaluation metrics\n",
    "from sklearn.metrics import accuracy_score, precision_score, recall_score, f1_score"
   ]
  },
  {
   "cell_type": "markdown",
   "metadata": {},
   "source": [
    "# Read Json data and convert it to parqet format"
   ]
  },
  {
   "cell_type": "code",
   "execution_count": null,
   "metadata": {},
   "outputs": [],
   "source": [
    "import pandas as pd\n",
    "\n",
    "# Load JSON dataset\n",
    "df = pd.read_json('/kaggle/input/your-dataset-folder/dataset.json')\n",
    "\n",
    "# Save as Parquet\n",
    "df.to_parquet('/kaggle/working/dataset.parquet', index=False)\n",
    "\n",
    "print(\"JSON converted to Parquet!\")\n"
   ]
  },
  {
   "cell_type": "markdown",
   "metadata": {},
   "source": [
    "# Split Test and Train Data"
   ]
  },
  {
   "cell_type": "code",
   "execution_count": null,
   "metadata": {},
   "outputs": [],
   "source": [
    "import pandas as pd\n",
    "from sklearn.model_selection import train_test_split\n",
    "\n",
    "# Load your dataset\n",
    "df = pd.read_json('/kaggle/input/your-dataset-folder/dataset.json')\n",
    "\n",
    "# Shuffle the dataset\n",
    "df = df.sample(frac=1, random_state=42).reset_index(drop=True)\n",
    "\n",
    "# Define features and target\n",
    "X = df['train.SRC']  # Replace with your actual feature columns\n",
    "Y = df['train.TOP']  # Replace with your actual target column\n",
    "\n",
    "# Split into train and test sets\n",
    "X_train, X_test, y_train, y_test = train_test_split(X, Y, test_size=0.2, random_state=42)\n",
    "\n",
    "print(\"Data shuffled and split into training and testing sets.\")\n"
   ]
  },
  {
   "cell_type": "markdown",
   "metadata": {},
   "source": [
    "# Save Test and Train data"
   ]
  },
  {
   "cell_type": "code",
   "execution_count": null,
   "metadata": {},
   "outputs": [],
   "source": [
    "# Combine X_train and y_train into a single DataFrame\n",
    "df_train = pd.DataFrame({'src': X_train, 'top': y_train})\n",
    "test_df = pd.DataFrame({'src': X_test, 'top': y_test})\n",
    "\n",
    "# Save to the dataset folder\n",
    "df_train.to_parquet('/kaggle/working/train.parquet', index=False)\n",
    "test_df.to_parquet('/kaggle/working/test.parquet', index=False)\n",
    "\n",
    "print(\"Train and test datasets saved as Parquet files.\")\n"
   ]
  },
  {
   "cell_type": "markdown",
   "metadata": {},
   "source": [
    "# Tokenize SRC and save it"
   ]
  },
  {
   "cell_type": "code",
   "execution_count": null,
   "metadata": {},
   "outputs": [],
   "source": [
    "\n",
    "token_pattern=r\"(?u)\\b\\w+(?:'\\w+)?(?:-\\w+)*\\b\"\n",
    "df_train[\"tokenized\"] = df_train[\"src\"].progress_apply(lambda x: regexp_tokenize(x, token_pattern)) \n",
    "df_train.to_parquet('/kaggle/working/train_tokenized.parquet', index=False)\n",
    "print(\"Tokenized src data saved as Parquet file.\")"
   ]
  },
  {
   "cell_type": "markdown",
   "metadata": {},
   "source": [
    "# Tranform BIO tags to numbers"
   ]
  },
  {
   "cell_type": "code",
   "execution_count": null,
   "metadata": {},
   "outputs": [],
   "source": [
    "full_text = \" \".join(df_train['top'].to_list())\n",
    "entities = [x.group() for x in re.finditer(\"(?<=\\()[A-Z]+(_[A-Z]+)*\", full_text)]\n",
    "entities = list(set(entities)) # Unique\n",
    "\n",
    "# Using BIO Tagging\n",
    "bio_entities = [f\"{letter}-{entity}\" for entity in entities for letter in \"BI\"]\n",
    "bio_entities.append('O')\n",
    "bio_entities\n",
    "\n",
    "label_encoder = LabelEncoder()\n",
    "label_encoder.fit(bio_entities)"
   ]
  },
  {
   "cell_type": "markdown",
   "metadata": {},
   "source": [
    "# Extract TOP Target and Save it "
   ]
  },
  {
   "cell_type": "code",
   "execution_count": null,
   "metadata": {},
   "outputs": [],
   "source": [
    "def extract_labels(top: str, entities):\n",
    "    # Extract words and parenthesis\n",
    "    pattern = r\"\\b\\w+(?:'\\w+)?(?:-\\w+)*\\b|[()]\"\n",
    "    tokens = regexp_tokenize(top, pattern)\n",
    "    \n",
    "    labels = []\n",
    "    count = 0\n",
    "  \n",
    "    is_beginning = True\n",
    "    order_type = \"PIZZAORDER\"\n",
    "    for i, token in enumerate(tokens):\n",
    "       \n",
    "        if token in entities and token not in [\"PIZZAORDER\", \"DRINKORDER\"]:\n",
    "            continue\n",
    "        elif token == \"(\":\n",
    "            count += 1\n",
    "        elif token == \")\":\n",
    "            count -= 1\n",
    "        elif token == \"PIZZAORDER\":\n",
    "            order_type = \"PIZZAORDER\"\n",
    "        elif token == \"DRINKORDER\":\n",
    "                    order_type = \"DRINKORDER\"\n",
    "        \n",
    "        elif count == 0:\n",
    "            labels.append(\"O\")\n",
    "            is_beginning = True\n",
    "        else:\n",
    "            if is_beginning == True:\n",
    "                labels.append(\"B-\" + order_type)\n",
    "                is_beginning = False\n",
    "                continue\n",
    "            if is_beginning == False:\n",
    "                labels.append(\"I-\" + order_type)\n",
    "    labels = label_encoder.transform(labels)\n",
    "    return labels\n",
    "\n",
    "index = 1251868\n",
    "tokens = df_train['src'][index].split()\n",
    "labels = extract_labels(df_train['top'][index], entities)\n",
    "print(len(tokens), len(labels))\n",
    "print([(x, y) for x, y in zip(tokens, labels)])\n",
    "df_train.iloc[index:index+1].head()\n",
    "df_train['labels'] = df_train['top'].progress_apply(lambda x: extract_labels(x, entities))\n",
    "df_train.to_parquet('/kaggle/working/train_tokenized_labels.parquet', index=False)\n",
    "print(\"Labels extracted and saved as Parquet file.\")"
   ]
  }
 ],
 "metadata": {
  "kernelspec": {
   "display_name": "base",
   "language": "python",
   "name": "python3"
  },
  "language_info": {
   "name": "python",
   "version": "3.12.4"
  }
 },
 "nbformat": 4,
 "nbformat_minor": 2
}
